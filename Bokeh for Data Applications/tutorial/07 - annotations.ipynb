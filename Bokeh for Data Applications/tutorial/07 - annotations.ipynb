{
 "cells": [
  {
   "cell_type": "markdown",
   "metadata": {},
   "source": [
    "<table style=\"float:left; border:none\">\n",
    "   <tr style=\"border:none\">\n",
    "       <td style=\"border:none\">\n",
    "           <a href=\"http://bokeh.pydata.org/\">     \n",
    "           <img \n",
    "               src=\"assets/images/bokeh-transparent.png\" \n",
    "               style=\"width:50px\"\n",
    "           >\n",
    "           </a>    \n",
    "       </td>\n",
    "       <td style=\"border:none\">\n",
    "           <h1>Bokeh Tutorial</h1>\n",
    "       </td>\n",
    "   </tr>\n",
    "</table>\n",
    "\n",
    "<div style=\"float:right;\"><h2>07. Annotations</h2></div>"
   ]
  },
  {
   "cell_type": "code",
   "execution_count": 1,
   "metadata": {
    "collapsed": true
   },
   "outputs": [],
   "source": [
    "from bokeh.io import output_notebook, show\n",
    "from bokeh.plotting import figure"
   ]
  },
  {
   "cell_type": "code",
   "execution_count": 2,
   "metadata": {
    "collapsed": false
   },
   "outputs": [
    {
     "data": {
      "text/html": [
       "\n",
       "    <div class=\"bk-root\">\n",
       "        <a href=\"http://bokeh.pydata.org\" target=\"_blank\" class=\"bk-logo bk-logo-small bk-logo-notebook\"></a>\n",
       "        <span id=\"d0338b46-62e2-4c30-9d29-e325cbf53bd6\">Loading BokehJS ...</span>\n",
       "    </div>"
      ]
     },
     "metadata": {},
     "output_type": "display_data"
    },
    {
     "data": {
      "application/javascript": [
       "\n",
       "(function(global) {\n",
       "  function now() {\n",
       "    return new Date();\n",
       "  }\n",
       "\n",
       "  if (typeof (window._bokeh_onload_callbacks) === \"undefined\") {\n",
       "    window._bokeh_onload_callbacks = [];\n",
       "  }\n",
       "\n",
       "  function run_callbacks() {\n",
       "    window._bokeh_onload_callbacks.forEach(function(callback) { callback() });\n",
       "    delete window._bokeh_onload_callbacks\n",
       "    console.info(\"Bokeh: all callbacks have finished\");\n",
       "  }\n",
       "\n",
       "  function load_libs(js_urls, callback) {\n",
       "    window._bokeh_onload_callbacks.push(callback);\n",
       "    if (window._bokeh_is_loading > 0) {\n",
       "      console.log(\"Bokeh: BokehJS is being loaded, scheduling callback at\", now());\n",
       "      return null;\n",
       "    }\n",
       "    if (js_urls == null || js_urls.length === 0) {\n",
       "      run_callbacks();\n",
       "      return null;\n",
       "    }\n",
       "    console.log(\"Bokeh: BokehJS not loaded, scheduling load and callback at\", now());\n",
       "    window._bokeh_is_loading = js_urls.length;\n",
       "    for (var i = 0; i < js_urls.length; i++) {\n",
       "      var url = js_urls[i];\n",
       "      var s = document.createElement('script');\n",
       "      s.src = url;\n",
       "      s.async = false;\n",
       "      s.onreadystatechange = s.onload = function() {\n",
       "        window._bokeh_is_loading--;\n",
       "        if (window._bokeh_is_loading === 0) {\n",
       "          console.log(\"Bokeh: all BokehJS libraries loaded\");\n",
       "          run_callbacks()\n",
       "        }\n",
       "      };\n",
       "      s.onerror = function() {\n",
       "        console.warn(\"failed to load library \" + url);\n",
       "      };\n",
       "      console.log(\"Bokeh: injecting script tag for BokehJS library: \", url);\n",
       "      document.getElementsByTagName(\"head\")[0].appendChild(s);\n",
       "    }\n",
       "  };\n",
       "\n",
       "  var js_urls = ['https://cdn.pydata.org/bokeh/release/bokeh-0.12.0.min.js', 'https://cdn.pydata.org/bokeh/release/bokeh-widgets-0.12.0.min.js', 'https://cdn.pydata.org/bokeh/release/bokeh-compiler-0.12.0.min.js'];\n",
       "\n",
       "  var inline_js = [\n",
       "    function(Bokeh) {\n",
       "      Bokeh.set_log_level(\"info\");\n",
       "    },\n",
       "    \n",
       "    function(Bokeh) {\n",
       "      Bokeh.$(\"#d0338b46-62e2-4c30-9d29-e325cbf53bd6\").text(\"BokehJS successfully loaded\");\n",
       "    },\n",
       "    function(Bokeh) {\n",
       "      console.log(\"Bokeh: injecting CSS: https://cdn.pydata.org/bokeh/release/bokeh-0.12.0.min.css\");\n",
       "      Bokeh.embed.inject_css(\"https://cdn.pydata.org/bokeh/release/bokeh-0.12.0.min.css\");\n",
       "      console.log(\"Bokeh: injecting CSS: https://cdn.pydata.org/bokeh/release/bokeh-widgets-0.12.0.min.css\");\n",
       "      Bokeh.embed.inject_css(\"https://cdn.pydata.org/bokeh/release/bokeh-widgets-0.12.0.min.css\");\n",
       "    }\n",
       "  ];\n",
       "\n",
       "  function run_inline_js() {\n",
       "    for (var i = 0; i < inline_js.length; i++) {\n",
       "      inline_js[i](window.Bokeh);\n",
       "    }\n",
       "  }\n",
       "\n",
       "  if (window._bokeh_is_loading === 0) {\n",
       "    console.log(\"Bokeh: BokehJS loaded, going straight to plotting\");\n",
       "    run_inline_js();\n",
       "  } else {\n",
       "    load_libs(js_urls, function() {\n",
       "      console.log(\"Bokeh: BokehJS plotting callback run at\", now());\n",
       "      run_inline_js();\n",
       "    });\n",
       "  }\n",
       "}(this));"
      ]
     },
     "metadata": {},
     "output_type": "display_data"
    }
   ],
   "source": [
    "output_notebook()"
   ]
  },
  {
   "cell_type": "markdown",
   "metadata": {},
   "source": [
    "# Overview\n",
    "\n",
    "Sometimes we want to add visual cues (boundary lines, shaded regions, labels and arrows, etc.) to our plots to call out some feature or other. Bokeh has several annotation types available for uses like this. Typically to add annotations we create the \"low level\" annotation object directly, and add it to our `Plot`, `Figure` or `Chart` using `add_layout`. Let's take a look at some specific examples."
   ]
  },
  {
   "cell_type": "markdown",
   "metadata": {
    "collapsed": true
   },
   "source": [
    "## Spans\n",
    "\n",
    "`Spans` are \"infinite\" vertical or horizonal lines. When creating them, you specify the `dimension` that should be spanned (i.e., `width` or `height`), any visual line properties for the appearance, and the location along the dimension where the line should be drawn. Let's look at an example that adds two horizontal spans to a simple plot:"
   ]
  },
  {
   "cell_type": "code",
   "execution_count": 3,
   "metadata": {
    "collapsed": false
   },
   "outputs": [
    {
     "data": {
      "text/html": [
       "\n",
       "\n",
       "    <div class=\"bk-root\">\n",
       "        <div class=\"plotdiv\" id=\"ff780f20-1a25-40ef-95ef-c571f8c55eda\"></div>\n",
       "    </div>\n",
       "<script type=\"text/javascript\">\n",
       "  \n",
       "  (function(global) {\n",
       "    function now() {\n",
       "      return new Date();\n",
       "    }\n",
       "  \n",
       "    if (typeof (window._bokeh_onload_callbacks) === \"undefined\") {\n",
       "      window._bokeh_onload_callbacks = [];\n",
       "    }\n",
       "  \n",
       "    function run_callbacks() {\n",
       "      window._bokeh_onload_callbacks.forEach(function(callback) { callback() });\n",
       "      delete window._bokeh_onload_callbacks\n",
       "      console.info(\"Bokeh: all callbacks have finished\");\n",
       "    }\n",
       "  \n",
       "    function load_libs(js_urls, callback) {\n",
       "      window._bokeh_onload_callbacks.push(callback);\n",
       "      if (window._bokeh_is_loading > 0) {\n",
       "        console.log(\"Bokeh: BokehJS is being loaded, scheduling callback at\", now());\n",
       "        return null;\n",
       "      }\n",
       "      if (js_urls == null || js_urls.length === 0) {\n",
       "        run_callbacks();\n",
       "        return null;\n",
       "      }\n",
       "      console.log(\"Bokeh: BokehJS not loaded, scheduling load and callback at\", now());\n",
       "      window._bokeh_is_loading = js_urls.length;\n",
       "      for (var i = 0; i < js_urls.length; i++) {\n",
       "        var url = js_urls[i];\n",
       "        var s = document.createElement('script');\n",
       "        s.src = url;\n",
       "        s.async = false;\n",
       "        s.onreadystatechange = s.onload = function() {\n",
       "          window._bokeh_is_loading--;\n",
       "          if (window._bokeh_is_loading === 0) {\n",
       "            console.log(\"Bokeh: all BokehJS libraries loaded\");\n",
       "            run_callbacks()\n",
       "          }\n",
       "        };\n",
       "        s.onerror = function() {\n",
       "          console.warn(\"failed to load library \" + url);\n",
       "        };\n",
       "        console.log(\"Bokeh: injecting script tag for BokehJS library: \", url);\n",
       "        document.getElementsByTagName(\"head\")[0].appendChild(s);\n",
       "      }\n",
       "    };var element = document.getElementById(\"ff780f20-1a25-40ef-95ef-c571f8c55eda\");\n",
       "    if (element == null) {\n",
       "      console.log(\"Bokeh: ERROR: autoload.js configured with elementid 'ff780f20-1a25-40ef-95ef-c571f8c55eda' but no matching script tag was found. \")\n",
       "      return false;\n",
       "    }\n",
       "  \n",
       "    var js_urls = [];\n",
       "  \n",
       "    var inline_js = [\n",
       "      function(Bokeh) {\n",
       "        Bokeh.$(function() {\n",
       "            var docs_json = {\"8962088b-b55a-4a58-944a-9b4c4ac34cd5\":{\"roots\":{\"references\":[{\"attributes\":{},\"id\":\"3057e742-f194-4aec-b038-01d761fcc723\",\"type\":\"BasicTickFormatter\"},{\"attributes\":{\"plot\":null,\"text\":null},\"id\":\"7f0a9f21-1f58-46c1-9b37-c8bc97ae22c0\",\"type\":\"Title\"},{\"attributes\":{},\"id\":\"613f588f-df6c-4891-85f5-f732785033ad\",\"type\":\"BasicTickFormatter\"},{\"attributes\":{\"dimension\":1,\"plot\":{\"id\":\"30693617-0db4-4a67-8bd9-11d42714156d\",\"subtype\":\"Figure\",\"type\":\"Plot\"},\"ticker\":{\"id\":\"3d76470b-fd61-4b95-ac35-bce70c8ba9a5\",\"type\":\"BasicTicker\"}},\"id\":\"8de58bec-0ce2-4017-8e3b-2e864d9085e6\",\"type\":\"Grid\"},{\"attributes\":{\"line_color\":{\"value\":\"#1f77b4\"},\"x\":{\"field\":\"x\"},\"y\":{\"field\":\"y\"}},\"id\":\"b0b89ed5-a74e-423e-af15-0f6f5d5d380f\",\"type\":\"Line\"},{\"attributes\":{\"plot\":{\"id\":\"30693617-0db4-4a67-8bd9-11d42714156d\",\"subtype\":\"Figure\",\"type\":\"Plot\"},\"ticker\":{\"id\":\"d5cd0699-8cdb-4da9-9dfa-762cbd9162a8\",\"type\":\"BasicTicker\"}},\"id\":\"1054f1dc-d343-410c-9ad7-9ababa994117\",\"type\":\"Grid\"},{\"attributes\":{\"plot\":{\"id\":\"30693617-0db4-4a67-8bd9-11d42714156d\",\"subtype\":\"Figure\",\"type\":\"Plot\"}},\"id\":\"7a57c616-426f-47b3-ad1f-7c581ee64584\",\"type\":\"HelpTool\"},{\"attributes\":{\"overlay\":{\"id\":\"6b835c08-6503-47de-92cc-969cb29c3983\",\"type\":\"BoxAnnotation\"},\"plot\":{\"id\":\"30693617-0db4-4a67-8bd9-11d42714156d\",\"subtype\":\"Figure\",\"type\":\"Plot\"}},\"id\":\"d6e724c7-3453-421c-94c4-a20d4653bbd3\",\"type\":\"BoxZoomTool\"},{\"attributes\":{\"below\":[{\"id\":\"baf62923-9b5b-4a59-9870-cf8d68eb6312\",\"type\":\"LinearAxis\"}],\"left\":[{\"id\":\"857161af-60bb-44ae-9e47-4a8adfb1857a\",\"type\":\"LinearAxis\"}],\"renderers\":[{\"id\":\"baf62923-9b5b-4a59-9870-cf8d68eb6312\",\"type\":\"LinearAxis\"},{\"id\":\"1054f1dc-d343-410c-9ad7-9ababa994117\",\"type\":\"Grid\"},{\"id\":\"857161af-60bb-44ae-9e47-4a8adfb1857a\",\"type\":\"LinearAxis\"},{\"id\":\"8de58bec-0ce2-4017-8e3b-2e864d9085e6\",\"type\":\"Grid\"},{\"id\":\"6b835c08-6503-47de-92cc-969cb29c3983\",\"type\":\"BoxAnnotation\"},{\"id\":\"aa447484-5637-439b-a15e-20ab03f5f7bc\",\"type\":\"GlyphRenderer\"},{\"id\":\"7170354e-3736-4702-ac59-bcc2c5c26e9c\",\"type\":\"Span\"},{\"id\":\"7fbe6439-39bb-405b-8b38-e931310b22f7\",\"type\":\"Span\"}],\"title\":{\"id\":\"7f0a9f21-1f58-46c1-9b37-c8bc97ae22c0\",\"type\":\"Title\"},\"tool_events\":{\"id\":\"a916d164-8412-469b-b576-88f30adbd844\",\"type\":\"ToolEvents\"},\"toolbar\":{\"id\":\"c6714eb6-7289-4df6-8fcc-c0805511f1de\",\"type\":\"Toolbar\"},\"x_range\":{\"id\":\"c39c9819-0fcd-4545-b978-82199308cbd5\",\"type\":\"DataRange1d\"},\"y_range\":{\"id\":\"d37bcad1-9895-474c-9ee2-9cb924ee941c\",\"type\":\"Range1d\"}},\"id\":\"30693617-0db4-4a67-8bd9-11d42714156d\",\"subtype\":\"Figure\",\"type\":\"Plot\"},{\"attributes\":{\"plot\":{\"id\":\"30693617-0db4-4a67-8bd9-11d42714156d\",\"subtype\":\"Figure\",\"type\":\"Plot\"}},\"id\":\"a36f9008-3286-466c-9ed0-d70e9df3e8d2\",\"type\":\"ResetTool\"},{\"attributes\":{\"formatter\":{\"id\":\"613f588f-df6c-4891-85f5-f732785033ad\",\"type\":\"BasicTickFormatter\"},\"plot\":{\"id\":\"30693617-0db4-4a67-8bd9-11d42714156d\",\"subtype\":\"Figure\",\"type\":\"Plot\"},\"ticker\":{\"id\":\"d5cd0699-8cdb-4da9-9dfa-762cbd9162a8\",\"type\":\"BasicTicker\"}},\"id\":\"baf62923-9b5b-4a59-9870-cf8d68eb6312\",\"type\":\"LinearAxis\"},{\"attributes\":{\"active_drag\":\"auto\",\"active_scroll\":\"auto\",\"active_tap\":\"auto\",\"tools\":[{\"id\":\"58c8aaae-e30e-4438-abaa-0216220f5a80\",\"type\":\"PanTool\"},{\"id\":\"588a4930-39fd-4470-80ae-3fb835ec75d3\",\"type\":\"WheelZoomTool\"},{\"id\":\"d6e724c7-3453-421c-94c4-a20d4653bbd3\",\"type\":\"BoxZoomTool\"},{\"id\":\"4ab6183e-48d8-442c-83d5-ee7c1a939cf9\",\"type\":\"SaveTool\"},{\"id\":\"a36f9008-3286-466c-9ed0-d70e9df3e8d2\",\"type\":\"ResetTool\"},{\"id\":\"7a57c616-426f-47b3-ad1f-7c581ee64584\",\"type\":\"HelpTool\"}]},\"id\":\"c6714eb6-7289-4df6-8fcc-c0805511f1de\",\"type\":\"Toolbar\"},{\"attributes\":{\"line_color\":{\"value\":\"firebrick\"},\"line_width\":{\"value\":4},\"location\":-1,\"plot\":{\"id\":\"30693617-0db4-4a67-8bd9-11d42714156d\",\"subtype\":\"Figure\",\"type\":\"Plot\"}},\"id\":\"7fbe6439-39bb-405b-8b38-e931310b22f7\",\"type\":\"Span\"},{\"attributes\":{\"line_color\":{\"value\":\"olive\"},\"line_width\":{\"value\":4},\"location\":1,\"plot\":{\"id\":\"30693617-0db4-4a67-8bd9-11d42714156d\",\"subtype\":\"Figure\",\"type\":\"Plot\"}},\"id\":\"7170354e-3736-4702-ac59-bcc2c5c26e9c\",\"type\":\"Span\"},{\"attributes\":{\"plot\":{\"id\":\"30693617-0db4-4a67-8bd9-11d42714156d\",\"subtype\":\"Figure\",\"type\":\"Plot\"}},\"id\":\"588a4930-39fd-4470-80ae-3fb835ec75d3\",\"type\":\"WheelZoomTool\"},{\"attributes\":{},\"id\":\"d5cd0699-8cdb-4da9-9dfa-762cbd9162a8\",\"type\":\"BasicTicker\"},{\"attributes\":{\"callback\":null,\"end\":2,\"start\":-2},\"id\":\"d37bcad1-9895-474c-9ee2-9cb924ee941c\",\"type\":\"Range1d\"},{\"attributes\":{},\"id\":\"3d76470b-fd61-4b95-ac35-bce70c8ba9a5\",\"type\":\"BasicTicker\"},{\"attributes\":{\"line_alpha\":{\"value\":0.1},\"line_color\":{\"value\":\"#1f77b4\"},\"x\":{\"field\":\"x\"},\"y\":{\"field\":\"y\"}},\"id\":\"2953e1a1-46a8-4920-bee9-d5c2becbb91c\",\"type\":\"Line\"},{\"attributes\":{\"callback\":null},\"id\":\"c39c9819-0fcd-4545-b978-82199308cbd5\",\"type\":\"DataRange1d\"},{\"attributes\":{},\"id\":\"a916d164-8412-469b-b576-88f30adbd844\",\"type\":\"ToolEvents\"},{\"attributes\":{\"callback\":null,\"column_names\":[\"y\",\"x\"],\"data\":{\"x\":[0.0,0.10050251256281408,0.20100502512562815,0.30150753768844224,0.4020100502512563,0.5025125628140704,0.6030150753768845,0.7035175879396985,0.8040201005025126,0.9045226130653267,1.0050251256281408,1.105527638190955,1.206030150753769,1.306532663316583,1.407035175879397,1.5075376884422111,1.6080402010050252,1.7085427135678393,1.8090452261306533,1.9095477386934674,2.0100502512562817,2.1105527638190957,2.21105527638191,2.311557788944724,2.412060301507538,2.512562814070352,2.613065326633166,2.71356783919598,2.814070351758794,2.9145728643216082,3.0150753768844223,3.1155778894472363,3.2160804020100504,3.3165829145728645,3.4170854271356785,3.5175879396984926,3.6180904522613067,3.7185929648241207,3.819095477386935,3.919597989949749,4.020100502512563,4.120603015075377,4.2211055276381915,4.3216080402010055,4.42211055276382,4.522613065326634,4.623115577889448,4.723618090452262,4.824120603015076,4.92462311557789,5.025125628140704,5.125628140703518,5.226130653266332,5.326633165829146,5.42713567839196,5.527638190954774,5.628140703517588,5.728643216080402,5.8291457286432165,5.9296482412060305,6.030150753768845,6.130653266331659,6.231155778894473,6.331658291457287,6.432160804020101,6.532663316582915,6.633165829145729,6.733668341708543,6.834170854271357,6.934673366834171,7.035175879396985,7.135678391959799,7.236180904522613,7.336683417085427,7.437185929648241,7.5376884422110555,7.63819095477387,7.738693467336684,7.839195979899498,7.939698492462312,8.040201005025127,8.14070351758794,8.241206030150755,8.341708542713569,8.442211055276383,8.542713567839197,8.643216080402011,8.743718592964825,8.84422110552764,8.944723618090453,9.045226130653267,9.145728643216081,9.246231155778895,9.34673366834171,9.447236180904524,9.547738693467338,9.648241206030152,9.748743718592966,9.84924623115578,9.949748743718594,10.050251256281408,10.150753768844222,10.251256281407036,10.35175879396985,10.452261306532664,10.552763819095478,10.653266331658292,10.753768844221106,10.85427135678392,10.954773869346734,11.055276381909549,11.155778894472363,11.256281407035177,11.35678391959799,11.457286432160805,11.557788944723619,11.658291457286433,11.758793969849247,11.859296482412061,11.959798994974875,12.06030150753769,12.160804020100503,12.261306532663317,12.361809045226131,12.462311557788945,12.56281407035176,12.663316582914574,12.763819095477388,12.864321608040202,12.964824120603016,13.06532663316583,13.165829145728644,13.266331658291458,13.366834170854272,13.467336683417086,13.5678391959799,13.668341708542714,13.768844221105528,13.869346733668342,13.969849246231156,14.07035175879397,14.170854271356784,14.271356783919598,14.371859296482413,14.472361809045227,14.57286432160804,14.673366834170855,14.773869346733669,14.874371859296483,14.974874371859297,15.075376884422111,15.175879396984925,15.27638190954774,15.376884422110553,15.477386934673367,15.577889447236181,15.678391959798995,15.77889447236181,15.879396984924623,15.979899497487438,16.080402010050253,16.180904522613066,16.28140703517588,16.381909547738694,16.48241206030151,16.582914572864322,16.683417085427138,16.78391959798995,16.884422110552766,16.984924623115578,17.085427135678394,17.185929648241206,17.286432160804022,17.386934673366834,17.48743718592965,17.587939698492463,17.68844221105528,17.78894472361809,17.889447236180906,17.98994974874372,18.090452261306535,18.190954773869347,18.291457286432163,18.391959798994975,18.49246231155779,18.592964824120603,18.69346733668342,18.79396984924623,18.894472361809047,18.99497487437186,19.095477386934675,19.195979899497488,19.296482412060303,19.396984924623116,19.49748743718593,19.597989949748744,19.69849246231156,19.798994974874372,19.899497487437188,20.0],\"y\":[0.0,0.10033340611397856,0.19965422182925707,0.2969600760684489,0.3912689332607891,0.48162900429630934,0.5671283522249922,0.6469040957577352,0.720151117685035,0.7861301903258074,0.84417543600223,0.8937010472475914,0.9342071989250891,0.9652850925909591,0.9866210821929372,0.9979998394664454,0.9993065270825165,0.9905279576154928,0.9717527266338982,0.9431703185712997,0.9050691944009351,0.8578338804137864,0.8019410874808932,0.737954899965305,0.6665210828384021,0.5883605644546254,0.5042621607581176,0.4150746143504438,0.32169802876315795,0.2250747843827254,0.12618002770661219,0.0260118299154004,-0.07441888591686176,-0.17409854731690658,-0.2720211616449078,-0.3671984688295239,-0.45866991514132416,-0.5455123473467255,-0.6268493294065579,-0.7018599876927554,-0.7697872954549803,-0.8299457129282269,-0.8817281059754842,-0.9246118734407446,-0.9581642213735454,-0.9820465308962223,-0.9960177756322361,-0.9999369542060184,-0.9937645132649188,-0.9775627466617587,-0.9514951667693332,-0.9158248542717212,-0.870911803086728,-0.8172092872151839,-0.7552592861837865,-0.6856870152490829,-0.6091946155651793,-0.5265540679956123,-0.43859940208501036,-0.3462182788195934,-0.250343032125446,-0.15194125951605447,-0.05200605685069962,0.048454004242978146,0.1484250551318267,0.2468981623987645,0.34287951025690017,0.43540043039266096,0.5235271780141882,0.6063703554426186,0.6830938881409576,0.7529234625921657,0.8151543408692327,0.8691584730306023,0.9143908355608308,0.9503949318873145,0.9768073994604692,0.9933616769015238,0.9998906942081381,0.9963285588676023,0.9827112208609282,0.9591761098464471,0.9259607481845431,0.8834003538012378,0.8319244570831352,0.7720525659468906,0.7043889228324319,0.6296164065336967,0.5484896404111711,0.46182737653991096,0.37050423265417287,0.2754418652815221,0.17759966814940648,0.07796508973825697,-0.02245633230115589,-0.12265111929089911,-0.22160807981193167,-0.3183285149065574,-0.41183629720376236,-0.5011877222463261,-0.5854810325975929,-0.6638655186081827,-0.7355501039953746,-0.7998113295873013,-0.8560006546579639,-0.903551002166129,-0.9419824818418809,-0.9709072333619758,-0.990033340735435,-0.9991677783943945,-0.9982183592575101,-0.9871946651055623,-0.966207949879674,-0.9354700168780792,-0.89529108118306,-0.8460766388909868,-0.7883233747419922,-0.7226141494505268,-0.6496121173259396,-0.5700540335495606,-0.4847428186529565,-0.39453945523854783,-0.3003542987229555,-0.203137889797277,-0.103871361327294,-0.0035565365096275887,0.09679418178421749,0.19616802843659367,0.29356209716833237,0.38799346212544567,0.4785090978182669,0.5641954972984655,0.644187891504835,0.7176789767338574,0.7839270621551785,0.8422635551451839,0.8920997088947761,0.932932564192766,0.9643500254188847,0.9860350195181922,0.9977686959834515,0.9994326355504284,0.9910100453153949,0.9725859282134105,0.9443462251469577,0.9065759384227932,0.8596562554357672,0.8040607016281309,0.7403503615496515,0.6691682162488151,0.591232654143619,0.507330220861901,0.41830768122167306,0.32506347346398523,0.2285386419843857,0.12970734007217227,0.029566998506218765,-0.07087174077157724,-0.17059522431328336,-0.26859701721481055,-0.36388806031440185,-0.45550665203067525,-0.5425281541009938,-0.6240743232673008,-0.6993221747317495,-0.7675122879297706,-0.8279564707966822,-0.8800447051780209,-0.9232513032888079,-0.9571402130891266,-0.9813694190328588,-0.9956943937760503,-0.9999705660094207,-0.9941547795089919,-0.978305728679741,-0.9525833661966533,-0.9172472887214079,-0.8726541169864731,-0.8192538966874445,-0.7575855565067815,-0.6882714691076759,-0.6120111699899564,-0.5295742975988719,-0.44179282593705715,-0.3495526680700663,-0.2537847352651319,-0.15545554199651387,-0.05555745163422786,0.04490133874094825,0.14490697332027144,0.2434501696592168,0.3395364046140433,0.4321959513237761,0.5204936659417063,0.6035384253463177,0.680492120583744,0.750578115277733,0.8130890836425904,0.8673941489959544,0.9129452507276277]}},\"id\":\"fbbbed0e-9a29-459f-8ca1-5629089e62d3\",\"type\":\"ColumnDataSource\"},{\"attributes\":{\"data_source\":{\"id\":\"fbbbed0e-9a29-459f-8ca1-5629089e62d3\",\"type\":\"ColumnDataSource\"},\"glyph\":{\"id\":\"b0b89ed5-a74e-423e-af15-0f6f5d5d380f\",\"type\":\"Line\"},\"hover_glyph\":null,\"nonselection_glyph\":{\"id\":\"2953e1a1-46a8-4920-bee9-d5c2becbb91c\",\"type\":\"Line\"},\"selection_glyph\":null},\"id\":\"aa447484-5637-439b-a15e-20ab03f5f7bc\",\"type\":\"GlyphRenderer\"},{\"attributes\":{\"plot\":{\"id\":\"30693617-0db4-4a67-8bd9-11d42714156d\",\"subtype\":\"Figure\",\"type\":\"Plot\"}},\"id\":\"58c8aaae-e30e-4438-abaa-0216220f5a80\",\"type\":\"PanTool\"},{\"attributes\":{\"formatter\":{\"id\":\"3057e742-f194-4aec-b038-01d761fcc723\",\"type\":\"BasicTickFormatter\"},\"plot\":{\"id\":\"30693617-0db4-4a67-8bd9-11d42714156d\",\"subtype\":\"Figure\",\"type\":\"Plot\"},\"ticker\":{\"id\":\"3d76470b-fd61-4b95-ac35-bce70c8ba9a5\",\"type\":\"BasicTicker\"}},\"id\":\"857161af-60bb-44ae-9e47-4a8adfb1857a\",\"type\":\"LinearAxis\"},{\"attributes\":{\"bottom_units\":\"screen\",\"fill_alpha\":{\"value\":0.5},\"fill_color\":{\"value\":\"lightgrey\"},\"left_units\":\"screen\",\"level\":\"overlay\",\"line_alpha\":{\"value\":1.0},\"line_color\":{\"value\":\"black\"},\"line_dash\":[4,4],\"line_width\":{\"value\":2},\"plot\":null,\"render_mode\":\"css\",\"right_units\":\"screen\",\"top_units\":\"screen\"},\"id\":\"6b835c08-6503-47de-92cc-969cb29c3983\",\"type\":\"BoxAnnotation\"},{\"attributes\":{\"plot\":{\"id\":\"30693617-0db4-4a67-8bd9-11d42714156d\",\"subtype\":\"Figure\",\"type\":\"Plot\"}},\"id\":\"4ab6183e-48d8-442c-83d5-ee7c1a939cf9\",\"type\":\"SaveTool\"}],\"root_ids\":[\"30693617-0db4-4a67-8bd9-11d42714156d\"]},\"title\":\"Bokeh Application\",\"version\":\"0.12.0\"}};\n",
       "            var render_items = [{\"docid\":\"8962088b-b55a-4a58-944a-9b4c4ac34cd5\",\"elementid\":\"ff780f20-1a25-40ef-95ef-c571f8c55eda\",\"modelid\":\"30693617-0db4-4a67-8bd9-11d42714156d\",\"notebook_comms_target\":\"435167b9-3a7b-4064-9b52-eb0ef6ebccae\"}];\n",
       "            \n",
       "            Bokeh.embed.embed_items(docs_json, render_items);\n",
       "        });\n",
       "      },\n",
       "      function(Bokeh) {\n",
       "      }\n",
       "    ];\n",
       "  \n",
       "    function run_inline_js() {\n",
       "      for (var i = 0; i < inline_js.length; i++) {\n",
       "        inline_js[i](window.Bokeh);\n",
       "      }\n",
       "    }\n",
       "  \n",
       "    if (window._bokeh_is_loading === 0) {\n",
       "      console.log(\"Bokeh: BokehJS loaded, going straight to plotting\");\n",
       "      run_inline_js();\n",
       "    } else {\n",
       "      load_libs(js_urls, function() {\n",
       "        console.log(\"Bokeh: BokehJS plotting callback run at\", now());\n",
       "        run_inline_js();\n",
       "      });\n",
       "    }\n",
       "  }(this));\n",
       "</script>"
      ]
     },
     "metadata": {},
     "output_type": "display_data"
    },
    {
     "data": {
      "text/html": [
       "<p><code>&lt;Bokeh Notebook handle for <strong>In[3]</strong>&gt;</code></p>"
      ],
      "text/plain": [
       "<bokeh.io._CommsHandle at 0x10d8b96a0>"
      ]
     },
     "execution_count": 3,
     "metadata": {},
     "output_type": "execute_result"
    }
   ],
   "source": [
    "import numpy as np\n",
    "from bokeh.models.annotations import Span\n",
    "\n",
    "x = np.linspace(0, 20, 200)\n",
    "y = np.sin(x)\n",
    "\n",
    "p = figure(y_range=(-2, 2))\n",
    "p.line(x, y)\n",
    "\n",
    "upper = Span(location=1, dimension='width', line_color='olive', line_width=4)\n",
    "p.add_layout(upper)\n",
    "\n",
    "lower = Span(location=-1, dimension='width', line_color='firebrick', line_width=4)\n",
    "p.add_layout(lower)\n",
    "\n",
    "show(p)"
   ]
  },
  {
   "cell_type": "markdown",
   "metadata": {
    "collapsed": true
   },
   "source": [
    "## Box Annotations\n",
    "\n",
    "Sometimes you might want to call out some region of the plot by drawing a shaded box. This can be done with the `BoxAnnotation`, which is configured with the coordinate properties:\n",
    "* `top`\n",
    "* `left`\n",
    "* `bottom`\n",
    "* `right`\n",
    "\n",
    "as well as any visual line or fill properties to control the appearance. \n",
    "\n",
    "\"Infinite\" boxes can be made by leaving any of the coordinates unspecified. E.g., if `top` is not given, the box will always extend to the top of the plot area, regardless of any panning or zooming that happens.\n",
    "\n",
    "Let's take a look at an example that adds a few shaded boxes to a plot:"
   ]
  },
  {
   "cell_type": "code",
   "execution_count": 4,
   "metadata": {
    "collapsed": false,
    "scrolled": false
   },
   "outputs": [
    {
     "data": {
      "text/html": [
       "\n",
       "\n",
       "    <div class=\"bk-root\">\n",
       "        <div class=\"plotdiv\" id=\"0ec4f670-4f7d-4c95-9875-1f3a14efe97d\"></div>\n",
       "    </div>\n",
       "<script type=\"text/javascript\">\n",
       "  \n",
       "  (function(global) {\n",
       "    function now() {\n",
       "      return new Date();\n",
       "    }\n",
       "  \n",
       "    if (typeof (window._bokeh_onload_callbacks) === \"undefined\") {\n",
       "      window._bokeh_onload_callbacks = [];\n",
       "    }\n",
       "  \n",
       "    function run_callbacks() {\n",
       "      window._bokeh_onload_callbacks.forEach(function(callback) { callback() });\n",
       "      delete window._bokeh_onload_callbacks\n",
       "      console.info(\"Bokeh: all callbacks have finished\");\n",
       "    }\n",
       "  \n",
       "    function load_libs(js_urls, callback) {\n",
       "      window._bokeh_onload_callbacks.push(callback);\n",
       "      if (window._bokeh_is_loading > 0) {\n",
       "        console.log(\"Bokeh: BokehJS is being loaded, scheduling callback at\", now());\n",
       "        return null;\n",
       "      }\n",
       "      if (js_urls == null || js_urls.length === 0) {\n",
       "        run_callbacks();\n",
       "        return null;\n",
       "      }\n",
       "      console.log(\"Bokeh: BokehJS not loaded, scheduling load and callback at\", now());\n",
       "      window._bokeh_is_loading = js_urls.length;\n",
       "      for (var i = 0; i < js_urls.length; i++) {\n",
       "        var url = js_urls[i];\n",
       "        var s = document.createElement('script');\n",
       "        s.src = url;\n",
       "        s.async = false;\n",
       "        s.onreadystatechange = s.onload = function() {\n",
       "          window._bokeh_is_loading--;\n",
       "          if (window._bokeh_is_loading === 0) {\n",
       "            console.log(\"Bokeh: all BokehJS libraries loaded\");\n",
       "            run_callbacks()\n",
       "          }\n",
       "        };\n",
       "        s.onerror = function() {\n",
       "          console.warn(\"failed to load library \" + url);\n",
       "        };\n",
       "        console.log(\"Bokeh: injecting script tag for BokehJS library: \", url);\n",
       "        document.getElementsByTagName(\"head\")[0].appendChild(s);\n",
       "      }\n",
       "    };var element = document.getElementById(\"0ec4f670-4f7d-4c95-9875-1f3a14efe97d\");\n",
       "    if (element == null) {\n",
       "      console.log(\"Bokeh: ERROR: autoload.js configured with elementid '0ec4f670-4f7d-4c95-9875-1f3a14efe97d' but no matching script tag was found. \")\n",
       "      return false;\n",
       "    }\n",
       "  \n",
       "    var js_urls = [];\n",
       "  \n",
       "    var inline_js = [\n",
       "      function(Bokeh) {\n",
       "        Bokeh.$(function() {\n",
       "            var docs_json = {\"2c019c53-6196-48b4-b220-50ccbbf1b0f4\":{\"roots\":{\"references\":[{\"attributes\":{},\"id\":\"99e9cf2d-a779-4245-9f49-1dc9db9a95be\",\"type\":\"BasicTickFormatter\"},{\"attributes\":{},\"id\":\"7cc54560-e8dd-4802-b11b-8f56fc3bbd4f\",\"type\":\"BasicTicker\"},{\"attributes\":{\"plot\":null,\"text\":null},\"id\":\"83544a50-6343-408f-b7a2-5786ab7482f1\",\"type\":\"Title\"},{\"attributes\":{\"bottom_units\":\"screen\",\"fill_alpha\":{\"value\":0.5},\"fill_color\":{\"value\":\"lightgrey\"},\"left_units\":\"screen\",\"level\":\"overlay\",\"line_alpha\":{\"value\":1.0},\"line_color\":{\"value\":\"black\"},\"line_dash\":[4,4],\"line_width\":{\"value\":2},\"plot\":null,\"render_mode\":\"css\",\"right_units\":\"screen\",\"top_units\":\"screen\"},\"id\":\"8fe63c17-7437-4cb1-8c14-7130da79fbbf\",\"type\":\"BoxAnnotation\"},{\"attributes\":{\"active_drag\":\"auto\",\"active_scroll\":\"auto\",\"active_tap\":\"auto\",\"tools\":[{\"id\":\"8d9388b8-82a9-47dc-a9be-9e8a18d9ce6d\",\"type\":\"PanTool\"},{\"id\":\"47fe0698-26d0-4939-ad7e-50e9ca0b3959\",\"type\":\"WheelZoomTool\"},{\"id\":\"2cd14058-4831-4c49-8e05-2603d84d2604\",\"type\":\"BoxZoomTool\"},{\"id\":\"da89377e-7486-4a80-a9b5-99400aeb1ff1\",\"type\":\"SaveTool\"},{\"id\":\"388a0a89-d0d8-4756-bd55-cfc688a1e942\",\"type\":\"ResetTool\"},{\"id\":\"7ac7dfd4-d3a9-4279-b6b9-041a80bc7a2d\",\"type\":\"HelpTool\"}]},\"id\":\"0ce42897-5125-4517-a678-2a21d6b03aef\",\"type\":\"Toolbar\"},{\"attributes\":{\"plot\":{\"id\":\"db628873-c183-423c-93a0-c40f7eb33b19\",\"subtype\":\"Figure\",\"type\":\"Plot\"}},\"id\":\"47fe0698-26d0-4939-ad7e-50e9ca0b3959\",\"type\":\"WheelZoomTool\"},{\"attributes\":{},\"id\":\"32db0564-af5c-443b-9206-f5ee7569c093\",\"type\":\"BasicTicker\"},{\"attributes\":{\"overlay\":{\"id\":\"8fe63c17-7437-4cb1-8c14-7130da79fbbf\",\"type\":\"BoxAnnotation\"},\"plot\":{\"id\":\"db628873-c183-423c-93a0-c40f7eb33b19\",\"subtype\":\"Figure\",\"type\":\"Plot\"}},\"id\":\"2cd14058-4831-4c49-8e05-2603d84d2604\",\"type\":\"BoxZoomTool\"},{\"attributes\":{\"below\":[{\"id\":\"06a117be-4ff4-4771-a8a7-0a4d6dad5988\",\"type\":\"LinearAxis\"}],\"left\":[{\"id\":\"10903b93-e958-46a5-9db4-f753020f7be4\",\"type\":\"LinearAxis\"}],\"renderers\":[{\"id\":\"06a117be-4ff4-4771-a8a7-0a4d6dad5988\",\"type\":\"LinearAxis\"},{\"id\":\"a8ceec71-5c9a-4ea2-a2d7-412aef09fa45\",\"type\":\"Grid\"},{\"id\":\"10903b93-e958-46a5-9db4-f753020f7be4\",\"type\":\"LinearAxis\"},{\"id\":\"41411cd4-3a1d-4e62-a954-749ecf87bbfd\",\"type\":\"Grid\"},{\"id\":\"8fe63c17-7437-4cb1-8c14-7130da79fbbf\",\"type\":\"BoxAnnotation\"},{\"id\":\"43db2890-4f62-4329-8e5f-f427fa598c6f\",\"type\":\"GlyphRenderer\"},{\"id\":\"d76c3332-43a9-4462-8691-b42ea8017d58\",\"type\":\"BoxAnnotation\"},{\"id\":\"047cbd78-0f74-4a84-bcaa-36edc2cdb0a5\",\"type\":\"BoxAnnotation\"},{\"id\":\"b3268c00-6bc2-4f71-9b86-c68181eeeb4e\",\"type\":\"BoxAnnotation\"}],\"title\":{\"id\":\"83544a50-6343-408f-b7a2-5786ab7482f1\",\"type\":\"Title\"},\"tool_events\":{\"id\":\"70e3ebbe-53eb-4ed4-b038-542b17829848\",\"type\":\"ToolEvents\"},\"toolbar\":{\"id\":\"0ce42897-5125-4517-a678-2a21d6b03aef\",\"type\":\"Toolbar\"},\"x_range\":{\"id\":\"6d4fcf96-f4a6-428b-95c4-6a856e6dc658\",\"type\":\"DataRange1d\"},\"y_range\":{\"id\":\"ac95ad3f-720d-4fd7-b2ee-9da90d18059c\",\"type\":\"Range1d\"}},\"id\":\"db628873-c183-423c-93a0-c40f7eb33b19\",\"subtype\":\"Figure\",\"type\":\"Plot\"},{\"attributes\":{},\"id\":\"933df606-ca06-48c8-a21a-bb5c528e4247\",\"type\":\"BasicTickFormatter\"},{\"attributes\":{\"plot\":{\"id\":\"db628873-c183-423c-93a0-c40f7eb33b19\",\"subtype\":\"Figure\",\"type\":\"Plot\"}},\"id\":\"7ac7dfd4-d3a9-4279-b6b9-041a80bc7a2d\",\"type\":\"HelpTool\"},{\"attributes\":{\"callback\":null,\"column_names\":[\"y\",\"x\"],\"data\":{\"x\":[0.0,0.10050251256281408,0.20100502512562815,0.30150753768844224,0.4020100502512563,0.5025125628140704,0.6030150753768845,0.7035175879396985,0.8040201005025126,0.9045226130653267,1.0050251256281408,1.105527638190955,1.206030150753769,1.306532663316583,1.407035175879397,1.5075376884422111,1.6080402010050252,1.7085427135678393,1.8090452261306533,1.9095477386934674,2.0100502512562817,2.1105527638190957,2.21105527638191,2.311557788944724,2.412060301507538,2.512562814070352,2.613065326633166,2.71356783919598,2.814070351758794,2.9145728643216082,3.0150753768844223,3.1155778894472363,3.2160804020100504,3.3165829145728645,3.4170854271356785,3.5175879396984926,3.6180904522613067,3.7185929648241207,3.819095477386935,3.919597989949749,4.020100502512563,4.120603015075377,4.2211055276381915,4.3216080402010055,4.42211055276382,4.522613065326634,4.623115577889448,4.723618090452262,4.824120603015076,4.92462311557789,5.025125628140704,5.125628140703518,5.226130653266332,5.326633165829146,5.42713567839196,5.527638190954774,5.628140703517588,5.728643216080402,5.8291457286432165,5.9296482412060305,6.030150753768845,6.130653266331659,6.231155778894473,6.331658291457287,6.432160804020101,6.532663316582915,6.633165829145729,6.733668341708543,6.834170854271357,6.934673366834171,7.035175879396985,7.135678391959799,7.236180904522613,7.336683417085427,7.437185929648241,7.5376884422110555,7.63819095477387,7.738693467336684,7.839195979899498,7.939698492462312,8.040201005025127,8.14070351758794,8.241206030150755,8.341708542713569,8.442211055276383,8.542713567839197,8.643216080402011,8.743718592964825,8.84422110552764,8.944723618090453,9.045226130653267,9.145728643216081,9.246231155778895,9.34673366834171,9.447236180904524,9.547738693467338,9.648241206030152,9.748743718592966,9.84924623115578,9.949748743718594,10.050251256281408,10.150753768844222,10.251256281407036,10.35175879396985,10.452261306532664,10.552763819095478,10.653266331658292,10.753768844221106,10.85427135678392,10.954773869346734,11.055276381909549,11.155778894472363,11.256281407035177,11.35678391959799,11.457286432160805,11.557788944723619,11.658291457286433,11.758793969849247,11.859296482412061,11.959798994974875,12.06030150753769,12.160804020100503,12.261306532663317,12.361809045226131,12.462311557788945,12.56281407035176,12.663316582914574,12.763819095477388,12.864321608040202,12.964824120603016,13.06532663316583,13.165829145728644,13.266331658291458,13.366834170854272,13.467336683417086,13.5678391959799,13.668341708542714,13.768844221105528,13.869346733668342,13.969849246231156,14.07035175879397,14.170854271356784,14.271356783919598,14.371859296482413,14.472361809045227,14.57286432160804,14.673366834170855,14.773869346733669,14.874371859296483,14.974874371859297,15.075376884422111,15.175879396984925,15.27638190954774,15.376884422110553,15.477386934673367,15.577889447236181,15.678391959798995,15.77889447236181,15.879396984924623,15.979899497487438,16.080402010050253,16.180904522613066,16.28140703517588,16.381909547738694,16.48241206030151,16.582914572864322,16.683417085427138,16.78391959798995,16.884422110552766,16.984924623115578,17.085427135678394,17.185929648241206,17.286432160804022,17.386934673366834,17.48743718592965,17.587939698492463,17.68844221105528,17.78894472361809,17.889447236180906,17.98994974874372,18.090452261306535,18.190954773869347,18.291457286432163,18.391959798994975,18.49246231155779,18.592964824120603,18.69346733668342,18.79396984924623,18.894472361809047,18.99497487437186,19.095477386934675,19.195979899497488,19.296482412060303,19.396984924623116,19.49748743718593,19.597989949748744,19.69849246231156,19.798994974874372,19.899497487437188,20.0],\"y\":[0.0,0.10033340611397856,0.19965422182925707,0.2969600760684489,0.3912689332607891,0.48162900429630934,0.5671283522249922,0.6469040957577352,0.720151117685035,0.7861301903258074,0.84417543600223,0.8937010472475914,0.9342071989250891,0.9652850925909591,0.9866210821929372,0.9979998394664454,0.9993065270825165,0.9905279576154928,0.9717527266338982,0.9431703185712997,0.9050691944009351,0.8578338804137864,0.8019410874808932,0.737954899965305,0.6665210828384021,0.5883605644546254,0.5042621607581176,0.4150746143504438,0.32169802876315795,0.2250747843827254,0.12618002770661219,0.0260118299154004,-0.07441888591686176,-0.17409854731690658,-0.2720211616449078,-0.3671984688295239,-0.45866991514132416,-0.5455123473467255,-0.6268493294065579,-0.7018599876927554,-0.7697872954549803,-0.8299457129282269,-0.8817281059754842,-0.9246118734407446,-0.9581642213735454,-0.9820465308962223,-0.9960177756322361,-0.9999369542060184,-0.9937645132649188,-0.9775627466617587,-0.9514951667693332,-0.9158248542717212,-0.870911803086728,-0.8172092872151839,-0.7552592861837865,-0.6856870152490829,-0.6091946155651793,-0.5265540679956123,-0.43859940208501036,-0.3462182788195934,-0.250343032125446,-0.15194125951605447,-0.05200605685069962,0.048454004242978146,0.1484250551318267,0.2468981623987645,0.34287951025690017,0.43540043039266096,0.5235271780141882,0.6063703554426186,0.6830938881409576,0.7529234625921657,0.8151543408692327,0.8691584730306023,0.9143908355608308,0.9503949318873145,0.9768073994604692,0.9933616769015238,0.9998906942081381,0.9963285588676023,0.9827112208609282,0.9591761098464471,0.9259607481845431,0.8834003538012378,0.8319244570831352,0.7720525659468906,0.7043889228324319,0.6296164065336967,0.5484896404111711,0.46182737653991096,0.37050423265417287,0.2754418652815221,0.17759966814940648,0.07796508973825697,-0.02245633230115589,-0.12265111929089911,-0.22160807981193167,-0.3183285149065574,-0.41183629720376236,-0.5011877222463261,-0.5854810325975929,-0.6638655186081827,-0.7355501039953746,-0.7998113295873013,-0.8560006546579639,-0.903551002166129,-0.9419824818418809,-0.9709072333619758,-0.990033340735435,-0.9991677783943945,-0.9982183592575101,-0.9871946651055623,-0.966207949879674,-0.9354700168780792,-0.89529108118306,-0.8460766388909868,-0.7883233747419922,-0.7226141494505268,-0.6496121173259396,-0.5700540335495606,-0.4847428186529565,-0.39453945523854783,-0.3003542987229555,-0.203137889797277,-0.103871361327294,-0.0035565365096275887,0.09679418178421749,0.19616802843659367,0.29356209716833237,0.38799346212544567,0.4785090978182669,0.5641954972984655,0.644187891504835,0.7176789767338574,0.7839270621551785,0.8422635551451839,0.8920997088947761,0.932932564192766,0.9643500254188847,0.9860350195181922,0.9977686959834515,0.9994326355504284,0.9910100453153949,0.9725859282134105,0.9443462251469577,0.9065759384227932,0.8596562554357672,0.8040607016281309,0.7403503615496515,0.6691682162488151,0.591232654143619,0.507330220861901,0.41830768122167306,0.32506347346398523,0.2285386419843857,0.12970734007217227,0.029566998506218765,-0.07087174077157724,-0.17059522431328336,-0.26859701721481055,-0.36388806031440185,-0.45550665203067525,-0.5425281541009938,-0.6240743232673008,-0.6993221747317495,-0.7675122879297706,-0.8279564707966822,-0.8800447051780209,-0.9232513032888079,-0.9571402130891266,-0.9813694190328588,-0.9956943937760503,-0.9999705660094207,-0.9941547795089919,-0.978305728679741,-0.9525833661966533,-0.9172472887214079,-0.8726541169864731,-0.8192538966874445,-0.7575855565067815,-0.6882714691076759,-0.6120111699899564,-0.5295742975988719,-0.44179282593705715,-0.3495526680700663,-0.2537847352651319,-0.15545554199651387,-0.05555745163422786,0.04490133874094825,0.14490697332027144,0.2434501696592168,0.3395364046140433,0.4321959513237761,0.5204936659417063,0.6035384253463177,0.680492120583744,0.750578115277733,0.8130890836425904,0.8673941489959544,0.9129452507276277]}},\"id\":\"ede7466e-32f5-423b-b230-0e7a3ab059bc\",\"type\":\"ColumnDataSource\"},{\"attributes\":{\"formatter\":{\"id\":\"99e9cf2d-a779-4245-9f49-1dc9db9a95be\",\"type\":\"BasicTickFormatter\"},\"plot\":{\"id\":\"db628873-c183-423c-93a0-c40f7eb33b19\",\"subtype\":\"Figure\",\"type\":\"Plot\"},\"ticker\":{\"id\":\"7cc54560-e8dd-4802-b11b-8f56fc3bbd4f\",\"type\":\"BasicTicker\"}},\"id\":\"06a117be-4ff4-4771-a8a7-0a4d6dad5988\",\"type\":\"LinearAxis\"},{\"attributes\":{\"plot\":{\"id\":\"db628873-c183-423c-93a0-c40f7eb33b19\",\"subtype\":\"Figure\",\"type\":\"Plot\"}},\"id\":\"8d9388b8-82a9-47dc-a9be-9e8a18d9ce6d\",\"type\":\"PanTool\"},{\"attributes\":{\"callback\":null},\"id\":\"6d4fcf96-f4a6-428b-95c4-6a856e6dc658\",\"type\":\"DataRange1d\"},{\"attributes\":{\"data_source\":{\"id\":\"ede7466e-32f5-423b-b230-0e7a3ab059bc\",\"type\":\"ColumnDataSource\"},\"glyph\":{\"id\":\"5cde5388-aba9-4ef2-b6a4-d56beb44f9af\",\"type\":\"Line\"},\"hover_glyph\":null,\"nonselection_glyph\":{\"id\":\"cbef696c-46ef-40c3-a8e1-50551c6e7161\",\"type\":\"Line\"},\"selection_glyph\":null},\"id\":\"43db2890-4f62-4329-8e5f-f427fa598c6f\",\"type\":\"GlyphRenderer\"},{\"attributes\":{\"callback\":null,\"end\":2,\"start\":-2},\"id\":\"ac95ad3f-720d-4fd7-b2ee-9da90d18059c\",\"type\":\"Range1d\"},{\"attributes\":{\"formatter\":{\"id\":\"933df606-ca06-48c8-a21a-bb5c528e4247\",\"type\":\"BasicTickFormatter\"},\"plot\":{\"id\":\"db628873-c183-423c-93a0-c40f7eb33b19\",\"subtype\":\"Figure\",\"type\":\"Plot\"},\"ticker\":{\"id\":\"32db0564-af5c-443b-9206-f5ee7569c093\",\"type\":\"BasicTicker\"}},\"id\":\"10903b93-e958-46a5-9db4-f753020f7be4\",\"type\":\"LinearAxis\"},{\"attributes\":{\"plot\":{\"id\":\"db628873-c183-423c-93a0-c40f7eb33b19\",\"subtype\":\"Figure\",\"type\":\"Plot\"},\"ticker\":{\"id\":\"7cc54560-e8dd-4802-b11b-8f56fc3bbd4f\",\"type\":\"BasicTicker\"}},\"id\":\"a8ceec71-5c9a-4ea2-a2d7-412aef09fa45\",\"type\":\"Grid\"},{\"attributes\":{},\"id\":\"70e3ebbe-53eb-4ed4-b038-542b17829848\",\"type\":\"ToolEvents\"},{\"attributes\":{\"plot\":{\"id\":\"db628873-c183-423c-93a0-c40f7eb33b19\",\"subtype\":\"Figure\",\"type\":\"Plot\"}},\"id\":\"388a0a89-d0d8-4756-bd55-cfc688a1e942\",\"type\":\"ResetTool\"},{\"attributes\":{\"bottom\":1,\"fill_alpha\":{\"value\":0.1},\"fill_color\":{\"value\":\"olive\"},\"plot\":{\"id\":\"db628873-c183-423c-93a0-c40f7eb33b19\",\"subtype\":\"Figure\",\"type\":\"Plot\"}},\"id\":\"d76c3332-43a9-4462-8691-b42ea8017d58\",\"type\":\"BoxAnnotation\"},{\"attributes\":{\"bottom\":-0.3,\"fill_alpha\":{\"value\":0.1},\"fill_color\":{\"value\":\"navy\"},\"left\":7,\"plot\":{\"id\":\"db628873-c183-423c-93a0-c40f7eb33b19\",\"subtype\":\"Figure\",\"type\":\"Plot\"},\"right\":12,\"top\":0.6},\"id\":\"b3268c00-6bc2-4f71-9b86-c68181eeeb4e\",\"type\":\"BoxAnnotation\"},{\"attributes\":{\"plot\":{\"id\":\"db628873-c183-423c-93a0-c40f7eb33b19\",\"subtype\":\"Figure\",\"type\":\"Plot\"}},\"id\":\"da89377e-7486-4a80-a9b5-99400aeb1ff1\",\"type\":\"SaveTool\"},{\"attributes\":{\"dimension\":1,\"plot\":{\"id\":\"db628873-c183-423c-93a0-c40f7eb33b19\",\"subtype\":\"Figure\",\"type\":\"Plot\"},\"ticker\":{\"id\":\"32db0564-af5c-443b-9206-f5ee7569c093\",\"type\":\"BasicTicker\"}},\"id\":\"41411cd4-3a1d-4e62-a954-749ecf87bbfd\",\"type\":\"Grid\"},{\"attributes\":{\"line_alpha\":{\"value\":0.1},\"line_color\":{\"value\":\"#1f77b4\"},\"x\":{\"field\":\"x\"},\"y\":{\"field\":\"y\"}},\"id\":\"cbef696c-46ef-40c3-a8e1-50551c6e7161\",\"type\":\"Line\"},{\"attributes\":{\"fill_alpha\":{\"value\":0.1},\"fill_color\":{\"value\":\"firebrick\"},\"plot\":{\"id\":\"db628873-c183-423c-93a0-c40f7eb33b19\",\"subtype\":\"Figure\",\"type\":\"Plot\"},\"top\":-1},\"id\":\"047cbd78-0f74-4a84-bcaa-36edc2cdb0a5\",\"type\":\"BoxAnnotation\"},{\"attributes\":{\"line_color\":{\"value\":\"#1f77b4\"},\"x\":{\"field\":\"x\"},\"y\":{\"field\":\"y\"}},\"id\":\"5cde5388-aba9-4ef2-b6a4-d56beb44f9af\",\"type\":\"Line\"}],\"root_ids\":[\"db628873-c183-423c-93a0-c40f7eb33b19\"]},\"title\":\"Bokeh Application\",\"version\":\"0.12.0\"}};\n",
       "            var render_items = [{\"docid\":\"2c019c53-6196-48b4-b220-50ccbbf1b0f4\",\"elementid\":\"0ec4f670-4f7d-4c95-9875-1f3a14efe97d\",\"modelid\":\"db628873-c183-423c-93a0-c40f7eb33b19\",\"notebook_comms_target\":\"a34b74e0-744b-43b9-823c-8ed4eb7256cd\"}];\n",
       "            \n",
       "            Bokeh.embed.embed_items(docs_json, render_items);\n",
       "        });\n",
       "      },\n",
       "      function(Bokeh) {\n",
       "      }\n",
       "    ];\n",
       "  \n",
       "    function run_inline_js() {\n",
       "      for (var i = 0; i < inline_js.length; i++) {\n",
       "        inline_js[i](window.Bokeh);\n",
       "      }\n",
       "    }\n",
       "  \n",
       "    if (window._bokeh_is_loading === 0) {\n",
       "      console.log(\"Bokeh: BokehJS loaded, going straight to plotting\");\n",
       "      run_inline_js();\n",
       "    } else {\n",
       "      load_libs(js_urls, function() {\n",
       "        console.log(\"Bokeh: BokehJS plotting callback run at\", now());\n",
       "        run_inline_js();\n",
       "      });\n",
       "    }\n",
       "  }(this));\n",
       "</script>"
      ]
     },
     "metadata": {},
     "output_type": "display_data"
    },
    {
     "data": {
      "text/html": [
       "<p><code>&lt;Bokeh Notebook handle for <strong>In[4]</strong>&gt;</code></p>"
      ],
      "text/plain": [
       "<bokeh.io._CommsHandle at 0x10d8d98d0>"
      ]
     },
     "execution_count": 4,
     "metadata": {},
     "output_type": "execute_result"
    }
   ],
   "source": [
    "import numpy as np\n",
    "from bokeh.models.annotations import BoxAnnotation\n",
    "\n",
    "x = np.linspace(0, 20, 200)\n",
    "y = np.sin(x)\n",
    "\n",
    "p = figure(y_range=(-2, 2))\n",
    "p.line(x, y)\n",
    "\n",
    "# region that always fills the top of the plot\n",
    "upper = BoxAnnotation(bottom=1, fill_alpha=0.1, fill_color='olive')\n",
    "p.add_layout(upper)\n",
    "\n",
    "# region that always fills the bottom of the plot\n",
    "lower = BoxAnnotation(top=-1, fill_alpha=0.1, fill_color='firebrick')\n",
    "p.add_layout(lower)\n",
    "\n",
    "# a finite region\n",
    "center = BoxAnnotation(top=0.6, bottom=-0.3, left=7, right=12, fill_alpha=0.1, fill_color='navy')\n",
    "p.add_layout(center)\n",
    "\n",
    "show(p)"
   ]
  },
  {
   "cell_type": "markdown",
   "metadata": {
    "collapsed": true
   },
   "source": [
    "## Label\n",
    "\n",
    "The `Label` annoation allows you to easily attach single text labels to plots. The position and text to display are configured as `x`, `y`, and `text`:\n",
    "\n",
    "```python\n",
    "Label(x=10, y=5, text=\"Some Label\")\n",
    "```\n",
    "\n",
    "By default the units are in \"data space\" but `x_units` and `y_units` maybe set to `\"screen\"` to position the label relative to the canvas. Labels can also accept `x_offset` and `y_offset` to offset the final position from `x` and `y` by a given screen space distance. \n",
    "\n",
    "`Label` objects also have standard text, line (`border_line`) and fill (`background_fill`) properties. The line and fill properties apply to a bounding box around the text:\n",
    "\n",
    "```python\n",
    "Label(x=10, y=5, text=\"Some Label\", text_font_size=\"12pt\", \n",
    "      border_line_color=\"red\", background_fill_color=\"blue\")\n",
    "```"
   ]
  },
  {
   "cell_type": "code",
   "execution_count": 6,
   "metadata": {
    "collapsed": false
   },
   "outputs": [
    {
     "data": {
      "text/html": [
       "\n",
       "\n",
       "    <div class=\"bk-root\">\n",
       "        <div class=\"plotdiv\" id=\"3e760bca-8d14-4306-b26a-f9ec8c1d30ec\"></div>\n",
       "    </div>\n",
       "<script type=\"text/javascript\">\n",
       "  \n",
       "  (function(global) {\n",
       "    function now() {\n",
       "      return new Date();\n",
       "    }\n",
       "  \n",
       "    if (typeof (window._bokeh_onload_callbacks) === \"undefined\") {\n",
       "      window._bokeh_onload_callbacks = [];\n",
       "    }\n",
       "  \n",
       "    function run_callbacks() {\n",
       "      window._bokeh_onload_callbacks.forEach(function(callback) { callback() });\n",
       "      delete window._bokeh_onload_callbacks\n",
       "      console.info(\"Bokeh: all callbacks have finished\");\n",
       "    }\n",
       "  \n",
       "    function load_libs(js_urls, callback) {\n",
       "      window._bokeh_onload_callbacks.push(callback);\n",
       "      if (window._bokeh_is_loading > 0) {\n",
       "        console.log(\"Bokeh: BokehJS is being loaded, scheduling callback at\", now());\n",
       "        return null;\n",
       "      }\n",
       "      if (js_urls == null || js_urls.length === 0) {\n",
       "        run_callbacks();\n",
       "        return null;\n",
       "      }\n",
       "      console.log(\"Bokeh: BokehJS not loaded, scheduling load and callback at\", now());\n",
       "      window._bokeh_is_loading = js_urls.length;\n",
       "      for (var i = 0; i < js_urls.length; i++) {\n",
       "        var url = js_urls[i];\n",
       "        var s = document.createElement('script');\n",
       "        s.src = url;\n",
       "        s.async = false;\n",
       "        s.onreadystatechange = s.onload = function() {\n",
       "          window._bokeh_is_loading--;\n",
       "          if (window._bokeh_is_loading === 0) {\n",
       "            console.log(\"Bokeh: all BokehJS libraries loaded\");\n",
       "            run_callbacks()\n",
       "          }\n",
       "        };\n",
       "        s.onerror = function() {\n",
       "          console.warn(\"failed to load library \" + url);\n",
       "        };\n",
       "        console.log(\"Bokeh: injecting script tag for BokehJS library: \", url);\n",
       "        document.getElementsByTagName(\"head\")[0].appendChild(s);\n",
       "      }\n",
       "    };var element = document.getElementById(\"3e760bca-8d14-4306-b26a-f9ec8c1d30ec\");\n",
       "    if (element == null) {\n",
       "      console.log(\"Bokeh: ERROR: autoload.js configured with elementid '3e760bca-8d14-4306-b26a-f9ec8c1d30ec' but no matching script tag was found. \")\n",
       "      return false;\n",
       "    }\n",
       "  \n",
       "    var js_urls = [];\n",
       "  \n",
       "    var inline_js = [\n",
       "      function(Bokeh) {\n",
       "        Bokeh.$(function() {\n",
       "            var docs_json = {\"a51f695c-06e3-42c5-abb2-a51eb31d84cb\":{\"roots\":{\"references\":[{\"attributes\":{\"formatter\":{\"id\":\"87f52345-f968-46fe-8e0a-0258e3acd5a2\",\"type\":\"BasicTickFormatter\"},\"plot\":{\"id\":\"1892c5da-83bf-4314-be97-668c9f0be0cd\",\"subtype\":\"Figure\",\"type\":\"Plot\"},\"ticker\":{\"id\":\"c3edbf72-2cdf-47fb-93ad-73003176cb1a\",\"type\":\"BasicTicker\"}},\"id\":\"2dd6174f-0ab3-466e-a672-92cc596dcf74\",\"type\":\"LinearAxis\"},{\"attributes\":{\"plot\":{\"id\":\"1892c5da-83bf-4314-be97-668c9f0be0cd\",\"subtype\":\"Figure\",\"type\":\"Plot\"}},\"id\":\"3c8b52c9-c162-4266-aba4-fd0cdcbca1c8\",\"type\":\"WheelZoomTool\"},{\"attributes\":{\"plot\":{\"id\":\"1892c5da-83bf-4314-be97-668c9f0be0cd\",\"subtype\":\"Figure\",\"type\":\"Plot\"}},\"id\":\"51126642-f527-4133-ac8c-7515681869b1\",\"type\":\"SaveTool\"},{\"attributes\":{\"callback\":null,\"end\":10},\"id\":\"f86009bb-a9e0-40b0-be07-404d453e7f52\",\"type\":\"Range1d\"},{\"attributes\":{\"plot\":{\"id\":\"1892c5da-83bf-4314-be97-668c9f0be0cd\",\"subtype\":\"Figure\",\"type\":\"Plot\"},\"ticker\":{\"id\":\"10cea146-b7a2-45cb-81d8-d95d89136bdb\",\"type\":\"BasicTicker\"}},\"id\":\"5e15e1f0-46b6-4b2a-bec1-301d6ef0080c\",\"type\":\"Grid\"},{\"attributes\":{\"dimension\":1,\"plot\":{\"id\":\"1892c5da-83bf-4314-be97-668c9f0be0cd\",\"subtype\":\"Figure\",\"type\":\"Plot\"},\"ticker\":{\"id\":\"c3edbf72-2cdf-47fb-93ad-73003176cb1a\",\"type\":\"BasicTicker\"}},\"id\":\"8c959520-4626-43f3-bf2e-8d6d6fcb6551\",\"type\":\"Grid\"},{\"attributes\":{\"data_source\":{\"id\":\"3eac6e8d-ba85-4034-9072-7f4d185ed3df\",\"type\":\"ColumnDataSource\"},\"glyph\":{\"id\":\"76fc976d-3e15-4c90-858d-ab83a9ff805d\",\"type\":\"Circle\"},\"hover_glyph\":null,\"nonselection_glyph\":{\"id\":\"37472b12-ae11-417e-972b-ac238252fb05\",\"type\":\"Circle\"},\"selection_glyph\":null},\"id\":\"1bef96a9-8245-4829-9358-a55742b9484b\",\"type\":\"GlyphRenderer\"},{\"attributes\":{\"fill_alpha\":{\"value\":0.1},\"fill_color\":{\"value\":\"#1f77b4\"},\"line_alpha\":{\"value\":0.1},\"line_color\":{\"value\":\"#1f77b4\"},\"size\":{\"units\":\"screen\",\"value\":10},\"x\":{\"field\":\"x\"},\"y\":{\"field\":\"y\"}},\"id\":\"37472b12-ae11-417e-972b-ac238252fb05\",\"type\":\"Circle\"},{\"attributes\":{\"plot\":{\"id\":\"1892c5da-83bf-4314-be97-668c9f0be0cd\",\"subtype\":\"Figure\",\"type\":\"Plot\"}},\"id\":\"15a0bc7b-5f9a-4841-b911-306d8287883e\",\"type\":\"HelpTool\"},{\"attributes\":{},\"id\":\"c3edbf72-2cdf-47fb-93ad-73003176cb1a\",\"type\":\"BasicTicker\"},{\"attributes\":{\"plot\":{\"id\":\"1892c5da-83bf-4314-be97-668c9f0be0cd\",\"subtype\":\"Figure\",\"type\":\"Plot\"}},\"id\":\"3c15bfec-83da-4008-bdc2-45634d5c0d4f\",\"type\":\"ResetTool\"},{\"attributes\":{\"callback\":null,\"column_names\":[\"y\",\"x\"],\"data\":{\"x\":[2,5,8],\"y\":[4,7,6]}},\"id\":\"3eac6e8d-ba85-4034-9072-7f4d185ed3df\",\"type\":\"ColumnDataSource\"},{\"attributes\":{\"below\":[{\"id\":\"d05b8ffd-6e64-4a9a-aa71-f2e23f238554\",\"type\":\"LinearAxis\"}],\"left\":[{\"id\":\"2dd6174f-0ab3-466e-a672-92cc596dcf74\",\"type\":\"LinearAxis\"}],\"renderers\":[{\"id\":\"d05b8ffd-6e64-4a9a-aa71-f2e23f238554\",\"type\":\"LinearAxis\"},{\"id\":\"5e15e1f0-46b6-4b2a-bec1-301d6ef0080c\",\"type\":\"Grid\"},{\"id\":\"2dd6174f-0ab3-466e-a672-92cc596dcf74\",\"type\":\"LinearAxis\"},{\"id\":\"8c959520-4626-43f3-bf2e-8d6d6fcb6551\",\"type\":\"Grid\"},{\"id\":\"ecf7a3e9-c18e-4136-8202-9a0f3c3dcc17\",\"type\":\"BoxAnnotation\"},{\"id\":\"1bef96a9-8245-4829-9358-a55742b9484b\",\"type\":\"GlyphRenderer\"},{\"id\":\"7a973f48-0da6-48fa-a802-fcad87ab2579\",\"type\":\"Label\"}],\"title\":{\"id\":\"5e6c5349-c88f-443d-bdc5-115b77ea1c52\",\"type\":\"Title\"},\"tool_events\":{\"id\":\"62e5e729-88e3-4ab6-be2e-7776d8d899ae\",\"type\":\"ToolEvents\"},\"toolbar\":{\"id\":\"1838ba86-5c6d-466e-b2d1-8d5335c5b88a\",\"type\":\"Toolbar\"},\"x_range\":{\"id\":\"f86009bb-a9e0-40b0-be07-404d453e7f52\",\"type\":\"Range1d\"},\"y_range\":{\"id\":\"d5f16f22-893b-4fe3-8d38-951e03589e4d\",\"type\":\"Range1d\"}},\"id\":\"1892c5da-83bf-4314-be97-668c9f0be0cd\",\"subtype\":\"Figure\",\"type\":\"Plot\"},{\"attributes\":{},\"id\":\"62e5e729-88e3-4ab6-be2e-7776d8d899ae\",\"type\":\"ToolEvents\"},{\"attributes\":{\"callback\":null,\"end\":10},\"id\":\"d5f16f22-893b-4fe3-8d38-951e03589e4d\",\"type\":\"Range1d\"},{\"attributes\":{},\"id\":\"11a97816-1529-4eeb-a169-c948610cfc34\",\"type\":\"BasicTickFormatter\"},{\"attributes\":{},\"id\":\"10cea146-b7a2-45cb-81d8-d95d89136bdb\",\"type\":\"BasicTicker\"},{\"attributes\":{\"bottom_units\":\"screen\",\"fill_alpha\":{\"value\":0.5},\"fill_color\":{\"value\":\"lightgrey\"},\"left_units\":\"screen\",\"level\":\"overlay\",\"line_alpha\":{\"value\":1.0},\"line_color\":{\"value\":\"black\"},\"line_dash\":[4,4],\"line_width\":{\"value\":2},\"plot\":null,\"render_mode\":\"css\",\"right_units\":\"screen\",\"top_units\":\"screen\"},\"id\":\"ecf7a3e9-c18e-4136-8202-9a0f3c3dcc17\",\"type\":\"BoxAnnotation\"},{\"attributes\":{},\"id\":\"87f52345-f968-46fe-8e0a-0258e3acd5a2\",\"type\":\"BasicTickFormatter\"},{\"attributes\":{\"fill_color\":{\"value\":\"olive\"},\"line_color\":{\"value\":\"olive\"},\"size\":{\"units\":\"screen\",\"value\":10},\"x\":{\"field\":\"x\"},\"y\":{\"field\":\"y\"}},\"id\":\"76fc976d-3e15-4c90-858d-ab83a9ff805d\",\"type\":\"Circle\"},{\"attributes\":{\"formatter\":{\"id\":\"11a97816-1529-4eeb-a169-c948610cfc34\",\"type\":\"BasicTickFormatter\"},\"plot\":{\"id\":\"1892c5da-83bf-4314-be97-668c9f0be0cd\",\"subtype\":\"Figure\",\"type\":\"Plot\"},\"ticker\":{\"id\":\"10cea146-b7a2-45cb-81d8-d95d89136bdb\",\"type\":\"BasicTicker\"}},\"id\":\"d05b8ffd-6e64-4a9a-aa71-f2e23f238554\",\"type\":\"LinearAxis\"},{\"attributes\":{\"plot\":{\"id\":\"1892c5da-83bf-4314-be97-668c9f0be0cd\",\"subtype\":\"Figure\",\"type\":\"Plot\"},\"text\":\"Second Point\",\"text_baseline\":\"middle\",\"x\":5,\"x_offset\":12,\"y\":7},\"id\":\"7a973f48-0da6-48fa-a802-fcad87ab2579\",\"type\":\"Label\"},{\"attributes\":{\"plot\":{\"id\":\"1892c5da-83bf-4314-be97-668c9f0be0cd\",\"subtype\":\"Figure\",\"type\":\"Plot\"}},\"id\":\"3c90ad76-7201-49b4-98c2-86be33965b2b\",\"type\":\"PanTool\"},{\"attributes\":{\"active_drag\":\"auto\",\"active_scroll\":\"auto\",\"active_tap\":\"auto\",\"tools\":[{\"id\":\"3c90ad76-7201-49b4-98c2-86be33965b2b\",\"type\":\"PanTool\"},{\"id\":\"3c8b52c9-c162-4266-aba4-fd0cdcbca1c8\",\"type\":\"WheelZoomTool\"},{\"id\":\"6f6de489-2b21-4fcb-b329-7984c7b02c13\",\"type\":\"BoxZoomTool\"},{\"id\":\"51126642-f527-4133-ac8c-7515681869b1\",\"type\":\"SaveTool\"},{\"id\":\"3c15bfec-83da-4008-bdc2-45634d5c0d4f\",\"type\":\"ResetTool\"},{\"id\":\"15a0bc7b-5f9a-4841-b911-306d8287883e\",\"type\":\"HelpTool\"}]},\"id\":\"1838ba86-5c6d-466e-b2d1-8d5335c5b88a\",\"type\":\"Toolbar\"},{\"attributes\":{\"overlay\":{\"id\":\"ecf7a3e9-c18e-4136-8202-9a0f3c3dcc17\",\"type\":\"BoxAnnotation\"},\"plot\":{\"id\":\"1892c5da-83bf-4314-be97-668c9f0be0cd\",\"subtype\":\"Figure\",\"type\":\"Plot\"}},\"id\":\"6f6de489-2b21-4fcb-b329-7984c7b02c13\",\"type\":\"BoxZoomTool\"},{\"attributes\":{\"plot\":null,\"text\":null},\"id\":\"5e6c5349-c88f-443d-bdc5-115b77ea1c52\",\"type\":\"Title\"}],\"root_ids\":[\"1892c5da-83bf-4314-be97-668c9f0be0cd\"]},\"title\":\"Bokeh Application\",\"version\":\"0.12.0\"}};\n",
       "            var render_items = [{\"docid\":\"a51f695c-06e3-42c5-abb2-a51eb31d84cb\",\"elementid\":\"3e760bca-8d14-4306-b26a-f9ec8c1d30ec\",\"modelid\":\"1892c5da-83bf-4314-be97-668c9f0be0cd\",\"notebook_comms_target\":\"949aae7f-48a3-4659-b417-3470c3094c70\"}];\n",
       "            \n",
       "            Bokeh.embed.embed_items(docs_json, render_items);\n",
       "        });\n",
       "      },\n",
       "      function(Bokeh) {\n",
       "      }\n",
       "    ];\n",
       "  \n",
       "    function run_inline_js() {\n",
       "      for (var i = 0; i < inline_js.length; i++) {\n",
       "        inline_js[i](window.Bokeh);\n",
       "      }\n",
       "    }\n",
       "  \n",
       "    if (window._bokeh_is_loading === 0) {\n",
       "      console.log(\"Bokeh: BokehJS loaded, going straight to plotting\");\n",
       "      run_inline_js();\n",
       "    } else {\n",
       "      load_libs(js_urls, function() {\n",
       "        console.log(\"Bokeh: BokehJS plotting callback run at\", now());\n",
       "        run_inline_js();\n",
       "      });\n",
       "    }\n",
       "  }(this));\n",
       "</script>"
      ]
     },
     "metadata": {},
     "output_type": "display_data"
    },
    {
     "data": {
      "text/html": [
       "<p><code>&lt;Bokeh Notebook handle for <strong>In[6]</strong>&gt;</code></p>"
      ],
      "text/plain": [
       "<bokeh.io._CommsHandle at 0x10d8ef3c8>"
      ]
     },
     "execution_count": 6,
     "metadata": {},
     "output_type": "execute_result"
    }
   ],
   "source": [
    "from bokeh.models.annotations import Label\n",
    "from bokeh.plotting import figure\n",
    "\n",
    "p = figure(x_range=(0,10), y_range=(0,10))\n",
    "p.circle([2, 5, 8], [4, 7, 6], color=\"olive\", size=10)\n",
    "\n",
    "label = Label(x=5, y=7, x_offset=12, text=\"Second Point\", text_baseline=\"middle\")\n",
    "p.add_layout(label)\n",
    "\n",
    "show(p)"
   ]
  },
  {
   "cell_type": "code",
   "execution_count": 7,
   "metadata": {
    "collapsed": true
   },
   "outputs": [],
   "source": [
    "# EXERCISE: experiment with Label\n",
    "\n"
   ]
  },
  {
   "cell_type": "markdown",
   "metadata": {
    "collapsed": true
   },
   "source": [
    "## LabelSet\n",
    "\n",
    "The `LabelSet` annotation allows you to create many labels at once, for instance if you want to label an entire set of scatter markers. They are similar to `Label`, but they can also \n",
    "accept a `ColumnDataSource` as the `source` property, and then `x` and `y` may refer to columns in the data source, e.g. `x=\"col2\"` (but may also still be fixed values, e.g. `x=10`)."
   ]
  },
  {
   "cell_type": "code",
   "execution_count": 16,
   "metadata": {
    "collapsed": false
   },
   "outputs": [
    {
     "data": {
      "text/html": [
       "\n",
       "\n",
       "    <div class=\"bk-root\">\n",
       "        <div class=\"plotdiv\" id=\"a9e035f4-afff-4afa-8527-cae3548e0743\"></div>\n",
       "    </div>\n",
       "<script type=\"text/javascript\">\n",
       "  \n",
       "  (function(global) {\n",
       "    function now() {\n",
       "      return new Date();\n",
       "    }\n",
       "  \n",
       "    if (typeof (window._bokeh_onload_callbacks) === \"undefined\") {\n",
       "      window._bokeh_onload_callbacks = [];\n",
       "    }\n",
       "  \n",
       "    function run_callbacks() {\n",
       "      window._bokeh_onload_callbacks.forEach(function(callback) { callback() });\n",
       "      delete window._bokeh_onload_callbacks\n",
       "      console.info(\"Bokeh: all callbacks have finished\");\n",
       "    }\n",
       "  \n",
       "    function load_libs(js_urls, callback) {\n",
       "      window._bokeh_onload_callbacks.push(callback);\n",
       "      if (window._bokeh_is_loading > 0) {\n",
       "        console.log(\"Bokeh: BokehJS is being loaded, scheduling callback at\", now());\n",
       "        return null;\n",
       "      }\n",
       "      if (js_urls == null || js_urls.length === 0) {\n",
       "        run_callbacks();\n",
       "        return null;\n",
       "      }\n",
       "      console.log(\"Bokeh: BokehJS not loaded, scheduling load and callback at\", now());\n",
       "      window._bokeh_is_loading = js_urls.length;\n",
       "      for (var i = 0; i < js_urls.length; i++) {\n",
       "        var url = js_urls[i];\n",
       "        var s = document.createElement('script');\n",
       "        s.src = url;\n",
       "        s.async = false;\n",
       "        s.onreadystatechange = s.onload = function() {\n",
       "          window._bokeh_is_loading--;\n",
       "          if (window._bokeh_is_loading === 0) {\n",
       "            console.log(\"Bokeh: all BokehJS libraries loaded\");\n",
       "            run_callbacks()\n",
       "          }\n",
       "        };\n",
       "        s.onerror = function() {\n",
       "          console.warn(\"failed to load library \" + url);\n",
       "        };\n",
       "        console.log(\"Bokeh: injecting script tag for BokehJS library: \", url);\n",
       "        document.getElementsByTagName(\"head\")[0].appendChild(s);\n",
       "      }\n",
       "    };var element = document.getElementById(\"a9e035f4-afff-4afa-8527-cae3548e0743\");\n",
       "    if (element == null) {\n",
       "      console.log(\"Bokeh: ERROR: autoload.js configured with elementid 'a9e035f4-afff-4afa-8527-cae3548e0743' but no matching script tag was found. \")\n",
       "      return false;\n",
       "    }\n",
       "  \n",
       "    var js_urls = [];\n",
       "  \n",
       "    var inline_js = [\n",
       "      function(Bokeh) {\n",
       "        Bokeh.$(function() {\n",
       "            var docs_json = {\"e7c8b6b9-221d-4460-bfaa-5f028126b9a1\":{\"roots\":{\"references\":[{\"attributes\":{},\"id\":\"44493a17-76ef-4593-acfa-25c7ba157891\",\"type\":\"BasicTicker\"},{\"attributes\":{\"dimension\":1,\"plot\":{\"id\":\"4db8deca-f84f-46eb-a06b-ef30c8468c6e\",\"subtype\":\"Figure\",\"type\":\"Plot\"},\"ticker\":{\"id\":\"3f521cdb-4dd4-4a34-b0bc-24907dfeaca7\",\"type\":\"BasicTicker\"}},\"id\":\"04272d0c-f3fd-4aef-b636-bc314b94999c\",\"type\":\"Grid\"},{\"attributes\":{\"data_source\":{\"id\":\"f61e408d-2da0-426a-a365-e75e0fa6ee0b\",\"type\":\"ColumnDataSource\"},\"glyph\":{\"id\":\"9d9368de-5434-4e20-9e52-c9327ffd4dd4\",\"type\":\"Circle\"},\"hover_glyph\":null,\"nonselection_glyph\":{\"id\":\"7b46247f-679c-4623-a3c8-b5756022f020\",\"type\":\"Circle\"},\"selection_glyph\":null},\"id\":\"a3d4c78b-2fc7-4a01-b79b-43599a0aed34\",\"type\":\"GlyphRenderer\"},{\"attributes\":{\"axis_label\":\"Temperature (C)\",\"formatter\":{\"id\":\"8266482f-4e33-4738-b501-3e20ead67a20\",\"type\":\"BasicTickFormatter\"},\"plot\":{\"id\":\"4db8deca-f84f-46eb-a06b-ef30c8468c6e\",\"subtype\":\"Figure\",\"type\":\"Plot\"},\"ticker\":{\"id\":\"44493a17-76ef-4593-acfa-25c7ba157891\",\"type\":\"BasicTicker\"}},\"id\":\"a6bd7f91-3a34-4c87-a81a-9d0ba5ef9b8e\",\"type\":\"LinearAxis\"},{\"attributes\":{\"overlay\":{\"id\":\"bc4e9904-14eb-462b-be92-8155b0ab104c\",\"type\":\"BoxAnnotation\"},\"plot\":{\"id\":\"4db8deca-f84f-46eb-a06b-ef30c8468c6e\",\"subtype\":\"Figure\",\"type\":\"Plot\"}},\"id\":\"0b443479-9f90-4005-92b7-4b9ee2db6dcf\",\"type\":\"BoxZoomTool\"},{\"attributes\":{\"plot\":{\"id\":\"4db8deca-f84f-46eb-a06b-ef30c8468c6e\",\"subtype\":\"Figure\",\"type\":\"Plot\"}},\"id\":\"eee67d99-55d8-4d9e-aef7-433cfadb8b26\",\"type\":\"WheelZoomTool\"},{\"attributes\":{\"plot\":{\"id\":\"4db8deca-f84f-46eb-a06b-ef30c8468c6e\",\"subtype\":\"Figure\",\"type\":\"Plot\"}},\"id\":\"fc53e2f0-4600-4fc3-8415-d871139c874f\",\"type\":\"ResetTool\"},{\"attributes\":{\"active_drag\":\"auto\",\"active_scroll\":\"auto\",\"active_tap\":\"auto\",\"tools\":[{\"id\":\"a744bcea-6bc3-475d-a96f-930643b72f6f\",\"type\":\"PanTool\"},{\"id\":\"eee67d99-55d8-4d9e-aef7-433cfadb8b26\",\"type\":\"WheelZoomTool\"},{\"id\":\"0b443479-9f90-4005-92b7-4b9ee2db6dcf\",\"type\":\"BoxZoomTool\"},{\"id\":\"efe77921-7169-4815-a792-8cbde750b70b\",\"type\":\"SaveTool\"},{\"id\":\"fc53e2f0-4600-4fc3-8415-d871139c874f\",\"type\":\"ResetTool\"},{\"id\":\"9e11feae-bf13-4248-9ac8-a9fa97feece1\",\"type\":\"HelpTool\"}]},\"id\":\"d6b9f401-05e2-4b9c-a869-d1e591e952b3\",\"type\":\"Toolbar\"},{\"attributes\":{\"plot\":{\"id\":\"4db8deca-f84f-46eb-a06b-ef30c8468c6e\",\"subtype\":\"Figure\",\"type\":\"Plot\"}},\"id\":\"efe77921-7169-4815-a792-8cbde750b70b\",\"type\":\"SaveTool\"},{\"attributes\":{\"bottom_units\":\"screen\",\"fill_alpha\":{\"value\":0.5},\"fill_color\":{\"value\":\"lightgrey\"},\"left_units\":\"screen\",\"level\":\"overlay\",\"line_alpha\":{\"value\":1.0},\"line_color\":{\"value\":\"black\"},\"line_dash\":[4,4],\"line_width\":{\"value\":2},\"plot\":null,\"render_mode\":\"css\",\"right_units\":\"screen\",\"top_units\":\"screen\"},\"id\":\"bc4e9904-14eb-462b-be92-8155b0ab104c\",\"type\":\"BoxAnnotation\"},{\"attributes\":{\"plot\":null,\"text\":null},\"id\":\"2e03e15a-1f78-42f3-925d-e96dd7d73d22\",\"type\":\"Title\"},{\"attributes\":{\"level\":\"glyph\",\"plot\":{\"id\":\"4db8deca-f84f-46eb-a06b-ef30c8468c6e\",\"subtype\":\"Figure\",\"type\":\"Plot\"},\"source\":{\"id\":\"f61e408d-2da0-426a-a365-e75e0fa6ee0b\",\"type\":\"ColumnDataSource\"},\"text\":{\"field\":\"names\"},\"x\":{\"field\":\"temp\"},\"x_offset\":{\"value\":5},\"y\":{\"field\":\"pressure\"},\"y_offset\":{\"value\":5}},\"id\":\"fd4d0252-1c53-411c-b845-e7b300d7d400\",\"type\":\"LabelSet\"},{\"attributes\":{},\"id\":\"8266482f-4e33-4738-b501-3e20ead67a20\",\"type\":\"BasicTickFormatter\"},{\"attributes\":{\"plot\":{\"id\":\"4db8deca-f84f-46eb-a06b-ef30c8468c6e\",\"subtype\":\"Figure\",\"type\":\"Plot\"}},\"id\":\"a744bcea-6bc3-475d-a96f-930643b72f6f\",\"type\":\"PanTool\"},{\"attributes\":{},\"id\":\"3f521cdb-4dd4-4a34-b0bc-24907dfeaca7\",\"type\":\"BasicTicker\"},{\"attributes\":{\"axis_label\":\"Pressure (lbs)\",\"formatter\":{\"id\":\"c08f1395-4e73-4a73-9c8d-f21e1feb3993\",\"type\":\"BasicTickFormatter\"},\"plot\":{\"id\":\"4db8deca-f84f-46eb-a06b-ef30c8468c6e\",\"subtype\":\"Figure\",\"type\":\"Plot\"},\"ticker\":{\"id\":\"3f521cdb-4dd4-4a34-b0bc-24907dfeaca7\",\"type\":\"BasicTicker\"}},\"id\":\"b1f37e14-860f-456c-8a0a-e810179a42dd\",\"type\":\"LinearAxis\"},{\"attributes\":{},\"id\":\"f62197d7-70d1-4212-b015-b54bc85ba21a\",\"type\":\"ToolEvents\"},{\"attributes\":{\"below\":[{\"id\":\"a6bd7f91-3a34-4c87-a81a-9d0ba5ef9b8e\",\"type\":\"LinearAxis\"}],\"left\":[{\"id\":\"b1f37e14-860f-456c-8a0a-e810179a42dd\",\"type\":\"LinearAxis\"}],\"renderers\":[{\"id\":\"a6bd7f91-3a34-4c87-a81a-9d0ba5ef9b8e\",\"type\":\"LinearAxis\"},{\"id\":\"0a20692c-4ac0-4b56-88ea-21f3b831e54a\",\"type\":\"Grid\"},{\"id\":\"b1f37e14-860f-456c-8a0a-e810179a42dd\",\"type\":\"LinearAxis\"},{\"id\":\"04272d0c-f3fd-4aef-b636-bc314b94999c\",\"type\":\"Grid\"},{\"id\":\"bc4e9904-14eb-462b-be92-8155b0ab104c\",\"type\":\"BoxAnnotation\"},{\"id\":\"a3d4c78b-2fc7-4a01-b79b-43599a0aed34\",\"type\":\"GlyphRenderer\"},{\"id\":\"fd4d0252-1c53-411c-b845-e7b300d7d400\",\"type\":\"LabelSet\"}],\"title\":{\"id\":\"2e03e15a-1f78-42f3-925d-e96dd7d73d22\",\"type\":\"Title\"},\"tool_events\":{\"id\":\"f62197d7-70d1-4212-b015-b54bc85ba21a\",\"type\":\"ToolEvents\"},\"toolbar\":{\"id\":\"d6b9f401-05e2-4b9c-a869-d1e591e952b3\",\"type\":\"Toolbar\"},\"x_range\":{\"id\":\"3a886d16-4f6f-48b1-8d93-43ac24e25a67\",\"type\":\"Range1d\"},\"y_range\":{\"id\":\"7725a450-492b-4818-b002-914726272e5d\",\"type\":\"DataRange1d\"}},\"id\":\"4db8deca-f84f-46eb-a06b-ef30c8468c6e\",\"subtype\":\"Figure\",\"type\":\"Plot\"},{\"attributes\":{\"fill_color\":{\"value\":\"#1f77b4\"},\"line_color\":{\"value\":\"#1f77b4\"},\"size\":{\"units\":\"screen\",\"value\":8},\"x\":{\"field\":\"temp\"},\"y\":{\"field\":\"pressure\"}},\"id\":\"9d9368de-5434-4e20-9e52-c9327ffd4dd4\",\"type\":\"Circle\"},{\"attributes\":{\"callback\":null,\"end\":175,\"start\":160},\"id\":\"3a886d16-4f6f-48b1-8d93-43ac24e25a67\",\"type\":\"Range1d\"},{\"attributes\":{\"fill_alpha\":{\"value\":0.1},\"fill_color\":{\"value\":\"#1f77b4\"},\"line_alpha\":{\"value\":0.1},\"line_color\":{\"value\":\"#1f77b4\"},\"size\":{\"units\":\"screen\",\"value\":8},\"x\":{\"field\":\"temp\"},\"y\":{\"field\":\"pressure\"}},\"id\":\"7b46247f-679c-4623-a3c8-b5756022f020\",\"type\":\"Circle\"},{\"attributes\":{\"plot\":{\"id\":\"4db8deca-f84f-46eb-a06b-ef30c8468c6e\",\"subtype\":\"Figure\",\"type\":\"Plot\"},\"ticker\":{\"id\":\"44493a17-76ef-4593-acfa-25c7ba157891\",\"type\":\"BasicTicker\"}},\"id\":\"0a20692c-4ac0-4b56-88ea-21f3b831e54a\",\"type\":\"Grid\"},{\"attributes\":{\"callback\":null},\"id\":\"7725a450-492b-4818-b002-914726272e5d\",\"type\":\"DataRange1d\"},{\"attributes\":{\"plot\":{\"id\":\"4db8deca-f84f-46eb-a06b-ef30c8468c6e\",\"subtype\":\"Figure\",\"type\":\"Plot\"}},\"id\":\"9e11feae-bf13-4248-9ac8-a9fa97feece1\",\"type\":\"HelpTool\"},{\"attributes\":{\"callback\":null,\"column_names\":[\"pressure\",\"temp\",\"names\"],\"data\":{\"names\":[\"A\",\"B\",\"C\",\"D\",\"E\",\"F\"],\"pressure\":[165,189,220,141,260,174],\"temp\":[166,171,172,168,174,162]}},\"id\":\"f61e408d-2da0-426a-a365-e75e0fa6ee0b\",\"type\":\"ColumnDataSource\"},{\"attributes\":{},\"id\":\"c08f1395-4e73-4a73-9c8d-f21e1feb3993\",\"type\":\"BasicTickFormatter\"}],\"root_ids\":[\"4db8deca-f84f-46eb-a06b-ef30c8468c6e\"]},\"title\":\"Bokeh Application\",\"version\":\"0.12.0\"}};\n",
       "            var render_items = [{\"docid\":\"e7c8b6b9-221d-4460-bfaa-5f028126b9a1\",\"elementid\":\"a9e035f4-afff-4afa-8527-cae3548e0743\",\"modelid\":\"4db8deca-f84f-46eb-a06b-ef30c8468c6e\",\"notebook_comms_target\":\"7c8e8e2a-621b-4e96-b43f-aad3cdae4ff9\"}];\n",
       "            \n",
       "            Bokeh.embed.embed_items(docs_json, render_items);\n",
       "        });\n",
       "      },\n",
       "      function(Bokeh) {\n",
       "      }\n",
       "    ];\n",
       "  \n",
       "    function run_inline_js() {\n",
       "      for (var i = 0; i < inline_js.length; i++) {\n",
       "        inline_js[i](window.Bokeh);\n",
       "      }\n",
       "    }\n",
       "  \n",
       "    if (window._bokeh_is_loading === 0) {\n",
       "      console.log(\"Bokeh: BokehJS loaded, going straight to plotting\");\n",
       "      run_inline_js();\n",
       "    } else {\n",
       "      load_libs(js_urls, function() {\n",
       "        console.log(\"Bokeh: BokehJS plotting callback run at\", now());\n",
       "        run_inline_js();\n",
       "      });\n",
       "    }\n",
       "  }(this));\n",
       "</script>"
      ]
     },
     "metadata": {},
     "output_type": "display_data"
    },
    {
     "data": {
      "text/html": [
       "<p><code>&lt;Bokeh Notebook handle for <strong>In[16]</strong>&gt;</code></p>"
      ],
      "text/plain": [
       "<bokeh.io._CommsHandle at 0x10db57a20>"
      ]
     },
     "execution_count": 16,
     "metadata": {},
     "output_type": "execute_result"
    }
   ],
   "source": [
    "from bokeh.plotting import figure\n",
    "from bokeh.models import ColumnDataSource, LabelSet\n",
    "\n",
    "\n",
    "source = ColumnDataSource(data=dict(\n",
    "    temp=[166, 171, 172, 168, 174, 162],\n",
    "    pressure=[165, 189, 220, 141, 260, 174],\n",
    "    names=['A', 'B', 'C', 'D', 'E', 'F']))\n",
    "\n",
    "p = figure(x_range=(160, 175))\n",
    "p.scatter(x='temp', y='pressure', size=8, source=source)\n",
    "p.xaxis.axis_label = 'Temperature (C)'\n",
    "p.yaxis.axis_label = 'Pressure (lbs)'\n",
    "\n",
    "labels = LabelSet(x='temp', y='pressure', text='names', level='glyph',\n",
    "                  x_offset=5, y_offset=5, source=source, render_mode='canvas')\n",
    "\n",
    "\n",
    "p.add_layout(labels)\n",
    "\n",
    "show(p)"
   ]
  },
  {
   "cell_type": "code",
   "execution_count": 9,
   "metadata": {
    "collapsed": true
   },
   "outputs": [],
   "source": [
    "# EXERCISE: experiment with LabelSet\n",
    "\n"
   ]
  },
  {
   "cell_type": "markdown",
   "metadata": {
    "collapsed": true
   },
   "source": [
    "## Arrows\n",
    "\n",
    "The `Arrow` annotation allows you to \"point\" at different things on your plot, and can be especially useful in conjuction with labels. \n",
    "\n",
    "For example, to create an arrow that points from `(0,0)` to `(1,1)`:\n",
    "\n",
    "```python\n",
    "p.add_layout(Arrow(x_start=0, y_start=0, x_end=1, y_end=0))\n",
    "```\n",
    "\n",
    "This arrow will have the default [`OpenHead`](http://bokeh.pydata.org/en/latest/docs/reference/models/arrow_heads.html#bokeh.models.arrow_heads.OpenHead) arrow head at the end of the arrow. Other kinds of arrow heads include [`NormalHead`](http://bokeh.pydata.org/en/latest/docs/reference/models/arrow_heads.html#bokeh.models.arrow_heads.NormalHead) and [`VeeHead`](http://bokeh.pydata.org/en/latest/docs/reference/models/arrow_heads.html#bokeh.models.arrow_heads.VeeHead). The arrow head type can be controlled by setting the `start` and `end` properties of `Arrow` objects:\n",
    "\n",
    "```python\n",
    "p.add_layout(Arrow(start=OpenHead(), end=VeeHead(), \n",
    "             x_start=0, y_start=0, x_end=1, y_end=0))\n",
    "```\n",
    "\n",
    "This will create a double-ended arrow with an \"open\" head at the start, and a \"vee\" head at the end. Arrowheads have the standard set of line and fill properties to control their appearance. As an example\n",
    "\n",
    "```python\n",
    "OpenHead(line_color=\"firebrick\", line_width=4)\n",
    "```\n",
    "\n",
    "The code and plot below shows several of these configurations together."
   ]
  },
  {
   "cell_type": "code",
   "execution_count": 10,
   "metadata": {
    "collapsed": false
   },
   "outputs": [
    {
     "data": {
      "text/html": [
       "\n",
       "\n",
       "    <div class=\"bk-root\">\n",
       "        <div class=\"plotdiv\" id=\"080e0edd-04cf-4a49-8a62-287c2005cc88\"></div>\n",
       "    </div>\n",
       "<script type=\"text/javascript\">\n",
       "  \n",
       "  (function(global) {\n",
       "    function now() {\n",
       "      return new Date();\n",
       "    }\n",
       "  \n",
       "    if (typeof (window._bokeh_onload_callbacks) === \"undefined\") {\n",
       "      window._bokeh_onload_callbacks = [];\n",
       "    }\n",
       "  \n",
       "    function run_callbacks() {\n",
       "      window._bokeh_onload_callbacks.forEach(function(callback) { callback() });\n",
       "      delete window._bokeh_onload_callbacks\n",
       "      console.info(\"Bokeh: all callbacks have finished\");\n",
       "    }\n",
       "  \n",
       "    function load_libs(js_urls, callback) {\n",
       "      window._bokeh_onload_callbacks.push(callback);\n",
       "      if (window._bokeh_is_loading > 0) {\n",
       "        console.log(\"Bokeh: BokehJS is being loaded, scheduling callback at\", now());\n",
       "        return null;\n",
       "      }\n",
       "      if (js_urls == null || js_urls.length === 0) {\n",
       "        run_callbacks();\n",
       "        return null;\n",
       "      }\n",
       "      console.log(\"Bokeh: BokehJS not loaded, scheduling load and callback at\", now());\n",
       "      window._bokeh_is_loading = js_urls.length;\n",
       "      for (var i = 0; i < js_urls.length; i++) {\n",
       "        var url = js_urls[i];\n",
       "        var s = document.createElement('script');\n",
       "        s.src = url;\n",
       "        s.async = false;\n",
       "        s.onreadystatechange = s.onload = function() {\n",
       "          window._bokeh_is_loading--;\n",
       "          if (window._bokeh_is_loading === 0) {\n",
       "            console.log(\"Bokeh: all BokehJS libraries loaded\");\n",
       "            run_callbacks()\n",
       "          }\n",
       "        };\n",
       "        s.onerror = function() {\n",
       "          console.warn(\"failed to load library \" + url);\n",
       "        };\n",
       "        console.log(\"Bokeh: injecting script tag for BokehJS library: \", url);\n",
       "        document.getElementsByTagName(\"head\")[0].appendChild(s);\n",
       "      }\n",
       "    };var element = document.getElementById(\"080e0edd-04cf-4a49-8a62-287c2005cc88\");\n",
       "    if (element == null) {\n",
       "      console.log(\"Bokeh: ERROR: autoload.js configured with elementid '080e0edd-04cf-4a49-8a62-287c2005cc88' but no matching script tag was found. \")\n",
       "      return false;\n",
       "    }\n",
       "  \n",
       "    var js_urls = [];\n",
       "  \n",
       "    var inline_js = [\n",
       "      function(Bokeh) {\n",
       "        Bokeh.$(function() {\n",
       "            var docs_json = {\"1daa5755-db90-4ab7-833c-6ec6c4764f71\":{\"roots\":{\"references\":[{\"attributes\":{},\"id\":\"0417e4f9-933a-4fe4-aa24-7fea6ea22815\",\"type\":\"BasicTickFormatter\"},{\"attributes\":{\"plot\":{\"id\":\"577e7185-5401-4e4e-8396-1b6b849474b0\",\"subtype\":\"Figure\",\"type\":\"Plot\"}},\"id\":\"c0ca6b03-5195-41e2-af06-966904645121\",\"type\":\"PanTool\"},{\"attributes\":{\"plot\":{\"id\":\"577e7185-5401-4e4e-8396-1b6b849474b0\",\"subtype\":\"Figure\",\"type\":\"Plot\"}},\"id\":\"465cca9a-e06c-4a6a-97bf-2a441f9ee11e\",\"type\":\"HelpTool\"},{\"attributes\":{\"callback\":null},\"id\":\"cd996a11-2cae-440f-9187-cade6e68c9a3\",\"type\":\"DataRange1d\"},{\"attributes\":{\"below\":[{\"id\":\"ac86cc6a-f182-4e76-a182-6cd88fdffd10\",\"type\":\"LinearAxis\"}],\"left\":[{\"id\":\"5ca42029-e142-474a-aa6c-6fc133f1763c\",\"type\":\"LinearAxis\"}],\"renderers\":[{\"id\":\"ac86cc6a-f182-4e76-a182-6cd88fdffd10\",\"type\":\"LinearAxis\"},{\"id\":\"7e84af62-4045-40cf-bd0e-29d7c5cad623\",\"type\":\"Grid\"},{\"id\":\"5ca42029-e142-474a-aa6c-6fc133f1763c\",\"type\":\"LinearAxis\"},{\"id\":\"cc83b405-78bd-42e4-8a72-729bb228da48\",\"type\":\"Grid\"},{\"id\":\"0269eec8-619f-4f81-b976-b25907b62d9c\",\"type\":\"BoxAnnotation\"},{\"id\":\"45c4d2db-8cfb-4e10-adc5-2ae7352ff53b\",\"type\":\"GlyphRenderer\"},{\"id\":\"2b5a5ee8-9e64-41cc-a41b-add58e44ebae\",\"type\":\"Arrow\"},{\"id\":\"7e840147-06b7-4a6a-ab90-9aebb373cf93\",\"type\":\"Arrow\"},{\"id\":\"4f09426d-ffa4-4cb5-8b5e-b9e0b65c29ed\",\"type\":\"Arrow\"}],\"title\":{\"id\":\"093a7508-0ea0-44e4-84fc-1df9c3be9005\",\"type\":\"Title\"},\"tool_events\":{\"id\":\"19b26760-0dd0-4a10-861a-8fbd32d6f62c\",\"type\":\"ToolEvents\"},\"toolbar\":{\"id\":\"be9e0beb-4291-45c7-a9f9-db452251bd13\",\"type\":\"Toolbar\"},\"x_range\":{\"id\":\"cd996a11-2cae-440f-9187-cade6e68c9a3\",\"type\":\"DataRange1d\"},\"y_range\":{\"id\":\"57f6c80e-cb6e-4b1d-ad25-1fd7f69052ca\",\"type\":\"DataRange1d\"}},\"id\":\"577e7185-5401-4e4e-8396-1b6b849474b0\",\"subtype\":\"Figure\",\"type\":\"Plot\"},{\"attributes\":{},\"id\":\"7f887ed4-f7f2-4b69-83a4-f8643579fd76\",\"type\":\"BasicTickFormatter\"},{\"attributes\":{\"plot\":null,\"size\":35},\"id\":\"1340df9c-c9a1-43a3-b978-7de93c5afdaa\",\"type\":\"VeeHead\"},{\"attributes\":{\"plot\":null,\"text\":null},\"id\":\"093a7508-0ea0-44e4-84fc-1df9c3be9005\",\"type\":\"Title\"},{\"attributes\":{\"active_drag\":\"auto\",\"active_scroll\":\"auto\",\"active_tap\":\"auto\",\"tools\":[{\"id\":\"c0ca6b03-5195-41e2-af06-966904645121\",\"type\":\"PanTool\"},{\"id\":\"fcd1fa53-1723-400a-b373-6e9481617008\",\"type\":\"WheelZoomTool\"},{\"id\":\"4326738f-bd93-422d-b87e-d227fe1d02a2\",\"type\":\"BoxZoomTool\"},{\"id\":\"3ef543fe-45c6-40d0-8b94-8a5dc0642961\",\"type\":\"SaveTool\"},{\"id\":\"9c0ebb91-3f39-4227-9c3d-5bbdc953d7cf\",\"type\":\"ResetTool\"},{\"id\":\"465cca9a-e06c-4a6a-97bf-2a441f9ee11e\",\"type\":\"HelpTool\"}]},\"id\":\"be9e0beb-4291-45c7-a9f9-db452251bd13\",\"type\":\"Toolbar\"},{\"attributes\":{\"callback\":null},\"id\":\"57f6c80e-cb6e-4b1d-ad25-1fd7f69052ca\",\"type\":\"DataRange1d\"},{\"attributes\":{\"data_source\":{\"id\":\"a24e9859-45c5-4415-82a4-7e0bc89f8cdb\",\"type\":\"ColumnDataSource\"},\"glyph\":{\"id\":\"1a84356a-dd1c-46bb-a60b-cdfdfe48cb8e\",\"type\":\"Circle\"},\"hover_glyph\":null,\"nonselection_glyph\":{\"id\":\"19a74574-7e1c-4b64-b9fe-bdb2356cbd91\",\"type\":\"Circle\"},\"selection_glyph\":null},\"id\":\"45c4d2db-8cfb-4e10-adc5-2ae7352ff53b\",\"type\":\"GlyphRenderer\"},{\"attributes\":{\"end\":{\"id\":\"1b2f52fb-0c0a-4aad-b8de-5ec0a4139184\",\"type\":\"OpenHead\"},\"plot\":{\"id\":\"577e7185-5401-4e4e-8396-1b6b849474b0\",\"subtype\":\"Figure\",\"type\":\"Plot\"},\"source\":null,\"start\":null,\"x_end\":{\"value\":1},\"x_start\":{\"value\":0},\"y_end\":{\"value\":0},\"y_start\":{\"value\":0}},\"id\":\"2b5a5ee8-9e64-41cc-a41b-add58e44ebae\",\"type\":\"Arrow\"},{\"attributes\":{\"plot\":{\"id\":\"577e7185-5401-4e4e-8396-1b6b849474b0\",\"subtype\":\"Figure\",\"type\":\"Plot\"}},\"id\":\"fcd1fa53-1723-400a-b373-6e9481617008\",\"type\":\"WheelZoomTool\"},{\"attributes\":{\"fill_alpha\":{\"value\":0.1},\"fill_color\":{\"field\":\"fill_color\"},\"line_color\":{\"field\":\"line_color\"},\"radius\":{\"units\":\"data\",\"value\":0.1},\"x\":{\"field\":\"x\"},\"y\":{\"field\":\"y\"}},\"id\":\"1a84356a-dd1c-46bb-a60b-cdfdfe48cb8e\",\"type\":\"Circle\"},{\"attributes\":{},\"id\":\"d6dd1e5e-1059-41be-8be1-6c3783ed1cda\",\"type\":\"BasicTicker\"},{\"attributes\":{\"dimension\":1,\"plot\":{\"id\":\"577e7185-5401-4e4e-8396-1b6b849474b0\",\"subtype\":\"Figure\",\"type\":\"Plot\"},\"ticker\":{\"id\":\"9a373dde-7b93-4a9e-b20d-f0c6864b3783\",\"type\":\"BasicTicker\"}},\"id\":\"cc83b405-78bd-42e4-8a72-729bb228da48\",\"type\":\"Grid\"},{\"attributes\":{},\"id\":\"19b26760-0dd0-4a10-861a-8fbd32d6f62c\",\"type\":\"ToolEvents\"},{\"attributes\":{\"formatter\":{\"id\":\"0417e4f9-933a-4fe4-aa24-7fea6ea22815\",\"type\":\"BasicTickFormatter\"},\"plot\":{\"id\":\"577e7185-5401-4e4e-8396-1b6b849474b0\",\"subtype\":\"Figure\",\"type\":\"Plot\"},\"ticker\":{\"id\":\"9a373dde-7b93-4a9e-b20d-f0c6864b3783\",\"type\":\"BasicTicker\"}},\"id\":\"5ca42029-e142-474a-aa6c-6fc133f1763c\",\"type\":\"LinearAxis\"},{\"attributes\":{\"fill_alpha\":{\"value\":0.1},\"fill_color\":{\"value\":\"#1f77b4\"},\"line_alpha\":{\"value\":0.1},\"line_color\":{\"value\":\"#1f77b4\"},\"radius\":{\"units\":\"data\",\"value\":0.1},\"x\":{\"field\":\"x\"},\"y\":{\"field\":\"y\"}},\"id\":\"19a74574-7e1c-4b64-b9fe-bdb2356cbd91\",\"type\":\"Circle\"},{\"attributes\":{\"callback\":null,\"column_names\":[\"y\",\"x\",\"fill_color\",\"line_color\"],\"data\":{\"fill_color\":[\"navy\",\"yellow\",\"red\"],\"line_color\":[\"navy\",\"yellow\",\"red\"],\"x\":[0.0,1.0,0.5],\"y\":[0.0,0.0,0.7]}},\"id\":\"a24e9859-45c5-4415-82a4-7e0bc89f8cdb\",\"type\":\"ColumnDataSource\"},{\"attributes\":{\"overlay\":{\"id\":\"0269eec8-619f-4f81-b976-b25907b62d9c\",\"type\":\"BoxAnnotation\"},\"plot\":{\"id\":\"577e7185-5401-4e4e-8396-1b6b849474b0\",\"subtype\":\"Figure\",\"type\":\"Plot\"}},\"id\":\"4326738f-bd93-422d-b87e-d227fe1d02a2\",\"type\":\"BoxZoomTool\"},{\"attributes\":{\"end\":{\"id\":\"fb7e61c9-b6e4-4d1a-9ab8-0b9645fafa58\",\"type\":\"NormalHead\"},\"plot\":{\"id\":\"577e7185-5401-4e4e-8396-1b6b849474b0\",\"subtype\":\"Figure\",\"type\":\"Plot\"},\"source\":null,\"start\":null,\"x_end\":{\"value\":0.5},\"x_start\":{\"value\":1},\"y_end\":{\"value\":0.7},\"y_start\":{\"value\":0}},\"id\":\"7e840147-06b7-4a6a-ab90-9aebb373cf93\",\"type\":\"Arrow\"},{\"attributes\":{\"fill_color\":{\"value\":\"orange\"},\"plot\":null},\"id\":\"fb7e61c9-b6e4-4d1a-9ab8-0b9645fafa58\",\"type\":\"NormalHead\"},{\"attributes\":{\"plot\":{\"id\":\"577e7185-5401-4e4e-8396-1b6b849474b0\",\"subtype\":\"Figure\",\"type\":\"Plot\"},\"ticker\":{\"id\":\"d6dd1e5e-1059-41be-8be1-6c3783ed1cda\",\"type\":\"BasicTicker\"}},\"id\":\"7e84af62-4045-40cf-bd0e-29d7c5cad623\",\"type\":\"Grid\"},{\"attributes\":{\"plot\":{\"id\":\"577e7185-5401-4e4e-8396-1b6b849474b0\",\"subtype\":\"Figure\",\"type\":\"Plot\"}},\"id\":\"3ef543fe-45c6-40d0-8b94-8a5dc0642961\",\"type\":\"SaveTool\"},{\"attributes\":{},\"id\":\"9a373dde-7b93-4a9e-b20d-f0c6864b3783\",\"type\":\"BasicTicker\"},{\"attributes\":{\"formatter\":{\"id\":\"7f887ed4-f7f2-4b69-83a4-f8643579fd76\",\"type\":\"BasicTickFormatter\"},\"plot\":{\"id\":\"577e7185-5401-4e4e-8396-1b6b849474b0\",\"subtype\":\"Figure\",\"type\":\"Plot\"},\"ticker\":{\"id\":\"d6dd1e5e-1059-41be-8be1-6c3783ed1cda\",\"type\":\"BasicTicker\"}},\"id\":\"ac86cc6a-f182-4e76-a182-6cd88fdffd10\",\"type\":\"LinearAxis\"},{\"attributes\":{\"end\":{\"id\":\"1340df9c-c9a1-43a3-b978-7de93c5afdaa\",\"type\":\"VeeHead\"},\"line_color\":{\"value\":\"red\"},\"plot\":{\"id\":\"577e7185-5401-4e4e-8396-1b6b849474b0\",\"subtype\":\"Figure\",\"type\":\"Plot\"},\"source\":null,\"start\":null,\"x_end\":{\"value\":0},\"x_start\":{\"value\":0.5},\"y_end\":{\"value\":0},\"y_start\":{\"value\":0.7}},\"id\":\"4f09426d-ffa4-4cb5-8b5e-b9e0b65c29ed\",\"type\":\"Arrow\"},{\"attributes\":{\"bottom_units\":\"screen\",\"fill_alpha\":{\"value\":0.5},\"fill_color\":{\"value\":\"lightgrey\"},\"left_units\":\"screen\",\"level\":\"overlay\",\"line_alpha\":{\"value\":1.0},\"line_color\":{\"value\":\"black\"},\"line_dash\":[4,4],\"line_width\":{\"value\":2},\"plot\":null,\"render_mode\":\"css\",\"right_units\":\"screen\",\"top_units\":\"screen\"},\"id\":\"0269eec8-619f-4f81-b976-b25907b62d9c\",\"type\":\"BoxAnnotation\"},{\"attributes\":{\"line_color\":{\"value\":\"firebrick\"},\"line_width\":{\"value\":4},\"plot\":null},\"id\":\"1b2f52fb-0c0a-4aad-b8de-5ec0a4139184\",\"type\":\"OpenHead\"},{\"attributes\":{\"plot\":{\"id\":\"577e7185-5401-4e4e-8396-1b6b849474b0\",\"subtype\":\"Figure\",\"type\":\"Plot\"}},\"id\":\"9c0ebb91-3f39-4227-9c3d-5bbdc953d7cf\",\"type\":\"ResetTool\"}],\"root_ids\":[\"577e7185-5401-4e4e-8396-1b6b849474b0\"]},\"title\":\"Bokeh Application\",\"version\":\"0.12.0\"}};\n",
       "            var render_items = [{\"docid\":\"1daa5755-db90-4ab7-833c-6ec6c4764f71\",\"elementid\":\"080e0edd-04cf-4a49-8a62-287c2005cc88\",\"modelid\":\"577e7185-5401-4e4e-8396-1b6b849474b0\",\"notebook_comms_target\":\"815e4142-ab67-4963-afcc-d68bcea8c665\"}];\n",
       "            \n",
       "            Bokeh.embed.embed_items(docs_json, render_items);\n",
       "        });\n",
       "      },\n",
       "      function(Bokeh) {\n",
       "      }\n",
       "    ];\n",
       "  \n",
       "    function run_inline_js() {\n",
       "      for (var i = 0; i < inline_js.length; i++) {\n",
       "        inline_js[i](window.Bokeh);\n",
       "      }\n",
       "    }\n",
       "  \n",
       "    if (window._bokeh_is_loading === 0) {\n",
       "      console.log(\"Bokeh: BokehJS loaded, going straight to plotting\");\n",
       "      run_inline_js();\n",
       "    } else {\n",
       "      load_libs(js_urls, function() {\n",
       "        console.log(\"Bokeh: BokehJS plotting callback run at\", now());\n",
       "        run_inline_js();\n",
       "      });\n",
       "    }\n",
       "  }(this));\n",
       "</script>"
      ]
     },
     "metadata": {},
     "output_type": "display_data"
    },
    {
     "data": {
      "text/html": [
       "<p><code>&lt;Bokeh Notebook handle for <strong>In[10]</strong>&gt;</code></p>"
      ],
      "text/plain": [
       "<bokeh.io._CommsHandle at 0x10db0a9e8>"
      ]
     },
     "execution_count": 10,
     "metadata": {},
     "output_type": "execute_result"
    }
   ],
   "source": [
    "from bokeh.models.annotations import Arrow\n",
    "from bokeh.models.arrow_heads import OpenHead, NormalHead, VeeHead\n",
    "\n",
    "p = figure(plot_width=600, plot_height=600)\n",
    "\n",
    "p.circle(x=[0, 1, 0.5], y=[0, 0, 0.7], radius=0.1,\n",
    "         color=[\"navy\", \"yellow\", \"red\"], fill_alpha=0.1)\n",
    "\n",
    "p.add_layout(Arrow(end=OpenHead(line_color=\"firebrick\", line_width=4),\n",
    "                   x_start=0, y_start=0, x_end=1, y_end=0))\n",
    "\n",
    "p.add_layout(Arrow(end=NormalHead(fill_color=\"orange\"),\n",
    "                   x_start=1, y_start=0, x_end=0.5, y_end=0.7))\n",
    "\n",
    "p.add_layout(Arrow(end=VeeHead(size=35), line_color=\"red\",\n",
    "                   x_start=0.5, y_start=0.7, x_end=0, y_end=0))\n",
    "\n",
    "show(p)"
   ]
  },
  {
   "cell_type": "code",
   "execution_count": 11,
   "metadata": {
    "collapsed": true
   },
   "outputs": [],
   "source": [
    "# EXERCISE: experiment with arrows and arrow heads\n",
    "\n"
   ]
  },
  {
   "cell_type": "code",
   "execution_count": null,
   "metadata": {
    "collapsed": true
   },
   "outputs": [],
   "source": []
  }
 ],
 "metadata": {
  "kernelspec": {
   "display_name": "Python 3",
   "language": "python",
   "name": "python3"
  },
  "language_info": {
   "codemirror_mode": {
    "name": "ipython",
    "version": 3
   },
   "file_extension": ".py",
   "mimetype": "text/x-python",
   "name": "python",
   "nbconvert_exporter": "python",
   "pygments_lexer": "ipython3",
   "version": "3.5.1"
  }
 },
 "nbformat": 4,
 "nbformat_minor": 0
}
