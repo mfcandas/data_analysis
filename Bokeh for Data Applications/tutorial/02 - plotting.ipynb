{
 "cells": [
  {
   "cell_type": "markdown",
   "metadata": {
    "collapsed": true
   },
   "source": [
    "<table style=\"float:left; border:none\">\n",
    "   <tr style=\"border:none\">\n",
    "       <td style=\"border:none\">\n",
    "           <a href=\"http://bokeh.pydata.org/\">     \n",
    "           <img \n",
    "               src=\"assets/images/bokeh-transparent.png\" \n",
    "               style=\"width:50px\"\n",
    "           >\n",
    "           </a>    \n",
    "       </td>\n",
    "       <td style=\"border:none\">\n",
    "           <h1>Bokeh Tutorial</h1>\n",
    "       </td>\n",
    "   </tr>\n",
    "</table>\n",
    "\n",
    "<div style=\"float:right;\"><h2>02. Basic Plotting Interface</h2></div>"
   ]
  },
  {
   "cell_type": "markdown",
   "metadata": {},
   "source": [
    "This section of the tutorial covers the [`bokeh.plotting`](http://bokeh.pydata.org/en/latest/docs/user_guide/plotting.html) \n",
    "interface. This interface is a \"mid-level\" interface, and the main idea can be described by the statement:\n",
    "\n",
    "**Starting from simple default figures (with sensible default tools, grids and axes), add markers and other shapes whose visual attributes are tied to directly data.**\n",
    "\n",
    "We will see that it is possible to customize and change all of the defaults, but having them means that it is possible to get up and running very quickly. "
   ]
  },
  {
   "cell_type": "markdown",
   "metadata": {},
   "source": [
    "# Imports and Setup\n",
    "\n",
    "When using the [`bokeh.plotting`](http://bokeh.pydata.org/en/latest/docs/user_guide/plotting.html) interface, there are a few common imports:\n",
    "* Use the [`figure`](http://bokeh.pydata.org/en/latest/docs/reference/plotting.html#bokeh.plotting.figure) function to  create new plot objects to work with. \n",
    "* Call the functions [`output_file`](http://bokeh.pydata.org/en/latest/docs/reference/resources_embedding.html#bokeh.io.output_file), [`output_notebook`](http://bokeh.pydata.org/en/latest/docs/reference/resources_embedding.html#bokeh.io.output_notebook), and [`output_server`](http://bokeh.pydata.org/en/latest/docs/reference/resources_embedding.html#bokeh.io.output_server) (possibly in combination) to tell Bokeh how to display or save output. \n",
    "* Execute [`show`](http://bokeh.pydata.org/en/latest/docs/reference/resources_embedding.html#bokeh.io.show) and  [`save`](http://bokeh.pydata.org/en/latest/docs/reference/resources_embedding.html#bokeh.io.save) to display or save plots and layouts."
   ]
  },
  {
   "cell_type": "code",
   "execution_count": 1,
   "metadata": {
    "collapsed": false
   },
   "outputs": [],
   "source": [
    "from bokeh.io import output_notebook, show\n",
    "from bokeh.plotting import figure"
   ]
  },
  {
   "cell_type": "markdown",
   "metadata": {},
   "source": [
    "In this case, we are in the Jupyter notebook, so call `output_notebook()`. We only need to call this once, and all subsequent calls to `show()` will display inline in the notebook."
   ]
  },
  {
   "cell_type": "code",
   "execution_count": 2,
   "metadata": {
    "collapsed": false
   },
   "outputs": [
    {
     "data": {
      "text/html": [
       "\n",
       "    <div class=\"bk-root\">\n",
       "        <a href=\"http://bokeh.pydata.org\" target=\"_blank\" class=\"bk-logo bk-logo-small bk-logo-notebook\"></a>\n",
       "        <span id=\"06db9cb8-c544-4198-baf3-056e63a3faae\">Loading BokehJS ...</span>\n",
       "    </div>"
      ]
     },
     "metadata": {},
     "output_type": "display_data"
    },
    {
     "data": {
      "application/javascript": [
       "\n",
       "(function(global) {\n",
       "  function now() {\n",
       "    return new Date();\n",
       "  }\n",
       "\n",
       "  if (typeof (window._bokeh_onload_callbacks) === \"undefined\") {\n",
       "    window._bokeh_onload_callbacks = [];\n",
       "  }\n",
       "\n",
       "  function run_callbacks() {\n",
       "    window._bokeh_onload_callbacks.forEach(function(callback) { callback() });\n",
       "    delete window._bokeh_onload_callbacks\n",
       "    console.info(\"Bokeh: all callbacks have finished\");\n",
       "  }\n",
       "\n",
       "  function load_libs(js_urls, callback) {\n",
       "    window._bokeh_onload_callbacks.push(callback);\n",
       "    if (window._bokeh_is_loading > 0) {\n",
       "      console.log(\"Bokeh: BokehJS is being loaded, scheduling callback at\", now());\n",
       "      return null;\n",
       "    }\n",
       "    if (js_urls == null || js_urls.length === 0) {\n",
       "      run_callbacks();\n",
       "      return null;\n",
       "    }\n",
       "    console.log(\"Bokeh: BokehJS not loaded, scheduling load and callback at\", now());\n",
       "    window._bokeh_is_loading = js_urls.length;\n",
       "    for (var i = 0; i < js_urls.length; i++) {\n",
       "      var url = js_urls[i];\n",
       "      var s = document.createElement('script');\n",
       "      s.src = url;\n",
       "      s.async = false;\n",
       "      s.onreadystatechange = s.onload = function() {\n",
       "        window._bokeh_is_loading--;\n",
       "        if (window._bokeh_is_loading === 0) {\n",
       "          console.log(\"Bokeh: all BokehJS libraries loaded\");\n",
       "          run_callbacks()\n",
       "        }\n",
       "      };\n",
       "      s.onerror = function() {\n",
       "        console.warn(\"failed to load library \" + url);\n",
       "      };\n",
       "      console.log(\"Bokeh: injecting script tag for BokehJS library: \", url);\n",
       "      document.getElementsByTagName(\"head\")[0].appendChild(s);\n",
       "    }\n",
       "  };\n",
       "\n",
       "  var js_urls = ['https://cdn.pydata.org/bokeh/release/bokeh-0.12.0.min.js', 'https://cdn.pydata.org/bokeh/release/bokeh-widgets-0.12.0.min.js', 'https://cdn.pydata.org/bokeh/release/bokeh-compiler-0.12.0.min.js'];\n",
       "\n",
       "  var inline_js = [\n",
       "    function(Bokeh) {\n",
       "      Bokeh.set_log_level(\"info\");\n",
       "    },\n",
       "    \n",
       "    function(Bokeh) {\n",
       "      Bokeh.$(\"#06db9cb8-c544-4198-baf3-056e63a3faae\").text(\"BokehJS successfully loaded\");\n",
       "    },\n",
       "    function(Bokeh) {\n",
       "      console.log(\"Bokeh: injecting CSS: https://cdn.pydata.org/bokeh/release/bokeh-0.12.0.min.css\");\n",
       "      Bokeh.embed.inject_css(\"https://cdn.pydata.org/bokeh/release/bokeh-0.12.0.min.css\");\n",
       "      console.log(\"Bokeh: injecting CSS: https://cdn.pydata.org/bokeh/release/bokeh-widgets-0.12.0.min.css\");\n",
       "      Bokeh.embed.inject_css(\"https://cdn.pydata.org/bokeh/release/bokeh-widgets-0.12.0.min.css\");\n",
       "    }\n",
       "  ];\n",
       "\n",
       "  function run_inline_js() {\n",
       "    for (var i = 0; i < inline_js.length; i++) {\n",
       "      inline_js[i](window.Bokeh);\n",
       "    }\n",
       "  }\n",
       "\n",
       "  if (window._bokeh_is_loading === 0) {\n",
       "    console.log(\"Bokeh: BokehJS loaded, going straight to plotting\");\n",
       "    run_inline_js();\n",
       "  } else {\n",
       "    load_libs(js_urls, function() {\n",
       "      console.log(\"Bokeh: BokehJS plotting callback run at\", now());\n",
       "      run_inline_js();\n",
       "    });\n",
       "  }\n",
       "}(this));"
      ]
     },
     "metadata": {},
     "output_type": "display_data"
    }
   ],
   "source": [
    "output_notebook()"
   ]
  },
  {
   "cell_type": "markdown",
   "metadata": {},
   "source": [
    "# Some Basic Scatter Plots\n",
    "\n",
    "In this section you will see how to use Bokeh's various marker types to create simple scatter plots. "
   ]
  },
  {
   "cell_type": "code",
   "execution_count": 3,
   "metadata": {
    "collapsed": false
   },
   "outputs": [
    {
     "data": {
      "text/html": [
       "\n",
       "\n",
       "    <div class=\"bk-root\">\n",
       "        <div class=\"plotdiv\" id=\"2ac7649a-935a-464c-981f-d1879f9e5672\"></div>\n",
       "    </div>\n",
       "<script type=\"text/javascript\">\n",
       "  \n",
       "  (function(global) {\n",
       "    function now() {\n",
       "      return new Date();\n",
       "    }\n",
       "  \n",
       "    if (typeof (window._bokeh_onload_callbacks) === \"undefined\") {\n",
       "      window._bokeh_onload_callbacks = [];\n",
       "    }\n",
       "  \n",
       "    function run_callbacks() {\n",
       "      window._bokeh_onload_callbacks.forEach(function(callback) { callback() });\n",
       "      delete window._bokeh_onload_callbacks\n",
       "      console.info(\"Bokeh: all callbacks have finished\");\n",
       "    }\n",
       "  \n",
       "    function load_libs(js_urls, callback) {\n",
       "      window._bokeh_onload_callbacks.push(callback);\n",
       "      if (window._bokeh_is_loading > 0) {\n",
       "        console.log(\"Bokeh: BokehJS is being loaded, scheduling callback at\", now());\n",
       "        return null;\n",
       "      }\n",
       "      if (js_urls == null || js_urls.length === 0) {\n",
       "        run_callbacks();\n",
       "        return null;\n",
       "      }\n",
       "      console.log(\"Bokeh: BokehJS not loaded, scheduling load and callback at\", now());\n",
       "      window._bokeh_is_loading = js_urls.length;\n",
       "      for (var i = 0; i < js_urls.length; i++) {\n",
       "        var url = js_urls[i];\n",
       "        var s = document.createElement('script');\n",
       "        s.src = url;\n",
       "        s.async = false;\n",
       "        s.onreadystatechange = s.onload = function() {\n",
       "          window._bokeh_is_loading--;\n",
       "          if (window._bokeh_is_loading === 0) {\n",
       "            console.log(\"Bokeh: all BokehJS libraries loaded\");\n",
       "            run_callbacks()\n",
       "          }\n",
       "        };\n",
       "        s.onerror = function() {\n",
       "          console.warn(\"failed to load library \" + url);\n",
       "        };\n",
       "        console.log(\"Bokeh: injecting script tag for BokehJS library: \", url);\n",
       "        document.getElementsByTagName(\"head\")[0].appendChild(s);\n",
       "      }\n",
       "    };var element = document.getElementById(\"2ac7649a-935a-464c-981f-d1879f9e5672\");\n",
       "    if (element == null) {\n",
       "      console.log(\"Bokeh: ERROR: autoload.js configured with elementid '2ac7649a-935a-464c-981f-d1879f9e5672' but no matching script tag was found. \")\n",
       "      return false;\n",
       "    }\n",
       "  \n",
       "    var js_urls = [];\n",
       "  \n",
       "    var inline_js = [\n",
       "      function(Bokeh) {\n",
       "        Bokeh.$(function() {\n",
       "            var docs_json = {\"f64e491a-4651-4f85-8a57-49b41de880ab\":{\"roots\":{\"references\":[{\"attributes\":{\"below\":[{\"id\":\"678001ed-b393-41b6-a60e-ba82124f1a8d\",\"type\":\"LinearAxis\"}],\"left\":[{\"id\":\"4b6a63ba-57fb-464a-9f49-3f5360b52495\",\"type\":\"LinearAxis\"}],\"plot_height\":400,\"plot_width\":400,\"renderers\":[{\"id\":\"678001ed-b393-41b6-a60e-ba82124f1a8d\",\"type\":\"LinearAxis\"},{\"id\":\"4fcf15c2-5b59-4c02-965a-2a5375d2301d\",\"type\":\"Grid\"},{\"id\":\"4b6a63ba-57fb-464a-9f49-3f5360b52495\",\"type\":\"LinearAxis\"},{\"id\":\"f2b27690-a35c-4ea6-8d85-3f39f9813987\",\"type\":\"Grid\"},{\"id\":\"76584462-fb3e-4cc9-a010-d356afa5358b\",\"type\":\"BoxAnnotation\"},{\"id\":\"f6a97390-8d07-43c0-b751-803f932fd882\",\"type\":\"GlyphRenderer\"}],\"title\":{\"id\":\"cf199224-7075-47df-9f84-d9dba7861680\",\"type\":\"Title\"},\"tool_events\":{\"id\":\"d60c3e8f-0d11-4373-94d7-d4533ec62575\",\"type\":\"ToolEvents\"},\"toolbar\":{\"id\":\"f30b39ad-6139-447f-a7b0-b031cc35510c\",\"type\":\"Toolbar\"},\"x_range\":{\"id\":\"d1ff9057-efa3-4717-8f29-75a0c0e2f6e2\",\"type\":\"DataRange1d\"},\"y_range\":{\"id\":\"39da2bce-3bc5-4b9d-af51-0a9356f60743\",\"type\":\"DataRange1d\"}},\"id\":\"08407d31-2517-450a-8320-2ea6982ddd51\",\"subtype\":\"Figure\",\"type\":\"Plot\"},{\"attributes\":{},\"id\":\"74811354-a689-4135-aad4-5b451cfd0787\",\"type\":\"BasicTickFormatter\"},{\"attributes\":{\"callback\":null},\"id\":\"d1ff9057-efa3-4717-8f29-75a0c0e2f6e2\",\"type\":\"DataRange1d\"},{\"attributes\":{\"plot\":{\"id\":\"08407d31-2517-450a-8320-2ea6982ddd51\",\"subtype\":\"Figure\",\"type\":\"Plot\"},\"ticker\":{\"id\":\"98aab57d-cad6-47ec-a148-38720b4150b4\",\"type\":\"BasicTicker\"}},\"id\":\"4fcf15c2-5b59-4c02-965a-2a5375d2301d\",\"type\":\"Grid\"},{\"attributes\":{\"data_source\":{\"id\":\"ecc40f72-bcb4-4131-9d60-6a736e375bc9\",\"type\":\"ColumnDataSource\"},\"glyph\":{\"id\":\"f9d5a816-5bbc-4eda-b405-c85f0dcb33c3\",\"type\":\"Circle\"},\"hover_glyph\":null,\"nonselection_glyph\":{\"id\":\"077d7158-9329-4921-9996-a51592079de3\",\"type\":\"Circle\"},\"selection_glyph\":null},\"id\":\"f6a97390-8d07-43c0-b751-803f932fd882\",\"type\":\"GlyphRenderer\"},{\"attributes\":{\"callback\":null},\"id\":\"39da2bce-3bc5-4b9d-af51-0a9356f60743\",\"type\":\"DataRange1d\"},{\"attributes\":{},\"id\":\"0beb7169-bde0-4685-92b9-2c572f6a43cc\",\"type\":\"BasicTicker\"},{\"attributes\":{\"plot\":{\"id\":\"08407d31-2517-450a-8320-2ea6982ddd51\",\"subtype\":\"Figure\",\"type\":\"Plot\"}},\"id\":\"a0d8cfc9-ceaf-480e-a256-a538a2691e58\",\"type\":\"ResetTool\"},{\"attributes\":{},\"id\":\"98aab57d-cad6-47ec-a148-38720b4150b4\",\"type\":\"BasicTicker\"},{\"attributes\":{\"plot\":{\"id\":\"08407d31-2517-450a-8320-2ea6982ddd51\",\"subtype\":\"Figure\",\"type\":\"Plot\"}},\"id\":\"406fafb4-9c40-4f2e-9ee6-66bb9029ef5c\",\"type\":\"PanTool\"},{\"attributes\":{\"formatter\":{\"id\":\"ccbd6151-ac76-4c12-a682-c3a7b86dcc1c\",\"type\":\"BasicTickFormatter\"},\"plot\":{\"id\":\"08407d31-2517-450a-8320-2ea6982ddd51\",\"subtype\":\"Figure\",\"type\":\"Plot\"},\"ticker\":{\"id\":\"98aab57d-cad6-47ec-a148-38720b4150b4\",\"type\":\"BasicTicker\"}},\"id\":\"678001ed-b393-41b6-a60e-ba82124f1a8d\",\"type\":\"LinearAxis\"},{\"attributes\":{},\"id\":\"d60c3e8f-0d11-4373-94d7-d4533ec62575\",\"type\":\"ToolEvents\"},{\"attributes\":{\"dimension\":1,\"plot\":{\"id\":\"08407d31-2517-450a-8320-2ea6982ddd51\",\"subtype\":\"Figure\",\"type\":\"Plot\"},\"ticker\":{\"id\":\"0beb7169-bde0-4685-92b9-2c572f6a43cc\",\"type\":\"BasicTicker\"}},\"id\":\"f2b27690-a35c-4ea6-8d85-3f39f9813987\",\"type\":\"Grid\"},{\"attributes\":{\"fill_alpha\":{\"value\":0.5},\"fill_color\":{\"value\":\"orange\"},\"line_color\":{\"value\":\"navy\"},\"size\":{\"units\":\"screen\",\"value\":15},\"x\":{\"field\":\"x\"},\"y\":{\"field\":\"y\"}},\"id\":\"f9d5a816-5bbc-4eda-b405-c85f0dcb33c3\",\"type\":\"Circle\"},{\"attributes\":{\"bottom_units\":\"screen\",\"fill_alpha\":{\"value\":0.5},\"fill_color\":{\"value\":\"lightgrey\"},\"left_units\":\"screen\",\"level\":\"overlay\",\"line_alpha\":{\"value\":1.0},\"line_color\":{\"value\":\"black\"},\"line_dash\":[4,4],\"line_width\":{\"value\":2},\"plot\":null,\"render_mode\":\"css\",\"right_units\":\"screen\",\"top_units\":\"screen\"},\"id\":\"76584462-fb3e-4cc9-a010-d356afa5358b\",\"type\":\"BoxAnnotation\"},{\"attributes\":{\"fill_alpha\":{\"value\":0.1},\"fill_color\":{\"value\":\"#1f77b4\"},\"line_alpha\":{\"value\":0.1},\"line_color\":{\"value\":\"#1f77b4\"},\"size\":{\"units\":\"screen\",\"value\":15},\"x\":{\"field\":\"x\"},\"y\":{\"field\":\"y\"}},\"id\":\"077d7158-9329-4921-9996-a51592079de3\",\"type\":\"Circle\"},{\"attributes\":{\"plot\":{\"id\":\"08407d31-2517-450a-8320-2ea6982ddd51\",\"subtype\":\"Figure\",\"type\":\"Plot\"}},\"id\":\"4e7ebf5f-f984-42fb-b4b3-cc55fff5f4e7\",\"type\":\"SaveTool\"},{\"attributes\":{\"callback\":null,\"column_names\":[\"y\",\"x\"],\"data\":{\"x\":[1,2,3,4,5],\"y\":[6,7,2,4,5]}},\"id\":\"ecc40f72-bcb4-4131-9d60-6a736e375bc9\",\"type\":\"ColumnDataSource\"},{\"attributes\":{\"plot\":{\"id\":\"08407d31-2517-450a-8320-2ea6982ddd51\",\"subtype\":\"Figure\",\"type\":\"Plot\"}},\"id\":\"f0960091-ab52-44ad-98df-645c54113af2\",\"type\":\"WheelZoomTool\"},{\"attributes\":{\"plot\":{\"id\":\"08407d31-2517-450a-8320-2ea6982ddd51\",\"subtype\":\"Figure\",\"type\":\"Plot\"}},\"id\":\"8a225f28-9db2-4350-99fc-549a33d84024\",\"type\":\"HelpTool\"},{\"attributes\":{\"formatter\":{\"id\":\"74811354-a689-4135-aad4-5b451cfd0787\",\"type\":\"BasicTickFormatter\"},\"plot\":{\"id\":\"08407d31-2517-450a-8320-2ea6982ddd51\",\"subtype\":\"Figure\",\"type\":\"Plot\"},\"ticker\":{\"id\":\"0beb7169-bde0-4685-92b9-2c572f6a43cc\",\"type\":\"BasicTicker\"}},\"id\":\"4b6a63ba-57fb-464a-9f49-3f5360b52495\",\"type\":\"LinearAxis\"},{\"attributes\":{\"active_drag\":\"auto\",\"active_scroll\":\"auto\",\"active_tap\":\"auto\",\"tools\":[{\"id\":\"406fafb4-9c40-4f2e-9ee6-66bb9029ef5c\",\"type\":\"PanTool\"},{\"id\":\"f0960091-ab52-44ad-98df-645c54113af2\",\"type\":\"WheelZoomTool\"},{\"id\":\"3bca7095-5ccc-4f4e-ad88-2006762c97d2\",\"type\":\"BoxZoomTool\"},{\"id\":\"4e7ebf5f-f984-42fb-b4b3-cc55fff5f4e7\",\"type\":\"SaveTool\"},{\"id\":\"a0d8cfc9-ceaf-480e-a256-a538a2691e58\",\"type\":\"ResetTool\"},{\"id\":\"8a225f28-9db2-4350-99fc-549a33d84024\",\"type\":\"HelpTool\"}]},\"id\":\"f30b39ad-6139-447f-a7b0-b031cc35510c\",\"type\":\"Toolbar\"},{\"attributes\":{\"overlay\":{\"id\":\"76584462-fb3e-4cc9-a010-d356afa5358b\",\"type\":\"BoxAnnotation\"},\"plot\":{\"id\":\"08407d31-2517-450a-8320-2ea6982ddd51\",\"subtype\":\"Figure\",\"type\":\"Plot\"}},\"id\":\"3bca7095-5ccc-4f4e-ad88-2006762c97d2\",\"type\":\"BoxZoomTool\"},{\"attributes\":{\"plot\":null,\"text\":null},\"id\":\"cf199224-7075-47df-9f84-d9dba7861680\",\"type\":\"Title\"},{\"attributes\":{},\"id\":\"ccbd6151-ac76-4c12-a682-c3a7b86dcc1c\",\"type\":\"BasicTickFormatter\"}],\"root_ids\":[\"08407d31-2517-450a-8320-2ea6982ddd51\"]},\"title\":\"Bokeh Application\",\"version\":\"0.12.0\"}};\n",
       "            var render_items = [{\"docid\":\"f64e491a-4651-4f85-8a57-49b41de880ab\",\"elementid\":\"2ac7649a-935a-464c-981f-d1879f9e5672\",\"modelid\":\"08407d31-2517-450a-8320-2ea6982ddd51\",\"notebook_comms_target\":\"c74eb078-06fd-401f-b43c-7d46206714a6\"}];\n",
       "            \n",
       "            Bokeh.embed.embed_items(docs_json, render_items);\n",
       "        });\n",
       "      },\n",
       "      function(Bokeh) {\n",
       "      }\n",
       "    ];\n",
       "  \n",
       "    function run_inline_js() {\n",
       "      for (var i = 0; i < inline_js.length; i++) {\n",
       "        inline_js[i](window.Bokeh);\n",
       "      }\n",
       "    }\n",
       "  \n",
       "    if (window._bokeh_is_loading === 0) {\n",
       "      console.log(\"Bokeh: BokehJS loaded, going straight to plotting\");\n",
       "      run_inline_js();\n",
       "    } else {\n",
       "      load_libs(js_urls, function() {\n",
       "        console.log(\"Bokeh: BokehJS plotting callback run at\", now());\n",
       "        run_inline_js();\n",
       "      });\n",
       "    }\n",
       "  }(this));\n",
       "</script>"
      ]
     },
     "metadata": {},
     "output_type": "display_data"
    },
    {
     "data": {
      "text/html": [
       "<p><code>&lt;Bokeh Notebook handle for <strong>In[3]</strong>&gt;</code></p>"
      ],
      "text/plain": [
       "<bokeh.io._CommsHandle at 0x44329f7b38>"
      ]
     },
     "execution_count": 3,
     "metadata": {},
     "output_type": "execute_result"
    }
   ],
   "source": [
    "# create a new plot with default tools, using figure\n",
    "p = figure(plot_width=400, plot_height=400)\n",
    "\n",
    "# add a circle renderer with a size, color, and alpha\n",
    "p.circle([1, 2, 3, 4, 5], [6, 7, 2, 4, 5], size=15, line_color=\"navy\", fill_color=\"orange\", fill_alpha=0.5)\n",
    "\n",
    "show(p) # show the results"
   ]
  },
  {
   "cell_type": "markdown",
   "metadata": {},
   "source": [
    "All Bokeh markers accept `size` (measured in screen space units) as a property. Circles also have `radius` (measured in \"data\" space units). "
   ]
  },
  {
   "cell_type": "code",
   "execution_count": 7,
   "metadata": {
    "collapsed": false
   },
   "outputs": [
    {
     "data": {
      "text/html": [
       "\n",
       "\n",
       "    <div class=\"bk-root\">\n",
       "        <div class=\"plotdiv\" id=\"cce02350-7e22-4e38-893d-591b105f8166\"></div>\n",
       "    </div>\n",
       "<script type=\"text/javascript\">\n",
       "  \n",
       "  (function(global) {\n",
       "    function now() {\n",
       "      return new Date();\n",
       "    }\n",
       "  \n",
       "    if (typeof (window._bokeh_onload_callbacks) === \"undefined\") {\n",
       "      window._bokeh_onload_callbacks = [];\n",
       "    }\n",
       "  \n",
       "    function run_callbacks() {\n",
       "      window._bokeh_onload_callbacks.forEach(function(callback) { callback() });\n",
       "      delete window._bokeh_onload_callbacks\n",
       "      console.info(\"Bokeh: all callbacks have finished\");\n",
       "    }\n",
       "  \n",
       "    function load_libs(js_urls, callback) {\n",
       "      window._bokeh_onload_callbacks.push(callback);\n",
       "      if (window._bokeh_is_loading > 0) {\n",
       "        console.log(\"Bokeh: BokehJS is being loaded, scheduling callback at\", now());\n",
       "        return null;\n",
       "      }\n",
       "      if (js_urls == null || js_urls.length === 0) {\n",
       "        run_callbacks();\n",
       "        return null;\n",
       "      }\n",
       "      console.log(\"Bokeh: BokehJS not loaded, scheduling load and callback at\", now());\n",
       "      window._bokeh_is_loading = js_urls.length;\n",
       "      for (var i = 0; i < js_urls.length; i++) {\n",
       "        var url = js_urls[i];\n",
       "        var s = document.createElement('script');\n",
       "        s.src = url;\n",
       "        s.async = false;\n",
       "        s.onreadystatechange = s.onload = function() {\n",
       "          window._bokeh_is_loading--;\n",
       "          if (window._bokeh_is_loading === 0) {\n",
       "            console.log(\"Bokeh: all BokehJS libraries loaded\");\n",
       "            run_callbacks()\n",
       "          }\n",
       "        };\n",
       "        s.onerror = function() {\n",
       "          console.warn(\"failed to load library \" + url);\n",
       "        };\n",
       "        console.log(\"Bokeh: injecting script tag for BokehJS library: \", url);\n",
       "        document.getElementsByTagName(\"head\")[0].appendChild(s);\n",
       "      }\n",
       "    };var element = document.getElementById(\"cce02350-7e22-4e38-893d-591b105f8166\");\n",
       "    if (element == null) {\n",
       "      console.log(\"Bokeh: ERROR: autoload.js configured with elementid 'cce02350-7e22-4e38-893d-591b105f8166' but no matching script tag was found. \")\n",
       "      return false;\n",
       "    }\n",
       "  \n",
       "    var js_urls = [];\n",
       "  \n",
       "    var inline_js = [\n",
       "      function(Bokeh) {\n",
       "        Bokeh.$(function() {\n",
       "            var docs_json = {\"c89b04f7-5809-414a-9ff2-7187f3c31caa\":{\"roots\":{\"references\":[{\"attributes\":{},\"id\":\"2ab0f961-5a59-4f17-830b-543372f1bd3f\",\"type\":\"BasicTickFormatter\"},{\"attributes\":{\"callback\":null},\"id\":\"50b2632f-aeed-486f-a0ea-b2beec101574\",\"type\":\"DataRange1d\"},{\"attributes\":{\"bottom_units\":\"screen\",\"fill_alpha\":{\"value\":0.5},\"fill_color\":{\"value\":\"lightgrey\"},\"left_units\":\"screen\",\"level\":\"overlay\",\"line_alpha\":{\"value\":1.0},\"line_color\":{\"value\":\"black\"},\"line_dash\":[4,4],\"line_width\":{\"value\":2},\"plot\":null,\"render_mode\":\"css\",\"right_units\":\"screen\",\"top_units\":\"screen\"},\"id\":\"b97cbcc7-eed1-414e-9bf7-a589dad84674\",\"type\":\"BoxAnnotation\"},{\"attributes\":{\"dimension\":1,\"plot\":{\"id\":\"f6153ec7-dfea-4dbe-9a29-8fb5f284915f\",\"subtype\":\"Figure\",\"type\":\"Plot\"},\"ticker\":{\"id\":\"a3278dcb-f2e2-4c7a-9e02-da8d1f27c5da\",\"type\":\"BasicTicker\"}},\"id\":\"2e22f752-3a6b-424d-9c1f-3342ee17e6bb\",\"type\":\"Grid\"},{\"attributes\":{\"active_drag\":\"auto\",\"active_scroll\":\"auto\",\"active_tap\":\"auto\",\"tools\":[{\"id\":\"c6debbf2-2642-44c6-8eb9-5a8d9b81c8ae\",\"type\":\"PanTool\"},{\"id\":\"98541a1c-8902-4575-97d5-6862e53b4339\",\"type\":\"WheelZoomTool\"},{\"id\":\"1a352923-474d-4fc7-a5a0-a4102b6e2a71\",\"type\":\"BoxZoomTool\"},{\"id\":\"0c126a9d-cae8-47d7-9989-fe5c3c1e1902\",\"type\":\"SaveTool\"},{\"id\":\"74b52ba1-2a52-4bee-af8a-6398e06b0d87\",\"type\":\"ResetTool\"},{\"id\":\"0555b6e5-2970-464c-996f-bd19f711c8db\",\"type\":\"HelpTool\"}]},\"id\":\"6eb8811a-bd4e-48af-a49c-b69706170d2d\",\"type\":\"Toolbar\"},{\"attributes\":{\"formatter\":{\"id\":\"2ab0f961-5a59-4f17-830b-543372f1bd3f\",\"type\":\"BasicTickFormatter\"},\"plot\":{\"id\":\"f6153ec7-dfea-4dbe-9a29-8fb5f284915f\",\"subtype\":\"Figure\",\"type\":\"Plot\"},\"ticker\":{\"id\":\"a0c86a67-b99a-484f-9fd2-2bad6a754927\",\"type\":\"BasicTicker\"}},\"id\":\"b7a9e423-98a5-4457-b0f6-aded4d83dca8\",\"type\":\"LinearAxis\"},{\"attributes\":{\"below\":[{\"id\":\"b7a9e423-98a5-4457-b0f6-aded4d83dca8\",\"type\":\"LinearAxis\"}],\"left\":[{\"id\":\"082da8b9-7844-4908-a41d-7b2f1ee45229\",\"type\":\"LinearAxis\"}],\"plot_height\":400,\"plot_width\":400,\"renderers\":[{\"id\":\"b7a9e423-98a5-4457-b0f6-aded4d83dca8\",\"type\":\"LinearAxis\"},{\"id\":\"e85eb29c-ed3a-4988-b21e-3f6695e7a666\",\"type\":\"Grid\"},{\"id\":\"082da8b9-7844-4908-a41d-7b2f1ee45229\",\"type\":\"LinearAxis\"},{\"id\":\"2e22f752-3a6b-424d-9c1f-3342ee17e6bb\",\"type\":\"Grid\"},{\"id\":\"b97cbcc7-eed1-414e-9bf7-a589dad84674\",\"type\":\"BoxAnnotation\"},{\"id\":\"d1fb4fee-00f5-4bc9-a88f-83310cb9900b\",\"type\":\"GlyphRenderer\"}],\"title\":{\"id\":\"bbd6707c-fa39-497e-ac09-ab8c3f4ce2b5\",\"type\":\"Title\"},\"tool_events\":{\"id\":\"7dbcc237-2fff-4581-b444-c7d409458daf\",\"type\":\"ToolEvents\"},\"toolbar\":{\"id\":\"6eb8811a-bd4e-48af-a49c-b69706170d2d\",\"type\":\"Toolbar\"},\"x_range\":{\"id\":\"2f9b4986-231a-42e2-88f6-7707692518c2\",\"type\":\"DataRange1d\"},\"y_range\":{\"id\":\"50b2632f-aeed-486f-a0ea-b2beec101574\",\"type\":\"DataRange1d\"}},\"id\":\"f6153ec7-dfea-4dbe-9a29-8fb5f284915f\",\"subtype\":\"Figure\",\"type\":\"Plot\"},{\"attributes\":{\"plot\":{\"id\":\"f6153ec7-dfea-4dbe-9a29-8fb5f284915f\",\"subtype\":\"Figure\",\"type\":\"Plot\"}},\"id\":\"c6debbf2-2642-44c6-8eb9-5a8d9b81c8ae\",\"type\":\"PanTool\"},{\"attributes\":{\"fill_alpha\":{\"value\":0.1},\"fill_color\":{\"value\":\"#1f77b4\"},\"line_alpha\":{\"value\":0.1},\"line_color\":{\"value\":\"#1f77b4\"},\"radius\":{\"units\":\"data\",\"value\":0.1},\"x\":{\"field\":\"x\"},\"y\":{\"field\":\"y\"}},\"id\":\"44fa0351-e9bb-4018-9e54-896410b4a4b9\",\"type\":\"Circle\"},{\"attributes\":{\"fill_alpha\":{\"value\":0.5},\"fill_color\":{\"value\":\"orange\"},\"line_color\":{\"value\":\"navy\"},\"radius\":{\"units\":\"data\",\"value\":0.1},\"x\":{\"field\":\"x\"},\"y\":{\"field\":\"y\"}},\"id\":\"57af99fc-c279-4678-b1bb-29a5da95d551\",\"type\":\"Circle\"},{\"attributes\":{\"callback\":null,\"column_names\":[\"y\",\"x\"],\"data\":{\"x\":[1,2,3,4,5],\"y\":[6,7,2,4,5]}},\"id\":\"feee2253-0167-46df-b84b-1b9d2757d409\",\"type\":\"ColumnDataSource\"},{\"attributes\":{\"plot\":{\"id\":\"f6153ec7-dfea-4dbe-9a29-8fb5f284915f\",\"subtype\":\"Figure\",\"type\":\"Plot\"}},\"id\":\"0c126a9d-cae8-47d7-9989-fe5c3c1e1902\",\"type\":\"SaveTool\"},{\"attributes\":{\"plot\":{\"id\":\"f6153ec7-dfea-4dbe-9a29-8fb5f284915f\",\"subtype\":\"Figure\",\"type\":\"Plot\"},\"ticker\":{\"id\":\"a0c86a67-b99a-484f-9fd2-2bad6a754927\",\"type\":\"BasicTicker\"}},\"id\":\"e85eb29c-ed3a-4988-b21e-3f6695e7a666\",\"type\":\"Grid\"},{\"attributes\":{\"plot\":{\"id\":\"f6153ec7-dfea-4dbe-9a29-8fb5f284915f\",\"subtype\":\"Figure\",\"type\":\"Plot\"}},\"id\":\"98541a1c-8902-4575-97d5-6862e53b4339\",\"type\":\"WheelZoomTool\"},{\"attributes\":{},\"id\":\"0a903f0b-18b4-48e1-a622-719aa160010a\",\"type\":\"BasicTickFormatter\"},{\"attributes\":{},\"id\":\"7dbcc237-2fff-4581-b444-c7d409458daf\",\"type\":\"ToolEvents\"},{\"attributes\":{\"callback\":null},\"id\":\"2f9b4986-231a-42e2-88f6-7707692518c2\",\"type\":\"DataRange1d\"},{\"attributes\":{\"data_source\":{\"id\":\"feee2253-0167-46df-b84b-1b9d2757d409\",\"type\":\"ColumnDataSource\"},\"glyph\":{\"id\":\"57af99fc-c279-4678-b1bb-29a5da95d551\",\"type\":\"Circle\"},\"hover_glyph\":null,\"nonselection_glyph\":{\"id\":\"44fa0351-e9bb-4018-9e54-896410b4a4b9\",\"type\":\"Circle\"},\"selection_glyph\":null},\"id\":\"d1fb4fee-00f5-4bc9-a88f-83310cb9900b\",\"type\":\"GlyphRenderer\"},{\"attributes\":{\"formatter\":{\"id\":\"0a903f0b-18b4-48e1-a622-719aa160010a\",\"type\":\"BasicTickFormatter\"},\"plot\":{\"id\":\"f6153ec7-dfea-4dbe-9a29-8fb5f284915f\",\"subtype\":\"Figure\",\"type\":\"Plot\"},\"ticker\":{\"id\":\"a3278dcb-f2e2-4c7a-9e02-da8d1f27c5da\",\"type\":\"BasicTicker\"}},\"id\":\"082da8b9-7844-4908-a41d-7b2f1ee45229\",\"type\":\"LinearAxis\"},{\"attributes\":{},\"id\":\"a3278dcb-f2e2-4c7a-9e02-da8d1f27c5da\",\"type\":\"BasicTicker\"},{\"attributes\":{\"plot\":{\"id\":\"f6153ec7-dfea-4dbe-9a29-8fb5f284915f\",\"subtype\":\"Figure\",\"type\":\"Plot\"}},\"id\":\"74b52ba1-2a52-4bee-af8a-6398e06b0d87\",\"type\":\"ResetTool\"},{\"attributes\":{},\"id\":\"a0c86a67-b99a-484f-9fd2-2bad6a754927\",\"type\":\"BasicTicker\"},{\"attributes\":{\"plot\":null,\"text\":null},\"id\":\"bbd6707c-fa39-497e-ac09-ab8c3f4ce2b5\",\"type\":\"Title\"},{\"attributes\":{\"overlay\":{\"id\":\"b97cbcc7-eed1-414e-9bf7-a589dad84674\",\"type\":\"BoxAnnotation\"},\"plot\":{\"id\":\"f6153ec7-dfea-4dbe-9a29-8fb5f284915f\",\"subtype\":\"Figure\",\"type\":\"Plot\"}},\"id\":\"1a352923-474d-4fc7-a5a0-a4102b6e2a71\",\"type\":\"BoxZoomTool\"},{\"attributes\":{\"plot\":{\"id\":\"f6153ec7-dfea-4dbe-9a29-8fb5f284915f\",\"subtype\":\"Figure\",\"type\":\"Plot\"}},\"id\":\"0555b6e5-2970-464c-996f-bd19f711c8db\",\"type\":\"HelpTool\"}],\"root_ids\":[\"f6153ec7-dfea-4dbe-9a29-8fb5f284915f\"]},\"title\":\"Bokeh Application\",\"version\":\"0.12.0\"}};\n",
       "            var render_items = [{\"docid\":\"c89b04f7-5809-414a-9ff2-7187f3c31caa\",\"elementid\":\"cce02350-7e22-4e38-893d-591b105f8166\",\"modelid\":\"f6153ec7-dfea-4dbe-9a29-8fb5f284915f\",\"notebook_comms_target\":\"d7197266-37ec-4b56-a1e5-c59e2ff25e81\"}];\n",
       "            \n",
       "            Bokeh.embed.embed_items(docs_json, render_items);\n",
       "        });\n",
       "      },\n",
       "      function(Bokeh) {\n",
       "      }\n",
       "    ];\n",
       "  \n",
       "    function run_inline_js() {\n",
       "      for (var i = 0; i < inline_js.length; i++) {\n",
       "        inline_js[i](window.Bokeh);\n",
       "      }\n",
       "    }\n",
       "  \n",
       "    if (window._bokeh_is_loading === 0) {\n",
       "      console.log(\"Bokeh: BokehJS loaded, going straight to plotting\");\n",
       "      run_inline_js();\n",
       "    } else {\n",
       "      load_libs(js_urls, function() {\n",
       "        console.log(\"Bokeh: BokehJS plotting callback run at\", now());\n",
       "        run_inline_js();\n",
       "      });\n",
       "    }\n",
       "  }(this));\n",
       "</script>"
      ]
     },
     "metadata": {},
     "output_type": "display_data"
    },
    {
     "data": {
      "text/html": [
       "<p><code>&lt;Bokeh Notebook handle for <strong>In[7]</strong>&gt;</code></p>"
      ],
      "text/plain": [
       "<bokeh.io._CommsHandle at 0x44324599e8>"
      ]
     },
     "execution_count": 7,
     "metadata": {},
     "output_type": "execute_result"
    }
   ],
   "source": [
    "# EXERCISE: Try changing the example above to set a `radius` value instead of `size`\n",
    "# create a new plot with default tools, using figure\n",
    "p = figure(plot_width=400, plot_height=400)\n",
    "\n",
    "# add a circle renderer with a size, color, and alpha\n",
    "p.circle([1, 2, 3, 4, 5], [6, 7, 2, 4, 5], radius=0.1, line_color=\"navy\", fill_color=\"orange\", fill_alpha=0.5)\n",
    "\n",
    "show(p) # show the results\n"
   ]
  },
  {
   "cell_type": "markdown",
   "metadata": {},
   "source": [
    "To scatter square markers instead of circles, you can use the `square` method on figures. "
   ]
  },
  {
   "cell_type": "code",
   "execution_count": 8,
   "metadata": {
    "collapsed": false
   },
   "outputs": [
    {
     "data": {
      "text/html": [
       "\n",
       "\n",
       "    <div class=\"bk-root\">\n",
       "        <div class=\"plotdiv\" id=\"3978c34d-fa29-46a9-891c-d645fb4fac24\"></div>\n",
       "    </div>\n",
       "<script type=\"text/javascript\">\n",
       "  \n",
       "  (function(global) {\n",
       "    function now() {\n",
       "      return new Date();\n",
       "    }\n",
       "  \n",
       "    if (typeof (window._bokeh_onload_callbacks) === \"undefined\") {\n",
       "      window._bokeh_onload_callbacks = [];\n",
       "    }\n",
       "  \n",
       "    function run_callbacks() {\n",
       "      window._bokeh_onload_callbacks.forEach(function(callback) { callback() });\n",
       "      delete window._bokeh_onload_callbacks\n",
       "      console.info(\"Bokeh: all callbacks have finished\");\n",
       "    }\n",
       "  \n",
       "    function load_libs(js_urls, callback) {\n",
       "      window._bokeh_onload_callbacks.push(callback);\n",
       "      if (window._bokeh_is_loading > 0) {\n",
       "        console.log(\"Bokeh: BokehJS is being loaded, scheduling callback at\", now());\n",
       "        return null;\n",
       "      }\n",
       "      if (js_urls == null || js_urls.length === 0) {\n",
       "        run_callbacks();\n",
       "        return null;\n",
       "      }\n",
       "      console.log(\"Bokeh: BokehJS not loaded, scheduling load and callback at\", now());\n",
       "      window._bokeh_is_loading = js_urls.length;\n",
       "      for (var i = 0; i < js_urls.length; i++) {\n",
       "        var url = js_urls[i];\n",
       "        var s = document.createElement('script');\n",
       "        s.src = url;\n",
       "        s.async = false;\n",
       "        s.onreadystatechange = s.onload = function() {\n",
       "          window._bokeh_is_loading--;\n",
       "          if (window._bokeh_is_loading === 0) {\n",
       "            console.log(\"Bokeh: all BokehJS libraries loaded\");\n",
       "            run_callbacks()\n",
       "          }\n",
       "        };\n",
       "        s.onerror = function() {\n",
       "          console.warn(\"failed to load library \" + url);\n",
       "        };\n",
       "        console.log(\"Bokeh: injecting script tag for BokehJS library: \", url);\n",
       "        document.getElementsByTagName(\"head\")[0].appendChild(s);\n",
       "      }\n",
       "    };var element = document.getElementById(\"3978c34d-fa29-46a9-891c-d645fb4fac24\");\n",
       "    if (element == null) {\n",
       "      console.log(\"Bokeh: ERROR: autoload.js configured with elementid '3978c34d-fa29-46a9-891c-d645fb4fac24' but no matching script tag was found. \")\n",
       "      return false;\n",
       "    }\n",
       "  \n",
       "    var js_urls = [];\n",
       "  \n",
       "    var inline_js = [\n",
       "      function(Bokeh) {\n",
       "        Bokeh.$(function() {\n",
       "            var docs_json = {\"2405a07b-7ba9-4df8-a558-f6525039e90f\":{\"roots\":{\"references\":[{\"attributes\":{\"plot\":{\"id\":\"37dc8b24-3d7a-4c98-90f2-dcf37a337df9\",\"subtype\":\"Figure\",\"type\":\"Plot\"}},\"id\":\"b178de75-a098-40ba-afcd-27251a88e4ec\",\"type\":\"ResetTool\"},{\"attributes\":{\"dimension\":1,\"plot\":{\"id\":\"37dc8b24-3d7a-4c98-90f2-dcf37a337df9\",\"subtype\":\"Figure\",\"type\":\"Plot\"},\"ticker\":{\"id\":\"288acf0a-1fb9-491f-80f1-c17791515ffa\",\"type\":\"BasicTicker\"}},\"id\":\"b8d8253f-eebd-44f8-91ea-efb6954444f9\",\"type\":\"Grid\"},{\"attributes\":{\"formatter\":{\"id\":\"72e60b6e-3e0b-4d26-852c-e0af124060ce\",\"type\":\"BasicTickFormatter\"},\"plot\":{\"id\":\"37dc8b24-3d7a-4c98-90f2-dcf37a337df9\",\"subtype\":\"Figure\",\"type\":\"Plot\"},\"ticker\":{\"id\":\"d4974770-1964-403e-8ccb-e5e17914b7cf\",\"type\":\"BasicTicker\"}},\"id\":\"506f4e67-0a8f-436f-8aed-9313dda170ee\",\"type\":\"LinearAxis\"},{\"attributes\":{},\"id\":\"72e60b6e-3e0b-4d26-852c-e0af124060ce\",\"type\":\"BasicTickFormatter\"},{\"attributes\":{\"callback\":null},\"id\":\"81a62944-4f97-4d3a-b0ac-ee01bc811f8d\",\"type\":\"DataRange1d\"},{\"attributes\":{\"data_source\":{\"id\":\"91879580-4b6f-44f5-b864-c78e6d33b7d3\",\"type\":\"ColumnDataSource\"},\"glyph\":{\"id\":\"23481191-e971-445e-89b2-5040bf8fa3a9\",\"type\":\"Square\"},\"hover_glyph\":null,\"nonselection_glyph\":{\"id\":\"4f97336b-f5bf-453b-a480-a05461b8c28e\",\"type\":\"Square\"},\"selection_glyph\":null},\"id\":\"a3d4cb62-86e4-4167-84f4-8a7ee70b2ffc\",\"type\":\"GlyphRenderer\"},{\"attributes\":{},\"id\":\"288acf0a-1fb9-491f-80f1-c17791515ffa\",\"type\":\"BasicTicker\"},{\"attributes\":{\"plot\":{\"id\":\"37dc8b24-3d7a-4c98-90f2-dcf37a337df9\",\"subtype\":\"Figure\",\"type\":\"Plot\"}},\"id\":\"0849ac8f-a06d-4f6e-a394-4bac6f6dae7c\",\"type\":\"PanTool\"},{\"attributes\":{},\"id\":\"bf3382b6-8fa3-4bc8-b098-b369d63a8154\",\"type\":\"BasicTickFormatter\"},{\"attributes\":{\"plot\":{\"id\":\"37dc8b24-3d7a-4c98-90f2-dcf37a337df9\",\"subtype\":\"Figure\",\"type\":\"Plot\"}},\"id\":\"6967c1af-dc3f-4726-8cab-ad13aa80af24\",\"type\":\"HelpTool\"},{\"attributes\":{\"fill_alpha\":{\"value\":0.6},\"fill_color\":{\"value\":\"firebrick\"},\"line_alpha\":{\"value\":0.6},\"line_color\":{\"value\":\"firebrick\"},\"size\":{\"field\":\"size\",\"units\":\"screen\"},\"x\":{\"field\":\"x\"},\"y\":{\"field\":\"y\"}},\"id\":\"23481191-e971-445e-89b2-5040bf8fa3a9\",\"type\":\"Square\"},{\"attributes\":{},\"id\":\"a45eda2b-aea0-4b55-87e0-e85acf6e1a6f\",\"type\":\"ToolEvents\"},{\"attributes\":{\"plot\":{\"id\":\"37dc8b24-3d7a-4c98-90f2-dcf37a337df9\",\"subtype\":\"Figure\",\"type\":\"Plot\"}},\"id\":\"85d016f9-21aa-4266-84fe-96a23e6e86a1\",\"type\":\"SaveTool\"},{\"attributes\":{\"plot\":null,\"text\":null},\"id\":\"74b15f0d-1268-4c2d-a478-ab043b40f0c5\",\"type\":\"Title\"},{\"attributes\":{\"callback\":null,\"column_names\":[\"size\",\"y\",\"x\"],\"data\":{\"size\":[10,15,20,25,30],\"x\":[1,2,3,4,5],\"y\":[6,7,2,4,5]}},\"id\":\"91879580-4b6f-44f5-b864-c78e6d33b7d3\",\"type\":\"ColumnDataSource\"},{\"attributes\":{\"plot\":{\"id\":\"37dc8b24-3d7a-4c98-90f2-dcf37a337df9\",\"subtype\":\"Figure\",\"type\":\"Plot\"},\"ticker\":{\"id\":\"d4974770-1964-403e-8ccb-e5e17914b7cf\",\"type\":\"BasicTicker\"}},\"id\":\"541ccd69-38d7-4175-83c1-4a3d9553e63f\",\"type\":\"Grid\"},{\"attributes\":{\"plot\":{\"id\":\"37dc8b24-3d7a-4c98-90f2-dcf37a337df9\",\"subtype\":\"Figure\",\"type\":\"Plot\"}},\"id\":\"b37fa595-d0f2-407c-8343-48bfa3ec6fb5\",\"type\":\"WheelZoomTool\"},{\"attributes\":{\"overlay\":{\"id\":\"c71ed228-1e84-4992-a9c8-7bdbe48bf5bf\",\"type\":\"BoxAnnotation\"},\"plot\":{\"id\":\"37dc8b24-3d7a-4c98-90f2-dcf37a337df9\",\"subtype\":\"Figure\",\"type\":\"Plot\"}},\"id\":\"4561255c-849e-43cd-bcf6-eb1c4c8c7011\",\"type\":\"BoxZoomTool\"},{\"attributes\":{},\"id\":\"d4974770-1964-403e-8ccb-e5e17914b7cf\",\"type\":\"BasicTicker\"},{\"attributes\":{\"formatter\":{\"id\":\"bf3382b6-8fa3-4bc8-b098-b369d63a8154\",\"type\":\"BasicTickFormatter\"},\"plot\":{\"id\":\"37dc8b24-3d7a-4c98-90f2-dcf37a337df9\",\"subtype\":\"Figure\",\"type\":\"Plot\"},\"ticker\":{\"id\":\"288acf0a-1fb9-491f-80f1-c17791515ffa\",\"type\":\"BasicTicker\"}},\"id\":\"16beef50-897f-40d2-a04a-ae407c2563c7\",\"type\":\"LinearAxis\"},{\"attributes\":{\"bottom_units\":\"screen\",\"fill_alpha\":{\"value\":0.5},\"fill_color\":{\"value\":\"lightgrey\"},\"left_units\":\"screen\",\"level\":\"overlay\",\"line_alpha\":{\"value\":1.0},\"line_color\":{\"value\":\"black\"},\"line_dash\":[4,4],\"line_width\":{\"value\":2},\"plot\":null,\"render_mode\":\"css\",\"right_units\":\"screen\",\"top_units\":\"screen\"},\"id\":\"c71ed228-1e84-4992-a9c8-7bdbe48bf5bf\",\"type\":\"BoxAnnotation\"},{\"attributes\":{\"active_drag\":\"auto\",\"active_scroll\":\"auto\",\"active_tap\":\"auto\",\"tools\":[{\"id\":\"0849ac8f-a06d-4f6e-a394-4bac6f6dae7c\",\"type\":\"PanTool\"},{\"id\":\"b37fa595-d0f2-407c-8343-48bfa3ec6fb5\",\"type\":\"WheelZoomTool\"},{\"id\":\"4561255c-849e-43cd-bcf6-eb1c4c8c7011\",\"type\":\"BoxZoomTool\"},{\"id\":\"85d016f9-21aa-4266-84fe-96a23e6e86a1\",\"type\":\"SaveTool\"},{\"id\":\"b178de75-a098-40ba-afcd-27251a88e4ec\",\"type\":\"ResetTool\"},{\"id\":\"6967c1af-dc3f-4726-8cab-ad13aa80af24\",\"type\":\"HelpTool\"}]},\"id\":\"9d8b10ba-73b9-4433-9bd8-9ecb0a5209b9\",\"type\":\"Toolbar\"},{\"attributes\":{\"fill_alpha\":{\"value\":0.1},\"fill_color\":{\"value\":\"#1f77b4\"},\"line_alpha\":{\"value\":0.1},\"line_color\":{\"value\":\"#1f77b4\"},\"size\":{\"field\":\"size\",\"units\":\"screen\"},\"x\":{\"field\":\"x\"},\"y\":{\"field\":\"y\"}},\"id\":\"4f97336b-f5bf-453b-a480-a05461b8c28e\",\"type\":\"Square\"},{\"attributes\":{\"below\":[{\"id\":\"506f4e67-0a8f-436f-8aed-9313dda170ee\",\"type\":\"LinearAxis\"}],\"left\":[{\"id\":\"16beef50-897f-40d2-a04a-ae407c2563c7\",\"type\":\"LinearAxis\"}],\"plot_height\":400,\"plot_width\":400,\"renderers\":[{\"id\":\"506f4e67-0a8f-436f-8aed-9313dda170ee\",\"type\":\"LinearAxis\"},{\"id\":\"541ccd69-38d7-4175-83c1-4a3d9553e63f\",\"type\":\"Grid\"},{\"id\":\"16beef50-897f-40d2-a04a-ae407c2563c7\",\"type\":\"LinearAxis\"},{\"id\":\"b8d8253f-eebd-44f8-91ea-efb6954444f9\",\"type\":\"Grid\"},{\"id\":\"c71ed228-1e84-4992-a9c8-7bdbe48bf5bf\",\"type\":\"BoxAnnotation\"},{\"id\":\"a3d4cb62-86e4-4167-84f4-8a7ee70b2ffc\",\"type\":\"GlyphRenderer\"}],\"title\":{\"id\":\"74b15f0d-1268-4c2d-a478-ab043b40f0c5\",\"type\":\"Title\"},\"tool_events\":{\"id\":\"a45eda2b-aea0-4b55-87e0-e85acf6e1a6f\",\"type\":\"ToolEvents\"},\"toolbar\":{\"id\":\"9d8b10ba-73b9-4433-9bd8-9ecb0a5209b9\",\"type\":\"Toolbar\"},\"x_range\":{\"id\":\"b116dae2-0491-4edb-be5e-39e6c6c5c2f3\",\"type\":\"DataRange1d\"},\"y_range\":{\"id\":\"81a62944-4f97-4d3a-b0ac-ee01bc811f8d\",\"type\":\"DataRange1d\"}},\"id\":\"37dc8b24-3d7a-4c98-90f2-dcf37a337df9\",\"subtype\":\"Figure\",\"type\":\"Plot\"},{\"attributes\":{\"callback\":null},\"id\":\"b116dae2-0491-4edb-be5e-39e6c6c5c2f3\",\"type\":\"DataRange1d\"}],\"root_ids\":[\"37dc8b24-3d7a-4c98-90f2-dcf37a337df9\"]},\"title\":\"Bokeh Application\",\"version\":\"0.12.0\"}};\n",
       "            var render_items = [{\"docid\":\"2405a07b-7ba9-4df8-a558-f6525039e90f\",\"elementid\":\"3978c34d-fa29-46a9-891c-d645fb4fac24\",\"modelid\":\"37dc8b24-3d7a-4c98-90f2-dcf37a337df9\",\"notebook_comms_target\":\"8a3cd0ff-af8e-4ef2-bbe8-8bdfefb647fc\"}];\n",
       "            \n",
       "            Bokeh.embed.embed_items(docs_json, render_items);\n",
       "        });\n",
       "      },\n",
       "      function(Bokeh) {\n",
       "      }\n",
       "    ];\n",
       "  \n",
       "    function run_inline_js() {\n",
       "      for (var i = 0; i < inline_js.length; i++) {\n",
       "        inline_js[i](window.Bokeh);\n",
       "      }\n",
       "    }\n",
       "  \n",
       "    if (window._bokeh_is_loading === 0) {\n",
       "      console.log(\"Bokeh: BokehJS loaded, going straight to plotting\");\n",
       "      run_inline_js();\n",
       "    } else {\n",
       "      load_libs(js_urls, function() {\n",
       "        console.log(\"Bokeh: BokehJS plotting callback run at\", now());\n",
       "        run_inline_js();\n",
       "      });\n",
       "    }\n",
       "  }(this));\n",
       "</script>"
      ]
     },
     "metadata": {},
     "output_type": "display_data"
    },
    {
     "data": {
      "text/html": [
       "<p><code>&lt;Bokeh Notebook handle for <strong>In[8]</strong>&gt;</code></p>"
      ],
      "text/plain": [
       "<bokeh.io._CommsHandle at 0x4432464908>"
      ]
     },
     "execution_count": 8,
     "metadata": {},
     "output_type": "execute_result"
    }
   ],
   "source": [
    "# create a new plot using figure\n",
    "p = figure(plot_width=400, plot_height=400)\n",
    "\n",
    "# add a square renderer with a size, color, alpha, and sizes\n",
    "p.square([1, 2, 3, 4, 5], [6, 7, 2, 4, 5], size=[10, 15, 20, 25, 30], color=\"firebrick\", alpha=0.6)\n",
    "\n",
    "show(p) # show the results"
   ]
  },
  {
   "cell_type": "markdown",
   "metadata": {},
   "source": [
    "Note that in the example above, we are also specifying different sizes for each individual marker. ***In general, all of a glyph's properties can be \"vectorized\" in this fashion. ***  Also note that we have passed ``color`` as a shorthand to set both the line and fill colors easily at the same time. This is a convenience specific to ``bokeh.plotting``.\n",
    "\n",
    "</table><p>There are many marker types available in Bokeh, you can see details and\n",
    "example plots for all of them in the reference guide by clicking on entries in the list below:</p>\n",
    "<table class=\"hlist\" style=\"float:left\"><tr><td><ul>\n",
    "<li><a href=\"http://bokeh.pydata.org/en/latest/docs/reference/plotting.html#bokeh.plotting.Figure.asterisk\" title=\"bokeh.plotting.Figure.asterisk\"><code class=\"xref py py-func docutils literal\"><span class=\"pre\">asterisk()</span></code></a></li>\n",
    "<li><a href=\"http://bokeh.pydata.org/en/latest/docs/reference/plotting.html#bokeh.plotting.Figure.circle\" title=\"bokeh.plotting.Figure.circle\"><code class=\"xref py py-func docutils literal\"><span class=\"pre\">circle()</span></code></a></li>\n",
    "<li><a href=\"http://bokeh.pydata.org/en/latest/docs/reference/plotting.html#bokeh.plotting.Figure.circle_cross\" title=\"bokeh.plotting.Figure.circle_cross\"><code class=\"xref py py-func docutils literal\"><span class=\"pre\">circle_cross()</span></code></a></li>\n",
    "<li><a href=\"http://bokeh.pydata.org/en/latest/docs/reference/plotting.html#bokeh.plotting.Figure.circle_x\" title=\"bokeh.plotting.Figure.circle_x\"><code class=\"xref py py-func docutils literal\"><span class=\"pre\">circle_x()</span></code></a></li>\n",
    "<li><a href=\"http://bokeh.pydata.org/en/latest/docs/reference/plotting.html#bokeh.plotting.Figure.cross\" title=\"bokeh.plotting.Figure.cross\"><code class=\"xref py py-func docutils literal\"><span class=\"pre\">cross()</span></code></a></li>\n",
    "</ul>\n",
    "</td><td><ul>\n",
    "<li><a href=\"http://bokeh.pydata.org/en/latest/docs/reference/plotting.html#bokeh.plotting.Figure.diamond\" title=\"bokeh.plotting.Figure.diamond\"><code class=\"xref py py-func docutils literal\"><span class=\"pre\">diamond()</span></code></a></li>\n",
    "<li><a href=\"http://bokeh.pydata.org/en/latest/docs/reference/plotting.html#bokeh.plotting.Figure.diamond_cross\" title=\"bokeh.plotting.Figure.diamond_cross\"><code class=\"xref py py-func docutils literal\"><span class=\"pre\">diamond_cross()</span></code></a></li>\n",
    "<li><a href=\"http://bokeh.pydata.org/en/latest/docs/reference/plotting.html#bokeh.plotting.Figure.inverted_triangle\" title=\"bokeh.plotting.Figure.inverted_triangle\"><code class=\"xref py py-func docutils literal\"><span class=\"pre\">inverted_triangle()</span></code></a></li>\n",
    "<li><a href=\"http://bokeh.pydata.org/en/latest/docs/reference/plotting.html#bokeh.plotting.Figure.square\" title=\"bokeh.plotting.Figure.square\"><code class=\"xref py py-func docutils literal\"><span class=\"pre\">square()</span></code></a></li>\n",
    "</ul>\n",
    "</td><td><ul>\n",
    "<li><a href=\"http://bokeh.pydata.org/en/latest/docs/reference/plotting.html#bokeh.plotting.Figure.square_cross\" title=\"bokeh.plotting.Figure.square_cross\"><code class=\"xref py py-func docutils literal\"><span class=\"pre\">square_cross()</span></code></a></li>\n",
    "<li><a href=\"http://bokeh.pydata.org/en/latest/docs/reference/plotting.html#bokeh.plotting.Figure.square_x\" title=\"bokeh.plotting.Figure.square_x\"><code class=\"xref py py-func docutils literal\"><span class=\"pre\">square_x()</span></code></a></li>\n",
    "<li><a href=\"http://bokeh.pydata.org/en/latest/docs/reference/plotting.html#bokeh.plotting.Figure.triangle\" title=\"bokeh.plotting.Figure.triangle\"><code class=\"xref py py-func docutils literal\"><span class=\"pre\">triangle()</span></code></a></li>\n",
    "<li><a href=\"http://bokeh.pydata.org/en/latest/docs/reference/plotting.html#bokeh.plotting.Figure.x\" title=\"bokeh.plotting.Figure.x\"><code class=\"xref py py-func docutils literal\"><span class=\"pre\">x()</span></code></a></li>\n",
    "</ul>\n",
    "</td></tr></table>"
   ]
  },
  {
   "cell_type": "code",
   "execution_count": 12,
   "metadata": {
    "collapsed": false
   },
   "outputs": [
    {
     "data": {
      "text/html": [
       "\n",
       "\n",
       "    <div class=\"bk-root\">\n",
       "        <div class=\"plotdiv\" id=\"f01f8328-ba19-4308-94e3-41b8720738fe\"></div>\n",
       "    </div>\n",
       "<script type=\"text/javascript\">\n",
       "  \n",
       "  (function(global) {\n",
       "    function now() {\n",
       "      return new Date();\n",
       "    }\n",
       "  \n",
       "    if (typeof (window._bokeh_onload_callbacks) === \"undefined\") {\n",
       "      window._bokeh_onload_callbacks = [];\n",
       "    }\n",
       "  \n",
       "    function run_callbacks() {\n",
       "      window._bokeh_onload_callbacks.forEach(function(callback) { callback() });\n",
       "      delete window._bokeh_onload_callbacks\n",
       "      console.info(\"Bokeh: all callbacks have finished\");\n",
       "    }\n",
       "  \n",
       "    function load_libs(js_urls, callback) {\n",
       "      window._bokeh_onload_callbacks.push(callback);\n",
       "      if (window._bokeh_is_loading > 0) {\n",
       "        console.log(\"Bokeh: BokehJS is being loaded, scheduling callback at\", now());\n",
       "        return null;\n",
       "      }\n",
       "      if (js_urls == null || js_urls.length === 0) {\n",
       "        run_callbacks();\n",
       "        return null;\n",
       "      }\n",
       "      console.log(\"Bokeh: BokehJS not loaded, scheduling load and callback at\", now());\n",
       "      window._bokeh_is_loading = js_urls.length;\n",
       "      for (var i = 0; i < js_urls.length; i++) {\n",
       "        var url = js_urls[i];\n",
       "        var s = document.createElement('script');\n",
       "        s.src = url;\n",
       "        s.async = false;\n",
       "        s.onreadystatechange = s.onload = function() {\n",
       "          window._bokeh_is_loading--;\n",
       "          if (window._bokeh_is_loading === 0) {\n",
       "            console.log(\"Bokeh: all BokehJS libraries loaded\");\n",
       "            run_callbacks()\n",
       "          }\n",
       "        };\n",
       "        s.onerror = function() {\n",
       "          console.warn(\"failed to load library \" + url);\n",
       "        };\n",
       "        console.log(\"Bokeh: injecting script tag for BokehJS library: \", url);\n",
       "        document.getElementsByTagName(\"head\")[0].appendChild(s);\n",
       "      }\n",
       "    };var element = document.getElementById(\"f01f8328-ba19-4308-94e3-41b8720738fe\");\n",
       "    if (element == null) {\n",
       "      console.log(\"Bokeh: ERROR: autoload.js configured with elementid 'f01f8328-ba19-4308-94e3-41b8720738fe' but no matching script tag was found. \")\n",
       "      return false;\n",
       "    }\n",
       "  \n",
       "    var js_urls = [];\n",
       "  \n",
       "    var inline_js = [\n",
       "      function(Bokeh) {\n",
       "        Bokeh.$(function() {\n",
       "            var docs_json = {\"fe246e61-70e5-49a7-91d5-3b7834ebc1d4\":{\"roots\":{\"references\":[{\"attributes\":{\"callback\":null,\"column_names\":[\"size\",\"y\",\"x\"],\"data\":{\"size\":[10,15,20,25,30],\"x\":[2,3,4,5,6],\"y\":[6,7,2,4,5]}},\"id\":\"2ea03154-0c48-425b-a669-feb7e02f2171\",\"type\":\"ColumnDataSource\"},{\"attributes\":{\"active_drag\":\"auto\",\"active_scroll\":\"auto\",\"active_tap\":\"auto\",\"tools\":[{\"id\":\"b4fe82ac-fcb5-4466-9d1d-c14a17cb6056\",\"type\":\"PanTool\"},{\"id\":\"de1a5993-4186-4852-9514-c4e0f5452dd6\",\"type\":\"WheelZoomTool\"},{\"id\":\"963957e4-f41f-4cd0-9bca-db07440eb1fc\",\"type\":\"BoxZoomTool\"},{\"id\":\"dd3da5e2-e51f-4432-95f4-b3937c3ee221\",\"type\":\"SaveTool\"},{\"id\":\"478c5c4e-88e1-4eb9-af6e-e8c795179ab2\",\"type\":\"ResetTool\"},{\"id\":\"35be8ef7-d002-4474-930d-995cc460253c\",\"type\":\"HelpTool\"}]},\"id\":\"1cae4db0-9389-449f-b427-1d2f9e1436ff\",\"type\":\"Toolbar\"},{\"attributes\":{\"plot\":{\"id\":\"66800040-f83d-4cfa-8d9a-6986c1ef17cc\",\"subtype\":\"Figure\",\"type\":\"Plot\"}},\"id\":\"35be8ef7-d002-4474-930d-995cc460253c\",\"type\":\"HelpTool\"},{\"attributes\":{\"plot\":{\"id\":\"66800040-f83d-4cfa-8d9a-6986c1ef17cc\",\"subtype\":\"Figure\",\"type\":\"Plot\"}},\"id\":\"478c5c4e-88e1-4eb9-af6e-e8c795179ab2\",\"type\":\"ResetTool\"},{\"attributes\":{\"overlay\":{\"id\":\"6ec477c3-c803-4983-9c3e-7e09e6bb15e4\",\"type\":\"BoxAnnotation\"},\"plot\":{\"id\":\"66800040-f83d-4cfa-8d9a-6986c1ef17cc\",\"subtype\":\"Figure\",\"type\":\"Plot\"}},\"id\":\"963957e4-f41f-4cd0-9bca-db07440eb1fc\",\"type\":\"BoxZoomTool\"},{\"attributes\":{\"dimension\":1,\"plot\":{\"id\":\"66800040-f83d-4cfa-8d9a-6986c1ef17cc\",\"subtype\":\"Figure\",\"type\":\"Plot\"},\"ticker\":{\"id\":\"2ac33560-4f1a-41fe-80e1-20681476a94c\",\"type\":\"BasicTicker\"}},\"id\":\"974a8f36-51a9-4285-a9d1-cc94a945dfaa\",\"type\":\"Grid\"},{\"attributes\":{\"plot\":null,\"text\":null},\"id\":\"50225bc4-d859-4db4-9600-1bdfbe55fa80\",\"type\":\"Title\"},{\"attributes\":{\"fill_alpha\":{\"value\":0.6},\"fill_color\":{\"value\":\"firebrick\"},\"line_alpha\":{\"value\":0.6},\"line_color\":{\"value\":\"firebrick\"},\"size\":{\"field\":\"size\",\"units\":\"screen\"},\"x\":{\"field\":\"x\"},\"y\":{\"field\":\"y\"}},\"id\":\"00866fba-7bdc-428b-8a17-3bfc91659106\",\"type\":\"Asterisk\"},{\"attributes\":{\"fill_alpha\":{\"value\":0.1},\"fill_color\":{\"value\":\"#1f77b4\"},\"line_alpha\":{\"value\":0.1},\"line_color\":{\"value\":\"#1f77b4\"},\"size\":{\"field\":\"size\",\"units\":\"screen\"},\"x\":{\"field\":\"x\"},\"y\":{\"field\":\"y\"}},\"id\":\"f78d5341-9bf3-44fc-856b-35e1d7ea908e\",\"type\":\"Asterisk\"},{\"attributes\":{\"plot\":{\"id\":\"66800040-f83d-4cfa-8d9a-6986c1ef17cc\",\"subtype\":\"Figure\",\"type\":\"Plot\"}},\"id\":\"dd3da5e2-e51f-4432-95f4-b3937c3ee221\",\"type\":\"SaveTool\"},{\"attributes\":{},\"id\":\"16807221-1e6c-490b-a5bb-25afa8c88384\",\"type\":\"BasicTickFormatter\"},{\"attributes\":{\"below\":[{\"id\":\"f23104c4-ae22-44c0-b5fa-9527adbcc048\",\"type\":\"LinearAxis\"}],\"left\":[{\"id\":\"1769e0b2-b48a-46ab-88bc-41eb1b57f017\",\"type\":\"LinearAxis\"}],\"plot_height\":400,\"plot_width\":400,\"renderers\":[{\"id\":\"f23104c4-ae22-44c0-b5fa-9527adbcc048\",\"type\":\"LinearAxis\"},{\"id\":\"9d847a8e-c433-4f22-8e3e-d0c91da96bb8\",\"type\":\"Grid\"},{\"id\":\"1769e0b2-b48a-46ab-88bc-41eb1b57f017\",\"type\":\"LinearAxis\"},{\"id\":\"974a8f36-51a9-4285-a9d1-cc94a945dfaa\",\"type\":\"Grid\"},{\"id\":\"6ec477c3-c803-4983-9c3e-7e09e6bb15e4\",\"type\":\"BoxAnnotation\"},{\"id\":\"b8f35ff5-a237-471c-af36-6952342b691d\",\"type\":\"GlyphRenderer\"},{\"id\":\"91ada1ab-134b-437c-a5e9-07bbc0ed5408\",\"type\":\"GlyphRenderer\"}],\"title\":{\"id\":\"50225bc4-d859-4db4-9600-1bdfbe55fa80\",\"type\":\"Title\"},\"tool_events\":{\"id\":\"7244a9b0-d5ab-4b22-a7f4-078d71abca85\",\"type\":\"ToolEvents\"},\"toolbar\":{\"id\":\"1cae4db0-9389-449f-b427-1d2f9e1436ff\",\"type\":\"Toolbar\"},\"x_range\":{\"id\":\"2920b9a5-475a-4a2b-8f58-7c48f6de5060\",\"type\":\"DataRange1d\"},\"y_range\":{\"id\":\"aefaf828-e7a6-4ade-9e78-6ca32100fdc9\",\"type\":\"DataRange1d\"}},\"id\":\"66800040-f83d-4cfa-8d9a-6986c1ef17cc\",\"subtype\":\"Figure\",\"type\":\"Plot\"},{\"attributes\":{\"plot\":{\"id\":\"66800040-f83d-4cfa-8d9a-6986c1ef17cc\",\"subtype\":\"Figure\",\"type\":\"Plot\"}},\"id\":\"de1a5993-4186-4852-9514-c4e0f5452dd6\",\"type\":\"WheelZoomTool\"},{\"attributes\":{\"formatter\":{\"id\":\"16807221-1e6c-490b-a5bb-25afa8c88384\",\"type\":\"BasicTickFormatter\"},\"plot\":{\"id\":\"66800040-f83d-4cfa-8d9a-6986c1ef17cc\",\"subtype\":\"Figure\",\"type\":\"Plot\"},\"ticker\":{\"id\":\"403a0230-1fe3-4933-89b9-88eb3314d790\",\"type\":\"BasicTicker\"}},\"id\":\"f23104c4-ae22-44c0-b5fa-9527adbcc048\",\"type\":\"LinearAxis\"},{\"attributes\":{\"formatter\":{\"id\":\"ad060ec8-0516-4b1a-9c08-8ee45c4baf48\",\"type\":\"BasicTickFormatter\"},\"plot\":{\"id\":\"66800040-f83d-4cfa-8d9a-6986c1ef17cc\",\"subtype\":\"Figure\",\"type\":\"Plot\"},\"ticker\":{\"id\":\"2ac33560-4f1a-41fe-80e1-20681476a94c\",\"type\":\"BasicTicker\"}},\"id\":\"1769e0b2-b48a-46ab-88bc-41eb1b57f017\",\"type\":\"LinearAxis\"},{\"attributes\":{\"plot\":{\"id\":\"66800040-f83d-4cfa-8d9a-6986c1ef17cc\",\"subtype\":\"Figure\",\"type\":\"Plot\"}},\"id\":\"b4fe82ac-fcb5-4466-9d1d-c14a17cb6056\",\"type\":\"PanTool\"},{\"attributes\":{\"plot\":{\"id\":\"66800040-f83d-4cfa-8d9a-6986c1ef17cc\",\"subtype\":\"Figure\",\"type\":\"Plot\"},\"ticker\":{\"id\":\"403a0230-1fe3-4933-89b9-88eb3314d790\",\"type\":\"BasicTicker\"}},\"id\":\"9d847a8e-c433-4f22-8e3e-d0c91da96bb8\",\"type\":\"Grid\"},{\"attributes\":{\"callback\":null},\"id\":\"2920b9a5-475a-4a2b-8f58-7c48f6de5060\",\"type\":\"DataRange1d\"},{\"attributes\":{\"callback\":null,\"column_names\":[\"size\",\"y\",\"x\"],\"data\":{\"size\":[10,15,20,25,30],\"x\":[1,2,3,4,5],\"y\":[6,7,2,4,5]}},\"id\":\"6a653e8d-2bf5-4b1f-ba42-722e2b32abc9\",\"type\":\"ColumnDataSource\"},{\"attributes\":{},\"id\":\"7244a9b0-d5ab-4b22-a7f4-078d71abca85\",\"type\":\"ToolEvents\"},{\"attributes\":{\"data_source\":{\"id\":\"6a653e8d-2bf5-4b1f-ba42-722e2b32abc9\",\"type\":\"ColumnDataSource\"},\"glyph\":{\"id\":\"00866fba-7bdc-428b-8a17-3bfc91659106\",\"type\":\"Asterisk\"},\"hover_glyph\":null,\"nonselection_glyph\":{\"id\":\"f78d5341-9bf3-44fc-856b-35e1d7ea908e\",\"type\":\"Asterisk\"},\"selection_glyph\":null},\"id\":\"b8f35ff5-a237-471c-af36-6952342b691d\",\"type\":\"GlyphRenderer\"},{\"attributes\":{\"callback\":null},\"id\":\"aefaf828-e7a6-4ade-9e78-6ca32100fdc9\",\"type\":\"DataRange1d\"},{\"attributes\":{\"bottom_units\":\"screen\",\"fill_alpha\":{\"value\":0.5},\"fill_color\":{\"value\":\"lightgrey\"},\"left_units\":\"screen\",\"level\":\"overlay\",\"line_alpha\":{\"value\":1.0},\"line_color\":{\"value\":\"black\"},\"line_dash\":[4,4],\"line_width\":{\"value\":2},\"plot\":null,\"render_mode\":\"css\",\"right_units\":\"screen\",\"top_units\":\"screen\"},\"id\":\"6ec477c3-c803-4983-9c3e-7e09e6bb15e4\",\"type\":\"BoxAnnotation\"},{\"attributes\":{},\"id\":\"403a0230-1fe3-4933-89b9-88eb3314d790\",\"type\":\"BasicTicker\"},{\"attributes\":{\"fill_alpha\":{\"value\":0.6},\"fill_color\":{\"value\":\"blue\"},\"line_alpha\":{\"value\":0.6},\"line_color\":{\"value\":\"blue\"},\"size\":{\"field\":\"size\",\"units\":\"screen\"},\"x\":{\"field\":\"x\"},\"y\":{\"field\":\"y\"}},\"id\":\"75dd96f5-7951-427b-b79a-e928f740b8af\",\"type\":\"CircleX\"},{\"attributes\":{\"fill_alpha\":{\"value\":0.1},\"fill_color\":{\"value\":\"#1f77b4\"},\"line_alpha\":{\"value\":0.1},\"line_color\":{\"value\":\"#1f77b4\"},\"size\":{\"field\":\"size\",\"units\":\"screen\"},\"x\":{\"field\":\"x\"},\"y\":{\"field\":\"y\"}},\"id\":\"d8e2f004-62e2-4d25-9215-eb6e1a899ec9\",\"type\":\"CircleX\"},{\"attributes\":{},\"id\":\"2ac33560-4f1a-41fe-80e1-20681476a94c\",\"type\":\"BasicTicker\"},{\"attributes\":{\"data_source\":{\"id\":\"2ea03154-0c48-425b-a669-feb7e02f2171\",\"type\":\"ColumnDataSource\"},\"glyph\":{\"id\":\"75dd96f5-7951-427b-b79a-e928f740b8af\",\"type\":\"CircleX\"},\"hover_glyph\":null,\"nonselection_glyph\":{\"id\":\"d8e2f004-62e2-4d25-9215-eb6e1a899ec9\",\"type\":\"CircleX\"},\"selection_glyph\":null},\"id\":\"91ada1ab-134b-437c-a5e9-07bbc0ed5408\",\"type\":\"GlyphRenderer\"},{\"attributes\":{},\"id\":\"ad060ec8-0516-4b1a-9c08-8ee45c4baf48\",\"type\":\"BasicTickFormatter\"}],\"root_ids\":[\"66800040-f83d-4cfa-8d9a-6986c1ef17cc\"]},\"title\":\"Bokeh Application\",\"version\":\"0.12.0\"}};\n",
       "            var render_items = [{\"docid\":\"fe246e61-70e5-49a7-91d5-3b7834ebc1d4\",\"elementid\":\"f01f8328-ba19-4308-94e3-41b8720738fe\",\"modelid\":\"66800040-f83d-4cfa-8d9a-6986c1ef17cc\",\"notebook_comms_target\":\"bd8b4fea-70f0-49d9-9eaf-f05737c34049\"}];\n",
       "            \n",
       "            Bokeh.embed.embed_items(docs_json, render_items);\n",
       "        });\n",
       "      },\n",
       "      function(Bokeh) {\n",
       "      }\n",
       "    ];\n",
       "  \n",
       "    function run_inline_js() {\n",
       "      for (var i = 0; i < inline_js.length; i++) {\n",
       "        inline_js[i](window.Bokeh);\n",
       "      }\n",
       "    }\n",
       "  \n",
       "    if (window._bokeh_is_loading === 0) {\n",
       "      console.log(\"Bokeh: BokehJS loaded, going straight to plotting\");\n",
       "      run_inline_js();\n",
       "    } else {\n",
       "      load_libs(js_urls, function() {\n",
       "        console.log(\"Bokeh: BokehJS plotting callback run at\", now());\n",
       "        run_inline_js();\n",
       "      });\n",
       "    }\n",
       "  }(this));\n",
       "</script>"
      ]
     },
     "metadata": {},
     "output_type": "display_data"
    },
    {
     "data": {
      "text/html": [
       "<p><code>&lt;Bokeh Notebook handle for <strong>In[12]</strong>&gt;</code></p>"
      ],
      "text/plain": [
       "<bokeh.io._CommsHandle at 0x442f9a8630>"
      ]
     },
     "execution_count": 12,
     "metadata": {},
     "output_type": "execute_result"
    }
   ],
   "source": [
    "# EXERCISE: Plot some different markers in this cell\n",
    "\n",
    "# create a new plot using figure\n",
    "p = figure(plot_width=400, plot_height=400)\n",
    "\n",
    "# add a square renderer with a size, color, alpha, and sizes\n",
    "p.asterisk([1, 2, 3, 4, 5], [6, 7, 2, 4, 5], size=[10, 15, 20, 25, 30], color=\"firebrick\", alpha=0.6)\n",
    "\n",
    "p.circle_x([2, 3, 4, 5, 6], [6, 7, 2, 4, 5], size=[10, 15, 20, 25, 30], color=\"blue\", alpha=0.6)\n",
    "\n",
    "show(p) # show the results"
   ]
  },
  {
   "cell_type": "markdown",
   "metadata": {},
   "source": [
    "# Basic Line Plots"
   ]
  },
  {
   "cell_type": "code",
   "execution_count": 30,
   "metadata": {
    "collapsed": false
   },
   "outputs": [
    {
     "data": {
      "text/html": [
       "\n",
       "\n",
       "    <div class=\"bk-root\">\n",
       "        <div class=\"plotdiv\" id=\"e7eede7b-2289-474d-97f8-f9b77a3c0d59\"></div>\n",
       "    </div>\n",
       "<script type=\"text/javascript\">\n",
       "  \n",
       "  (function(global) {\n",
       "    function now() {\n",
       "      return new Date();\n",
       "    }\n",
       "  \n",
       "    if (typeof (window._bokeh_onload_callbacks) === \"undefined\") {\n",
       "      window._bokeh_onload_callbacks = [];\n",
       "    }\n",
       "  \n",
       "    function run_callbacks() {\n",
       "      window._bokeh_onload_callbacks.forEach(function(callback) { callback() });\n",
       "      delete window._bokeh_onload_callbacks\n",
       "      console.info(\"Bokeh: all callbacks have finished\");\n",
       "    }\n",
       "  \n",
       "    function load_libs(js_urls, callback) {\n",
       "      window._bokeh_onload_callbacks.push(callback);\n",
       "      if (window._bokeh_is_loading > 0) {\n",
       "        console.log(\"Bokeh: BokehJS is being loaded, scheduling callback at\", now());\n",
       "        return null;\n",
       "      }\n",
       "      if (js_urls == null || js_urls.length === 0) {\n",
       "        run_callbacks();\n",
       "        return null;\n",
       "      }\n",
       "      console.log(\"Bokeh: BokehJS not loaded, scheduling load and callback at\", now());\n",
       "      window._bokeh_is_loading = js_urls.length;\n",
       "      for (var i = 0; i < js_urls.length; i++) {\n",
       "        var url = js_urls[i];\n",
       "        var s = document.createElement('script');\n",
       "        s.src = url;\n",
       "        s.async = false;\n",
       "        s.onreadystatechange = s.onload = function() {\n",
       "          window._bokeh_is_loading--;\n",
       "          if (window._bokeh_is_loading === 0) {\n",
       "            console.log(\"Bokeh: all BokehJS libraries loaded\");\n",
       "            run_callbacks()\n",
       "          }\n",
       "        };\n",
       "        s.onerror = function() {\n",
       "          console.warn(\"failed to load library \" + url);\n",
       "        };\n",
       "        console.log(\"Bokeh: injecting script tag for BokehJS library: \", url);\n",
       "        document.getElementsByTagName(\"head\")[0].appendChild(s);\n",
       "      }\n",
       "    };var element = document.getElementById(\"e7eede7b-2289-474d-97f8-f9b77a3c0d59\");\n",
       "    if (element == null) {\n",
       "      console.log(\"Bokeh: ERROR: autoload.js configured with elementid 'e7eede7b-2289-474d-97f8-f9b77a3c0d59' but no matching script tag was found. \")\n",
       "      return false;\n",
       "    }\n",
       "  \n",
       "    var js_urls = [];\n",
       "  \n",
       "    var inline_js = [\n",
       "      function(Bokeh) {\n",
       "        Bokeh.$(function() {\n",
       "            var docs_json = {\"8a7c498b-8ad6-4113-8357-a639b162f269\":{\"roots\":{\"references\":[{\"attributes\":{\"dimension\":1,\"plot\":{\"id\":\"7b9578f1-0b60-4bfa-8cf2-f3346748f9d3\",\"subtype\":\"Figure\",\"type\":\"Plot\"},\"ticker\":{\"id\":\"a9fcdaca-cee9-4d18-95c9-8d0965660ae8\",\"type\":\"BasicTicker\"}},\"id\":\"2a1f7c5b-c614-4fe8-a9dd-e1e99300eb3a\",\"type\":\"Grid\"},{\"attributes\":{},\"id\":\"1a11605e-9e2d-45eb-b467-6e354049421e\",\"type\":\"BasicTickFormatter\"},{\"attributes\":{\"data_source\":{\"id\":\"1a9fd2f5-5150-4370-a011-4b9b8f250a3f\",\"type\":\"ColumnDataSource\"},\"glyph\":{\"id\":\"1b096c56-484c-4c4e-87e2-15cef63d0ee2\",\"type\":\"Circle\"},\"hover_glyph\":null,\"nonselection_glyph\":{\"id\":\"25eb24dd-c556-4ff2-961b-7c4242bb0683\",\"type\":\"Circle\"},\"selection_glyph\":null},\"id\":\"94974247-895d-40e5-881e-673f28b57fea\",\"type\":\"GlyphRenderer\"},{\"attributes\":{\"fill_alpha\":{\"value\":0.1},\"fill_color\":{\"value\":\"#1f77b4\"},\"line_alpha\":{\"value\":0.1},\"line_color\":{\"value\":\"#1f77b4\"},\"size\":{\"units\":\"screen\",\"value\":10},\"x\":{\"field\":\"x\"},\"y\":{\"field\":\"y\"}},\"id\":\"25eb24dd-c556-4ff2-961b-7c4242bb0683\",\"type\":\"Circle\"},{\"attributes\":{\"overlay\":{\"id\":\"feb68642-fbaf-49ed-8f69-bd92ca3792e2\",\"type\":\"BoxAnnotation\"},\"plot\":{\"id\":\"7b9578f1-0b60-4bfa-8cf2-f3346748f9d3\",\"subtype\":\"Figure\",\"type\":\"Plot\"}},\"id\":\"c7162941-1fff-4c45-986c-42e8602613b1\",\"type\":\"BoxZoomTool\"},{\"attributes\":{\"plot\":null,\"text\":\"My Line Plot\"},\"id\":\"2c958e92-11f5-434b-ae71-12abb38ba93e\",\"type\":\"Title\"},{\"attributes\":{\"fill_color\":{\"value\":\"white\"},\"line_color\":{\"value\":\"blue\"},\"size\":{\"units\":\"screen\",\"value\":10},\"x\":{\"field\":\"x\"},\"y\":{\"field\":\"y\"}},\"id\":\"1b096c56-484c-4c4e-87e2-15cef63d0ee2\",\"type\":\"Circle\"},{\"attributes\":{\"plot\":{\"id\":\"7b9578f1-0b60-4bfa-8cf2-f3346748f9d3\",\"subtype\":\"Figure\",\"type\":\"Plot\"},\"ticker\":{\"id\":\"597539e5-84c9-4e77-b143-ae53f0261688\",\"type\":\"BasicTicker\"}},\"id\":\"77c5efab-d1af-4b54-a87d-2136c952ce89\",\"type\":\"Grid\"},{\"attributes\":{\"data_source\":{\"id\":\"e7d7403f-81ee-49b0-a406-ae2e8a6f19db\",\"type\":\"ColumnDataSource\"},\"glyph\":{\"id\":\"17f35c0f-4041-47b6-bba1-ad890aeaaf4e\",\"type\":\"Line\"},\"hover_glyph\":null,\"nonselection_glyph\":{\"id\":\"1360a54c-fec6-468a-b660-194493de6802\",\"type\":\"Line\"},\"selection_glyph\":null},\"id\":\"4e3987d3-13c2-43f5-ae56-f6933ed4ace5\",\"type\":\"GlyphRenderer\"},{\"attributes\":{\"callback\":null},\"id\":\"ee78949f-32e1-4f41-ae01-9abafb14b826\",\"type\":\"DataRange1d\"},{\"attributes\":{\"plot\":{\"id\":\"7b9578f1-0b60-4bfa-8cf2-f3346748f9d3\",\"subtype\":\"Figure\",\"type\":\"Plot\"}},\"id\":\"c306235a-ad90-4cb8-8888-2b2038b1ca11\",\"type\":\"WheelZoomTool\"},{\"attributes\":{\"active_drag\":\"auto\",\"active_scroll\":\"auto\",\"active_tap\":\"auto\",\"tools\":[{\"id\":\"623c9bd4-7310-41fe-aeec-6804377f4439\",\"type\":\"PanTool\"},{\"id\":\"c306235a-ad90-4cb8-8888-2b2038b1ca11\",\"type\":\"WheelZoomTool\"},{\"id\":\"c7162941-1fff-4c45-986c-42e8602613b1\",\"type\":\"BoxZoomTool\"},{\"id\":\"816dcb58-2cb1-4c8f-a255-507327a2975d\",\"type\":\"SaveTool\"},{\"id\":\"dd56f034-5a49-47ac-a77a-b9828e3b9ea4\",\"type\":\"ResetTool\"},{\"id\":\"6cb8de9b-2f0a-4191-84f1-208e56f75f2d\",\"type\":\"HelpTool\"}]},\"id\":\"c5c0294e-45c3-4343-9934-8b245356271d\",\"type\":\"Toolbar\"},{\"attributes\":{\"bottom_units\":\"screen\",\"fill_alpha\":{\"value\":0.5},\"fill_color\":{\"value\":\"lightgrey\"},\"left_units\":\"screen\",\"level\":\"overlay\",\"line_alpha\":{\"value\":1.0},\"line_color\":{\"value\":\"black\"},\"line_dash\":[4,4],\"line_width\":{\"value\":2},\"plot\":null,\"render_mode\":\"css\",\"right_units\":\"screen\",\"top_units\":\"screen\"},\"id\":\"feb68642-fbaf-49ed-8f69-bd92ca3792e2\",\"type\":\"BoxAnnotation\"},{\"attributes\":{},\"id\":\"597539e5-84c9-4e77-b143-ae53f0261688\",\"type\":\"BasicTicker\"},{\"attributes\":{\"plot\":{\"id\":\"7b9578f1-0b60-4bfa-8cf2-f3346748f9d3\",\"subtype\":\"Figure\",\"type\":\"Plot\"}},\"id\":\"6cb8de9b-2f0a-4191-84f1-208e56f75f2d\",\"type\":\"HelpTool\"},{\"attributes\":{\"plot\":{\"id\":\"7b9578f1-0b60-4bfa-8cf2-f3346748f9d3\",\"subtype\":\"Figure\",\"type\":\"Plot\"}},\"id\":\"816dcb58-2cb1-4c8f-a255-507327a2975d\",\"type\":\"SaveTool\"},{\"attributes\":{\"line_alpha\":{\"value\":0.1},\"line_color\":{\"value\":\"#1f77b4\"},\"line_width\":{\"value\":2},\"x\":{\"field\":\"x\"},\"y\":{\"field\":\"y\"}},\"id\":\"1360a54c-fec6-468a-b660-194493de6802\",\"type\":\"Line\"},{\"attributes\":{\"line_alpha\":{\"value\":0.4},\"line_color\":{\"value\":\"blue\"},\"line_width\":{\"value\":2},\"x\":{\"field\":\"x\"},\"y\":{\"field\":\"y\"}},\"id\":\"17f35c0f-4041-47b6-bba1-ad890aeaaf4e\",\"type\":\"Line\"},{\"attributes\":{\"formatter\":{\"id\":\"d18beabb-7bfc-41ca-a1c0-45723ccb768e\",\"type\":\"BasicTickFormatter\"},\"plot\":{\"id\":\"7b9578f1-0b60-4bfa-8cf2-f3346748f9d3\",\"subtype\":\"Figure\",\"type\":\"Plot\"},\"ticker\":{\"id\":\"597539e5-84c9-4e77-b143-ae53f0261688\",\"type\":\"BasicTicker\"}},\"id\":\"698cc508-5c2b-4f8f-9b63-3b081154669e\",\"type\":\"LinearAxis\"},{\"attributes\":{\"plot\":{\"id\":\"7b9578f1-0b60-4bfa-8cf2-f3346748f9d3\",\"subtype\":\"Figure\",\"type\":\"Plot\"}},\"id\":\"623c9bd4-7310-41fe-aeec-6804377f4439\",\"type\":\"PanTool\"},{\"attributes\":{\"plot\":{\"id\":\"7b9578f1-0b60-4bfa-8cf2-f3346748f9d3\",\"subtype\":\"Figure\",\"type\":\"Plot\"}},\"id\":\"dd56f034-5a49-47ac-a77a-b9828e3b9ea4\",\"type\":\"ResetTool\"},{\"attributes\":{\"callback\":null,\"column_names\":[\"x\",\"y\"],\"data\":{\"x\":[1,2,3,4,5],\"y\":[6,7,2,4,5]}},\"id\":\"1a9fd2f5-5150-4370-a011-4b9b8f250a3f\",\"type\":\"ColumnDataSource\"},{\"attributes\":{\"callback\":null,\"column_names\":[\"x\",\"y\"],\"data\":{\"x\":[1,2,3,4,5],\"y\":[6,7,2,4,5]}},\"id\":\"e7d7403f-81ee-49b0-a406-ae2e8a6f19db\",\"type\":\"ColumnDataSource\"},{\"attributes\":{},\"id\":\"a9fcdaca-cee9-4d18-95c9-8d0965660ae8\",\"type\":\"BasicTicker\"},{\"attributes\":{\"formatter\":{\"id\":\"1a11605e-9e2d-45eb-b467-6e354049421e\",\"type\":\"BasicTickFormatter\"},\"plot\":{\"id\":\"7b9578f1-0b60-4bfa-8cf2-f3346748f9d3\",\"subtype\":\"Figure\",\"type\":\"Plot\"},\"ticker\":{\"id\":\"a9fcdaca-cee9-4d18-95c9-8d0965660ae8\",\"type\":\"BasicTicker\"}},\"id\":\"13a1ad76-9203-4b28-a1e2-e735ae7f24c1\",\"type\":\"LinearAxis\"},{\"attributes\":{\"callback\":null},\"id\":\"eedd81c6-d534-454a-ae6c-b8d69e9b44b7\",\"type\":\"DataRange1d\"},{\"attributes\":{},\"id\":\"d18beabb-7bfc-41ca-a1c0-45723ccb768e\",\"type\":\"BasicTickFormatter\"},{\"attributes\":{},\"id\":\"b1d754bb-c0c3-4943-95a8-3576e88d8c41\",\"type\":\"ToolEvents\"},{\"attributes\":{\"below\":[{\"id\":\"698cc508-5c2b-4f8f-9b63-3b081154669e\",\"type\":\"LinearAxis\"}],\"left\":[{\"id\":\"13a1ad76-9203-4b28-a1e2-e735ae7f24c1\",\"type\":\"LinearAxis\"}],\"plot_height\":400,\"plot_width\":400,\"renderers\":[{\"id\":\"698cc508-5c2b-4f8f-9b63-3b081154669e\",\"type\":\"LinearAxis\"},{\"id\":\"77c5efab-d1af-4b54-a87d-2136c952ce89\",\"type\":\"Grid\"},{\"id\":\"13a1ad76-9203-4b28-a1e2-e735ae7f24c1\",\"type\":\"LinearAxis\"},{\"id\":\"2a1f7c5b-c614-4fe8-a9dd-e1e99300eb3a\",\"type\":\"Grid\"},{\"id\":\"feb68642-fbaf-49ed-8f69-bd92ca3792e2\",\"type\":\"BoxAnnotation\"},{\"id\":\"4e3987d3-13c2-43f5-ae56-f6933ed4ace5\",\"type\":\"GlyphRenderer\"},{\"id\":\"94974247-895d-40e5-881e-673f28b57fea\",\"type\":\"GlyphRenderer\"}],\"title\":{\"id\":\"2c958e92-11f5-434b-ae71-12abb38ba93e\",\"type\":\"Title\"},\"tool_events\":{\"id\":\"b1d754bb-c0c3-4943-95a8-3576e88d8c41\",\"type\":\"ToolEvents\"},\"toolbar\":{\"id\":\"c5c0294e-45c3-4343-9934-8b245356271d\",\"type\":\"Toolbar\"},\"x_range\":{\"id\":\"ee78949f-32e1-4f41-ae01-9abafb14b826\",\"type\":\"DataRange1d\"},\"y_range\":{\"id\":\"eedd81c6-d534-454a-ae6c-b8d69e9b44b7\",\"type\":\"DataRange1d\"}},\"id\":\"7b9578f1-0b60-4bfa-8cf2-f3346748f9d3\",\"subtype\":\"Figure\",\"type\":\"Plot\"}],\"root_ids\":[\"7b9578f1-0b60-4bfa-8cf2-f3346748f9d3\"]},\"title\":\"Bokeh Application\",\"version\":\"0.12.0\"}};\n",
       "            var render_items = [{\"docid\":\"8a7c498b-8ad6-4113-8357-a639b162f269\",\"elementid\":\"e7eede7b-2289-474d-97f8-f9b77a3c0d59\",\"modelid\":\"7b9578f1-0b60-4bfa-8cf2-f3346748f9d3\",\"notebook_comms_target\":\"ae93e45f-53d3-4c9e-b61a-40f093bb88b3\"}];\n",
       "            \n",
       "            Bokeh.embed.embed_items(docs_json, render_items);\n",
       "        });\n",
       "      },\n",
       "      function(Bokeh) {\n",
       "      }\n",
       "    ];\n",
       "  \n",
       "    function run_inline_js() {\n",
       "      for (var i = 0; i < inline_js.length; i++) {\n",
       "        inline_js[i](window.Bokeh);\n",
       "      }\n",
       "    }\n",
       "  \n",
       "    if (window._bokeh_is_loading === 0) {\n",
       "      console.log(\"Bokeh: BokehJS loaded, going straight to plotting\");\n",
       "      run_inline_js();\n",
       "    } else {\n",
       "      load_libs(js_urls, function() {\n",
       "        console.log(\"Bokeh: BokehJS plotting callback run at\", now());\n",
       "        run_inline_js();\n",
       "      });\n",
       "    }\n",
       "  }(this));\n",
       "</script>"
      ]
     },
     "metadata": {},
     "output_type": "display_data"
    },
    {
     "data": {
      "text/html": [
       "<p><code>&lt;Bokeh Notebook handle for <strong>In[30]</strong>&gt;</code></p>"
      ],
      "text/plain": [
       "<bokeh.io._CommsHandle at 0x44325c6cc0>"
      ]
     },
     "execution_count": 30,
     "metadata": {},
     "output_type": "execute_result"
    }
   ],
   "source": [
    "# create a new plot (with a title) using figure\n",
    "p = figure(plot_width=400, plot_height=400, title=\"My Line Plot\")\n",
    "\n",
    "# add a line renderer\n",
    "p.line([1, 2, 3, 4, 5], [6, 7, 2, 4, 5], line_width=2, line_alpha=0.4, color='blue') #, line_dash=[2,4])\n",
    "p.circle([1, 2, 3, 4, 5], [6, 7, 2, 4, 5], fill_color='white',line_color='blue', size=10)\n",
    "\n",
    "show(p) # show the results"
   ]
  },
  {
   "cell_type": "markdown",
   "metadata": {},
   "source": [
    "# Images"
   ]
  },
  {
   "cell_type": "markdown",
   "metadata": {},
   "source": [
    "The example below shows how to use the `image_rgba` method to display raw RGBA data. \n",
    "\n",
    "**Note**: This example makes use of the NumPy library "
   ]
  },
  {
   "cell_type": "code",
   "execution_count": 26,
   "metadata": {
    "collapsed": false
   },
   "outputs": [
    {
     "data": {
      "text/html": [
       "\n",
       "\n",
       "    <div class=\"bk-root\">\n",
       "        <div class=\"plotdiv\" id=\"146d4a79-ba1b-4c0d-8d84-397ec848ba73\"></div>\n",
       "    </div>\n",
       "<script type=\"text/javascript\">\n",
       "  \n",
       "  (function(global) {\n",
       "    function now() {\n",
       "      return new Date();\n",
       "    }\n",
       "  \n",
       "    if (typeof (window._bokeh_onload_callbacks) === \"undefined\") {\n",
       "      window._bokeh_onload_callbacks = [];\n",
       "    }\n",
       "  \n",
       "    function run_callbacks() {\n",
       "      window._bokeh_onload_callbacks.forEach(function(callback) { callback() });\n",
       "      delete window._bokeh_onload_callbacks\n",
       "      console.info(\"Bokeh: all callbacks have finished\");\n",
       "    }\n",
       "  \n",
       "    function load_libs(js_urls, callback) {\n",
       "      window._bokeh_onload_callbacks.push(callback);\n",
       "      if (window._bokeh_is_loading > 0) {\n",
       "        console.log(\"Bokeh: BokehJS is being loaded, scheduling callback at\", now());\n",
       "        return null;\n",
       "      }\n",
       "      if (js_urls == null || js_urls.length === 0) {\n",
       "        run_callbacks();\n",
       "        return null;\n",
       "      }\n",
       "      console.log(\"Bokeh: BokehJS not loaded, scheduling load and callback at\", now());\n",
       "      window._bokeh_is_loading = js_urls.length;\n",
       "      for (var i = 0; i < js_urls.length; i++) {\n",
       "        var url = js_urls[i];\n",
       "        var s = document.createElement('script');\n",
       "        s.src = url;\n",
       "        s.async = false;\n",
       "        s.onreadystatechange = s.onload = function() {\n",
       "          window._bokeh_is_loading--;\n",
       "          if (window._bokeh_is_loading === 0) {\n",
       "            console.log(\"Bokeh: all BokehJS libraries loaded\");\n",
       "            run_callbacks()\n",
       "          }\n",
       "        };\n",
       "        s.onerror = function() {\n",
       "          console.warn(\"failed to load library \" + url);\n",
       "        };\n",
       "        console.log(\"Bokeh: injecting script tag for BokehJS library: \", url);\n",
       "        document.getElementsByTagName(\"head\")[0].appendChild(s);\n",
       "      }\n",
       "    };var element = document.getElementById(\"146d4a79-ba1b-4c0d-8d84-397ec848ba73\");\n",
       "    if (element == null) {\n",
       "      console.log(\"Bokeh: ERROR: autoload.js configured with elementid '146d4a79-ba1b-4c0d-8d84-397ec848ba73' but no matching script tag was found. \")\n",
       "      return false;\n",
       "    }\n",
       "  \n",
       "    var js_urls = [];\n",
       "  \n",
       "    var inline_js = [\n",
       "      function(Bokeh) {\n",
       "        Bokeh.$(function() {\n",
       "            var docs_json = {\"d74b22fd-d016-457b-80c9-a9fbd5382fde\":{\"roots\":{\"references\":[{\"attributes\":{\"callback\":null,\"end\":10},\"id\":\"b019a66a-7839-4601-ad27-6c37005398f2\",\"type\":\"Range1d\"},{\"attributes\":{\"callback\":null,\"column_names\":[\"image\",\"y\",\"dh\",\"x\",\"dw\"],\"data\":{\"dh\":[10],\"dw\":[10],\"image\":[[[4278230528,4279016960,4279868928,4280720896,4281572864,4282359296,4283211264,4284063232,4284915200,4285701632,4286553600,4287405568,4288257536,4289043968,4289895936,4290747904,4291599872,4292386304,4293238272,4294090240],[4278230540,4279016972,4279868940,4280720908,4281572876,4282359308,4283211276,4284063244,4284915212,4285701644,4286553612,4287405580,4288257548,4289043980,4289895948,4290747916,4291599884,4292386316,4293238284,4294090252],[4278230553,4279016985,4279868953,4280720921,4281572889,4282359321,4283211289,4284063257,4284915225,4285701657,4286553625,4287405593,4288257561,4289043993,4289895961,4290747929,4291599897,4292386329,4293238297,4294090265],[4278230566,4279016998,4279868966,4280720934,4281572902,4282359334,4283211302,4284063270,4284915238,4285701670,4286553638,4287405606,4288257574,4289044006,4289895974,4290747942,4291599910,4292386342,4293238310,4294090278],[4278230579,4279017011,4279868979,4280720947,4281572915,4282359347,4283211315,4284063283,4284915251,4285701683,4286553651,4287405619,4288257587,4289044019,4289895987,4290747955,4291599923,4292386355,4293238323,4294090291],[4278230591,4279017023,4279868991,4280720959,4281572927,4282359359,4283211327,4284063295,4284915263,4285701695,4286553663,4287405631,4288257599,4289044031,4289895999,4290747967,4291599935,4292386367,4293238335,4294090303],[4278230604,4279017036,4279869004,4280720972,4281572940,4282359372,4283211340,4284063308,4284915276,4285701708,4286553676,4287405644,4288257612,4289044044,4289896012,4290747980,4291599948,4292386380,4293238348,4294090316],[4278230617,4279017049,4279869017,4280720985,4281572953,4282359385,4283211353,4284063321,4284915289,4285701721,4286553689,4287405657,4288257625,4289044057,4289896025,4290747993,4291599961,4292386393,4293238361,4294090329],[4278230630,4279017062,4279869030,4280720998,4281572966,4282359398,4283211366,4284063334,4284915302,4285701734,4286553702,4287405670,4288257638,4289044070,4289896038,4290748006,4291599974,4292386406,4293238374,4294090342],[4278230642,4279017074,4279869042,4280721010,4281572978,4282359410,4283211378,4284063346,4284915314,4285701746,4286553714,4287405682,4288257650,4289044082,4289896050,4290748018,4291599986,4292386418,4293238386,4294090354],[4278230655,4279017087,4279869055,4280721023,4281572991,4282359423,4283211391,4284063359,4284915327,4285701759,4286553727,4287405695,4288257663,4289044095,4289896063,4290748031,4291599999,4292386431,4293238399,4294090367],[4278230668,4279017100,4279869068,4280721036,4281573004,4282359436,4283211404,4284063372,4284915340,4285701772,4286553740,4287405708,4288257676,4289044108,4289896076,4290748044,4291600012,4292386444,4293238412,4294090380],[4278230681,4279017113,4279869081,4280721049,4281573017,4282359449,4283211417,4284063385,4284915353,4285701785,4286553753,4287405721,4288257689,4289044121,4289896089,4290748057,4291600025,4292386457,4293238425,4294090393],[4278230693,4279017125,4279869093,4280721061,4281573029,4282359461,4283211429,4284063397,4284915365,4285701797,4286553765,4287405733,4288257701,4289044133,4289896101,4290748069,4291600037,4292386469,4293238437,4294090405],[4278230706,4279017138,4279869106,4280721074,4281573042,4282359474,4283211442,4284063410,4284915378,4285701810,4286553778,4287405746,4288257714,4289044146,4289896114,4290748082,4291600050,4292386482,4293238450,4294090418],[4278230719,4279017151,4279869119,4280721087,4281573055,4282359487,4283211455,4284063423,4284915391,4285701823,4286553791,4287405759,4288257727,4289044159,4289896127,4290748095,4291600063,4292386495,4293238463,4294090431],[4278230732,4279017164,4279869132,4280721100,4281573068,4282359500,4283211468,4284063436,4284915404,4285701836,4286553804,4287405772,4288257740,4289044172,4289896140,4290748108,4291600076,4292386508,4293238476,4294090444],[4278230744,4279017176,4279869144,4280721112,4281573080,4282359512,4283211480,4284063448,4284915416,4285701848,4286553816,4287405784,4288257752,4289044184,4289896152,4290748120,4291600088,4292386520,4293238488,4294090456],[4278230757,4279017189,4279869157,4280721125,4281573093,4282359525,4283211493,4284063461,4284915429,4285701861,4286553829,4287405797,4288257765,4289044197,4289896165,4290748133,4291600101,4292386533,4293238501,4294090469],[4278230770,4279017202,4279869170,4280721138,4281573106,4282359538,4283211506,4284063474,4284915442,4285701874,4286553842,4287405810,4288257778,4289044210,4289896178,4290748146,4291600114,4292386546,4293238514,4294090482]]],\"x\":[0],\"y\":[0]}},\"id\":\"16830d63-cdf6-4d65-b7cb-a4d2b1c1d3a6\",\"type\":\"ColumnDataSource\"},{\"attributes\":{\"plot\":{\"id\":\"5a4ad1cd-8f55-40ab-8e6c-1b252c838029\",\"subtype\":\"Figure\",\"type\":\"Plot\"}},\"id\":\"3aefa623-445d-4abf-9eb9-b9ad0006b22f\",\"type\":\"ResetTool\"},{\"attributes\":{\"plot\":{\"id\":\"5a4ad1cd-8f55-40ab-8e6c-1b252c838029\",\"subtype\":\"Figure\",\"type\":\"Plot\"}},\"id\":\"3e8ccff8-de29-45fc-be9f-f630dba2d989\",\"type\":\"SaveTool\"},{\"attributes\":{\"dh\":{\"field\":\"dh\",\"units\":\"data\"},\"dw\":{\"field\":\"dw\",\"units\":\"data\"},\"image\":{\"field\":\"image\"},\"x\":{\"field\":\"x\"},\"y\":{\"field\":\"y\"}},\"id\":\"b5de4c06-64c3-4065-b891-eeefef262ce0\",\"type\":\"ImageRGBA\"},{\"attributes\":{\"formatter\":{\"id\":\"37ba36ec-6fab-4522-8f28-3c2a486f7fc8\",\"type\":\"BasicTickFormatter\"},\"plot\":{\"id\":\"5a4ad1cd-8f55-40ab-8e6c-1b252c838029\",\"subtype\":\"Figure\",\"type\":\"Plot\"},\"ticker\":{\"id\":\"58b71dad-7428-4289-9c36-989c66868b31\",\"type\":\"BasicTicker\"}},\"id\":\"57ed7db3-0c08-4234-a1fc-dd232ca867d8\",\"type\":\"LinearAxis\"},{\"attributes\":{\"overlay\":{\"id\":\"04699874-2f42-4a7e-a97f-e0b299bbbeb0\",\"type\":\"BoxAnnotation\"},\"plot\":{\"id\":\"5a4ad1cd-8f55-40ab-8e6c-1b252c838029\",\"subtype\":\"Figure\",\"type\":\"Plot\"}},\"id\":\"ee2ca7aa-998a-4c68-bfba-9c57067101e7\",\"type\":\"BoxZoomTool\"},{\"attributes\":{\"callback\":null,\"end\":10},\"id\":\"5ffffeab-849d-42e8-9230-e63ea8a7b2ad\",\"type\":\"Range1d\"},{\"attributes\":{\"below\":[{\"id\":\"77b954a2-8cf5-4b2a-8000-eee8c6c1a530\",\"type\":\"LinearAxis\"}],\"left\":[{\"id\":\"57ed7db3-0c08-4234-a1fc-dd232ca867d8\",\"type\":\"LinearAxis\"}],\"renderers\":[{\"id\":\"77b954a2-8cf5-4b2a-8000-eee8c6c1a530\",\"type\":\"LinearAxis\"},{\"id\":\"54cc6272-0b84-49b0-9253-eb565c37b830\",\"type\":\"Grid\"},{\"id\":\"57ed7db3-0c08-4234-a1fc-dd232ca867d8\",\"type\":\"LinearAxis\"},{\"id\":\"0f8585fa-324b-4de5-8751-31589b5bbba4\",\"type\":\"Grid\"},{\"id\":\"04699874-2f42-4a7e-a97f-e0b299bbbeb0\",\"type\":\"BoxAnnotation\"},{\"id\":\"9af66bb2-f742-4f55-a709-2afd503839b6\",\"type\":\"GlyphRenderer\"}],\"title\":{\"id\":\"7a73bda0-3fac-414a-a853-819bdc631244\",\"type\":\"Title\"},\"tool_events\":{\"id\":\"ec4a8247-3cd9-4077-ae1b-0362ba7f6c12\",\"type\":\"ToolEvents\"},\"toolbar\":{\"id\":\"767503df-811b-4a41-81bf-b4ec392f6134\",\"type\":\"Toolbar\"},\"x_range\":{\"id\":\"5ffffeab-849d-42e8-9230-e63ea8a7b2ad\",\"type\":\"Range1d\"},\"y_range\":{\"id\":\"b019a66a-7839-4601-ad27-6c37005398f2\",\"type\":\"Range1d\"}},\"id\":\"5a4ad1cd-8f55-40ab-8e6c-1b252c838029\",\"subtype\":\"Figure\",\"type\":\"Plot\"},{\"attributes\":{\"plot\":null,\"text\":null},\"id\":\"7a73bda0-3fac-414a-a853-819bdc631244\",\"type\":\"Title\"},{\"attributes\":{},\"id\":\"fc161ed6-dbc1-4d92-83c9-4e1d452a0850\",\"type\":\"BasicTickFormatter\"},{\"attributes\":{\"data_source\":{\"id\":\"16830d63-cdf6-4d65-b7cb-a4d2b1c1d3a6\",\"type\":\"ColumnDataSource\"},\"glyph\":{\"id\":\"b5de4c06-64c3-4065-b891-eeefef262ce0\",\"type\":\"ImageRGBA\"},\"hover_glyph\":null,\"nonselection_glyph\":{\"id\":\"7871ba34-1383-47fe-8f23-6aa1d51ed8e9\",\"type\":\"ImageRGBA\"},\"selection_glyph\":null},\"id\":\"9af66bb2-f742-4f55-a709-2afd503839b6\",\"type\":\"GlyphRenderer\"},{\"attributes\":{\"dimension\":1,\"plot\":{\"id\":\"5a4ad1cd-8f55-40ab-8e6c-1b252c838029\",\"subtype\":\"Figure\",\"type\":\"Plot\"},\"ticker\":{\"id\":\"58b71dad-7428-4289-9c36-989c66868b31\",\"type\":\"BasicTicker\"}},\"id\":\"0f8585fa-324b-4de5-8751-31589b5bbba4\",\"type\":\"Grid\"},{\"attributes\":{\"plot\":{\"id\":\"5a4ad1cd-8f55-40ab-8e6c-1b252c838029\",\"subtype\":\"Figure\",\"type\":\"Plot\"}},\"id\":\"d1a8fcfd-6a1b-457b-8bf5-cb8dafa80517\",\"type\":\"HelpTool\"},{\"attributes\":{\"plot\":{\"id\":\"5a4ad1cd-8f55-40ab-8e6c-1b252c838029\",\"subtype\":\"Figure\",\"type\":\"Plot\"}},\"id\":\"5289b36c-8421-4d55-bc37-f6447cc0cfca\",\"type\":\"WheelZoomTool\"},{\"attributes\":{},\"id\":\"37ba36ec-6fab-4522-8f28-3c2a486f7fc8\",\"type\":\"BasicTickFormatter\"},{\"attributes\":{\"plot\":{\"id\":\"5a4ad1cd-8f55-40ab-8e6c-1b252c838029\",\"subtype\":\"Figure\",\"type\":\"Plot\"},\"ticker\":{\"id\":\"19314cea-46e9-4582-8c36-73ff9204b425\",\"type\":\"BasicTicker\"}},\"id\":\"54cc6272-0b84-49b0-9253-eb565c37b830\",\"type\":\"Grid\"},{\"attributes\":{\"dh\":{\"field\":\"dh\",\"units\":\"data\"},\"dw\":{\"field\":\"dw\",\"units\":\"data\"},\"image\":{\"field\":\"image\"},\"x\":{\"field\":\"x\"},\"y\":{\"field\":\"y\"}},\"id\":\"7871ba34-1383-47fe-8f23-6aa1d51ed8e9\",\"type\":\"ImageRGBA\"},{\"attributes\":{\"plot\":{\"id\":\"5a4ad1cd-8f55-40ab-8e6c-1b252c838029\",\"subtype\":\"Figure\",\"type\":\"Plot\"}},\"id\":\"76e322e3-3094-455a-9d93-f15d8d37d0f6\",\"type\":\"PanTool\"},{\"attributes\":{},\"id\":\"ec4a8247-3cd9-4077-ae1b-0362ba7f6c12\",\"type\":\"ToolEvents\"},{\"attributes\":{\"bottom_units\":\"screen\",\"fill_alpha\":{\"value\":0.5},\"fill_color\":{\"value\":\"lightgrey\"},\"left_units\":\"screen\",\"level\":\"overlay\",\"line_alpha\":{\"value\":1.0},\"line_color\":{\"value\":\"black\"},\"line_dash\":[4,4],\"line_width\":{\"value\":2},\"plot\":null,\"render_mode\":\"css\",\"right_units\":\"screen\",\"top_units\":\"screen\"},\"id\":\"04699874-2f42-4a7e-a97f-e0b299bbbeb0\",\"type\":\"BoxAnnotation\"},{\"attributes\":{\"active_drag\":\"auto\",\"active_scroll\":\"auto\",\"active_tap\":\"auto\",\"tools\":[{\"id\":\"76e322e3-3094-455a-9d93-f15d8d37d0f6\",\"type\":\"PanTool\"},{\"id\":\"5289b36c-8421-4d55-bc37-f6447cc0cfca\",\"type\":\"WheelZoomTool\"},{\"id\":\"ee2ca7aa-998a-4c68-bfba-9c57067101e7\",\"type\":\"BoxZoomTool\"},{\"id\":\"3e8ccff8-de29-45fc-be9f-f630dba2d989\",\"type\":\"SaveTool\"},{\"id\":\"3aefa623-445d-4abf-9eb9-b9ad0006b22f\",\"type\":\"ResetTool\"},{\"id\":\"d1a8fcfd-6a1b-457b-8bf5-cb8dafa80517\",\"type\":\"HelpTool\"}]},\"id\":\"767503df-811b-4a41-81bf-b4ec392f6134\",\"type\":\"Toolbar\"},{\"attributes\":{},\"id\":\"19314cea-46e9-4582-8c36-73ff9204b425\",\"type\":\"BasicTicker\"},{\"attributes\":{\"formatter\":{\"id\":\"fc161ed6-dbc1-4d92-83c9-4e1d452a0850\",\"type\":\"BasicTickFormatter\"},\"plot\":{\"id\":\"5a4ad1cd-8f55-40ab-8e6c-1b252c838029\",\"subtype\":\"Figure\",\"type\":\"Plot\"},\"ticker\":{\"id\":\"19314cea-46e9-4582-8c36-73ff9204b425\",\"type\":\"BasicTicker\"}},\"id\":\"77b954a2-8cf5-4b2a-8000-eee8c6c1a530\",\"type\":\"LinearAxis\"},{\"attributes\":{},\"id\":\"58b71dad-7428-4289-9c36-989c66868b31\",\"type\":\"BasicTicker\"}],\"root_ids\":[\"5a4ad1cd-8f55-40ab-8e6c-1b252c838029\"]},\"title\":\"Bokeh Application\",\"version\":\"0.12.0\"}};\n",
       "            var render_items = [{\"docid\":\"d74b22fd-d016-457b-80c9-a9fbd5382fde\",\"elementid\":\"146d4a79-ba1b-4c0d-8d84-397ec848ba73\",\"modelid\":\"5a4ad1cd-8f55-40ab-8e6c-1b252c838029\",\"notebook_comms_target\":\"00b75fba-2c2f-4151-82b2-642daa318528\"}];\n",
       "            \n",
       "            Bokeh.embed.embed_items(docs_json, render_items);\n",
       "        });\n",
       "      },\n",
       "      function(Bokeh) {\n",
       "      }\n",
       "    ];\n",
       "  \n",
       "    function run_inline_js() {\n",
       "      for (var i = 0; i < inline_js.length; i++) {\n",
       "        inline_js[i](window.Bokeh);\n",
       "      }\n",
       "    }\n",
       "  \n",
       "    if (window._bokeh_is_loading === 0) {\n",
       "      console.log(\"Bokeh: BokehJS loaded, going straight to plotting\");\n",
       "      run_inline_js();\n",
       "    } else {\n",
       "      load_libs(js_urls, function() {\n",
       "        console.log(\"Bokeh: BokehJS plotting callback run at\", now());\n",
       "        run_inline_js();\n",
       "      });\n",
       "    }\n",
       "  }(this));\n",
       "</script>"
      ]
     },
     "metadata": {},
     "output_type": "display_data"
    },
    {
     "data": {
      "text/html": [
       "<p><code>&lt;Bokeh Notebook handle for <strong>In[26]</strong>&gt;</code></p>"
      ],
      "text/plain": [
       "<bokeh.io._CommsHandle at 0x4432597470>"
      ]
     },
     "execution_count": 26,
     "metadata": {},
     "output_type": "execute_result"
    }
   ],
   "source": [
    "from __future__ import division\n",
    "import numpy as np\n",
    "\n",
    "# set up some data\n",
    "N = 20\n",
    "img = np.empty((N,N), dtype=np.uint32)\n",
    "view = img.view(dtype=np.uint8).reshape((N, N, 4))\n",
    "for i in range(N):\n",
    "    for j in range(N):\n",
    "        view[i, j, 0] = int(i/N*255) # red\n",
    "        view[i, j, 1] = 158          # green\n",
    "        view[i, j, 2] = int(j/N*255) # blue\n",
    "        view[i, j, 3] = 255          # alpha\n",
    "        \n",
    "# create a new plot (with a fixed range) using figure\n",
    "p = figure(x_range=[0,10], y_range=[0,10])\n",
    "\n",
    "# add an RGBA image renderer\n",
    "p.image_rgba(image=[img], x=[0], y=[0], dw=[10], dh=[10])\n",
    "\n",
    "show(p) # show the results"
   ]
  },
  {
   "cell_type": "markdown",
   "metadata": {},
   "source": [
    "# Other Kinds of Glyphs\n",
    "\n",
    "Bokeh supports many other kinds of glyphs. You can click on the User Guide links below to see how to create plots with these glyphs using the [`bokeh.plotting`](http://bokeh.pydata.org/en/latest/docs/user_guide/plotting.html) interface.\n",
    "\n",
    "* [Rectangles and Ovals](http://bokeh.pydata.org/en/latest/docs/user_guide/plotting.html#rectangles-and-ovals)\n",
    "* [Segments and Rays](http://bokeh.pydata.org/en/latest/docs/user_guide/plotting.html#segments-and-rays)\n",
    "* [Wedges and Arcs](http://bokeh.pydata.org/en/latest/docs/user_guide/plotting.html#wedges-and-arcs)\n",
    "* [Specialized Curves](http://bokeh.pydata.org/en/latest/docs/user_guide/plotting.html#specialized-curves)\n"
   ]
  },
  {
   "cell_type": "code",
   "execution_count": 27,
   "metadata": {
    "collapsed": false
   },
   "outputs": [
    {
     "ename": "AttributeError",
     "evalue": "'Figure' object has no attribute 'rectangle'",
     "output_type": "error",
     "traceback": [
      "\u001b[1;31m---------------------------------------------------------------------------\u001b[0m",
      "\u001b[1;31mAttributeError\u001b[0m                            Traceback (most recent call last)",
      "\u001b[1;32m<ipython-input-27-3382703f30ec>\u001b[0m in \u001b[0;36m<module>\u001b[1;34m()\u001b[0m\n\u001b[0;32m      1\u001b[0m \u001b[1;31m# EXERCISE: Plot some of the other glyph types, following the examples in the User Guide.\u001b[0m\u001b[1;33m\u001b[0m\u001b[1;33m\u001b[0m\u001b[0m\n\u001b[1;32m----> 2\u001b[1;33m \u001b[0mp\u001b[0m\u001b[1;33m.\u001b[0m\u001b[0mrectangle\u001b[0m\u001b[1;33m(\u001b[0m\u001b[1;33m[\u001b[0m\u001b[1;36m1\u001b[0m\u001b[1;33m,\u001b[0m \u001b[1;36m2\u001b[0m\u001b[1;33m,\u001b[0m \u001b[1;36m3\u001b[0m\u001b[1;33m,\u001b[0m \u001b[1;36m4\u001b[0m\u001b[1;33m,\u001b[0m \u001b[1;36m5\u001b[0m\u001b[1;33m]\u001b[0m\u001b[1;33m,\u001b[0m \u001b[1;33m[\u001b[0m\u001b[1;36m6\u001b[0m\u001b[1;33m,\u001b[0m \u001b[1;36m7\u001b[0m\u001b[1;33m,\u001b[0m \u001b[1;36m2\u001b[0m\u001b[1;33m,\u001b[0m \u001b[1;36m4\u001b[0m\u001b[1;33m,\u001b[0m \u001b[1;36m5\u001b[0m\u001b[1;33m]\u001b[0m\u001b[1;33m)\u001b[0m\u001b[1;33m\u001b[0m\u001b[0m\n\u001b[0m",
      "\u001b[1;31mAttributeError\u001b[0m: 'Figure' object has no attribute 'rectangle'"
     ]
    }
   ],
   "source": [
    "# EXERCISE: Plot some of the other glyph types, following the examples in the User Guide. \n",
    "p.([1, 2, 3, 4, 5], [6, 7, 2, 4, 5])\n"
   ]
  },
  {
   "cell_type": "markdown",
   "metadata": {},
   "source": [
    "# Plots with Multiple Glyphs \n",
    "\n",
    "It is possible to combine more than one glyph on a single figure. You just need to call multiple glyph methods on one figure object:"
   ]
  },
  {
   "cell_type": "code",
   "execution_count": 10,
   "metadata": {
    "collapsed": false
   },
   "outputs": [
    {
     "data": {
      "text/html": [
       "\n",
       "\n",
       "    <div class=\"bk-root\">\n",
       "        <div class=\"plotdiv\" id=\"aa14bd07-139f-47c7-bcbd-e08e1eaf5fd2\"></div>\n",
       "    </div>\n",
       "<script type=\"text/javascript\">\n",
       "  \n",
       "  (function(global) {\n",
       "    function now() {\n",
       "      return new Date();\n",
       "    }\n",
       "  \n",
       "    if (typeof (window._bokeh_onload_callbacks) === \"undefined\") {\n",
       "      window._bokeh_onload_callbacks = [];\n",
       "    }\n",
       "  \n",
       "    function run_callbacks() {\n",
       "      window._bokeh_onload_callbacks.forEach(function(callback) { callback() });\n",
       "      delete window._bokeh_onload_callbacks\n",
       "      console.info(\"Bokeh: all callbacks have finished\");\n",
       "    }\n",
       "  \n",
       "    function load_libs(js_urls, callback) {\n",
       "      window._bokeh_onload_callbacks.push(callback);\n",
       "      if (window._bokeh_is_loading > 0) {\n",
       "        console.log(\"Bokeh: BokehJS is being loaded, scheduling callback at\", now());\n",
       "        return null;\n",
       "      }\n",
       "      if (js_urls == null || js_urls.length === 0) {\n",
       "        run_callbacks();\n",
       "        return null;\n",
       "      }\n",
       "      console.log(\"Bokeh: BokehJS not loaded, scheduling load and callback at\", now());\n",
       "      window._bokeh_is_loading = js_urls.length;\n",
       "      for (var i = 0; i < js_urls.length; i++) {\n",
       "        var url = js_urls[i];\n",
       "        var s = document.createElement('script');\n",
       "        s.src = url;\n",
       "        s.async = false;\n",
       "        s.onreadystatechange = s.onload = function() {\n",
       "          window._bokeh_is_loading--;\n",
       "          if (window._bokeh_is_loading === 0) {\n",
       "            console.log(\"Bokeh: all BokehJS libraries loaded\");\n",
       "            run_callbacks()\n",
       "          }\n",
       "        };\n",
       "        s.onerror = function() {\n",
       "          console.warn(\"failed to load library \" + url);\n",
       "        };\n",
       "        console.log(\"Bokeh: injecting script tag for BokehJS library: \", url);\n",
       "        document.getElementsByTagName(\"head\")[0].appendChild(s);\n",
       "      }\n",
       "    };var element = document.getElementById(\"aa14bd07-139f-47c7-bcbd-e08e1eaf5fd2\");\n",
       "    if (element == null) {\n",
       "      console.log(\"Bokeh: ERROR: autoload.js configured with elementid 'aa14bd07-139f-47c7-bcbd-e08e1eaf5fd2' but no matching script tag was found. \")\n",
       "      return false;\n",
       "    }\n",
       "  \n",
       "    var js_urls = [];\n",
       "  \n",
       "    var inline_js = [\n",
       "      function(Bokeh) {\n",
       "        Bokeh.$(function() {\n",
       "            var docs_json = {\"e93760c3-8fd2-4307-80b2-0ee4387b16ac\":{\"roots\":{\"references\":[{\"attributes\":{\"plot\":{\"id\":\"2fe8e921-fac0-45a3-aed3-1b5fe7e9fe3a\",\"subtype\":\"Figure\",\"type\":\"Plot\"}},\"id\":\"f13f2351-ac37-45d7-a5bf-77e01b4feb8c\",\"type\":\"PanTool\"},{\"attributes\":{\"below\":[{\"id\":\"dca2c2c9-0ecb-4ffb-861d-5ef1db3e458e\",\"type\":\"LinearAxis\"}],\"left\":[{\"id\":\"c3ca8ee9-53d0-43ab-b73d-da9bf7ca2557\",\"type\":\"LinearAxis\"}],\"plot_height\":400,\"plot_width\":400,\"renderers\":[{\"id\":\"dca2c2c9-0ecb-4ffb-861d-5ef1db3e458e\",\"type\":\"LinearAxis\"},{\"id\":\"04af3db6-660d-41ae-9866-a5a3915c4521\",\"type\":\"Grid\"},{\"id\":\"c3ca8ee9-53d0-43ab-b73d-da9bf7ca2557\",\"type\":\"LinearAxis\"},{\"id\":\"29a5e751-8457-4d48-8491-9a0e4a57c92e\",\"type\":\"Grid\"},{\"id\":\"56cdc5e4-6d86-4f5c-8230-43fdd2e06f14\",\"type\":\"BoxAnnotation\"},{\"id\":\"419519f3-44ec-4f60-8bc1-8119c42a211f\",\"type\":\"GlyphRenderer\"},{\"id\":\"ba66c8ed-faba-4ea8-9c44-a55a984a21fb\",\"type\":\"GlyphRenderer\"}],\"title\":{\"id\":\"a7fb602a-5a93-46eb-86df-7671705b6753\",\"type\":\"Title\"},\"tool_events\":{\"id\":\"5b312ad9-b201-41c3-a9e4-b392eff3ed1a\",\"type\":\"ToolEvents\"},\"toolbar\":{\"id\":\"f016a4a9-1422-43d9-bc62-b04e454951df\",\"type\":\"Toolbar\"},\"x_range\":{\"id\":\"6cc2e43d-4ec4-48b2-b04e-1ddb1ea9ae26\",\"type\":\"DataRange1d\"},\"y_range\":{\"id\":\"5961fcec-68e9-405a-9c6f-6f4a9ec81a34\",\"type\":\"DataRange1d\"}},\"id\":\"2fe8e921-fac0-45a3-aed3-1b5fe7e9fe3a\",\"subtype\":\"Figure\",\"type\":\"Plot\"},{\"attributes\":{\"formatter\":{\"id\":\"a38a9700-ab5b-4ff1-9e60-caaf877f5c9a\",\"type\":\"BasicTickFormatter\"},\"plot\":{\"id\":\"2fe8e921-fac0-45a3-aed3-1b5fe7e9fe3a\",\"subtype\":\"Figure\",\"type\":\"Plot\"},\"ticker\":{\"id\":\"3d751762-6348-4681-b8a6-a78248e536ff\",\"type\":\"BasicTicker\"}},\"id\":\"c3ca8ee9-53d0-43ab-b73d-da9bf7ca2557\",\"type\":\"LinearAxis\"},{\"attributes\":{},\"id\":\"a38a9700-ab5b-4ff1-9e60-caaf877f5c9a\",\"type\":\"BasicTickFormatter\"},{\"attributes\":{},\"id\":\"5b312ad9-b201-41c3-a9e4-b392eff3ed1a\",\"type\":\"ToolEvents\"},{\"attributes\":{\"bottom_units\":\"screen\",\"fill_alpha\":{\"value\":0.5},\"fill_color\":{\"value\":\"lightgrey\"},\"left_units\":\"screen\",\"level\":\"overlay\",\"line_alpha\":{\"value\":1.0},\"line_color\":{\"value\":\"black\"},\"line_dash\":[4,4],\"line_width\":{\"value\":2},\"plot\":null,\"render_mode\":\"css\",\"right_units\":\"screen\",\"top_units\":\"screen\"},\"id\":\"56cdc5e4-6d86-4f5c-8230-43fdd2e06f14\",\"type\":\"BoxAnnotation\"},{\"attributes\":{\"data_source\":{\"id\":\"def1a712-c85b-4675-8941-f2503bcfd25c\",\"type\":\"ColumnDataSource\"},\"glyph\":{\"id\":\"14b8d723-20a4-43ba-93bb-618ce3525065\",\"type\":\"Circle\"},\"hover_glyph\":null,\"nonselection_glyph\":{\"id\":\"02ea8493-879d-451f-8347-9e598491a365\",\"type\":\"Circle\"},\"selection_glyph\":null},\"id\":\"ba66c8ed-faba-4ea8-9c44-a55a984a21fb\",\"type\":\"GlyphRenderer\"},{\"attributes\":{\"fill_color\":{\"value\":\"white\"},\"line_color\":{\"value\":\"#1f77b4\"},\"size\":{\"units\":\"screen\",\"value\":8},\"x\":{\"field\":\"x\"},\"y\":{\"field\":\"y\"}},\"id\":\"14b8d723-20a4-43ba-93bb-618ce3525065\",\"type\":\"Circle\"},{\"attributes\":{},\"id\":\"b9fcdcd8-39f5-41b2-affe-d4c9a696433e\",\"type\":\"BasicTickFormatter\"},{\"attributes\":{\"overlay\":{\"id\":\"56cdc5e4-6d86-4f5c-8230-43fdd2e06f14\",\"type\":\"BoxAnnotation\"},\"plot\":{\"id\":\"2fe8e921-fac0-45a3-aed3-1b5fe7e9fe3a\",\"subtype\":\"Figure\",\"type\":\"Plot\"}},\"id\":\"36f92c56-f2ec-4a15-8da0-73eab92301a3\",\"type\":\"BoxZoomTool\"},{\"attributes\":{\"plot\":{\"id\":\"2fe8e921-fac0-45a3-aed3-1b5fe7e9fe3a\",\"subtype\":\"Figure\",\"type\":\"Plot\"}},\"id\":\"adb83543-741e-4e61-96e3-1dceb9017ca8\",\"type\":\"WheelZoomTool\"},{\"attributes\":{\"plot\":{\"id\":\"2fe8e921-fac0-45a3-aed3-1b5fe7e9fe3a\",\"subtype\":\"Figure\",\"type\":\"Plot\"}},\"id\":\"6479b5ad-7028-476f-ac76-4e072b426295\",\"type\":\"ResetTool\"},{\"attributes\":{},\"id\":\"d092bdb4-cfce-4fc6-ae10-808396a3798f\",\"type\":\"BasicTicker\"},{\"attributes\":{\"callback\":null,\"column_names\":[\"y\",\"x\"],\"data\":{\"x\":[1,2,3,4,5],\"y\":[6,7,8,7,3]}},\"id\":\"def1a712-c85b-4675-8941-f2503bcfd25c\",\"type\":\"ColumnDataSource\"},{\"attributes\":{\"plot\":{\"id\":\"2fe8e921-fac0-45a3-aed3-1b5fe7e9fe3a\",\"subtype\":\"Figure\",\"type\":\"Plot\"}},\"id\":\"95f10152-cb22-4cff-a756-e0571cdb4153\",\"type\":\"SaveTool\"},{\"attributes\":{\"dimension\":1,\"plot\":{\"id\":\"2fe8e921-fac0-45a3-aed3-1b5fe7e9fe3a\",\"subtype\":\"Figure\",\"type\":\"Plot\"},\"ticker\":{\"id\":\"3d751762-6348-4681-b8a6-a78248e536ff\",\"type\":\"BasicTicker\"}},\"id\":\"29a5e751-8457-4d48-8491-9a0e4a57c92e\",\"type\":\"Grid\"},{\"attributes\":{\"data_source\":{\"id\":\"bd0b0b43-a4a7-4143-8a64-a1bfe34fc807\",\"type\":\"ColumnDataSource\"},\"glyph\":{\"id\":\"d4eac251-7146-44bc-a27f-fcf469ad2bb4\",\"type\":\"Line\"},\"hover_glyph\":null,\"nonselection_glyph\":{\"id\":\"505a203a-44d2-42be-b551-c064323f674c\",\"type\":\"Line\"},\"selection_glyph\":null},\"id\":\"419519f3-44ec-4f60-8bc1-8119c42a211f\",\"type\":\"GlyphRenderer\"},{\"attributes\":{\"active_drag\":\"auto\",\"active_scroll\":\"auto\",\"active_tap\":\"auto\",\"tools\":[{\"id\":\"f13f2351-ac37-45d7-a5bf-77e01b4feb8c\",\"type\":\"PanTool\"},{\"id\":\"adb83543-741e-4e61-96e3-1dceb9017ca8\",\"type\":\"WheelZoomTool\"},{\"id\":\"36f92c56-f2ec-4a15-8da0-73eab92301a3\",\"type\":\"BoxZoomTool\"},{\"id\":\"95f10152-cb22-4cff-a756-e0571cdb4153\",\"type\":\"SaveTool\"},{\"id\":\"6479b5ad-7028-476f-ac76-4e072b426295\",\"type\":\"ResetTool\"},{\"id\":\"06528de6-457f-468f-ba04-156ca2b61474\",\"type\":\"HelpTool\"}]},\"id\":\"f016a4a9-1422-43d9-bc62-b04e454951df\",\"type\":\"Toolbar\"},{\"attributes\":{},\"id\":\"3d751762-6348-4681-b8a6-a78248e536ff\",\"type\":\"BasicTicker\"},{\"attributes\":{\"line_alpha\":{\"value\":0.1},\"line_color\":{\"value\":\"#1f77b4\"},\"line_width\":{\"value\":2},\"x\":{\"field\":\"x\"},\"y\":{\"field\":\"y\"}},\"id\":\"505a203a-44d2-42be-b551-c064323f674c\",\"type\":\"Line\"},{\"attributes\":{\"plot\":{\"id\":\"2fe8e921-fac0-45a3-aed3-1b5fe7e9fe3a\",\"subtype\":\"Figure\",\"type\":\"Plot\"},\"ticker\":{\"id\":\"d092bdb4-cfce-4fc6-ae10-808396a3798f\",\"type\":\"BasicTicker\"}},\"id\":\"04af3db6-660d-41ae-9866-a5a3915c4521\",\"type\":\"Grid\"},{\"attributes\":{\"formatter\":{\"id\":\"b9fcdcd8-39f5-41b2-affe-d4c9a696433e\",\"type\":\"BasicTickFormatter\"},\"plot\":{\"id\":\"2fe8e921-fac0-45a3-aed3-1b5fe7e9fe3a\",\"subtype\":\"Figure\",\"type\":\"Plot\"},\"ticker\":{\"id\":\"d092bdb4-cfce-4fc6-ae10-808396a3798f\",\"type\":\"BasicTicker\"}},\"id\":\"dca2c2c9-0ecb-4ffb-861d-5ef1db3e458e\",\"type\":\"LinearAxis\"},{\"attributes\":{\"line_color\":{\"value\":\"#1f77b4\"},\"line_width\":{\"value\":2},\"x\":{\"field\":\"x\"},\"y\":{\"field\":\"y\"}},\"id\":\"d4eac251-7146-44bc-a27f-fcf469ad2bb4\",\"type\":\"Line\"},{\"attributes\":{\"callback\":null,\"column_names\":[\"x\",\"y\"],\"data\":{\"x\":[1,2,3,4,5],\"y\":[6,7,8,7,3]}},\"id\":\"bd0b0b43-a4a7-4143-8a64-a1bfe34fc807\",\"type\":\"ColumnDataSource\"},{\"attributes\":{\"fill_alpha\":{\"value\":0.1},\"fill_color\":{\"value\":\"#1f77b4\"},\"line_alpha\":{\"value\":0.1},\"line_color\":{\"value\":\"#1f77b4\"},\"size\":{\"units\":\"screen\",\"value\":8},\"x\":{\"field\":\"x\"},\"y\":{\"field\":\"y\"}},\"id\":\"02ea8493-879d-451f-8347-9e598491a365\",\"type\":\"Circle\"},{\"attributes\":{\"plot\":{\"id\":\"2fe8e921-fac0-45a3-aed3-1b5fe7e9fe3a\",\"subtype\":\"Figure\",\"type\":\"Plot\"}},\"id\":\"06528de6-457f-468f-ba04-156ca2b61474\",\"type\":\"HelpTool\"},{\"attributes\":{\"callback\":null},\"id\":\"5961fcec-68e9-405a-9c6f-6f4a9ec81a34\",\"type\":\"DataRange1d\"},{\"attributes\":{\"plot\":null,\"text\":null},\"id\":\"a7fb602a-5a93-46eb-86df-7671705b6753\",\"type\":\"Title\"},{\"attributes\":{\"callback\":null},\"id\":\"6cc2e43d-4ec4-48b2-b04e-1ddb1ea9ae26\",\"type\":\"DataRange1d\"}],\"root_ids\":[\"2fe8e921-fac0-45a3-aed3-1b5fe7e9fe3a\"]},\"title\":\"Bokeh Application\",\"version\":\"0.12.0\"}};\n",
       "            var render_items = [{\"docid\":\"e93760c3-8fd2-4307-80b2-0ee4387b16ac\",\"elementid\":\"aa14bd07-139f-47c7-bcbd-e08e1eaf5fd2\",\"modelid\":\"2fe8e921-fac0-45a3-aed3-1b5fe7e9fe3a\",\"notebook_comms_target\":\"0f32fbfc-e8c9-44a2-81e9-abc9b855918d\"}];\n",
       "            \n",
       "            Bokeh.embed.embed_items(docs_json, render_items);\n",
       "        });\n",
       "      },\n",
       "      function(Bokeh) {\n",
       "      }\n",
       "    ];\n",
       "  \n",
       "    function run_inline_js() {\n",
       "      for (var i = 0; i < inline_js.length; i++) {\n",
       "        inline_js[i](window.Bokeh);\n",
       "      }\n",
       "    }\n",
       "  \n",
       "    if (window._bokeh_is_loading === 0) {\n",
       "      console.log(\"Bokeh: BokehJS loaded, going straight to plotting\");\n",
       "      run_inline_js();\n",
       "    } else {\n",
       "      load_libs(js_urls, function() {\n",
       "        console.log(\"Bokeh: BokehJS plotting callback run at\", now());\n",
       "        run_inline_js();\n",
       "      });\n",
       "    }\n",
       "  }(this));\n",
       "</script>"
      ]
     },
     "metadata": {},
     "output_type": "display_data"
    },
    {
     "data": {
      "text/html": [
       "<p><code>&lt;Bokeh Notebook handle for <strong>In[10]</strong>&gt;</code></p>"
      ],
      "text/plain": [
       "<bokeh.io._CommsHandle at 0x10da63e10>"
      ]
     },
     "execution_count": 10,
     "metadata": {},
     "output_type": "execute_result"
    }
   ],
   "source": [
    "# set up some data\n",
    "x = [1, 2, 3, 4, 5]\n",
    "y = [6, 7, 8, 7, 3]\n",
    "\n",
    "# create a new plot with figure\n",
    "p = figure(plot_width=400, plot_height=400)\n",
    "\n",
    "# add both a line and circles on the same plot\n",
    "p.line(x, y, line_width=2)\n",
    "p.circle(x, y, fill_color=\"white\", size=8)\n",
    "\n",
    "show(p) # show the results"
   ]
  },
  {
   "cell_type": "code",
   "execution_count": 11,
   "metadata": {
    "collapsed": true
   },
   "outputs": [],
   "source": [
    "# EXERCISE: create your own plot combining multiple glyphs together\n",
    "\n"
   ]
  },
  {
   "cell_type": "code",
   "execution_count": null,
   "metadata": {
    "collapsed": true
   },
   "outputs": [],
   "source": []
  }
 ],
 "metadata": {
  "kernelspec": {
   "display_name": "Python 3",
   "language": "python",
   "name": "python3"
  },
  "language_info": {
   "codemirror_mode": {
    "name": "ipython",
    "version": 3
   },
   "file_extension": ".py",
   "mimetype": "text/x-python",
   "name": "python",
   "nbconvert_exporter": "python",
   "pygments_lexer": "ipython3",
   "version": "3.5.1"
  }
 },
 "nbformat": 4,
 "nbformat_minor": 0
}
