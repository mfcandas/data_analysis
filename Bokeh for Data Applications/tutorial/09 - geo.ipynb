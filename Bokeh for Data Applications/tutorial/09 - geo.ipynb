{
 "cells": [
  {
   "cell_type": "markdown",
   "metadata": {},
   "source": [
    "<table style=\"float:left; border:none\">\n",
    "   <tr style=\"border:none\">\n",
    "       <td style=\"border:none\">\n",
    "           <a href=\"http://bokeh.pydata.org/\">     \n",
    "           <img \n",
    "               src=\"assets/images/bokeh-transparent.png\" \n",
    "               style=\"width:50px\"\n",
    "           >\n",
    "           </a>    \n",
    "       </td>\n",
    "       <td style=\"border:none\">\n",
    "           <h1>Bokeh Tutorial</h1>\n",
    "       </td>\n",
    "   </tr>\n",
    "</table>\n",
    "\n",
    "<div style=\"float:right;\"><h2>09. Geographic Data</h2></div>"
   ]
  },
  {
   "cell_type": "markdown",
   "metadata": {},
   "source": [
    "It is often useful to be able to relate datasets with their real-world context.  You can plot geographic data just like any other type of data, as in the [Texas Unemployment example](http://nbviewer.jupyter.org/github/bokeh/bokeh-notebooks/blob/master/gallery/texas.ipynb), but Bokeh also Bokeh provides several specialized mechanisms for plotting data in geographic coordinates:\n",
    "\n",
    "* [TileSource](http://bokeh.pydata.org/en/latest/docs/reference/models/tiles.html), especially WMTSTileSource: allows data to be overlaid on data from any map tile server, including [Google Maps](http://maps.google.com), [Stamen](http://maps.stamen.com), [MapQuest](https://www.mapquest.com/), [OpenStreetMap](https://www.openstreetmap.org), [ESRI](http://www.esri.com), and custom servers.\n",
    "* [GeoJSONDataSource](http://bokeh.pydata.org/en/0.11.1/docs/user_guide/geo.html#geojson-datasource): Allows reading data in [GeoJSON](http://geojson.org/) format and using it just like any other ColumnDataSource.\n",
    "* GMapPlot: older, more limited interface just to Google Maps (GMapPlot); obsoleted by TileSource.\n",
    "\n",
    "Here we will briefly demonstrate how to use a WTMS tile source along with your data.  "
   ]
  },
  {
   "cell_type": "markdown",
   "metadata": {},
   "source": [
    "# WMTS Tile Source\n",
    "\n",
    "WTMS is the most common web standard for tiled map data, i.e. maps supplied as standard-sized image patches from which the overall map can be constructed at a given zoom level.  WTMS uses Web Mercator format, measuring distances from Greenwich, England as meters north and meters west, which is easy to compute but does distort the global shape. \n",
    "\n",
    "First let's create an empty Bokeh plot covering the USA, with bounds specified in meters:"
   ]
  },
  {
   "cell_type": "code",
   "execution_count": 1,
   "metadata": {
    "collapsed": false
   },
   "outputs": [
    {
     "data": {
      "text/html": [
       "\n",
       "    <div class=\"bk-root\">\n",
       "        <a href=\"http://bokeh.pydata.org\" target=\"_blank\" class=\"bk-logo bk-logo-small bk-logo-notebook\"></a>\n",
       "        <span id=\"388a4f7d-71f7-4f85-958c-7ae6e404ea1c\">Loading BokehJS ...</span>\n",
       "    </div>"
      ]
     },
     "metadata": {},
     "output_type": "display_data"
    },
    {
     "data": {
      "application/javascript": [
       "\n",
       "(function(global) {\n",
       "  function now() {\n",
       "    return new Date();\n",
       "  }\n",
       "\n",
       "  if (typeof (window._bokeh_onload_callbacks) === \"undefined\") {\n",
       "    window._bokeh_onload_callbacks = [];\n",
       "  }\n",
       "\n",
       "  function run_callbacks() {\n",
       "    window._bokeh_onload_callbacks.forEach(function(callback) { callback() });\n",
       "    delete window._bokeh_onload_callbacks\n",
       "    console.info(\"Bokeh: all callbacks have finished\");\n",
       "  }\n",
       "\n",
       "  function load_libs(js_urls, callback) {\n",
       "    window._bokeh_onload_callbacks.push(callback);\n",
       "    if (window._bokeh_is_loading > 0) {\n",
       "      console.log(\"Bokeh: BokehJS is being loaded, scheduling callback at\", now());\n",
       "      return null;\n",
       "    }\n",
       "    if (js_urls == null || js_urls.length === 0) {\n",
       "      run_callbacks();\n",
       "      return null;\n",
       "    }\n",
       "    console.log(\"Bokeh: BokehJS not loaded, scheduling load and callback at\", now());\n",
       "    window._bokeh_is_loading = js_urls.length;\n",
       "    for (var i = 0; i < js_urls.length; i++) {\n",
       "      var url = js_urls[i];\n",
       "      var s = document.createElement('script');\n",
       "      s.src = url;\n",
       "      s.async = false;\n",
       "      s.onreadystatechange = s.onload = function() {\n",
       "        window._bokeh_is_loading--;\n",
       "        if (window._bokeh_is_loading === 0) {\n",
       "          console.log(\"Bokeh: all BokehJS libraries loaded\");\n",
       "          run_callbacks()\n",
       "        }\n",
       "      };\n",
       "      s.onerror = function() {\n",
       "        console.warn(\"failed to load library \" + url);\n",
       "      };\n",
       "      console.log(\"Bokeh: injecting script tag for BokehJS library: \", url);\n",
       "      document.getElementsByTagName(\"head\")[0].appendChild(s);\n",
       "    }\n",
       "  };\n",
       "\n",
       "  var js_urls = ['https://cdn.pydata.org/bokeh/release/bokeh-0.12.0.min.js', 'https://cdn.pydata.org/bokeh/release/bokeh-widgets-0.12.0.min.js', 'https://cdn.pydata.org/bokeh/release/bokeh-compiler-0.12.0.min.js'];\n",
       "\n",
       "  var inline_js = [\n",
       "    function(Bokeh) {\n",
       "      Bokeh.set_log_level(\"info\");\n",
       "    },\n",
       "    \n",
       "    function(Bokeh) {\n",
       "      Bokeh.$(\"#388a4f7d-71f7-4f85-958c-7ae6e404ea1c\").text(\"BokehJS successfully loaded\");\n",
       "    },\n",
       "    function(Bokeh) {\n",
       "      console.log(\"Bokeh: injecting CSS: https://cdn.pydata.org/bokeh/release/bokeh-0.12.0.min.css\");\n",
       "      Bokeh.embed.inject_css(\"https://cdn.pydata.org/bokeh/release/bokeh-0.12.0.min.css\");\n",
       "      console.log(\"Bokeh: injecting CSS: https://cdn.pydata.org/bokeh/release/bokeh-widgets-0.12.0.min.css\");\n",
       "      Bokeh.embed.inject_css(\"https://cdn.pydata.org/bokeh/release/bokeh-widgets-0.12.0.min.css\");\n",
       "    }\n",
       "  ];\n",
       "\n",
       "  function run_inline_js() {\n",
       "    for (var i = 0; i < inline_js.length; i++) {\n",
       "      inline_js[i](window.Bokeh);\n",
       "    }\n",
       "  }\n",
       "\n",
       "  if (window._bokeh_is_loading === 0) {\n",
       "    console.log(\"Bokeh: BokehJS loaded, going straight to plotting\");\n",
       "    run_inline_js();\n",
       "  } else {\n",
       "    load_libs(js_urls, function() {\n",
       "      console.log(\"Bokeh: BokehJS plotting callback run at\", now());\n",
       "      run_inline_js();\n",
       "    });\n",
       "  }\n",
       "}(this));"
      ]
     },
     "metadata": {},
     "output_type": "display_data"
    }
   ],
   "source": [
    "from bokeh.io import output_notebook, show\n",
    "from bokeh.plotting import figure\n",
    "from bokeh.tile_providers import WMTSTileSource\n",
    "\n",
    "output_notebook()\n",
    "\n",
    "USA = x_range,y_range = ((-13884029,-7453304), (2698291,6455972))\n",
    "\n",
    "fig = figure(tools='pan, wheel_zoom', x_range=x_range, y_range=y_range)\n",
    "fig.axis.visible = False"
   ]
  },
  {
   "cell_type": "markdown",
   "metadata": {},
   "source": [
    "A few WTMS tile sources are already defined in `bokeh.tile_providers`, but here we'll show how to specify the interface using a format string showing Bokeh how to request a tile with the required zoom, x, and y values from a given tile provider:"
   ]
  },
  {
   "cell_type": "code",
   "execution_count": 2,
   "metadata": {
    "collapsed": false
   },
   "outputs": [
    {
     "data": {
      "text/plain": [
       "<bokeh.models.renderers.TileRenderer at 0x104a06ef0>"
      ]
     },
     "execution_count": 2,
     "metadata": {},
     "output_type": "execute_result"
    }
   ],
   "source": [
    "url = 'http://otile1.mqcdn.com/tiles/1.0.0/sat/{Z}/{X}/{Y}.jpg'\n",
    "attribution = \"Tiles from MapQuest\"\n",
    "\n",
    "fig.add_tile(WMTSTileSource(url=url, attribution=attribution))"
   ]
  },
  {
   "cell_type": "markdown",
   "metadata": {},
   "source": [
    "If you show the figure, you can then use the wheel zoom and pan tools to navigate over any zoom level, and Bokeh will request the appropriate tiles from the server and insert them at the correct locations in the plot:"
   ]
  },
  {
   "cell_type": "code",
   "execution_count": 3,
   "metadata": {
    "collapsed": false
   },
   "outputs": [
    {
     "data": {
      "text/html": [
       "\n",
       "\n",
       "    <div class=\"bk-root\">\n",
       "        <div class=\"plotdiv\" id=\"e3b3e6c9-5a28-401b-be17-1fede2a33509\"></div>\n",
       "    </div>\n",
       "<script type=\"text/javascript\">\n",
       "  \n",
       "  (function(global) {\n",
       "    function now() {\n",
       "      return new Date();\n",
       "    }\n",
       "  \n",
       "    if (typeof (window._bokeh_onload_callbacks) === \"undefined\") {\n",
       "      window._bokeh_onload_callbacks = [];\n",
       "    }\n",
       "  \n",
       "    function run_callbacks() {\n",
       "      window._bokeh_onload_callbacks.forEach(function(callback) { callback() });\n",
       "      delete window._bokeh_onload_callbacks\n",
       "      console.info(\"Bokeh: all callbacks have finished\");\n",
       "    }\n",
       "  \n",
       "    function load_libs(js_urls, callback) {\n",
       "      window._bokeh_onload_callbacks.push(callback);\n",
       "      if (window._bokeh_is_loading > 0) {\n",
       "        console.log(\"Bokeh: BokehJS is being loaded, scheduling callback at\", now());\n",
       "        return null;\n",
       "      }\n",
       "      if (js_urls == null || js_urls.length === 0) {\n",
       "        run_callbacks();\n",
       "        return null;\n",
       "      }\n",
       "      console.log(\"Bokeh: BokehJS not loaded, scheduling load and callback at\", now());\n",
       "      window._bokeh_is_loading = js_urls.length;\n",
       "      for (var i = 0; i < js_urls.length; i++) {\n",
       "        var url = js_urls[i];\n",
       "        var s = document.createElement('script');\n",
       "        s.src = url;\n",
       "        s.async = false;\n",
       "        s.onreadystatechange = s.onload = function() {\n",
       "          window._bokeh_is_loading--;\n",
       "          if (window._bokeh_is_loading === 0) {\n",
       "            console.log(\"Bokeh: all BokehJS libraries loaded\");\n",
       "            run_callbacks()\n",
       "          }\n",
       "        };\n",
       "        s.onerror = function() {\n",
       "          console.warn(\"failed to load library \" + url);\n",
       "        };\n",
       "        console.log(\"Bokeh: injecting script tag for BokehJS library: \", url);\n",
       "        document.getElementsByTagName(\"head\")[0].appendChild(s);\n",
       "      }\n",
       "    };var element = document.getElementById(\"e3b3e6c9-5a28-401b-be17-1fede2a33509\");\n",
       "    if (element == null) {\n",
       "      console.log(\"Bokeh: ERROR: autoload.js configured with elementid 'e3b3e6c9-5a28-401b-be17-1fede2a33509' but no matching script tag was found. \")\n",
       "      return false;\n",
       "    }\n",
       "  \n",
       "    var js_urls = [];\n",
       "  \n",
       "    var inline_js = [\n",
       "      function(Bokeh) {\n",
       "        Bokeh.$(function() {\n",
       "            var docs_json = {\"82dda6c9-51b0-4fc4-b397-5d475ee9b01d\":{\"roots\":{\"references\":[{\"attributes\":{\"attribution\":\"Tiles from MapQuest\",\"url\":\"http://otile1.mqcdn.com/tiles/1.0.0/sat/{Z}/{X}/{Y}.jpg\"},\"id\":\"bee3c992-c840-44a1-8be5-900ac9c80748\",\"type\":\"WMTSTileSource\"},{\"attributes\":{},\"id\":\"675ab69f-d585-45c0-aa36-1fec32929fcf\",\"type\":\"ToolEvents\"},{\"attributes\":{\"plot\":{\"id\":\"e7fa4915-5164-420d-8b94-638d44165735\",\"subtype\":\"Figure\",\"type\":\"Plot\"},\"ticker\":{\"id\":\"ee5fd669-d154-4f90-b402-cf502445776a\",\"type\":\"BasicTicker\"}},\"id\":\"8d45164e-c1d4-4461-ba57-ff9e130618d7\",\"type\":\"Grid\"},{\"attributes\":{\"callback\":null,\"end\":6455972,\"start\":2698291},\"id\":\"e71c00a4-5fc4-4f53-b3d3-677834476a09\",\"type\":\"Range1d\"},{\"attributes\":{},\"id\":\"43d4c94d-d209-466a-920c-5934b2d3ddc7\",\"type\":\"BasicTickFormatter\"},{\"attributes\":{\"plot\":null,\"text\":null},\"id\":\"b795f362-66a3-4ac4-be01-4d0be87a7f5b\",\"type\":\"Title\"},{\"attributes\":{},\"id\":\"00b3c635-066b-4806-bf73-71ceead1176c\",\"type\":\"BasicTicker\"},{\"attributes\":{\"dimension\":1,\"plot\":{\"id\":\"e7fa4915-5164-420d-8b94-638d44165735\",\"subtype\":\"Figure\",\"type\":\"Plot\"},\"ticker\":{\"id\":\"00b3c635-066b-4806-bf73-71ceead1176c\",\"type\":\"BasicTicker\"}},\"id\":\"38512a59-2e84-463f-b0ee-897e1ae5b725\",\"type\":\"Grid\"},{\"attributes\":{},\"id\":\"ee5fd669-d154-4f90-b402-cf502445776a\",\"type\":\"BasicTicker\"},{\"attributes\":{\"plot\":{\"id\":\"e7fa4915-5164-420d-8b94-638d44165735\",\"subtype\":\"Figure\",\"type\":\"Plot\"}},\"id\":\"a44b2b1a-6802-4cad-b2b3-e46740c0f628\",\"type\":\"WheelZoomTool\"},{\"attributes\":{\"formatter\":{\"id\":\"43d4c94d-d209-466a-920c-5934b2d3ddc7\",\"type\":\"BasicTickFormatter\"},\"plot\":{\"id\":\"e7fa4915-5164-420d-8b94-638d44165735\",\"subtype\":\"Figure\",\"type\":\"Plot\"},\"ticker\":{\"id\":\"ee5fd669-d154-4f90-b402-cf502445776a\",\"type\":\"BasicTicker\"},\"visible\":false},\"id\":\"95579eae-f2b8-4dcd-9847-6b8bae6f1772\",\"type\":\"LinearAxis\"},{\"attributes\":{\"active_drag\":\"auto\",\"active_scroll\":\"auto\",\"active_tap\":\"auto\",\"tools\":[{\"id\":\"624c25fd-a44c-4b2e-b00f-e510862e385a\",\"type\":\"PanTool\"},{\"id\":\"a44b2b1a-6802-4cad-b2b3-e46740c0f628\",\"type\":\"WheelZoomTool\"}]},\"id\":\"68dcfe97-7d4e-4879-a0d7-981f0d2834fc\",\"type\":\"Toolbar\"},{\"attributes\":{\"formatter\":{\"id\":\"b2703395-d91c-4599-b357-73672d943963\",\"type\":\"BasicTickFormatter\"},\"plot\":{\"id\":\"e7fa4915-5164-420d-8b94-638d44165735\",\"subtype\":\"Figure\",\"type\":\"Plot\"},\"ticker\":{\"id\":\"00b3c635-066b-4806-bf73-71ceead1176c\",\"type\":\"BasicTicker\"},\"visible\":false},\"id\":\"d74acedc-235f-4717-827c-c15e602ab96f\",\"type\":\"LinearAxis\"},{\"attributes\":{\"callback\":null,\"end\":-7453304,\"start\":-13884029},\"id\":\"b9dda139-0b14-478d-a9d0-418835f47313\",\"type\":\"Range1d\"},{\"attributes\":{\"below\":[{\"id\":\"95579eae-f2b8-4dcd-9847-6b8bae6f1772\",\"type\":\"LinearAxis\"}],\"left\":[{\"id\":\"d74acedc-235f-4717-827c-c15e602ab96f\",\"type\":\"LinearAxis\"}],\"renderers\":[{\"id\":\"95579eae-f2b8-4dcd-9847-6b8bae6f1772\",\"type\":\"LinearAxis\"},{\"id\":\"8d45164e-c1d4-4461-ba57-ff9e130618d7\",\"type\":\"Grid\"},{\"id\":\"d74acedc-235f-4717-827c-c15e602ab96f\",\"type\":\"LinearAxis\"},{\"id\":\"38512a59-2e84-463f-b0ee-897e1ae5b725\",\"type\":\"Grid\"},{\"id\":\"d4a85e65-9b27-4728-8537-a969e45fb1d9\",\"type\":\"TileRenderer\"}],\"title\":{\"id\":\"b795f362-66a3-4ac4-be01-4d0be87a7f5b\",\"type\":\"Title\"},\"tool_events\":{\"id\":\"675ab69f-d585-45c0-aa36-1fec32929fcf\",\"type\":\"ToolEvents\"},\"toolbar\":{\"id\":\"68dcfe97-7d4e-4879-a0d7-981f0d2834fc\",\"type\":\"Toolbar\"},\"x_range\":{\"id\":\"b9dda139-0b14-478d-a9d0-418835f47313\",\"type\":\"Range1d\"},\"y_range\":{\"id\":\"e71c00a4-5fc4-4f53-b3d3-677834476a09\",\"type\":\"Range1d\"}},\"id\":\"e7fa4915-5164-420d-8b94-638d44165735\",\"subtype\":\"Figure\",\"type\":\"Plot\"},{\"attributes\":{\"tile_source\":{\"id\":\"bee3c992-c840-44a1-8be5-900ac9c80748\",\"type\":\"WMTSTileSource\"}},\"id\":\"d4a85e65-9b27-4728-8537-a969e45fb1d9\",\"type\":\"TileRenderer\"},{\"attributes\":{\"plot\":{\"id\":\"e7fa4915-5164-420d-8b94-638d44165735\",\"subtype\":\"Figure\",\"type\":\"Plot\"}},\"id\":\"624c25fd-a44c-4b2e-b00f-e510862e385a\",\"type\":\"PanTool\"},{\"attributes\":{},\"id\":\"b2703395-d91c-4599-b357-73672d943963\",\"type\":\"BasicTickFormatter\"}],\"root_ids\":[\"e7fa4915-5164-420d-8b94-638d44165735\"]},\"title\":\"Bokeh Application\",\"version\":\"0.12.0\"}};\n",
       "            var render_items = [{\"docid\":\"82dda6c9-51b0-4fc4-b397-5d475ee9b01d\",\"elementid\":\"e3b3e6c9-5a28-401b-be17-1fede2a33509\",\"modelid\":\"e7fa4915-5164-420d-8b94-638d44165735\",\"notebook_comms_target\":\"954654f6-a345-4342-9cf6-dbbc434228e3\"}];\n",
       "            \n",
       "            Bokeh.embed.embed_items(docs_json, render_items);\n",
       "        });\n",
       "      },\n",
       "      function(Bokeh) {\n",
       "      }\n",
       "    ];\n",
       "  \n",
       "    function run_inline_js() {\n",
       "      for (var i = 0; i < inline_js.length; i++) {\n",
       "        inline_js[i](window.Bokeh);\n",
       "      }\n",
       "    }\n",
       "  \n",
       "    if (window._bokeh_is_loading === 0) {\n",
       "      console.log(\"Bokeh: BokehJS loaded, going straight to plotting\");\n",
       "      run_inline_js();\n",
       "    } else {\n",
       "      load_libs(js_urls, function() {\n",
       "        console.log(\"Bokeh: BokehJS plotting callback run at\", now());\n",
       "        run_inline_js();\n",
       "      });\n",
       "    }\n",
       "  }(this));\n",
       "</script>"
      ]
     },
     "metadata": {},
     "output_type": "display_data"
    },
    {
     "data": {
      "text/html": [
       "<p><code>&lt;Bokeh Notebook handle for <strong>In[3]</strong>&gt;</code></p>"
      ],
      "text/plain": [
       "<bokeh.io._CommsHandle at 0x10d449a90>"
      ]
     },
     "execution_count": 3,
     "metadata": {},
     "output_type": "execute_result"
    }
   ],
   "source": [
    "show(fig)"
   ]
  },
  {
   "cell_type": "markdown",
   "metadata": {},
   "source": [
    "That's all it takes to put map data into your plot!  Of course, you'll usually want to show other data as well, or you could just use the tile server's own web address. You can now add anything you would normally use in a Bokeh plot, as long as you can obtain coordinates for it in Web Mercator format.  For example:"
   ]
  },
  {
   "cell_type": "code",
   "execution_count": 8,
   "metadata": {
    "collapsed": false
   },
   "outputs": [
    {
     "data": {
      "text/html": [
       "<div>\n",
       "<table border=\"1\" class=\"dataframe\">\n",
       "  <thead>\n",
       "    <tr style=\"text-align: right;\">\n",
       "      <th></th>\n",
       "      <th>lat</th>\n",
       "      <th>lon</th>\n",
       "      <th>name</th>\n",
       "      <th>x</th>\n",
       "      <th>y</th>\n",
       "    </tr>\n",
       "  </thead>\n",
       "  <tbody>\n",
       "    <tr>\n",
       "      <th>0</th>\n",
       "      <td>30.2672</td>\n",
       "      <td>-97.7431</td>\n",
       "      <td>Austin</td>\n",
       "      <td>-1.088071e+07</td>\n",
       "      <td>3.537942e+06</td>\n",
       "    </tr>\n",
       "    <tr>\n",
       "      <th>1</th>\n",
       "      <td>40.7128</td>\n",
       "      <td>-74.0059</td>\n",
       "      <td>NYC</td>\n",
       "      <td>-8.238299e+06</td>\n",
       "      <td>4.970072e+06</td>\n",
       "    </tr>\n",
       "  </tbody>\n",
       "</table>\n",
       "</div>"
      ],
      "text/plain": [
       "       lat      lon    name             x             y\n",
       "0  30.2672 -97.7431  Austin -1.088071e+07  3.537942e+06\n",
       "1  40.7128 -74.0059     NYC -8.238299e+06  4.970072e+06"
      ]
     },
     "execution_count": 8,
     "metadata": {},
     "output_type": "execute_result"
    }
   ],
   "source": [
    "import pandas as pd\n",
    "import numpy as np\n",
    "\n",
    "def wgs84_to_web_mercator(df, lon=\"lon\", lat=\"lat\"):\n",
    "    \"\"\"Converts decimal longitude/latitude to Web Mercator format\"\"\"\n",
    "    k = 6378137\n",
    "    df[\"x\"] = df[lon] * (k * np.pi/180.0)\n",
    "    df[\"y\"] = np.log(np.tan((90 + df[lat]) * np.pi/360.0)) * k\n",
    "    return df\n",
    "\n",
    "df = pd.DataFrame(dict(name=[\"Austin\",\"NYC\"],lon=[-97.7431,-74.0059],lat=[30.2672,40.7128]))\n",
    "wgs84_to_web_mercator(df)"
   ]
  },
  {
   "cell_type": "code",
   "execution_count": 9,
   "metadata": {
    "collapsed": false
   },
   "outputs": [
    {
     "data": {
      "text/html": [
       "\n",
       "\n",
       "    <div class=\"bk-root\">\n",
       "        <div class=\"plotdiv\" id=\"972e1231-01aa-452c-ae37-3983dae7a0f8\"></div>\n",
       "    </div>\n",
       "<script type=\"text/javascript\">\n",
       "  \n",
       "  (function(global) {\n",
       "    function now() {\n",
       "      return new Date();\n",
       "    }\n",
       "  \n",
       "    if (typeof (window._bokeh_onload_callbacks) === \"undefined\") {\n",
       "      window._bokeh_onload_callbacks = [];\n",
       "    }\n",
       "  \n",
       "    function run_callbacks() {\n",
       "      window._bokeh_onload_callbacks.forEach(function(callback) { callback() });\n",
       "      delete window._bokeh_onload_callbacks\n",
       "      console.info(\"Bokeh: all callbacks have finished\");\n",
       "    }\n",
       "  \n",
       "    function load_libs(js_urls, callback) {\n",
       "      window._bokeh_onload_callbacks.push(callback);\n",
       "      if (window._bokeh_is_loading > 0) {\n",
       "        console.log(\"Bokeh: BokehJS is being loaded, scheduling callback at\", now());\n",
       "        return null;\n",
       "      }\n",
       "      if (js_urls == null || js_urls.length === 0) {\n",
       "        run_callbacks();\n",
       "        return null;\n",
       "      }\n",
       "      console.log(\"Bokeh: BokehJS not loaded, scheduling load and callback at\", now());\n",
       "      window._bokeh_is_loading = js_urls.length;\n",
       "      for (var i = 0; i < js_urls.length; i++) {\n",
       "        var url = js_urls[i];\n",
       "        var s = document.createElement('script');\n",
       "        s.src = url;\n",
       "        s.async = false;\n",
       "        s.onreadystatechange = s.onload = function() {\n",
       "          window._bokeh_is_loading--;\n",
       "          if (window._bokeh_is_loading === 0) {\n",
       "            console.log(\"Bokeh: all BokehJS libraries loaded\");\n",
       "            run_callbacks()\n",
       "          }\n",
       "        };\n",
       "        s.onerror = function() {\n",
       "          console.warn(\"failed to load library \" + url);\n",
       "        };\n",
       "        console.log(\"Bokeh: injecting script tag for BokehJS library: \", url);\n",
       "        document.getElementsByTagName(\"head\")[0].appendChild(s);\n",
       "      }\n",
       "    };var element = document.getElementById(\"972e1231-01aa-452c-ae37-3983dae7a0f8\");\n",
       "    if (element == null) {\n",
       "      console.log(\"Bokeh: ERROR: autoload.js configured with elementid '972e1231-01aa-452c-ae37-3983dae7a0f8' but no matching script tag was found. \")\n",
       "      return false;\n",
       "    }\n",
       "  \n",
       "    var js_urls = [];\n",
       "  \n",
       "    var inline_js = [\n",
       "      function(Bokeh) {\n",
       "        Bokeh.$(function() {\n",
       "            var docs_json = {\"8362c881-bbff-4d93-9775-b53261e93b07\":{\"roots\":{\"references\":[{\"attributes\":{\"callback\":null,\"end\":-7453304,\"start\":-13884029},\"id\":\"b9dda139-0b14-478d-a9d0-418835f47313\",\"type\":\"Range1d\"},{\"attributes\":{\"callback\":null,\"column_names\":[\"x\",\"y\"],\"data\":{\"x\":[-10880712.12055602,-8238299.103697925],\"y\":[3537942.358326604,4970071.579142428]}},\"id\":\"8331254e-1050-4a5a-bd55-3d719f4a3143\",\"type\":\"ColumnDataSource\"},{\"attributes\":{\"data_source\":{\"id\":\"8331254e-1050-4a5a-bd55-3d719f4a3143\",\"type\":\"ColumnDataSource\"},\"glyph\":{\"id\":\"62d44147-97b7-40d7-9566-343e997eb2e1\",\"type\":\"Circle\"},\"hover_glyph\":null,\"nonselection_glyph\":{\"id\":\"588b8ce1-fc07-45b8-ac6a-591db60c14c0\",\"type\":\"Circle\"},\"selection_glyph\":null},\"id\":\"246aff15-2779-4905-85d7-f6f74049de1b\",\"type\":\"GlyphRenderer\"},{\"attributes\":{\"plot\":null,\"text\":null},\"id\":\"b795f362-66a3-4ac4-be01-4d0be87a7f5b\",\"type\":\"Title\"},{\"attributes\":{},\"id\":\"43d4c94d-d209-466a-920c-5934b2d3ddc7\",\"type\":\"BasicTickFormatter\"},{\"attributes\":{\"dimension\":1,\"plot\":{\"id\":\"e7fa4915-5164-420d-8b94-638d44165735\",\"subtype\":\"Figure\",\"type\":\"Plot\"},\"ticker\":{\"id\":\"00b3c635-066b-4806-bf73-71ceead1176c\",\"type\":\"BasicTicker\"}},\"id\":\"38512a59-2e84-463f-b0ee-897e1ae5b725\",\"type\":\"Grid\"},{\"attributes\":{},\"id\":\"ee5fd669-d154-4f90-b402-cf502445776a\",\"type\":\"BasicTicker\"},{\"attributes\":{\"plot\":{\"id\":\"e7fa4915-5164-420d-8b94-638d44165735\",\"subtype\":\"Figure\",\"type\":\"Plot\"}},\"id\":\"a44b2b1a-6802-4cad-b2b3-e46740c0f628\",\"type\":\"WheelZoomTool\"},{\"attributes\":{\"active_drag\":\"auto\",\"active_scroll\":\"auto\",\"active_tap\":\"auto\",\"tools\":[{\"id\":\"624c25fd-a44c-4b2e-b00f-e510862e385a\",\"type\":\"PanTool\"},{\"id\":\"a44b2b1a-6802-4cad-b2b3-e46740c0f628\",\"type\":\"WheelZoomTool\"}]},\"id\":\"68dcfe97-7d4e-4879-a0d7-981f0d2834fc\",\"type\":\"Toolbar\"},{\"attributes\":{\"formatter\":{\"id\":\"b2703395-d91c-4599-b357-73672d943963\",\"type\":\"BasicTickFormatter\"},\"plot\":{\"id\":\"e7fa4915-5164-420d-8b94-638d44165735\",\"subtype\":\"Figure\",\"type\":\"Plot\"},\"ticker\":{\"id\":\"00b3c635-066b-4806-bf73-71ceead1176c\",\"type\":\"BasicTicker\"},\"visible\":false},\"id\":\"d74acedc-235f-4717-827c-c15e602ab96f\",\"type\":\"LinearAxis\"},{\"attributes\":{\"below\":[{\"id\":\"95579eae-f2b8-4dcd-9847-6b8bae6f1772\",\"type\":\"LinearAxis\"}],\"left\":[{\"id\":\"d74acedc-235f-4717-827c-c15e602ab96f\",\"type\":\"LinearAxis\"}],\"renderers\":[{\"id\":\"95579eae-f2b8-4dcd-9847-6b8bae6f1772\",\"type\":\"LinearAxis\"},{\"id\":\"8d45164e-c1d4-4461-ba57-ff9e130618d7\",\"type\":\"Grid\"},{\"id\":\"d74acedc-235f-4717-827c-c15e602ab96f\",\"type\":\"LinearAxis\"},{\"id\":\"38512a59-2e84-463f-b0ee-897e1ae5b725\",\"type\":\"Grid\"},{\"id\":\"d4a85e65-9b27-4728-8537-a969e45fb1d9\",\"type\":\"TileRenderer\"},{\"id\":\"b8ece59b-3e4d-4f59-8b12-64a342956ec9\",\"type\":\"GlyphRenderer\"},{\"id\":\"246aff15-2779-4905-85d7-f6f74049de1b\",\"type\":\"GlyphRenderer\"}],\"title\":{\"id\":\"b795f362-66a3-4ac4-be01-4d0be87a7f5b\",\"type\":\"Title\"},\"tool_events\":{\"id\":\"675ab69f-d585-45c0-aa36-1fec32929fcf\",\"type\":\"ToolEvents\"},\"toolbar\":{\"id\":\"68dcfe97-7d4e-4879-a0d7-981f0d2834fc\",\"type\":\"Toolbar\"},\"x_range\":{\"id\":\"b9dda139-0b14-478d-a9d0-418835f47313\",\"type\":\"Range1d\"},\"y_range\":{\"id\":\"e71c00a4-5fc4-4f53-b3d3-677834476a09\",\"type\":\"Range1d\"}},\"id\":\"e7fa4915-5164-420d-8b94-638d44165735\",\"subtype\":\"Figure\",\"type\":\"Plot\"},{\"attributes\":{\"tile_source\":{\"id\":\"bee3c992-c840-44a1-8be5-900ac9c80748\",\"type\":\"WMTSTileSource\"}},\"id\":\"d4a85e65-9b27-4728-8537-a969e45fb1d9\",\"type\":\"TileRenderer\"},{\"attributes\":{},\"id\":\"b2703395-d91c-4599-b357-73672d943963\",\"type\":\"BasicTickFormatter\"},{\"attributes\":{\"attribution\":\"Tiles from MapQuest\",\"url\":\"http://otile1.mqcdn.com/tiles/1.0.0/sat/{Z}/{X}/{Y}.jpg\"},\"id\":\"bee3c992-c840-44a1-8be5-900ac9c80748\",\"type\":\"WMTSTileSource\"},{\"attributes\":{},\"id\":\"675ab69f-d585-45c0-aa36-1fec32929fcf\",\"type\":\"ToolEvents\"},{\"attributes\":{\"callback\":null,\"end\":6455972,\"start\":2698291},\"id\":\"e71c00a4-5fc4-4f53-b3d3-677834476a09\",\"type\":\"Range1d\"},{\"attributes\":{\"fill_color\":{\"value\":\"blue\"},\"line_color\":{\"value\":\"#1f77b4\"},\"size\":{\"units\":\"screen\",\"value\":10},\"x\":{\"field\":\"x\"},\"y\":{\"field\":\"y\"}},\"id\":\"62d44147-97b7-40d7-9566-343e997eb2e1\",\"type\":\"Circle\"},{\"attributes\":{\"fill_alpha\":{\"value\":0.1},\"fill_color\":{\"value\":\"#1f77b4\"},\"line_alpha\":{\"value\":0.1},\"line_color\":{\"value\":\"#1f77b4\"},\"size\":{\"units\":\"screen\",\"value\":10},\"x\":{\"field\":\"x\"},\"y\":{\"field\":\"y\"}},\"id\":\"588b8ce1-fc07-45b8-ac6a-591db60c14c0\",\"type\":\"Circle\"},{\"attributes\":{\"fill_alpha\":{\"value\":0.1},\"fill_color\":{\"value\":\"#1f77b4\"},\"line_alpha\":{\"value\":0.1},\"line_color\":{\"value\":\"#1f77b4\"},\"size\":{\"units\":\"screen\",\"value\":10},\"x\":{\"field\":\"x\"},\"y\":{\"field\":\"y\"}},\"id\":\"a0855a6f-b622-4fd9-99f6-5edf44e1941d\",\"type\":\"Circle\"},{\"attributes\":{},\"id\":\"00b3c635-066b-4806-bf73-71ceead1176c\",\"type\":\"BasicTicker\"},{\"attributes\":{\"callback\":null,\"column_names\":[\"x\",\"y\"],\"data\":{\"x\":[-10880712.12055602,-8238299.103697925],\"y\":[3537942.358326604,4970071.579142428]}},\"id\":\"b916c2a5-617b-49ee-a550-9e8fab7030b0\",\"type\":\"ColumnDataSource\"},{\"attributes\":{\"fill_color\":{\"value\":\"blue\"},\"line_color\":{\"value\":\"#1f77b4\"},\"size\":{\"units\":\"screen\",\"value\":10},\"x\":{\"field\":\"x\"},\"y\":{\"field\":\"y\"}},\"id\":\"5072a19b-b305-4d23-bafb-460ab31c4e19\",\"type\":\"Circle\"},{\"attributes\":{\"formatter\":{\"id\":\"43d4c94d-d209-466a-920c-5934b2d3ddc7\",\"type\":\"BasicTickFormatter\"},\"plot\":{\"id\":\"e7fa4915-5164-420d-8b94-638d44165735\",\"subtype\":\"Figure\",\"type\":\"Plot\"},\"ticker\":{\"id\":\"ee5fd669-d154-4f90-b402-cf502445776a\",\"type\":\"BasicTicker\"},\"visible\":false},\"id\":\"95579eae-f2b8-4dcd-9847-6b8bae6f1772\",\"type\":\"LinearAxis\"},{\"attributes\":{\"data_source\":{\"id\":\"b916c2a5-617b-49ee-a550-9e8fab7030b0\",\"type\":\"ColumnDataSource\"},\"glyph\":{\"id\":\"5072a19b-b305-4d23-bafb-460ab31c4e19\",\"type\":\"Circle\"},\"hover_glyph\":null,\"nonselection_glyph\":{\"id\":\"a0855a6f-b622-4fd9-99f6-5edf44e1941d\",\"type\":\"Circle\"},\"selection_glyph\":null},\"id\":\"b8ece59b-3e4d-4f59-8b12-64a342956ec9\",\"type\":\"GlyphRenderer\"},{\"attributes\":{\"plot\":{\"id\":\"e7fa4915-5164-420d-8b94-638d44165735\",\"subtype\":\"Figure\",\"type\":\"Plot\"},\"ticker\":{\"id\":\"ee5fd669-d154-4f90-b402-cf502445776a\",\"type\":\"BasicTicker\"}},\"id\":\"8d45164e-c1d4-4461-ba57-ff9e130618d7\",\"type\":\"Grid\"},{\"attributes\":{\"plot\":{\"id\":\"e7fa4915-5164-420d-8b94-638d44165735\",\"subtype\":\"Figure\",\"type\":\"Plot\"}},\"id\":\"624c25fd-a44c-4b2e-b00f-e510862e385a\",\"type\":\"PanTool\"}],\"root_ids\":[\"e7fa4915-5164-420d-8b94-638d44165735\"]},\"title\":\"Bokeh Application\",\"version\":\"0.12.0\"}};\n",
       "            var render_items = [{\"docid\":\"8362c881-bbff-4d93-9775-b53261e93b07\",\"elementid\":\"972e1231-01aa-452c-ae37-3983dae7a0f8\",\"modelid\":\"e7fa4915-5164-420d-8b94-638d44165735\",\"notebook_comms_target\":\"bc62ae28-098f-4622-9888-d3b14d3100c3\"}];\n",
       "            \n",
       "            Bokeh.embed.embed_items(docs_json, render_items);\n",
       "        });\n",
       "      },\n",
       "      function(Bokeh) {\n",
       "      }\n",
       "    ];\n",
       "  \n",
       "    function run_inline_js() {\n",
       "      for (var i = 0; i < inline_js.length; i++) {\n",
       "        inline_js[i](window.Bokeh);\n",
       "      }\n",
       "    }\n",
       "  \n",
       "    if (window._bokeh_is_loading === 0) {\n",
       "      console.log(\"Bokeh: BokehJS loaded, going straight to plotting\");\n",
       "      run_inline_js();\n",
       "    } else {\n",
       "      load_libs(js_urls, function() {\n",
       "        console.log(\"Bokeh: BokehJS plotting callback run at\", now());\n",
       "        run_inline_js();\n",
       "      });\n",
       "    }\n",
       "  }(this));\n",
       "</script>"
      ]
     },
     "metadata": {},
     "output_type": "display_data"
    },
    {
     "data": {
      "text/html": [
       "<p><code>&lt;Bokeh Notebook handle for <strong>In[9]</strong>&gt;</code></p>"
      ],
      "text/plain": [
       "<bokeh.io._CommsHandle at 0x10d4a6e80>"
      ]
     },
     "execution_count": 9,
     "metadata": {},
     "output_type": "execute_result"
    }
   ],
   "source": [
    "fig.circle(x=df['x'], y=df['y'],fill_color='blue', size=10)\n",
    "show(fig)"
   ]
  },
  {
   "cell_type": "code",
   "execution_count": 10,
   "metadata": {
    "collapsed": true
   },
   "outputs": [],
   "source": [
    "### EXERCISE: find some data in lat, lon (e.g. at http://data.gov), \n",
    "### import it into a dataframe or data source, and add it on the map above."
   ]
  },
  {
   "cell_type": "code",
   "execution_count": null,
   "metadata": {
    "collapsed": true
   },
   "outputs": [],
   "source": []
  }
 ],
 "metadata": {
  "kernelspec": {
   "display_name": "Python 3",
   "language": "python",
   "name": "python3"
  },
  "language_info": {
   "codemirror_mode": {
    "name": "ipython",
    "version": 3
   },
   "file_extension": ".py",
   "mimetype": "text/x-python",
   "name": "python",
   "nbconvert_exporter": "python",
   "pygments_lexer": "ipython3",
   "version": "3.4.4"
  }
 },
 "nbformat": 4,
 "nbformat_minor": 0
}
