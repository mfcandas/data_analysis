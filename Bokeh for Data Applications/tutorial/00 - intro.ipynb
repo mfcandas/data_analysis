{
 "cells": [
  {
   "cell_type": "markdown",
   "metadata": {},
   "source": [
    "<table style=\"float:left; border:none\">\n",
    "   <tr style=\"border:none\">\n",
    "       <td style=\"border:none\">\n",
    "           <a href=\"http://bokeh.pydata.org/\">     \n",
    "           <img \n",
    "               src=\"assets/images/bokeh-transparent.png\" \n",
    "               style=\"width:50px\"\n",
    "           >\n",
    "           </a>    \n",
    "       </td>\n",
    "       <td style=\"border:none\">\n",
    "           <h1>Bokeh Tutorial</h1>\n",
    "       </td>\n",
    "   </tr>\n",
    "</table>\n",
    "<div style=\"float:right;\"><h2>00. Introduction and Setup</h2></div>"
   ]
  },
  {
   "cell_type": "markdown",
   "metadata": {},
   "source": [
    "# Table of Contents\n",
    "\n",
    "* [Tuturial Overview](#Tutorial-Overview)\n",
    "* [What is Bokeh](#What-is-Bokeh) \n",
    "* [What can I *do* with Bokeh](#What-can-I-do-with-Bokeh) \n",
    "* [How does it work](#How-does-it-work)\n",
    "* [Getting set up](#Getting-set-up)"
   ]
  },
  {
   "cell_type": "markdown",
   "metadata": {},
   "source": [
    "## Tutorial Overview\n",
    "\n",
    "The tutorial is broken into several sections, which are each presented in their own notebook:\n",
    "\n",
    "1. [High Level Charts](01%20-%20charts.ipynb) \n",
    "\n",
    "2. [Basic Plotting Interface](02%20-%20plotting.ipynb)\n",
    "\n",
    "3. [Styling Visual Attributes](03%20-%20styling.ipynb) \n",
    "\n",
    "4. [Layouts, Widgets, and Interactions](04%20-%20interactions.ipynb) \n",
    "\n",
    "5. [Sharing and Embedding](05%20-%20sharing.ipynb) \n",
    "\n",
    "6. [Models and Primitives](06%20-%20models.ipynb) \n",
    "\n",
    "7. [Annotations](07%20-%20annotations.ipynb) \n",
    "\n",
    "8. [Bokeh Applications](08%20-%20server.ipynb) \n",
    "\n",
    "9. [Geographic Data](09%20-%20geo.ipynb)\n",
    "\n",
    "10. [Datashader: Visualizaing Large Data](10%20-%20datashader.ipynb)\n",
    "\n",
    "11. [HoloViews and Bokeh](11%20-%20holoviews.ipynb)\n",
    "\n",
    "A1. [Extra Bokeh Topics](A1%20-%20extra.ipynb) \n"
   ]
  },
  {
   "cell_type": "markdown",
   "metadata": {},
   "source": [
    "## What is Bokeh\n",
    "\n",
    "Bokeh is a Data Visualization library for\n",
    "\n",
    "* interactive visualization in modern browsers\n",
    "* standalone HTML documents, or server-backed apps\n",
    "* capable of expressive and verstatile graphics\n",
    "* can handle large, dynamic or streaming data\n",
    "* available from python (or Scala, or R, or Julia, or...)\n",
    "\n",
    "And most importantly:\n",
    "\n",
    "## <center>NO JAVASCRIPT REQUIRED </center>"
   ]
  },
  {
   "cell_type": "markdown",
   "metadata": {},
   "source": [
    "## What can you *do* with Bokeh"
   ]
  },
  {
   "cell_type": "code",
   "execution_count": 2,
   "metadata": {
    "collapsed": false
   },
   "outputs": [
    {
     "data": {
      "text/html": [
       "\n",
       "    <div class=\"bk-root\">\n",
       "        <a href=\"http://bokeh.pydata.org\" target=\"_blank\" class=\"bk-logo bk-logo-small bk-logo-notebook\"></a>\n",
       "        <span id=\"a2446766-0fa7-468f-9668-1d8f11ab1e91\">Loading BokehJS ...</span>\n",
       "    </div>"
      ]
     },
     "metadata": {},
     "output_type": "display_data"
    },
    {
     "data": {
      "application/javascript": [
       "\n",
       "(function(global) {\n",
       "  function now() {\n",
       "    return new Date();\n",
       "  }\n",
       "\n",
       "  if (typeof (window._bokeh_onload_callbacks) === \"undefined\") {\n",
       "    window._bokeh_onload_callbacks = [];\n",
       "  }\n",
       "\n",
       "  function run_callbacks() {\n",
       "    window._bokeh_onload_callbacks.forEach(function(callback) { callback() });\n",
       "    delete window._bokeh_onload_callbacks\n",
       "    console.info(\"Bokeh: all callbacks have finished\");\n",
       "  }\n",
       "\n",
       "  function load_libs(js_urls, callback) {\n",
       "    window._bokeh_onload_callbacks.push(callback);\n",
       "    if (window._bokeh_is_loading > 0) {\n",
       "      console.log(\"Bokeh: BokehJS is being loaded, scheduling callback at\", now());\n",
       "      return null;\n",
       "    }\n",
       "    if (js_urls == null || js_urls.length === 0) {\n",
       "      run_callbacks();\n",
       "      return null;\n",
       "    }\n",
       "    console.log(\"Bokeh: BokehJS not loaded, scheduling load and callback at\", now());\n",
       "    window._bokeh_is_loading = js_urls.length;\n",
       "    for (var i = 0; i < js_urls.length; i++) {\n",
       "      var url = js_urls[i];\n",
       "      var s = document.createElement('script');\n",
       "      s.src = url;\n",
       "      s.async = false;\n",
       "      s.onreadystatechange = s.onload = function() {\n",
       "        window._bokeh_is_loading--;\n",
       "        if (window._bokeh_is_loading === 0) {\n",
       "          console.log(\"Bokeh: all BokehJS libraries loaded\");\n",
       "          run_callbacks()\n",
       "        }\n",
       "      };\n",
       "      s.onerror = function() {\n",
       "        console.warn(\"failed to load library \" + url);\n",
       "      };\n",
       "      console.log(\"Bokeh: injecting script tag for BokehJS library: \", url);\n",
       "      document.getElementsByTagName(\"head\")[0].appendChild(s);\n",
       "    }\n",
       "  };\n",
       "\n",
       "  var js_urls = ['https://cdn.pydata.org/bokeh/release/bokeh-0.12.0.min.js', 'https://cdn.pydata.org/bokeh/release/bokeh-widgets-0.12.0.min.js', 'https://cdn.pydata.org/bokeh/release/bokeh-compiler-0.12.0.min.js'];\n",
       "\n",
       "  var inline_js = [\n",
       "    function(Bokeh) {\n",
       "      Bokeh.set_log_level(\"info\");\n",
       "    },\n",
       "    \n",
       "    function(Bokeh) {\n",
       "      Bokeh.$(\"#a2446766-0fa7-468f-9668-1d8f11ab1e91\").text(\"BokehJS successfully loaded\");\n",
       "    },\n",
       "    function(Bokeh) {\n",
       "      console.log(\"Bokeh: injecting CSS: https://cdn.pydata.org/bokeh/release/bokeh-0.12.0.min.css\");\n",
       "      Bokeh.embed.inject_css(\"https://cdn.pydata.org/bokeh/release/bokeh-0.12.0.min.css\");\n",
       "      console.log(\"Bokeh: injecting CSS: https://cdn.pydata.org/bokeh/release/bokeh-widgets-0.12.0.min.css\");\n",
       "      Bokeh.embed.inject_css(\"https://cdn.pydata.org/bokeh/release/bokeh-widgets-0.12.0.min.css\");\n",
       "    }\n",
       "  ];\n",
       "\n",
       "  function run_inline_js() {\n",
       "    for (var i = 0; i < inline_js.length; i++) {\n",
       "      inline_js[i](window.Bokeh);\n",
       "    }\n",
       "  }\n",
       "\n",
       "  if (window._bokeh_is_loading === 0) {\n",
       "    console.log(\"Bokeh: BokehJS loaded, going straight to plotting\");\n",
       "    run_inline_js();\n",
       "  } else {\n",
       "    load_libs(js_urls, function() {\n",
       "      console.log(\"Bokeh: BokehJS plotting callback run at\", now());\n",
       "      run_inline_js();\n",
       "    });\n",
       "  }\n",
       "}(this));"
      ]
     },
     "metadata": {},
     "output_type": "display_data"
    }
   ],
   "source": [
    "# Standard imports \n",
    "\n",
    "from bokeh.io import output_notebook, show\n",
    "output_notebook()"
   ]
  },
  {
   "cell_type": "code",
   "execution_count": 3,
   "metadata": {
    "collapsed": false,
    "scrolled": false
   },
   "outputs": [
    {
     "data": {
      "text/html": [
       "\n",
       "\n",
       "    <div class=\"bk-root\">\n",
       "        <div class=\"plotdiv\" id=\"7d9bbcff-2ccf-491a-b485-ed384319f0c6\"></div>\n",
       "    </div>\n",
       "<script type=\"text/javascript\">\n",
       "  \n",
       "  (function(global) {\n",
       "    function now() {\n",
       "      return new Date();\n",
       "    }\n",
       "  \n",
       "    if (typeof (window._bokeh_onload_callbacks) === \"undefined\") {\n",
       "      window._bokeh_onload_callbacks = [];\n",
       "    }\n",
       "  \n",
       "    function run_callbacks() {\n",
       "      window._bokeh_onload_callbacks.forEach(function(callback) { callback() });\n",
       "      delete window._bokeh_onload_callbacks\n",
       "      console.info(\"Bokeh: all callbacks have finished\");\n",
       "    }\n",
       "  \n",
       "    function load_libs(js_urls, callback) {\n",
       "      window._bokeh_onload_callbacks.push(callback);\n",
       "      if (window._bokeh_is_loading > 0) {\n",
       "        console.log(\"Bokeh: BokehJS is being loaded, scheduling callback at\", now());\n",
       "        return null;\n",
       "      }\n",
       "      if (js_urls == null || js_urls.length === 0) {\n",
       "        run_callbacks();\n",
       "        return null;\n",
       "      }\n",
       "      console.log(\"Bokeh: BokehJS not loaded, scheduling load and callback at\", now());\n",
       "      window._bokeh_is_loading = js_urls.length;\n",
       "      for (var i = 0; i < js_urls.length; i++) {\n",
       "        var url = js_urls[i];\n",
       "        var s = document.createElement('script');\n",
       "        s.src = url;\n",
       "        s.async = false;\n",
       "        s.onreadystatechange = s.onload = function() {\n",
       "          window._bokeh_is_loading--;\n",
       "          if (window._bokeh_is_loading === 0) {\n",
       "            console.log(\"Bokeh: all BokehJS libraries loaded\");\n",
       "            run_callbacks()\n",
       "          }\n",
       "        };\n",
       "        s.onerror = function() {\n",
       "          console.warn(\"failed to load library \" + url);\n",
       "        };\n",
       "        console.log(\"Bokeh: injecting script tag for BokehJS library: \", url);\n",
       "        document.getElementsByTagName(\"head\")[0].appendChild(s);\n",
       "      }\n",
       "    };var element = document.getElementById(\"7d9bbcff-2ccf-491a-b485-ed384319f0c6\");\n",
       "    if (element == null) {\n",
       "      console.log(\"Bokeh: ERROR: autoload.js configured with elementid '7d9bbcff-2ccf-491a-b485-ed384319f0c6' but no matching script tag was found. \")\n",
       "      return false;\n",
       "    }\n",
       "  \n",
       "    var js_urls = [];\n",
       "  \n",
       "    var inline_js = [\n",
       "      function(Bokeh) {\n",
       "        Bokeh.$(function() {\n",
       "            var docs_json = {\"187f7d0e-90fb-435e-81ce-ad5ef41a53be\":{\"roots\":{\"references\":[{\"attributes\":{\"callback\":null,\"column_names\":[\"width\",\"y\",\"fill_alpha\",\"line_color\",\"height\",\"line_alpha\",\"x\",\"label\",\"color\"],\"data\":{\"chart_index\":[\"(6.1, 6.3]\"],\"color\":[\"#407ee7\"],\"fill_alpha\":[0.6],\"height\":[1.0],\"label\":[\"(6.1, 6.3]\"],\"line_alpha\":[1.0],\"line_color\":[\"black\"],\"width\":[0.20000000000000018],\"x\":[\"6.199999999999999\"],\"y\":[0.5]}},\"id\":\"ebeab1d7-9a4d-4e9b-9e92-83ee1ddf42a2\",\"type\":\"ColumnDataSource\"},{\"attributes\":{\"data_source\":{\"id\":\"b995e50d-4f19-48ad-af26-1feef224f3ad\",\"type\":\"ColumnDataSource\"},\"glyph\":{\"id\":\"182e9d46-4fd8-415e-94a4-439c8f5aa249\",\"type\":\"Rect\"},\"hover_glyph\":null,\"nonselection_glyph\":null,\"selection_glyph\":null},\"id\":\"10fa01dc-5d1f-4e3c-82bb-138f3130e237\",\"type\":\"GlyphRenderer\"},{\"attributes\":{\"data_source\":{\"id\":\"ce9b1aeb-f7e7-43a6-9794-d9a0a655f2d5\",\"type\":\"ColumnDataSource\"},\"glyph\":{\"id\":\"97d0723d-7a9c-47b4-ae4d-c4a671118454\",\"type\":\"Rect\"},\"hover_glyph\":null,\"nonselection_glyph\":null,\"selection_glyph\":null},\"id\":\"e25f4650-a2d0-46ff-85bd-56139a2c3014\",\"type\":\"GlyphRenderer\"},{\"attributes\":{\"callback\":null,\"column_names\":[\"width\",\"y\",\"fill_alpha\",\"line_color\",\"height\",\"line_alpha\",\"x\",\"label\",\"color\"],\"data\":{\"chart_index\":[\"(4.6, 4.8]\"],\"color\":[\"#5ab738\"],\"fill_alpha\":[0.6],\"height\":[8.0],\"label\":[\"(4.6, 4.8]\"],\"line_alpha\":[1.0],\"line_color\":[\"black\"],\"width\":[0.1750000000000007],\"x\":[\"4.699999999999999\"],\"y\":[4.0]}},\"id\":\"d84cef6b-fb96-417e-acf1-4e53ce2df3e1\",\"type\":\"ColumnDataSource\"},{\"attributes\":{\"data_source\":{\"id\":\"2e204d3d-f69f-4ac2-bfd0-488385172a79\",\"type\":\"ColumnDataSource\"},\"glyph\":{\"id\":\"bef23c84-9612-4c19-b5cc-2610ce494710\",\"type\":\"Rect\"},\"hover_glyph\":null,\"nonselection_glyph\":null,\"selection_glyph\":null},\"id\":\"c70794ac-93e0-430b-a89f-66a89b09716e\",\"type\":\"GlyphRenderer\"},{\"attributes\":{\"callback\":null,\"column_names\":[\"width\",\"y\",\"fill_alpha\",\"line_color\",\"height\",\"line_alpha\",\"x\",\"label\",\"color\"],\"data\":{\"chart_index\":[\"(4.0, 4.2]\"],\"color\":[\"#5ab738\"],\"fill_alpha\":[0.6],\"height\":[7.0],\"label\":[\"(4.0, 4.2]\"],\"line_alpha\":[1.0],\"line_color\":[\"black\"],\"width\":[0.17499999999999982],\"x\":[\"4.1\"],\"y\":[3.5]}},\"id\":\"3a922573-834d-4679-8d2c-46ff71035b9d\",\"type\":\"ColumnDataSource\"},{\"attributes\":{\"data_source\":{\"id\":\"3c006373-812a-48a2-8951-b1288dc56f29\",\"type\":\"ColumnDataSource\"},\"glyph\":{\"id\":\"b3c95dea-9770-4a79-8277-a997697a48ce\",\"type\":\"Rect\"},\"hover_glyph\":null,\"nonselection_glyph\":null,\"selection_glyph\":null},\"id\":\"5803361c-16fe-4962-8109-7a8d40dd6115\",\"type\":\"GlyphRenderer\"},{\"attributes\":{\"data_source\":{\"id\":\"3a922573-834d-4679-8d2c-46ff71035b9d\",\"type\":\"ColumnDataSource\"},\"glyph\":{\"id\":\"b235f822-3338-46e4-b1ce-61712c2cbd12\",\"type\":\"Rect\"},\"hover_glyph\":null,\"nonselection_glyph\":null,\"selection_glyph\":null},\"id\":\"08e813cc-3c03-4dd3-a32f-6bc54508382b\",\"type\":\"GlyphRenderer\"},{\"attributes\":{\"overlay\":{\"id\":\"288c3c09-7178-4cbe-87fb-52be6920f29b\",\"type\":\"BoxAnnotation\"},\"plot\":{\"id\":\"b264486d-e297-4d06-8816-239f5c1922b5\",\"subtype\":\"Chart\",\"type\":\"Plot\"}},\"id\":\"9330cf97-1c94-4a6d-b46d-65e90453d197\",\"type\":\"BoxZoomTool\"},{\"attributes\":{\"data_source\":{\"id\":\"cae23271-fe11-41aa-99d8-e0d89ddcb851\",\"type\":\"ColumnDataSource\"},\"glyph\":{\"id\":\"44aefe78-bf75-4328-b4dc-1132bd59864a\",\"type\":\"Rect\"},\"hover_glyph\":null,\"nonselection_glyph\":null,\"selection_glyph\":null},\"id\":\"66c0b1b9-6ac6-4d31-bbbb-52223433f089\",\"type\":\"GlyphRenderer\"},{\"attributes\":{\"axis_label\":\"petal_length\",\"formatter\":{\"id\":\"361c27a8-779e-462d-9b83-f25a0c3e24a0\",\"type\":\"BasicTickFormatter\"},\"plot\":{\"id\":\"b264486d-e297-4d06-8816-239f5c1922b5\",\"subtype\":\"Chart\",\"type\":\"Plot\"},\"ticker\":{\"id\":\"0f50d56b-892e-4781-af4c-f61ddde8fb8c\",\"type\":\"BasicTicker\"}},\"id\":\"d5e7a319-f240-445d-8dc5-ce49514f4a49\",\"type\":\"LinearAxis\"},{\"attributes\":{\"callback\":null,\"column_names\":[\"width\",\"y\",\"fill_alpha\",\"line_color\",\"height\",\"line_alpha\",\"x\",\"label\",\"color\"],\"data\":{\"chart_index\":[\"(6.7, 6.9]\"],\"color\":[\"#407ee7\"],\"fill_alpha\":[0.6],\"height\":[1.0],\"label\":[\"(6.7, 6.9]\"],\"line_alpha\":[1.0],\"line_color\":[\"black\"],\"width\":[0.1999999999999993],\"x\":[\"6.800000000000001\"],\"y\":[0.5]}},\"id\":\"2e204d3d-f69f-4ac2-bfd0-488385172a79\",\"type\":\"ColumnDataSource\"},{\"attributes\":{\"callback\":null,\"column_names\":[\"width\",\"y\",\"fill_alpha\",\"line_color\",\"height\",\"line_alpha\",\"x\",\"label\",\"color\"],\"data\":{\"chart_index\":[\"(4.4, 4.6]\"],\"color\":[\"#5ab738\"],\"fill_alpha\":[0.6],\"height\":[11.0],\"label\":[\"(4.4, 4.6]\"],\"line_alpha\":[1.0],\"line_color\":[\"black\"],\"width\":[0.17499999999999982],\"x\":[\"4.5\"],\"y\":[5.5]}},\"id\":\"1c8ba053-25c1-4bfd-a49c-be0fc726bdc6\",\"type\":\"ColumnDataSource\"},{\"attributes\":{\"fill_alpha\":{\"field\":\"fill_alpha\"},\"fill_color\":{\"field\":\"color\"},\"height\":{\"field\":\"height\",\"units\":\"data\"},\"line_color\":{\"field\":\"line_color\"},\"width\":{\"field\":\"width\",\"units\":\"data\"},\"x\":{\"field\":\"x\"},\"y\":{\"field\":\"y\"}},\"id\":\"0dbf2b90-c61e-4762-a7c4-a0788bde7feb\",\"type\":\"Rect\"},{\"attributes\":{\"callback\":null,\"column_names\":[\"width\",\"y\",\"fill_alpha\",\"line_color\",\"height\",\"line_alpha\",\"x\",\"label\",\"color\"],\"data\":{\"chart_index\":[\"(5.5, 5.7]\"],\"color\":[\"#407ee7\"],\"fill_alpha\":[0.6],\"height\":[6.0],\"label\":[\"(5.5, 5.7]\"],\"line_alpha\":[1.0],\"line_color\":[\"black\"],\"width\":[0.20000000000000018],\"x\":[\"5.6\"],\"y\":[3.0]}},\"id\":\"cae23271-fe11-41aa-99d8-e0d89ddcb851\",\"type\":\"ColumnDataSource\"},{\"attributes\":{\"plot\":{\"id\":\"b264486d-e297-4d06-8816-239f5c1922b5\",\"subtype\":\"Chart\",\"type\":\"Plot\"}},\"id\":\"b86437b2-e748-428f-91a5-a593f9830826\",\"type\":\"ResetTool\"},{\"attributes\":{\"data_source\":{\"id\":\"963e0470-d2e6-43bb-b29e-fbde48712ccd\",\"type\":\"ColumnDataSource\"},\"glyph\":{\"id\":\"e0209c34-89c3-4877-a18f-641b11279cd2\",\"type\":\"Rect\"},\"hover_glyph\":null,\"nonselection_glyph\":null,\"selection_glyph\":null},\"id\":\"6ff07cb6-07d3-4d44-abbd-23709c6bdbfa\",\"type\":\"GlyphRenderer\"},{\"attributes\":{\"callback\":null,\"column_names\":[\"width\",\"y\",\"fill_alpha\",\"line_color\",\"height\",\"line_alpha\",\"x\",\"label\",\"color\"],\"data\":{\"chart_index\":[\"(6.3, 6.5]\"],\"color\":[\"#407ee7\"],\"fill_alpha\":[0.6],\"height\":[1.0],\"label\":[\"(6.3, 6.5]\"],\"line_alpha\":[1.0],\"line_color\":[\"black\"],\"width\":[0.1999999999999993],\"x\":[\"6.4\"],\"y\":[0.5]}},\"id\":\"c31d49a4-a479-49dc-a67b-a517c8aba86c\",\"type\":\"ColumnDataSource\"},{\"attributes\":{\"fill_alpha\":{\"field\":\"fill_alpha\"},\"fill_color\":{\"field\":\"color\"},\"height\":{\"field\":\"height\",\"units\":\"data\"},\"line_color\":{\"field\":\"line_color\"},\"width\":{\"field\":\"width\",\"units\":\"data\"},\"x\":{\"field\":\"x\"},\"y\":{\"field\":\"y\"}},\"id\":\"59da60a7-99d1-4d87-a50d-dde2ada838d7\",\"type\":\"Rect\"},{\"attributes\":{\"data_source\":{\"id\":\"e9dd98d9-69c7-4165-8626-fa89b0d8ca81\",\"type\":\"ColumnDataSource\"},\"glyph\":{\"id\":\"6aa83131-93f8-4a71-b8dc-6b2e31fd2f1b\",\"type\":\"Rect\"},\"hover_glyph\":null,\"nonselection_glyph\":null,\"selection_glyph\":null},\"id\":\"4ff8ace1-4c22-4090-9002-e8e2ad698adc\",\"type\":\"GlyphRenderer\"},{\"attributes\":{},\"id\":\"dc9bcf2b-d6df-44e6-a020-6e758c18b444\",\"type\":\"BasicTickFormatter\"},{\"attributes\":{\"dimension\":1,\"plot\":{\"id\":\"b264486d-e297-4d06-8816-239f5c1922b5\",\"subtype\":\"Chart\",\"type\":\"Plot\"},\"ticker\":{\"id\":\"5ec241c7-6fe1-4d03-9f46-e1bad13938c8\",\"type\":\"BasicTicker\"}},\"id\":\"be828ef5-c05d-4013-ae9d-3f2fc5cb2a11\",\"type\":\"Grid\"},{\"attributes\":{\"below\":[{\"id\":\"d5e7a319-f240-445d-8dc5-ce49514f4a49\",\"type\":\"LinearAxis\"}],\"left\":[{\"id\":\"84049161-7d83-48ce-b75f-c0f4684602bd\",\"type\":\"LinearAxis\"}],\"renderers\":[{\"id\":\"288c3c09-7178-4cbe-87fb-52be6920f29b\",\"type\":\"BoxAnnotation\"},{\"id\":\"cbb43ed5-bd08-416f-89a6-7e44eb65107c\",\"type\":\"GlyphRenderer\"},{\"id\":\"e25f4650-a2d0-46ff-85bd-56139a2c3014\",\"type\":\"GlyphRenderer\"},{\"id\":\"993e18e9-6137-4f35-aa28-a3207aeacef5\",\"type\":\"GlyphRenderer\"},{\"id\":\"bddb069c-8558-45f7-8a3c-9b0f71d48bce\",\"type\":\"GlyphRenderer\"},{\"id\":\"293e2bd0-9fef-4ed6-bc07-b0d96c436487\",\"type\":\"GlyphRenderer\"},{\"id\":\"10fa01dc-5d1f-4e3c-82bb-138f3130e237\",\"type\":\"GlyphRenderer\"},{\"id\":\"2721e622-393b-4c78-84c9-ece97e3fd7df\",\"type\":\"GlyphRenderer\"},{\"id\":\"ad9f63b4-3651-4622-8446-d02faecec821\",\"type\":\"GlyphRenderer\"},{\"id\":\"57d29c10-e09f-45cc-86ed-ab30d31b09b3\",\"type\":\"GlyphRenderer\"},{\"id\":\"5941ed01-c86e-4dc5-81e9-828cd2167d67\",\"type\":\"GlyphRenderer\"},{\"id\":\"91723f21-0e08-4920-82f5-70bb492d0a44\",\"type\":\"GlyphRenderer\"},{\"id\":\"c5430956-5bec-46a7-be6b-60452db32cab\",\"type\":\"GlyphRenderer\"},{\"id\":\"5803361c-16fe-4962-8109-7a8d40dd6115\",\"type\":\"GlyphRenderer\"},{\"id\":\"a7e78ca3-0e4c-48d4-a388-bd12d4d99d31\",\"type\":\"GlyphRenderer\"},{\"id\":\"5344e291-b60a-4ac0-94e4-e455d431b7cb\",\"type\":\"GlyphRenderer\"},{\"id\":\"5a9c91fd-bb58-4031-9c25-9948ad525ce4\",\"type\":\"GlyphRenderer\"},{\"id\":\"f286e3c6-39a6-4049-8838-0ddc790c380f\",\"type\":\"GlyphRenderer\"},{\"id\":\"a6dace30-5643-48a6-9df0-8419e5a81465\",\"type\":\"GlyphRenderer\"},{\"id\":\"08e813cc-3c03-4dd3-a32f-6bc54508382b\",\"type\":\"GlyphRenderer\"},{\"id\":\"8b06a4b4-bd26-4566-a54a-28182136c03b\",\"type\":\"GlyphRenderer\"},{\"id\":\"106d62be-2daa-43de-bbed-ab97cc211cc6\",\"type\":\"GlyphRenderer\"},{\"id\":\"71606973-025a-4363-8d4b-be88e1a5a96d\",\"type\":\"GlyphRenderer\"},{\"id\":\"4c041fd9-e215-458f-ab9d-5007ea892706\",\"type\":\"GlyphRenderer\"},{\"id\":\"c2a1477f-5c9d-4a40-ad2b-a6d1ecb80b34\",\"type\":\"GlyphRenderer\"},{\"id\":\"8646bf36-fabd-4814-83c9-fcad8f29d1ed\",\"type\":\"GlyphRenderer\"},{\"id\":\"8bfec9ba-f73d-4e93-87cb-b80a28b4cacf\",\"type\":\"GlyphRenderer\"},{\"id\":\"9574d5dd-ec74-41f3-bb4c-e57a351adf1d\",\"type\":\"GlyphRenderer\"},{\"id\":\"79ee5427-c686-4772-b7d4-463e3052a8a5\",\"type\":\"GlyphRenderer\"},{\"id\":\"6ff07cb6-07d3-4d44-abbd-23709c6bdbfa\",\"type\":\"GlyphRenderer\"},{\"id\":\"66c0b1b9-6ac6-4d31-bbbb-52223433f089\",\"type\":\"GlyphRenderer\"},{\"id\":\"9a13514e-9669-473b-b43f-31fa3f11acb0\",\"type\":\"GlyphRenderer\"},{\"id\":\"3f8a7b57-d1b7-49c8-9a10-f2549f478d2c\",\"type\":\"GlyphRenderer\"},{\"id\":\"8562a3b8-6e7e-4082-95ae-24a9364bd68c\",\"type\":\"GlyphRenderer\"},{\"id\":\"44732fad-ebc6-4476-af27-adb1e3b06834\",\"type\":\"GlyphRenderer\"},{\"id\":\"4ff8ace1-4c22-4090-9002-e8e2ad698adc\",\"type\":\"GlyphRenderer\"},{\"id\":\"c70794ac-93e0-430b-a89f-66a89b09716e\",\"type\":\"GlyphRenderer\"},{\"id\":\"551e5a3f-06ca-47e5-b2a8-616c68909d8d\",\"type\":\"Legend\"},{\"id\":\"d5e7a319-f240-445d-8dc5-ce49514f4a49\",\"type\":\"LinearAxis\"},{\"id\":\"84049161-7d83-48ce-b75f-c0f4684602bd\",\"type\":\"LinearAxis\"},{\"id\":\"be828ef5-c05d-4013-ae9d-3f2fc5cb2a11\",\"type\":\"Grid\"}],\"title\":{\"id\":\"b9de3262-e312-452f-a3fd-43ce75f30794\",\"type\":\"Title\"},\"tool_events\":{\"id\":\"5dd61e88-1b99-462c-aabe-dc15bd8368bc\",\"type\":\"ToolEvents\"},\"toolbar\":{\"id\":\"64c50c6c-4936-40ee-b990-e24a3c2bae94\",\"type\":\"Toolbar\"},\"x_mapper_type\":\"auto\",\"x_range\":{\"id\":\"0c5093b3-0a11-4343-9868-4346633c8341\",\"type\":\"Range1d\"},\"y_mapper_type\":\"auto\",\"y_range\":{\"id\":\"453a0f3c-2b1f-4661-b556-3b821fc097be\",\"type\":\"Range1d\"}},\"id\":\"b264486d-e297-4d06-8816-239f5c1922b5\",\"subtype\":\"Chart\",\"type\":\"Plot\"},{\"attributes\":{\"data_source\":{\"id\":\"d84cef6b-fb96-417e-acf1-4e53ce2df3e1\",\"type\":\"ColumnDataSource\"},\"glyph\":{\"id\":\"63da5976-29ed-4588-9709-ab511bf43595\",\"type\":\"Rect\"},\"hover_glyph\":null,\"nonselection_glyph\":null,\"selection_glyph\":null},\"id\":\"71606973-025a-4363-8d4b-be88e1a5a96d\",\"type\":\"GlyphRenderer\"},{\"attributes\":{\"data_source\":{\"id\":\"104de623-2a87-4096-999c-d2ce04f587e7\",\"type\":\"ColumnDataSource\"},\"glyph\":{\"id\":\"763d47b5-81a8-40e3-b5a3-45fec46a7c52\",\"type\":\"Rect\"},\"hover_glyph\":null,\"nonselection_glyph\":null,\"selection_glyph\":null},\"id\":\"5941ed01-c86e-4dc5-81e9-828cd2167d67\",\"type\":\"GlyphRenderer\"},{\"attributes\":{\"fill_alpha\":{\"field\":\"fill_alpha\"},\"fill_color\":{\"field\":\"color\"},\"height\":{\"field\":\"height\",\"units\":\"data\"},\"line_color\":{\"field\":\"line_color\"},\"width\":{\"field\":\"width\",\"units\":\"data\"},\"x\":{\"field\":\"x\"},\"y\":{\"field\":\"y\"}},\"id\":\"ca2f638e-fac6-4d16-9953-8710e9274072\",\"type\":\"Rect\"},{\"attributes\":{\"fill_alpha\":{\"field\":\"fill_alpha\"},\"fill_color\":{\"field\":\"color\"},\"height\":{\"field\":\"height\",\"units\":\"data\"},\"line_color\":{\"field\":\"line_color\"},\"width\":{\"field\":\"width\",\"units\":\"data\"},\"x\":{\"field\":\"x\"},\"y\":{\"field\":\"y\"}},\"id\":\"54a484df-ae13-41fa-8a02-4a9184517d0a\",\"type\":\"Rect\"},{\"attributes\":{\"data_source\":{\"id\":\"f6bb93a2-f849-44b9-94ae-a742a6448430\",\"type\":\"ColumnDataSource\"},\"glyph\":{\"id\":\"6be21d8d-310a-459b-b9c6-0a63ffb529ef\",\"type\":\"Rect\"},\"hover_glyph\":null,\"nonselection_glyph\":null,\"selection_glyph\":null},\"id\":\"cbb43ed5-bd08-416f-89a6-7e44eb65107c\",\"type\":\"GlyphRenderer\"},{\"attributes\":{\"callback\":null,\"column_names\":[\"width\",\"y\",\"fill_alpha\",\"line_color\",\"height\",\"line_alpha\",\"x\",\"label\",\"color\"],\"data\":{\"chart_index\":[\"(3.4, 3.5]\"],\"color\":[\"#5ab738\"],\"fill_alpha\":[0.6],\"height\":[2.0],\"label\":[\"(3.4, 3.5]\"],\"line_alpha\":[1.0],\"line_color\":[\"black\"],\"width\":[0.17499999999999982],\"x\":[\"3.45\"],\"y\":[1.0]}},\"id\":\"8a01cf72-4684-4e28-9142-b04c80cbb0d7\",\"type\":\"ColumnDataSource\"},{\"attributes\":{},\"id\":\"0f50d56b-892e-4781-af4c-f61ddde8fb8c\",\"type\":\"BasicTicker\"},{\"attributes\":{\"fill_alpha\":{\"field\":\"fill_alpha\"},\"fill_color\":{\"field\":\"color\"},\"height\":{\"field\":\"height\",\"units\":\"data\"},\"line_color\":{\"field\":\"line_color\"},\"width\":{\"field\":\"width\",\"units\":\"data\"},\"x\":{\"field\":\"x\"},\"y\":{\"field\":\"y\"}},\"id\":\"1574d126-61fa-4e73-9b19-4a4f89c9529c\",\"type\":\"Rect\"},{\"attributes\":{\"data_source\":{\"id\":\"8a01cf72-4684-4e28-9142-b04c80cbb0d7\",\"type\":\"ColumnDataSource\"},\"glyph\":{\"id\":\"4ec7e2d9-e907-48f5-a0ff-d2b64b3ecfe1\",\"type\":\"Rect\"},\"hover_glyph\":null,\"nonselection_glyph\":null,\"selection_glyph\":null},\"id\":\"5344e291-b60a-4ac0-94e4-e455d431b7cb\",\"type\":\"GlyphRenderer\"},{\"attributes\":{\"fill_alpha\":{\"field\":\"fill_alpha\"},\"fill_color\":{\"field\":\"color\"},\"height\":{\"field\":\"height\",\"units\":\"data\"},\"line_color\":{\"field\":\"line_color\"},\"width\":{\"field\":\"width\",\"units\":\"data\"},\"x\":{\"field\":\"x\"},\"y\":{\"field\":\"y\"}},\"id\":\"f4fdc140-0568-4e1b-9709-0e8864bd7480\",\"type\":\"Rect\"},{\"attributes\":{\"data_source\":{\"id\":\"c31d49a4-a479-49dc-a67b-a517c8aba86c\",\"type\":\"ColumnDataSource\"},\"glyph\":{\"id\":\"7b8c0c58-a7b3-4b4d-9b0e-71c1b2022ccf\",\"type\":\"Rect\"},\"hover_glyph\":null,\"nonselection_glyph\":null,\"selection_glyph\":null},\"id\":\"44732fad-ebc6-4476-af27-adb1e3b06834\",\"type\":\"GlyphRenderer\"},{\"attributes\":{\"fill_alpha\":{\"field\":\"fill_alpha\"},\"fill_color\":{\"field\":\"color\"},\"height\":{\"field\":\"height\",\"units\":\"data\"},\"line_color\":{\"field\":\"line_color\"},\"width\":{\"field\":\"width\",\"units\":\"data\"},\"x\":{\"field\":\"x\"},\"y\":{\"field\":\"y\"}},\"id\":\"4ec7e2d9-e907-48f5-a0ff-d2b64b3ecfe1\",\"type\":\"Rect\"},{\"attributes\":{\"data_source\":{\"id\":\"1c8ba053-25c1-4bfd-a49c-be0fc726bdc6\",\"type\":\"ColumnDataSource\"},\"glyph\":{\"id\":\"f3c371cd-f05c-43ab-a56c-cb0d88c01787\",\"type\":\"Rect\"},\"hover_glyph\":null,\"nonselection_glyph\":null,\"selection_glyph\":null},\"id\":\"106d62be-2daa-43de-bbed-ab97cc211cc6\",\"type\":\"GlyphRenderer\"},{\"attributes\":{\"data_source\":{\"id\":\"54d26ae8-2e2a-4e88-8007-3c16b064c3cc\",\"type\":\"ColumnDataSource\"},\"glyph\":{\"id\":\"9ee1c3aa-b97f-4197-92b8-3724c662490b\",\"type\":\"Rect\"},\"hover_glyph\":null,\"nonselection_glyph\":null,\"selection_glyph\":null},\"id\":\"8bfec9ba-f73d-4e93-87cb-b80a28b4cacf\",\"type\":\"GlyphRenderer\"},{\"attributes\":{},\"id\":\"361c27a8-779e-462d-9b83-f25a0c3e24a0\",\"type\":\"BasicTickFormatter\"},{\"attributes\":{\"active_drag\":\"auto\",\"active_scroll\":\"auto\",\"active_tap\":\"auto\",\"tools\":[{\"id\":\"e9f68f34-b548-41e2-9277-a3cfc879d6b5\",\"type\":\"PanTool\"},{\"id\":\"cd8eedde-2ed3-4fc7-99ff-ebad1a6e9930\",\"type\":\"WheelZoomTool\"},{\"id\":\"9330cf97-1c94-4a6d-b46d-65e90453d197\",\"type\":\"BoxZoomTool\"},{\"id\":\"6902e14f-26db-44ac-a0db-cac5cc8ff216\",\"type\":\"SaveTool\"},{\"id\":\"b86437b2-e748-428f-91a5-a593f9830826\",\"type\":\"ResetTool\"},{\"id\":\"86b04994-4e2e-4eda-b296-7ccfa0699ecc\",\"type\":\"HelpTool\"}]},\"id\":\"64c50c6c-4936-40ee-b990-e24a3c2bae94\",\"type\":\"Toolbar\"},{\"attributes\":{\"callback\":null,\"column_names\":[\"width\",\"y\",\"fill_alpha\",\"line_color\",\"height\",\"line_alpha\",\"x\",\"label\",\"color\"],\"data\":{\"chart_index\":[\"(4.8, 4.9]\"],\"color\":[\"#5ab738\"],\"fill_alpha\":[0.6],\"height\":[4.0],\"label\":[\"(4.8, 4.9]\"],\"line_alpha\":[1.0],\"line_color\":[\"black\"],\"width\":[0.17499999999999982],\"x\":[\"4.85\"],\"y\":[2.0]}},\"id\":\"9c190feb-5be2-44d9-af2e-ac9d240e55f2\",\"type\":\"ColumnDataSource\"},{\"attributes\":{\"callback\":null,\"column_names\":[\"width\",\"y\",\"fill_alpha\",\"line_color\",\"height\",\"line_alpha\",\"x\",\"label\",\"color\"],\"data\":{\"chart_index\":[\"[3.0, 3.2]\"],\"color\":[\"#5ab738\"],\"fill_alpha\":[0.6],\"height\":[1.0],\"label\":[\"[3.0, 3.2]\"],\"line_alpha\":[1.0],\"line_color\":[\"black\"],\"width\":[0.17499999999999982],\"x\":[\"3.1\"],\"y\":[0.5]}},\"id\":\"3c006373-812a-48a2-8951-b1288dc56f29\",\"type\":\"ColumnDataSource\"},{\"attributes\":{\"fill_alpha\":{\"field\":\"fill_alpha\"},\"fill_color\":{\"field\":\"color\"},\"height\":{\"field\":\"height\",\"units\":\"data\"},\"line_color\":{\"field\":\"line_color\"},\"width\":{\"field\":\"width\",\"units\":\"data\"},\"x\":{\"field\":\"x\"},\"y\":{\"field\":\"y\"}},\"id\":\"0a4d75c8-b9e1-432e-974f-34df3fbd026c\",\"type\":\"Rect\"},{\"attributes\":{\"callback\":null,\"column_names\":[\"width\",\"y\",\"fill_alpha\",\"line_color\",\"height\",\"line_alpha\",\"x\",\"label\",\"color\"],\"data\":{\"chart_index\":[\"(1.1, 1.1]\"],\"color\":[\"#f22c40\"],\"fill_alpha\":[0.6],\"height\":[1.0],\"label\":[\"(1.1, 1.1]\"],\"line_alpha\":[1.0],\"line_color\":[\"black\"],\"width\":[0.07499999999999996],\"x\":[\"1.1\"],\"y\":[0.5]}},\"id\":\"ce9b1aeb-f7e7-43a6-9794-d9a0a655f2d5\",\"type\":\"ColumnDataSource\"},{\"attributes\":{\"fill_alpha\":{\"field\":\"fill_alpha\"},\"fill_color\":{\"field\":\"color\"},\"height\":{\"field\":\"height\",\"units\":\"data\"},\"line_color\":{\"field\":\"line_color\"},\"width\":{\"field\":\"width\",\"units\":\"data\"},\"x\":{\"field\":\"x\"},\"y\":{\"field\":\"y\"}},\"id\":\"6aa83131-93f8-4a71-b8dc-6b2e31fd2f1b\",\"type\":\"Rect\"},{\"attributes\":{\"fill_alpha\":{\"field\":\"fill_alpha\"},\"fill_color\":{\"field\":\"color\"},\"height\":{\"field\":\"height\",\"units\":\"data\"},\"line_color\":{\"field\":\"line_color\"},\"width\":{\"field\":\"width\",\"units\":\"data\"},\"x\":{\"field\":\"x\"},\"y\":{\"field\":\"y\"}},\"id\":\"723ee38e-abb3-41c6-874e-b82550c535b7\",\"type\":\"Rect\"},{\"attributes\":{\"fill_alpha\":{\"field\":\"fill_alpha\"},\"fill_color\":{\"field\":\"color\"},\"height\":{\"field\":\"height\",\"units\":\"data\"},\"line_color\":{\"field\":\"line_color\"},\"width\":{\"field\":\"width\",\"units\":\"data\"},\"x\":{\"field\":\"x\"},\"y\":{\"field\":\"y\"}},\"id\":\"f3c371cd-f05c-43ab-a56c-cb0d88c01787\",\"type\":\"Rect\"},{\"attributes\":{\"callback\":null,\"column_names\":[\"width\",\"y\",\"fill_alpha\",\"line_color\",\"height\",\"line_alpha\",\"x\",\"label\",\"color\"],\"data\":{\"chart_index\":[\"[1.0, 1.1]\"],\"color\":[\"#f22c40\"],\"fill_alpha\":[0.6],\"height\":[1.0],\"label\":[\"[1.0, 1.1]\"],\"line_alpha\":[1.0],\"line_color\":[\"black\"],\"width\":[0.07499999999999996],\"x\":[\"1.05\"],\"y\":[0.5]}},\"id\":\"f6bb93a2-f849-44b9-94ae-a742a6448430\",\"type\":\"ColumnDataSource\"},{\"attributes\":{\"data_source\":{\"id\":\"f71d94e7-bf80-41e8-b54b-12faef32f2b6\",\"type\":\"ColumnDataSource\"},\"glyph\":{\"id\":\"0dbf2b90-c61e-4762-a7c4-a0788bde7feb\",\"type\":\"Rect\"},\"hover_glyph\":null,\"nonselection_glyph\":null,\"selection_glyph\":null},\"id\":\"57d29c10-e09f-45cc-86ed-ab30d31b09b3\",\"type\":\"GlyphRenderer\"},{\"attributes\":{\"fill_alpha\":{\"field\":\"fill_alpha\"},\"fill_color\":{\"field\":\"color\"},\"height\":{\"field\":\"height\",\"units\":\"data\"},\"line_color\":{\"field\":\"line_color\"},\"width\":{\"field\":\"width\",\"units\":\"data\"},\"x\":{\"field\":\"x\"},\"y\":{\"field\":\"y\"}},\"id\":\"bef23c84-9612-4c19-b5cc-2610ce494710\",\"type\":\"Rect\"},{\"attributes\":{\"callback\":null,\"column_names\":[\"width\",\"y\",\"fill_alpha\",\"line_color\",\"height\",\"line_alpha\",\"x\",\"label\",\"color\"],\"data\":{\"chart_index\":[\"(5.1, 5.3]\"],\"color\":[\"#407ee7\"],\"fill_alpha\":[0.6],\"height\":[4.0],\"label\":[\"(5.1, 5.3]\"],\"line_alpha\":[1.0],\"line_color\":[\"black\"],\"width\":[0.20000000000000018],\"x\":[\"5.199999999999999\"],\"y\":[2.0]}},\"id\":\"a97c1d02-73d2-475e-afb0-caab80a93a33\",\"type\":\"ColumnDataSource\"},{\"attributes\":{\"plot\":{\"id\":\"b264486d-e297-4d06-8816-239f5c1922b5\",\"subtype\":\"Chart\",\"type\":\"Plot\"}},\"id\":\"e9f68f34-b548-41e2-9277-a3cfc879d6b5\",\"type\":\"PanTool\"},{\"attributes\":{\"data_source\":{\"id\":\"422fdad6-a1dd-4669-a9f1-0fcc61d1c952\",\"type\":\"ColumnDataSource\"},\"glyph\":{\"id\":\"1574d126-61fa-4e73-9b19-4a4f89c9529c\",\"type\":\"Rect\"},\"hover_glyph\":null,\"nonselection_glyph\":null,\"selection_glyph\":null},\"id\":\"c5430956-5bec-46a7-be6b-60452db32cab\",\"type\":\"GlyphRenderer\"},{\"attributes\":{\"callback\":null,\"column_names\":[\"width\",\"y\",\"fill_alpha\",\"line_color\",\"height\",\"line_alpha\",\"x\",\"label\",\"color\"],\"data\":{\"chart_index\":[\"(6.5, 6.7]\"],\"color\":[\"#407ee7\"],\"fill_alpha\":[0.6],\"height\":[3.0],\"label\":[\"(6.5, 6.7]\"],\"line_alpha\":[1.0],\"line_color\":[\"black\"],\"width\":[0.20000000000000107],\"x\":[\"6.6\"],\"y\":[1.5]}},\"id\":\"e9dd98d9-69c7-4165-8626-fa89b0d8ca81\",\"type\":\"ColumnDataSource\"},{\"attributes\":{\"data_source\":{\"id\":\"cd1b6e9f-95c0-44dc-b4fa-6d0e21fed143\",\"type\":\"ColumnDataSource\"},\"glyph\":{\"id\":\"f4fdc140-0568-4e1b-9709-0e8864bd7480\",\"type\":\"Rect\"},\"hover_glyph\":null,\"nonselection_glyph\":null,\"selection_glyph\":null},\"id\":\"91723f21-0e08-4920-82f5-70bb492d0a44\",\"type\":\"GlyphRenderer\"},{\"attributes\":{\"callback\":null,\"column_names\":[\"width\",\"y\",\"fill_alpha\",\"line_color\",\"height\",\"line_alpha\",\"x\",\"label\",\"color\"],\"data\":{\"chart_index\":[\"(1.8, 1.9]\"],\"color\":[\"#f22c40\"],\"fill_alpha\":[0.6],\"height\":[2.0],\"label\":[\"(1.8, 1.9]\"],\"line_alpha\":[1.0],\"line_color\":[\"black\"],\"width\":[0.07499999999999996],\"x\":[\"1.85\"],\"y\":[1.0]}},\"id\":\"422fdad6-a1dd-4669-a9f1-0fcc61d1c952\",\"type\":\"ColumnDataSource\"},{\"attributes\":{\"plot\":null,\"text\":null},\"id\":\"b9de3262-e312-452f-a3fd-43ce75f30794\",\"type\":\"Title\"},{\"attributes\":{\"data_source\":{\"id\":\"41e0c0ad-4dcc-4f1d-8881-f836ac94a4bc\",\"type\":\"ColumnDataSource\"},\"glyph\":{\"id\":\"723ee38e-abb3-41c6-874e-b82550c535b7\",\"type\":\"Rect\"},\"hover_glyph\":null,\"nonselection_glyph\":null,\"selection_glyph\":null},\"id\":\"ad9f63b4-3651-4622-8446-d02faecec821\",\"type\":\"GlyphRenderer\"},{\"attributes\":{\"fill_alpha\":{\"field\":\"fill_alpha\"},\"fill_color\":{\"field\":\"color\"},\"height\":{\"field\":\"height\",\"units\":\"data\"},\"line_color\":{\"field\":\"line_color\"},\"width\":{\"field\":\"width\",\"units\":\"data\"},\"x\":{\"field\":\"x\"},\"y\":{\"field\":\"y\"}},\"id\":\"63da5976-29ed-4588-9709-ab511bf43595\",\"type\":\"Rect\"},{\"attributes\":{\"callback\":null,\"column_names\":[\"width\",\"y\",\"fill_alpha\",\"line_color\",\"height\",\"line_alpha\",\"x\",\"label\",\"color\"],\"data\":{\"chart_index\":[\"(5.3, 5.5]\"],\"color\":[\"#407ee7\"],\"fill_alpha\":[0.6],\"height\":[5.0],\"label\":[\"(5.3, 5.5]\"],\"line_alpha\":[1.0],\"line_color\":[\"black\"],\"width\":[0.20000000000000018],\"x\":[\"5.4\"],\"y\":[2.5]}},\"id\":\"963e0470-d2e6-43bb-b29e-fbde48712ccd\",\"type\":\"ColumnDataSource\"},{\"attributes\":{\"callback\":null,\"column_names\":[\"width\",\"y\",\"fill_alpha\",\"line_color\",\"height\",\"line_alpha\",\"x\",\"label\",\"color\"],\"data\":{\"chart_index\":[\"(3.2, 3.4]\"],\"color\":[\"#5ab738\"],\"fill_alpha\":[0.6],\"height\":[2.0],\"label\":[\"(3.2, 3.4]\"],\"line_alpha\":[1.0],\"line_color\":[\"black\"],\"width\":[0.17500000000000027],\"x\":[\"3.3\"],\"y\":[1.0]}},\"id\":\"61203e09-d121-4a31-9a6a-d05cb94b1448\",\"type\":\"ColumnDataSource\"},{\"attributes\":{\"fill_alpha\":{\"field\":\"fill_alpha\"},\"fill_color\":{\"field\":\"color\"},\"height\":{\"field\":\"height\",\"units\":\"data\"},\"line_color\":{\"field\":\"line_color\"},\"width\":{\"field\":\"width\",\"units\":\"data\"},\"x\":{\"field\":\"x\"},\"y\":{\"field\":\"y\"}},\"id\":\"df42f351-d6da-40d5-b1ce-a20d24c3b4e9\",\"type\":\"Rect\"},{\"attributes\":{\"data_source\":{\"id\":\"ec50cac9-c341-41a4-b2dc-e2bfdf2aec76\",\"type\":\"ColumnDataSource\"},\"glyph\":{\"id\":\"d0dfae86-7871-476b-942b-2697ae912fd3\",\"type\":\"Rect\"},\"hover_glyph\":null,\"nonselection_glyph\":null,\"selection_glyph\":null},\"id\":\"3f8a7b57-d1b7-49c8-9a10-f2549f478d2c\",\"type\":\"GlyphRenderer\"},{\"attributes\":{\"fill_alpha\":{\"field\":\"fill_alpha\"},\"fill_color\":{\"field\":\"color\"},\"height\":{\"field\":\"height\",\"units\":\"data\"},\"line_color\":{\"field\":\"line_color\"},\"width\":{\"field\":\"width\",\"units\":\"data\"},\"x\":{\"field\":\"x\"},\"y\":{\"field\":\"y\"}},\"id\":\"bf08fc9a-bb42-409f-8449-d148805e4d5d\",\"type\":\"Rect\"},{\"attributes\":{\"fill_alpha\":{\"field\":\"fill_alpha\"},\"fill_color\":{\"field\":\"color\"},\"height\":{\"field\":\"height\",\"units\":\"data\"},\"line_color\":{\"field\":\"line_color\"},\"width\":{\"field\":\"width\",\"units\":\"data\"},\"x\":{\"field\":\"x\"},\"y\":{\"field\":\"y\"}},\"id\":\"26a4664b-0362-4262-a30d-b5e5d9812407\",\"type\":\"Rect\"},{\"attributes\":{\"plot\":{\"id\":\"b264486d-e297-4d06-8816-239f5c1922b5\",\"subtype\":\"Chart\",\"type\":\"Plot\"}},\"id\":\"6902e14f-26db-44ac-a0db-cac5cc8ff216\",\"type\":\"SaveTool\"},{\"attributes\":{\"data_source\":{\"id\":\"9c190feb-5be2-44d9-af2e-ac9d240e55f2\",\"type\":\"ColumnDataSource\"},\"glyph\":{\"id\":\"bcfb3a96-dcb9-4861-ba4b-3790453a003a\",\"type\":\"Rect\"},\"hover_glyph\":null,\"nonselection_glyph\":null,\"selection_glyph\":null},\"id\":\"4c041fd9-e215-458f-ab9d-5007ea892706\",\"type\":\"GlyphRenderer\"},{\"attributes\":{\"data_source\":{\"id\":\"2be8de37-2248-4ecd-9a89-f01f0592da1b\",\"type\":\"ColumnDataSource\"},\"glyph\":{\"id\":\"ca2f638e-fac6-4d16-9953-8710e9274072\",\"type\":\"Rect\"},\"hover_glyph\":null,\"nonselection_glyph\":null,\"selection_glyph\":null},\"id\":\"a6dace30-5643-48a6-9df0-8419e5a81465\",\"type\":\"GlyphRenderer\"},{\"attributes\":{\"callback\":null,\"column_names\":[\"width\",\"y\",\"fill_alpha\",\"line_color\",\"height\",\"line_alpha\",\"x\",\"label\",\"color\"],\"data\":{\"chart_index\":[\"(1.3, 1.4]\"],\"color\":[\"#f22c40\"],\"fill_alpha\":[0.6],\"height\":[7.0],\"label\":[\"(1.3, 1.4]\"],\"line_alpha\":[1.0],\"line_color\":[\"black\"],\"width\":[0.07499999999999996],\"x\":[\"1.35\"],\"y\":[3.5]}},\"id\":\"851e2237-22ca-4f86-a9dd-1d6e55b93213\",\"type\":\"ColumnDataSource\"},{\"attributes\":{\"data_source\":{\"id\":\"851e2237-22ca-4f86-a9dd-1d6e55b93213\",\"type\":\"ColumnDataSource\"},\"glyph\":{\"id\":\"0bea425b-2098-475e-a0f5-b7c3ad798277\",\"type\":\"Rect\"},\"hover_glyph\":null,\"nonselection_glyph\":null,\"selection_glyph\":null},\"id\":\"293e2bd0-9fef-4ed6-bc07-b0d96c436487\",\"type\":\"GlyphRenderer\"},{\"attributes\":{\"fill_alpha\":{\"field\":\"fill_alpha\"},\"fill_color\":{\"field\":\"color\"},\"height\":{\"field\":\"height\",\"units\":\"data\"},\"line_color\":{\"field\":\"line_color\"},\"width\":{\"field\":\"width\",\"units\":\"data\"},\"x\":{\"field\":\"x\"},\"y\":{\"field\":\"y\"}},\"id\":\"92b36f85-d110-43fb-b86c-982551f7d44d\",\"type\":\"Rect\"},{\"attributes\":{\"fill_alpha\":{\"field\":\"fill_alpha\"},\"fill_color\":{\"field\":\"color\"},\"height\":{\"field\":\"height\",\"units\":\"data\"},\"line_color\":{\"field\":\"line_color\"},\"width\":{\"field\":\"width\",\"units\":\"data\"},\"x\":{\"field\":\"x\"},\"y\":{\"field\":\"y\"}},\"id\":\"b3c95dea-9770-4a79-8277-a997697a48ce\",\"type\":\"Rect\"},{\"attributes\":{\"bottom_units\":\"screen\",\"fill_alpha\":{\"value\":0.5},\"fill_color\":{\"value\":\"lightgrey\"},\"left_units\":\"screen\",\"level\":\"overlay\",\"line_alpha\":{\"value\":1.0},\"line_color\":{\"value\":\"black\"},\"line_dash\":[4,4],\"line_width\":{\"value\":2},\"plot\":null,\"render_mode\":\"css\",\"right_units\":\"screen\",\"top_units\":\"screen\"},\"id\":\"288c3c09-7178-4cbe-87fb-52be6920f29b\",\"type\":\"BoxAnnotation\"},{\"attributes\":{\"data_source\":{\"id\":\"61203e09-d121-4a31-9a6a-d05cb94b1448\",\"type\":\"ColumnDataSource\"},\"glyph\":{\"id\":\"c352bac2-0dcf-4126-a677-a82b31c9008c\",\"type\":\"Rect\"},\"hover_glyph\":null,\"nonselection_glyph\":null,\"selection_glyph\":null},\"id\":\"a7e78ca3-0e4c-48d4-a388-bd12d4d99d31\",\"type\":\"GlyphRenderer\"},{\"attributes\":{\"callback\":null,\"column_names\":[\"width\",\"y\",\"fill_alpha\",\"line_color\",\"height\",\"line_alpha\",\"x\",\"label\",\"color\"],\"data\":{\"chart_index\":[\"(1.4, 1.4]\"],\"color\":[\"#f22c40\"],\"fill_alpha\":[0.6],\"height\":[13.0],\"label\":[\"(1.4, 1.4]\"],\"line_alpha\":[1.0],\"line_color\":[\"black\"],\"width\":[0.07499999999999996],\"x\":[\"1.4\"],\"y\":[6.5]}},\"id\":\"b995e50d-4f19-48ad-af26-1feef224f3ad\",\"type\":\"ColumnDataSource\"},{\"attributes\":{\"fill_alpha\":{\"field\":\"fill_alpha\"},\"fill_color\":{\"field\":\"color\"},\"height\":{\"field\":\"height\",\"units\":\"data\"},\"line_color\":{\"field\":\"line_color\"},\"width\":{\"field\":\"width\",\"units\":\"data\"},\"x\":{\"field\":\"x\"},\"y\":{\"field\":\"y\"}},\"id\":\"492e51a2-7eda-4001-8e53-8a03e3a24fdd\",\"type\":\"Rect\"},{\"attributes\":{\"data_source\":{\"id\":\"0ec9ba00-1cdb-4bf1-bd42-5303022fcb0f\",\"type\":\"ColumnDataSource\"},\"glyph\":{\"id\":\"92b36f85-d110-43fb-b86c-982551f7d44d\",\"type\":\"Rect\"},\"hover_glyph\":null,\"nonselection_glyph\":null,\"selection_glyph\":null},\"id\":\"9a13514e-9669-473b-b43f-31fa3f11acb0\",\"type\":\"GlyphRenderer\"},{\"attributes\":{\"callback\":null,\"column_names\":[\"width\",\"y\",\"fill_alpha\",\"line_color\",\"height\",\"line_alpha\",\"x\",\"label\",\"color\"],\"data\":{\"chart_index\":[\"(1.8, 1.8]\"],\"color\":[\"#f22c40\"],\"fill_alpha\":[0.6],\"height\":[0.0],\"label\":[\"(1.8, 1.8]\"],\"line_alpha\":[1.0],\"line_color\":[\"black\"],\"width\":[0.07499999999999996],\"x\":[\"1.8\"],\"y\":[0.0]}},\"id\":\"cd1b6e9f-95c0-44dc-b4fa-6d0e21fed143\",\"type\":\"ColumnDataSource\"},{\"attributes\":{\"data_source\":{\"id\":\"01864f3e-838b-4a34-959b-04149231b850\",\"type\":\"ColumnDataSource\"},\"glyph\":{\"id\":\"54a484df-ae13-41fa-8a02-4a9184517d0a\",\"type\":\"Rect\"},\"hover_glyph\":null,\"nonselection_glyph\":null,\"selection_glyph\":null},\"id\":\"f286e3c6-39a6-4049-8838-0ddc790c380f\",\"type\":\"GlyphRenderer\"},{\"attributes\":{\"fill_alpha\":{\"field\":\"fill_alpha\"},\"fill_color\":{\"field\":\"color\"},\"height\":{\"field\":\"height\",\"units\":\"data\"},\"line_color\":{\"field\":\"line_color\"},\"width\":{\"field\":\"width\",\"units\":\"data\"},\"x\":{\"field\":\"x\"},\"y\":{\"field\":\"y\"}},\"id\":\"b235f822-3338-46e4-b1ce-61712c2cbd12\",\"type\":\"Rect\"},{\"attributes\":{\"data_source\":{\"id\":\"a7b21d81-e32e-4a9c-be8e-21fb438cf7b8\",\"type\":\"ColumnDataSource\"},\"glyph\":{\"id\":\"59da60a7-99d1-4d87-a50d-dde2ada838d7\",\"type\":\"Rect\"},\"hover_glyph\":null,\"nonselection_glyph\":null,\"selection_glyph\":null},\"id\":\"bddb069c-8558-45f7-8a3c-9b0f71d48bce\",\"type\":\"GlyphRenderer\"},{\"attributes\":{\"plot\":{\"id\":\"b264486d-e297-4d06-8816-239f5c1922b5\",\"subtype\":\"Chart\",\"type\":\"Plot\"}},\"id\":\"cd8eedde-2ed3-4fc7-99ff-ebad1a6e9930\",\"type\":\"WheelZoomTool\"},{\"attributes\":{\"callback\":null,\"column_names\":[\"width\",\"y\",\"fill_alpha\",\"line_color\",\"height\",\"line_alpha\",\"x\",\"label\",\"color\"],\"data\":{\"chart_index\":[\"(3.9, 4.0]\"],\"color\":[\"#5ab738\"],\"fill_alpha\":[0.6],\"height\":[8.0],\"label\":[\"(3.9, 4.0]\"],\"line_alpha\":[1.0],\"line_color\":[\"black\"],\"width\":[0.17499999999999982],\"x\":[\"3.95\"],\"y\":[4.0]}},\"id\":\"2be8de37-2248-4ecd-9a89-f01f0592da1b\",\"type\":\"ColumnDataSource\"},{\"attributes\":{\"data_source\":{\"id\":\"9f87c948-ae17-4651-a0c6-e976446e4109\",\"type\":\"ColumnDataSource\"},\"glyph\":{\"id\":\"df42f351-d6da-40d5-b1ce-a20d24c3b4e9\",\"type\":\"Rect\"},\"hover_glyph\":null,\"nonselection_glyph\":null,\"selection_glyph\":null},\"id\":\"c2a1477f-5c9d-4a40-ad2b-a6d1ecb80b34\",\"type\":\"GlyphRenderer\"},{\"attributes\":{},\"id\":\"5ec241c7-6fe1-4d03-9f46-e1bad13938c8\",\"type\":\"BasicTicker\"},{\"attributes\":{\"callback\":null,\"column_names\":[\"width\",\"y\",\"fill_alpha\",\"line_color\",\"height\",\"line_alpha\",\"x\",\"label\",\"color\"],\"data\":{\"chart_index\":[\"[4.5, 4.7]\"],\"color\":[\"#407ee7\"],\"fill_alpha\":[0.6],\"height\":[1.0],\"label\":[\"[4.5, 4.7]\"],\"line_alpha\":[1.0],\"line_color\":[\"black\"],\"width\":[0.20000000000000018],\"x\":[\"4.6\"],\"y\":[0.5]}},\"id\":\"edcfede3-7477-4d63-9978-1953a3cf14fc\",\"type\":\"ColumnDataSource\"},{\"attributes\":{\"callback\":null,\"column_names\":[\"width\",\"y\",\"fill_alpha\",\"line_color\",\"height\",\"line_alpha\",\"x\",\"label\",\"color\"],\"data\":{\"chart_index\":[\"(5.7, 5.9]\"],\"color\":[\"#407ee7\"],\"fill_alpha\":[0.6],\"height\":[6.0],\"label\":[\"(5.7, 5.9]\"],\"line_alpha\":[1.0],\"line_color\":[\"black\"],\"width\":[0.20000000000000018],\"x\":[\"5.800000000000001\"],\"y\":[3.0]}},\"id\":\"0ec9ba00-1cdb-4bf1-bd42-5303022fcb0f\",\"type\":\"ColumnDataSource\"},{\"attributes\":{\"fill_alpha\":{\"field\":\"fill_alpha\"},\"fill_color\":{\"field\":\"color\"},\"height\":{\"field\":\"height\",\"units\":\"data\"},\"line_color\":{\"field\":\"line_color\"},\"width\":{\"field\":\"width\",\"units\":\"data\"},\"x\":{\"field\":\"x\"},\"y\":{\"field\":\"y\"}},\"id\":\"0bea425b-2098-475e-a0f5-b7c3ad798277\",\"type\":\"Rect\"},{\"attributes\":{\"fill_alpha\":{\"field\":\"fill_alpha\"},\"fill_color\":{\"field\":\"color\"},\"height\":{\"field\":\"height\",\"units\":\"data\"},\"line_color\":{\"field\":\"line_color\"},\"width\":{\"field\":\"width\",\"units\":\"data\"},\"x\":{\"field\":\"x\"},\"y\":{\"field\":\"y\"}},\"id\":\"e0209c34-89c3-4877-a18f-641b11279cd2\",\"type\":\"Rect\"},{\"attributes\":{\"fill_alpha\":{\"field\":\"fill_alpha\"},\"fill_color\":{\"field\":\"color\"},\"height\":{\"field\":\"height\",\"units\":\"data\"},\"line_color\":{\"field\":\"line_color\"},\"width\":{\"field\":\"width\",\"units\":\"data\"},\"x\":{\"field\":\"x\"},\"y\":{\"field\":\"y\"}},\"id\":\"02ac34b1-3680-46b6-a80b-ebc6e545fc5a\",\"type\":\"Rect\"},{\"attributes\":{\"fill_alpha\":{\"field\":\"fill_alpha\"},\"fill_color\":{\"field\":\"color\"},\"height\":{\"field\":\"height\",\"units\":\"data\"},\"line_color\":{\"field\":\"line_color\"},\"width\":{\"field\":\"width\",\"units\":\"data\"},\"x\":{\"field\":\"x\"},\"y\":{\"field\":\"y\"}},\"id\":\"13fb4f21-64d5-4245-91a7-7c2ccd92ed7a\",\"type\":\"Rect\"},{\"attributes\":{\"callback\":null,\"column_names\":[\"width\",\"y\",\"fill_alpha\",\"line_color\",\"height\",\"line_alpha\",\"x\",\"label\",\"color\"],\"data\":{\"chart_index\":[\"(5.9, 6.1]\"],\"color\":[\"#407ee7\"],\"fill_alpha\":[0.6],\"height\":[7.0],\"label\":[\"(5.9, 6.1]\"],\"line_alpha\":[1.0],\"line_color\":[\"black\"],\"width\":[0.20000000000000018],\"x\":[\"6.0\"],\"y\":[3.5]}},\"id\":\"ec50cac9-c341-41a4-b2dc-e2bfdf2aec76\",\"type\":\"ColumnDataSource\"},{\"attributes\":{\"plot\":{\"id\":\"b264486d-e297-4d06-8816-239f5c1922b5\",\"subtype\":\"Chart\",\"type\":\"Plot\"}},\"id\":\"86b04994-4e2e-4eda-b296-7ccfa0699ecc\",\"type\":\"HelpTool\"},{\"attributes\":{\"callback\":null,\"column_names\":[\"width\",\"y\",\"fill_alpha\",\"line_color\",\"height\",\"line_alpha\",\"x\",\"label\",\"color\"],\"data\":{\"chart_index\":[\"(1.4, 1.5]\"],\"color\":[\"#f22c40\"],\"fill_alpha\":[0.6],\"height\":[13.0],\"label\":[\"(1.4, 1.5]\"],\"line_alpha\":[1.0],\"line_color\":[\"black\"],\"width\":[0.07499999999999996],\"x\":[\"1.45\"],\"y\":[6.5]}},\"id\":\"0ff39d28-80dd-4684-8c3a-e4318f3056f6\",\"type\":\"ColumnDataSource\"},{\"attributes\":{\"callback\":null,\"column_names\":[\"width\",\"y\",\"fill_alpha\",\"line_color\",\"height\",\"line_alpha\",\"x\",\"label\",\"color\"],\"data\":{\"chart_index\":[\"(1.1, 1.2]\"],\"color\":[\"#f22c40\"],\"fill_alpha\":[0.6],\"height\":[2.0],\"label\":[\"(1.1, 1.2]\"],\"line_alpha\":[1.0],\"line_color\":[\"black\"],\"width\":[0.07500000000000018],\"x\":[\"1.15\"],\"y\":[1.0]}},\"id\":\"a714b9aa-e13c-4e91-8a0a-36da9e08b88b\",\"type\":\"ColumnDataSource\"},{\"attributes\":{\"fill_alpha\":{\"field\":\"fill_alpha\"},\"fill_color\":{\"field\":\"color\"},\"height\":{\"field\":\"height\",\"units\":\"data\"},\"line_color\":{\"field\":\"line_color\"},\"width\":{\"field\":\"width\",\"units\":\"data\"},\"x\":{\"field\":\"x\"},\"y\":{\"field\":\"y\"}},\"id\":\"182e9d46-4fd8-415e-94a4-439c8f5aa249\",\"type\":\"Rect\"},{\"attributes\":{\"callback\":null,\"end\":7.097812500000001,\"start\":0.8146875000000001},\"id\":\"0c5093b3-0a11-4343-9868-4346633c8341\",\"type\":\"Range1d\"},{\"attributes\":{\"callback\":null,\"column_names\":[\"width\",\"y\",\"fill_alpha\",\"line_color\",\"height\",\"line_alpha\",\"x\",\"label\",\"color\"],\"data\":{\"chart_index\":[\"(1.6, 1.7]\"],\"color\":[\"#f22c40\"],\"fill_alpha\":[0.6],\"height\":[7.0],\"label\":[\"(1.6, 1.7]\"],\"line_alpha\":[1.0],\"line_color\":[\"black\"],\"width\":[0.07499999999999973],\"x\":[\"1.65\"],\"y\":[3.5]}},\"id\":\"f71d94e7-bf80-41e8-b54b-12faef32f2b6\",\"type\":\"ColumnDataSource\"},{\"attributes\":{\"callback\":null,\"column_names\":[\"width\",\"y\",\"fill_alpha\",\"line_color\",\"height\",\"line_alpha\",\"x\",\"label\",\"color\"],\"data\":{\"chart_index\":[\"(1.7, 1.8]\"],\"color\":[\"#f22c40\"],\"fill_alpha\":[0.6],\"height\":[4.0],\"label\":[\"(1.7, 1.8]\"],\"line_alpha\":[1.0],\"line_color\":[\"black\"],\"width\":[0.07500000000000018],\"x\":[\"1.75\"],\"y\":[2.0]}},\"id\":\"104de623-2a87-4096-999c-d2ce04f587e7\",\"type\":\"ColumnDataSource\"},{\"attributes\":{\"data_source\":{\"id\":\"7064b755-b2c5-4753-9fe7-b99a4fed6d62\",\"type\":\"ColumnDataSource\"},\"glyph\":{\"id\":\"0a4d75c8-b9e1-432e-974f-34df3fbd026c\",\"type\":\"Rect\"},\"hover_glyph\":null,\"nonselection_glyph\":null,\"selection_glyph\":null},\"id\":\"8b06a4b4-bd26-4566-a54a-28182136c03b\",\"type\":\"GlyphRenderer\"},{\"attributes\":{\"callback\":null,\"column_names\":[\"width\",\"y\",\"fill_alpha\",\"line_color\",\"height\",\"line_alpha\",\"x\",\"label\",\"color\"],\"data\":{\"chart_index\":[\"(4.7, 4.9]\"],\"color\":[\"#407ee7\"],\"fill_alpha\":[0.6],\"height\":[2.0],\"label\":[\"(4.7, 4.9]\"],\"line_alpha\":[1.0],\"line_color\":[\"black\"],\"width\":[0.20000000000000018],\"x\":[\"4.800000000000001\"],\"y\":[1.0]}},\"id\":\"54d26ae8-2e2a-4e88-8007-3c16b064c3cc\",\"type\":\"ColumnDataSource\"},{\"attributes\":{\"fill_alpha\":{\"field\":\"fill_alpha\"},\"fill_color\":{\"field\":\"color\"},\"height\":{\"field\":\"height\",\"units\":\"data\"},\"line_color\":{\"field\":\"line_color\"},\"width\":{\"field\":\"width\",\"units\":\"data\"},\"x\":{\"field\":\"x\"},\"y\":{\"field\":\"y\"}},\"id\":\"bcfb3a96-dcb9-4861-ba4b-3790453a003a\",\"type\":\"Rect\"},{\"attributes\":{\"legends\":[[\"setosa\",[{\"id\":\"cbb43ed5-bd08-416f-89a6-7e44eb65107c\",\"type\":\"GlyphRenderer\"},{\"id\":\"e25f4650-a2d0-46ff-85bd-56139a2c3014\",\"type\":\"GlyphRenderer\"},{\"id\":\"993e18e9-6137-4f35-aa28-a3207aeacef5\",\"type\":\"GlyphRenderer\"},{\"id\":\"bddb069c-8558-45f7-8a3c-9b0f71d48bce\",\"type\":\"GlyphRenderer\"},{\"id\":\"293e2bd0-9fef-4ed6-bc07-b0d96c436487\",\"type\":\"GlyphRenderer\"},{\"id\":\"10fa01dc-5d1f-4e3c-82bb-138f3130e237\",\"type\":\"GlyphRenderer\"},{\"id\":\"2721e622-393b-4c78-84c9-ece97e3fd7df\",\"type\":\"GlyphRenderer\"},{\"id\":\"ad9f63b4-3651-4622-8446-d02faecec821\",\"type\":\"GlyphRenderer\"},{\"id\":\"57d29c10-e09f-45cc-86ed-ab30d31b09b3\",\"type\":\"GlyphRenderer\"},{\"id\":\"5941ed01-c86e-4dc5-81e9-828cd2167d67\",\"type\":\"GlyphRenderer\"},{\"id\":\"91723f21-0e08-4920-82f5-70bb492d0a44\",\"type\":\"GlyphRenderer\"},{\"id\":\"c5430956-5bec-46a7-be6b-60452db32cab\",\"type\":\"GlyphRenderer\"}]],[\"versicolor\",[{\"id\":\"5803361c-16fe-4962-8109-7a8d40dd6115\",\"type\":\"GlyphRenderer\"},{\"id\":\"a7e78ca3-0e4c-48d4-a388-bd12d4d99d31\",\"type\":\"GlyphRenderer\"},{\"id\":\"5344e291-b60a-4ac0-94e4-e455d431b7cb\",\"type\":\"GlyphRenderer\"},{\"id\":\"5a9c91fd-bb58-4031-9c25-9948ad525ce4\",\"type\":\"GlyphRenderer\"},{\"id\":\"f286e3c6-39a6-4049-8838-0ddc790c380f\",\"type\":\"GlyphRenderer\"},{\"id\":\"a6dace30-5643-48a6-9df0-8419e5a81465\",\"type\":\"GlyphRenderer\"},{\"id\":\"08e813cc-3c03-4dd3-a32f-6bc54508382b\",\"type\":\"GlyphRenderer\"},{\"id\":\"8b06a4b4-bd26-4566-a54a-28182136c03b\",\"type\":\"GlyphRenderer\"},{\"id\":\"106d62be-2daa-43de-bbed-ab97cc211cc6\",\"type\":\"GlyphRenderer\"},{\"id\":\"71606973-025a-4363-8d4b-be88e1a5a96d\",\"type\":\"GlyphRenderer\"},{\"id\":\"4c041fd9-e215-458f-ab9d-5007ea892706\",\"type\":\"GlyphRenderer\"},{\"id\":\"c2a1477f-5c9d-4a40-ad2b-a6d1ecb80b34\",\"type\":\"GlyphRenderer\"}]],[\"virginica\",[{\"id\":\"8646bf36-fabd-4814-83c9-fcad8f29d1ed\",\"type\":\"GlyphRenderer\"},{\"id\":\"8bfec9ba-f73d-4e93-87cb-b80a28b4cacf\",\"type\":\"GlyphRenderer\"},{\"id\":\"9574d5dd-ec74-41f3-bb4c-e57a351adf1d\",\"type\":\"GlyphRenderer\"},{\"id\":\"79ee5427-c686-4772-b7d4-463e3052a8a5\",\"type\":\"GlyphRenderer\"},{\"id\":\"6ff07cb6-07d3-4d44-abbd-23709c6bdbfa\",\"type\":\"GlyphRenderer\"},{\"id\":\"66c0b1b9-6ac6-4d31-bbbb-52223433f089\",\"type\":\"GlyphRenderer\"},{\"id\":\"9a13514e-9669-473b-b43f-31fa3f11acb0\",\"type\":\"GlyphRenderer\"},{\"id\":\"3f8a7b57-d1b7-49c8-9a10-f2549f478d2c\",\"type\":\"GlyphRenderer\"},{\"id\":\"8562a3b8-6e7e-4082-95ae-24a9364bd68c\",\"type\":\"GlyphRenderer\"},{\"id\":\"44732fad-ebc6-4476-af27-adb1e3b06834\",\"type\":\"GlyphRenderer\"},{\"id\":\"4ff8ace1-4c22-4090-9002-e8e2ad698adc\",\"type\":\"GlyphRenderer\"},{\"id\":\"c70794ac-93e0-430b-a89f-66a89b09716e\",\"type\":\"GlyphRenderer\"}]]],\"plot\":{\"id\":\"b264486d-e297-4d06-8816-239f5c1922b5\",\"subtype\":\"Chart\",\"type\":\"Plot\"}},\"id\":\"551e5a3f-06ca-47e5-b2a8-616c68909d8d\",\"type\":\"Legend\"},{\"attributes\":{\"fill_alpha\":{\"field\":\"fill_alpha\"},\"fill_color\":{\"field\":\"color\"},\"height\":{\"field\":\"height\",\"units\":\"data\"},\"line_color\":{\"field\":\"line_color\"},\"width\":{\"field\":\"width\",\"units\":\"data\"},\"x\":{\"field\":\"x\"},\"y\":{\"field\":\"y\"}},\"id\":\"97d0723d-7a9c-47b4-ae4d-c4a671118454\",\"type\":\"Rect\"},{\"attributes\":{\"callback\":null,\"column_names\":[\"width\",\"y\",\"fill_alpha\",\"line_color\",\"height\",\"line_alpha\",\"x\",\"label\",\"color\"],\"data\":{\"chart_index\":[\"(4.9, 5.1]\"],\"color\":[\"#5ab738\"],\"fill_alpha\":[0.6],\"height\":[2.0],\"label\":[\"(4.9, 5.1]\"],\"line_alpha\":[1.0],\"line_color\":[\"black\"],\"width\":[0.17499999999999982],\"x\":[\"5.0\"],\"y\":[1.0]}},\"id\":\"9f87c948-ae17-4651-a0c6-e976446e4109\",\"type\":\"ColumnDataSource\"},{\"attributes\":{\"data_source\":{\"id\":\"0ff39d28-80dd-4684-8c3a-e4318f3056f6\",\"type\":\"ColumnDataSource\"},\"glyph\":{\"id\":\"492e51a2-7eda-4001-8e53-8a03e3a24fdd\",\"type\":\"Rect\"},\"hover_glyph\":null,\"nonselection_glyph\":null,\"selection_glyph\":null},\"id\":\"2721e622-393b-4c78-84c9-ece97e3fd7df\",\"type\":\"GlyphRenderer\"},{\"attributes\":{\"fill_alpha\":{\"field\":\"fill_alpha\"},\"fill_color\":{\"field\":\"color\"},\"height\":{\"field\":\"height\",\"units\":\"data\"},\"line_color\":{\"field\":\"line_color\"},\"width\":{\"field\":\"width\",\"units\":\"data\"},\"x\":{\"field\":\"x\"},\"y\":{\"field\":\"y\"}},\"id\":\"763d47b5-81a8-40e3-b5a3-45fec46a7c52\",\"type\":\"Rect\"},{\"attributes\":{\"axis_label\":\"Count( Petal_Length )\",\"formatter\":{\"id\":\"dc9bcf2b-d6df-44e6-a020-6e758c18b444\",\"type\":\"BasicTickFormatter\"},\"plot\":{\"id\":\"b264486d-e297-4d06-8816-239f5c1922b5\",\"subtype\":\"Chart\",\"type\":\"Plot\"},\"ticker\":{\"id\":\"5ec241c7-6fe1-4d03-9f46-e1bad13938c8\",\"type\":\"BasicTicker\"}},\"id\":\"84049161-7d83-48ce-b75f-c0f4684602bd\",\"type\":\"LinearAxis\"},{\"attributes\":{\"fill_alpha\":{\"field\":\"fill_alpha\"},\"fill_color\":{\"field\":\"color\"},\"height\":{\"field\":\"height\",\"units\":\"data\"},\"line_color\":{\"field\":\"line_color\"},\"width\":{\"field\":\"width\",\"units\":\"data\"},\"x\":{\"field\":\"x\"},\"y\":{\"field\":\"y\"}},\"id\":\"c352bac2-0dcf-4126-a677-a82b31c9008c\",\"type\":\"Rect\"},{\"attributes\":{\"data_source\":{\"id\":\"a97c1d02-73d2-475e-afb0-caab80a93a33\",\"type\":\"ColumnDataSource\"},\"glyph\":{\"id\":\"26a4664b-0362-4262-a30d-b5e5d9812407\",\"type\":\"Rect\"},\"hover_glyph\":null,\"nonselection_glyph\":null,\"selection_glyph\":null},\"id\":\"79ee5427-c686-4772-b7d4-463e3052a8a5\",\"type\":\"GlyphRenderer\"},{\"attributes\":{\"callback\":null,\"column_names\":[\"width\",\"y\",\"fill_alpha\",\"line_color\",\"height\",\"line_alpha\",\"x\",\"label\",\"color\"],\"data\":{\"chart_index\":[\"(3.5, 3.7]\"],\"color\":[\"#5ab738\"],\"fill_alpha\":[0.6],\"height\":[1.0],\"label\":[\"(3.5, 3.7]\"],\"line_alpha\":[1.0],\"line_color\":[\"black\"],\"width\":[0.17499999999999982],\"x\":[\"3.6\"],\"y\":[0.5]}},\"id\":\"5a70704c-1a10-4fa1-ac5d-b71a12c1114a\",\"type\":\"ColumnDataSource\"},{\"attributes\":{\"callback\":null,\"column_names\":[\"width\",\"y\",\"fill_alpha\",\"line_color\",\"height\",\"line_alpha\",\"x\",\"label\",\"color\"],\"data\":{\"chart_index\":[\"(1.2, 1.3]\"],\"color\":[\"#f22c40\"],\"fill_alpha\":[0.6],\"height\":[0.0],\"label\":[\"(1.2, 1.3]\"],\"line_alpha\":[1.0],\"line_color\":[\"black\"],\"width\":[0.07499999999999996],\"x\":[\"1.25\"],\"y\":[0.0]}},\"id\":\"a7b21d81-e32e-4a9c-be8e-21fb438cf7b8\",\"type\":\"ColumnDataSource\"},{\"attributes\":{},\"id\":\"5dd61e88-1b99-462c-aabe-dc15bd8368bc\",\"type\":\"ToolEvents\"},{\"attributes\":{\"data_source\":{\"id\":\"5a70704c-1a10-4fa1-ac5d-b71a12c1114a\",\"type\":\"ColumnDataSource\"},\"glyph\":{\"id\":\"420f9eb4-d259-48aa-a58c-292134fb8195\",\"type\":\"Rect\"},\"hover_glyph\":null,\"nonselection_glyph\":null,\"selection_glyph\":null},\"id\":\"5a9c91fd-bb58-4031-9c25-9948ad525ce4\",\"type\":\"GlyphRenderer\"},{\"attributes\":{\"callback\":null,\"end\":14.3},\"id\":\"453a0f3c-2b1f-4661-b556-3b821fc097be\",\"type\":\"Range1d\"},{\"attributes\":{\"callback\":null,\"column_names\":[\"width\",\"y\",\"fill_alpha\",\"line_color\",\"height\",\"line_alpha\",\"x\",\"label\",\"color\"],\"data\":{\"chart_index\":[\"(4.9, 5.1]\"],\"color\":[\"#407ee7\"],\"fill_alpha\":[0.6],\"height\":[13.0],\"label\":[\"(4.9, 5.1]\"],\"line_alpha\":[1.0],\"line_color\":[\"black\"],\"width\":[0.1999999999999993],\"x\":[\"5.0\"],\"y\":[6.5]}},\"id\":\"2a7f7ab2-5f1b-4afb-80ac-a193bd08dd3f\",\"type\":\"ColumnDataSource\"},{\"attributes\":{\"fill_alpha\":{\"field\":\"fill_alpha\"},\"fill_color\":{\"field\":\"color\"},\"height\":{\"field\":\"height\",\"units\":\"data\"},\"line_color\":{\"field\":\"line_color\"},\"width\":{\"field\":\"width\",\"units\":\"data\"},\"x\":{\"field\":\"x\"},\"y\":{\"field\":\"y\"}},\"id\":\"420f9eb4-d259-48aa-a58c-292134fb8195\",\"type\":\"Rect\"},{\"attributes\":{\"fill_alpha\":{\"field\":\"fill_alpha\"},\"fill_color\":{\"field\":\"color\"},\"height\":{\"field\":\"height\",\"units\":\"data\"},\"line_color\":{\"field\":\"line_color\"},\"width\":{\"field\":\"width\",\"units\":\"data\"},\"x\":{\"field\":\"x\"},\"y\":{\"field\":\"y\"}},\"id\":\"6be21d8d-310a-459b-b9c6-0a63ffb529ef\",\"type\":\"Rect\"},{\"attributes\":{\"fill_alpha\":{\"field\":\"fill_alpha\"},\"fill_color\":{\"field\":\"color\"},\"height\":{\"field\":\"height\",\"units\":\"data\"},\"line_color\":{\"field\":\"line_color\"},\"width\":{\"field\":\"width\",\"units\":\"data\"},\"x\":{\"field\":\"x\"},\"y\":{\"field\":\"y\"}},\"id\":\"3f556fc3-ac6b-4f3c-92e9-4f61edd01536\",\"type\":\"Rect\"},{\"attributes\":{\"callback\":null,\"column_names\":[\"width\",\"y\",\"fill_alpha\",\"line_color\",\"height\",\"line_alpha\",\"x\",\"label\",\"color\"],\"data\":{\"chart_index\":[\"(1.5, 1.6]\"],\"color\":[\"#f22c40\"],\"fill_alpha\":[0.6],\"height\":[0.0],\"label\":[\"(1.5, 1.6]\"],\"line_alpha\":[1.0],\"line_color\":[\"black\"],\"width\":[0.07500000000000018],\"x\":[\"1.55\"],\"y\":[0.0]}},\"id\":\"41e0c0ad-4dcc-4f1d-8881-f836ac94a4bc\",\"type\":\"ColumnDataSource\"},{\"attributes\":{\"callback\":null,\"column_names\":[\"width\",\"y\",\"fill_alpha\",\"line_color\",\"height\",\"line_alpha\",\"x\",\"label\",\"color\"],\"data\":{\"chart_index\":[\"(4.2, 4.4]\"],\"color\":[\"#5ab738\"],\"fill_alpha\":[0.6],\"height\":[2.0],\"label\":[\"(4.2, 4.4]\"],\"line_alpha\":[1.0],\"line_color\":[\"black\"],\"width\":[0.17499999999999982],\"x\":[\"4.300000000000001\"],\"y\":[1.0]}},\"id\":\"7064b755-b2c5-4753-9fe7-b99a4fed6d62\",\"type\":\"ColumnDataSource\"},{\"attributes\":{\"data_source\":{\"id\":\"2a7f7ab2-5f1b-4afb-80ac-a193bd08dd3f\",\"type\":\"ColumnDataSource\"},\"glyph\":{\"id\":\"3f556fc3-ac6b-4f3c-92e9-4f61edd01536\",\"type\":\"Rect\"},\"hover_glyph\":null,\"nonselection_glyph\":null,\"selection_glyph\":null},\"id\":\"9574d5dd-ec74-41f3-bb4c-e57a351adf1d\",\"type\":\"GlyphRenderer\"},{\"attributes\":{\"data_source\":{\"id\":\"edcfede3-7477-4d63-9978-1953a3cf14fc\",\"type\":\"ColumnDataSource\"},\"glyph\":{\"id\":\"02ac34b1-3680-46b6-a80b-ebc6e545fc5a\",\"type\":\"Rect\"},\"hover_glyph\":null,\"nonselection_glyph\":null,\"selection_glyph\":null},\"id\":\"8646bf36-fabd-4814-83c9-fcad8f29d1ed\",\"type\":\"GlyphRenderer\"},{\"attributes\":{\"fill_alpha\":{\"field\":\"fill_alpha\"},\"fill_color\":{\"field\":\"color\"},\"height\":{\"field\":\"height\",\"units\":\"data\"},\"line_color\":{\"field\":\"line_color\"},\"width\":{\"field\":\"width\",\"units\":\"data\"},\"x\":{\"field\":\"x\"},\"y\":{\"field\":\"y\"}},\"id\":\"7b8c0c58-a7b3-4b4d-9b0e-71c1b2022ccf\",\"type\":\"Rect\"},{\"attributes\":{\"data_source\":{\"id\":\"a714b9aa-e13c-4e91-8a0a-36da9e08b88b\",\"type\":\"ColumnDataSource\"},\"glyph\":{\"id\":\"13fb4f21-64d5-4245-91a7-7c2ccd92ed7a\",\"type\":\"Rect\"},\"hover_glyph\":null,\"nonselection_glyph\":null,\"selection_glyph\":null},\"id\":\"993e18e9-6137-4f35-aa28-a3207aeacef5\",\"type\":\"GlyphRenderer\"},{\"attributes\":{\"fill_alpha\":{\"field\":\"fill_alpha\"},\"fill_color\":{\"field\":\"color\"},\"height\":{\"field\":\"height\",\"units\":\"data\"},\"line_color\":{\"field\":\"line_color\"},\"width\":{\"field\":\"width\",\"units\":\"data\"},\"x\":{\"field\":\"x\"},\"y\":{\"field\":\"y\"}},\"id\":\"9ee1c3aa-b97f-4197-92b8-3724c662490b\",\"type\":\"Rect\"},{\"attributes\":{\"callback\":null,\"column_names\":[\"width\",\"y\",\"fill_alpha\",\"line_color\",\"height\",\"line_alpha\",\"x\",\"label\",\"color\"],\"data\":{\"chart_index\":[\"(3.7, 3.9]\"],\"color\":[\"#5ab738\"],\"fill_alpha\":[0.6],\"height\":[2.0],\"label\":[\"(3.7, 3.9]\"],\"line_alpha\":[1.0],\"line_color\":[\"black\"],\"width\":[0.17500000000000027],\"x\":[\"3.8\"],\"y\":[1.0]}},\"id\":\"01864f3e-838b-4a34-959b-04149231b850\",\"type\":\"ColumnDataSource\"},{\"attributes\":{\"data_source\":{\"id\":\"ebeab1d7-9a4d-4e9b-9e92-83ee1ddf42a2\",\"type\":\"ColumnDataSource\"},\"glyph\":{\"id\":\"bf08fc9a-bb42-409f-8449-d148805e4d5d\",\"type\":\"Rect\"},\"hover_glyph\":null,\"nonselection_glyph\":null,\"selection_glyph\":null},\"id\":\"8562a3b8-6e7e-4082-95ae-24a9364bd68c\",\"type\":\"GlyphRenderer\"},{\"attributes\":{\"fill_alpha\":{\"field\":\"fill_alpha\"},\"fill_color\":{\"field\":\"color\"},\"height\":{\"field\":\"height\",\"units\":\"data\"},\"line_color\":{\"field\":\"line_color\"},\"width\":{\"field\":\"width\",\"units\":\"data\"},\"x\":{\"field\":\"x\"},\"y\":{\"field\":\"y\"}},\"id\":\"44aefe78-bf75-4328-b4dc-1132bd59864a\",\"type\":\"Rect\"},{\"attributes\":{\"fill_alpha\":{\"field\":\"fill_alpha\"},\"fill_color\":{\"field\":\"color\"},\"height\":{\"field\":\"height\",\"units\":\"data\"},\"line_color\":{\"field\":\"line_color\"},\"width\":{\"field\":\"width\",\"units\":\"data\"},\"x\":{\"field\":\"x\"},\"y\":{\"field\":\"y\"}},\"id\":\"d0dfae86-7871-476b-942b-2697ae912fd3\",\"type\":\"Rect\"}],\"root_ids\":[\"b264486d-e297-4d06-8816-239f5c1922b5\"]},\"title\":\"Bokeh Application\",\"version\":\"0.12.0\"}};\n",
       "            var render_items = [{\"docid\":\"187f7d0e-90fb-435e-81ce-ad5ef41a53be\",\"elementid\":\"7d9bbcff-2ccf-491a-b485-ed384319f0c6\",\"modelid\":\"b264486d-e297-4d06-8816-239f5c1922b5\",\"notebook_comms_target\":\"8bee4d51-b87a-43c7-95e6-ed895ea8d71c\"}];\n",
       "            \n",
       "            Bokeh.embed.embed_items(docs_json, render_items);\n",
       "        });\n",
       "      },\n",
       "      function(Bokeh) {\n",
       "      }\n",
       "    ];\n",
       "  \n",
       "    function run_inline_js() {\n",
       "      for (var i = 0; i < inline_js.length; i++) {\n",
       "        inline_js[i](window.Bokeh);\n",
       "      }\n",
       "    }\n",
       "  \n",
       "    if (window._bokeh_is_loading === 0) {\n",
       "      console.log(\"Bokeh: BokehJS loaded, going straight to plotting\");\n",
       "      run_inline_js();\n",
       "    } else {\n",
       "      load_libs(js_urls, function() {\n",
       "        console.log(\"Bokeh: BokehJS plotting callback run at\", now());\n",
       "        run_inline_js();\n",
       "      });\n",
       "    }\n",
       "  }(this));\n",
       "</script>"
      ]
     },
     "metadata": {},
     "output_type": "display_data"
    },
    {
     "data": {
      "text/html": [
       "<p><code>&lt;Bokeh Notebook handle for <strong>In[3]</strong>&gt;</code></p>"
      ],
      "text/plain": [
       "<bokeh.io._CommsHandle at 0x9d22e5a320>"
      ]
     },
     "execution_count": 3,
     "metadata": {},
     "output_type": "execute_result"
    }
   ],
   "source": [
    "# Plot a complex chart in a single line\n",
    "\n",
    "from bokeh.charts import Histogram\n",
    "from bokeh.sampledata.iris import flowers as data\n",
    "\n",
    "hist = Histogram(data, values=\"petal_length\", color=\"species\", legend=\"top_right\", bins=12)\n",
    "\n",
    "show(hist)"
   ]
  },
  {
   "cell_type": "code",
   "execution_count": 6,
   "metadata": {
    "collapsed": false,
    "scrolled": false,
    "slideshow": {
     "slide_type": "-"
    }
   },
   "outputs": [
    {
     "ename": "RuntimeError",
     "evalue": "bokeh sample data directory does not exist, please execute bokeh.sampledata.download()",
     "output_type": "error",
     "traceback": [
      "\u001b[1;31m---------------------------------------------------------------------------\u001b[0m",
      "\u001b[1;31mRuntimeError\u001b[0m                              Traceback (most recent call last)",
      "\u001b[1;32m<ipython-input-6-89578aae98a3>\u001b[0m in \u001b[0;36m<module>\u001b[1;34m()\u001b[0m\n\u001b[0;32m      2\u001b[0m \u001b[1;33m\u001b[0m\u001b[0m\n\u001b[0;32m      3\u001b[0m \u001b[1;32mimport\u001b[0m \u001b[0mutils\u001b[0m\u001b[1;33m\u001b[0m\u001b[0m\n\u001b[1;32m----> 4\u001b[1;33m \u001b[0mp\u001b[0m \u001b[1;33m=\u001b[0m \u001b[0mutils\u001b[0m\u001b[1;33m.\u001b[0m\u001b[0mget_gapminder_plot\u001b[0m\u001b[1;33m(\u001b[0m\u001b[1;33m)\u001b[0m\u001b[1;33m\u001b[0m\u001b[0m\n\u001b[0m\u001b[0;32m      5\u001b[0m \u001b[0mshow\u001b[0m\u001b[1;33m(\u001b[0m\u001b[0mp\u001b[0m\u001b[1;33m)\u001b[0m\u001b[1;33m\u001b[0m\u001b[0m\n",
      "\u001b[1;32mC:\\dev\\git_jupyter\\jupyter_repo\\Bokeh for Data Applications\\tutorial\\utils.py\u001b[0m in \u001b[0;36mget_gapminder_plot\u001b[1;34m()\u001b[0m\n\u001b[0;32m     48\u001b[0m \u001b[1;33m\u001b[0m\u001b[0m\n\u001b[0;32m     49\u001b[0m \u001b[1;32mdef\u001b[0m \u001b[0mget_gapminder_plot\u001b[0m\u001b[1;33m(\u001b[0m\u001b[1;33m)\u001b[0m\u001b[1;33m:\u001b[0m\u001b[1;33m\u001b[0m\u001b[0m\n\u001b[1;32m---> 50\u001b[1;33m     \u001b[0mfertility_df\u001b[0m\u001b[1;33m,\u001b[0m \u001b[0mlife_expectancy_df\u001b[0m\u001b[1;33m,\u001b[0m \u001b[0mpopulation_df_size\u001b[0m\u001b[1;33m,\u001b[0m \u001b[0mregions_df\u001b[0m\u001b[1;33m,\u001b[0m \u001b[0myears\u001b[0m\u001b[1;33m,\u001b[0m \u001b[0mregions\u001b[0m \u001b[1;33m=\u001b[0m \u001b[0m_process_gapminder_data\u001b[0m\u001b[1;33m(\u001b[0m\u001b[1;33m)\u001b[0m\u001b[1;33m\u001b[0m\u001b[0m\n\u001b[0m\u001b[0;32m     51\u001b[0m \u001b[1;33m\u001b[0m\u001b[0m\n\u001b[0;32m     52\u001b[0m     \u001b[0msources\u001b[0m \u001b[1;33m=\u001b[0m \u001b[1;33m{\u001b[0m\u001b[1;33m}\u001b[0m\u001b[1;33m\u001b[0m\u001b[0m\n",
      "\u001b[1;32mC:\\dev\\git_jupyter\\jupyter_repo\\Bokeh for Data Applications\\tutorial\\utils.py\u001b[0m in \u001b[0;36m_process_gapminder_data\u001b[1;34m()\u001b[0m\n\u001b[0;32m     18\u001b[0m \u001b[1;33m\u001b[0m\u001b[0m\n\u001b[0;32m     19\u001b[0m \u001b[1;32mdef\u001b[0m \u001b[0m_process_gapminder_data\u001b[0m\u001b[1;33m(\u001b[0m\u001b[1;33m)\u001b[0m\u001b[1;33m:\u001b[0m\u001b[1;33m\u001b[0m\u001b[0m\n\u001b[1;32m---> 20\u001b[1;33m     \u001b[1;32mfrom\u001b[0m \u001b[0mbokeh\u001b[0m\u001b[1;33m.\u001b[0m\u001b[0msampledata\u001b[0m\u001b[1;33m.\u001b[0m\u001b[0mgapminder\u001b[0m \u001b[1;32mimport\u001b[0m \u001b[0mfertility\u001b[0m\u001b[1;33m,\u001b[0m \u001b[0mlife_expectancy\u001b[0m\u001b[1;33m,\u001b[0m \u001b[0mpopulation\u001b[0m\u001b[1;33m,\u001b[0m \u001b[0mregions\u001b[0m\u001b[1;33m\u001b[0m\u001b[0m\n\u001b[0m\u001b[0;32m     21\u001b[0m \u001b[1;33m\u001b[0m\u001b[0m\n\u001b[0;32m     22\u001b[0m     \u001b[1;31m# Make the column names ints not strings for handling\u001b[0m\u001b[1;33m\u001b[0m\u001b[1;33m\u001b[0m\u001b[0m\n",
      "\u001b[1;32mC:\\Anaconda3\\lib\\site-packages\\bokeh\\sampledata\\gapminder.py\u001b[0m in \u001b[0;36m<module>\u001b[1;34m()\u001b[0m\n\u001b[0;32m     16\u001b[0m \u001b[1;32mfrom\u001b[0m \u001b[1;33m.\u001b[0m \u001b[1;32mimport\u001b[0m \u001b[0m_data_dir\u001b[0m\u001b[1;33m\u001b[0m\u001b[0m\n\u001b[0;32m     17\u001b[0m \u001b[1;33m\u001b[0m\u001b[0m\n\u001b[1;32m---> 18\u001b[1;33m \u001b[0mdata_dir\u001b[0m \u001b[1;33m=\u001b[0m \u001b[0m_data_dir\u001b[0m\u001b[1;33m(\u001b[0m\u001b[1;33m)\u001b[0m\u001b[1;33m\u001b[0m\u001b[0m\n\u001b[0m\u001b[0;32m     19\u001b[0m \u001b[1;33m\u001b[0m\u001b[0m\n\u001b[0;32m     20\u001b[0m datasets = [\n",
      "\u001b[1;32mC:\\Anaconda3\\lib\\site-packages\\bokeh\\sampledata\\__init__.py\u001b[0m in \u001b[0;36m_data_dir\u001b[1;34m(file_name, create)\u001b[0m\n\u001b[0;32m     35\u001b[0m     \u001b[1;32mif\u001b[0m \u001b[1;32mnot\u001b[0m \u001b[0mexists\u001b[0m\u001b[1;33m(\u001b[0m\u001b[0mdata_dir\u001b[0m\u001b[1;33m)\u001b[0m\u001b[1;33m:\u001b[0m\u001b[1;33m\u001b[0m\u001b[0m\n\u001b[0;32m     36\u001b[0m         \u001b[1;32mif\u001b[0m \u001b[1;32mnot\u001b[0m \u001b[0mcreate\u001b[0m\u001b[1;33m:\u001b[0m\u001b[1;33m\u001b[0m\u001b[0m\n\u001b[1;32m---> 37\u001b[1;33m             \u001b[1;32mraise\u001b[0m \u001b[0mRuntimeError\u001b[0m\u001b[1;33m(\u001b[0m\u001b[1;34m'bokeh sample data directory does not exist, please execute bokeh.sampledata.download()'\u001b[0m\u001b[1;33m)\u001b[0m\u001b[1;33m\u001b[0m\u001b[0m\n\u001b[0m\u001b[0;32m     38\u001b[0m         \u001b[0mprint\u001b[0m\u001b[1;33m(\u001b[0m\u001b[1;34m\"Creating %s directory\"\u001b[0m \u001b[1;33m%\u001b[0m \u001b[0mdata_dir\u001b[0m\u001b[1;33m)\u001b[0m\u001b[1;33m\u001b[0m\u001b[0m\n\u001b[0;32m     39\u001b[0m         \u001b[1;32mtry\u001b[0m\u001b[1;33m:\u001b[0m\u001b[1;33m\u001b[0m\u001b[0m\n",
      "\u001b[1;31mRuntimeError\u001b[0m: bokeh sample data directory does not exist, please execute bokeh.sampledata.download()"
     ]
    }
   ],
   "source": [
    "# Build and serve beautiful web-ready interactive visualizations\n",
    "\n",
    "import utils\n",
    "p = utils.get_gapminder_plot()\n",
    "show(p)"
   ]
  },
  {
   "cell_type": "code",
   "execution_count": 5,
   "metadata": {
    "collapsed": false
   },
   "outputs": [
    {
     "data": {
      "text/html": [
       "\n",
       "        <iframe\n",
       "            width=\"900\"\n",
       "            height=\"500\"\n",
       "            src=\"http://demo.bokehplots.com/apps/sliders\"\n",
       "            frameborder=\"0\"\n",
       "            allowfullscreen\n",
       "        ></iframe>\n",
       "        "
      ],
      "text/plain": [
       "<IPython.lib.display.IFrame at 0x10dd02208>"
      ]
     },
     "execution_count": 5,
     "metadata": {},
     "output_type": "execute_result"
    }
   ],
   "source": [
    "# Create and deploy interactive data applications\n",
    "\n",
    "from IPython.display import IFrame\n",
    "IFrame('http://demo.bokehplots.com/apps/sliders', width=900, height=500)"
   ]
  },
  {
   "cell_type": "markdown",
   "metadata": {},
   "source": [
    "# How does it work"
   ]
  },
  {
   "cell_type": "markdown",
   "metadata": {
    "slideshow": {
     "slide_type": "-"
    }
   },
   "source": [
    "<img src=\"assets/images/arch.png\" style=\"width:800px\">"
   ]
  },
  {
   "cell_type": "markdown",
   "metadata": {},
   "source": [
    "# Getting set up"
   ]
  },
  {
   "cell_type": "markdown",
   "metadata": {},
   "source": [
    "Setup-test, run the next cell. Hopefully you should see output that looks something like this:\n",
    "\n",
    "    IPython - 4.2.0\n",
    "    Pandas - 0.18.1\n",
    "    Bokeh - 0.12.0\n",
    "    \n",
    "If this isn't working for you, see the [`README.md`](README.md) in this directory."
   ]
  },
  {
   "cell_type": "code",
   "execution_count": 1,
   "metadata": {
    "collapsed": false
   },
   "outputs": [
    {
     "name": "stdout",
     "output_type": "stream",
     "text": [
      "IPython - 4.1.2\n",
      "Pandas - 0.18.0\n",
      "Bokeh - 0.12.0\n"
     ]
    }
   ],
   "source": [
    "from IPython import __version__ as ipython_version\n",
    "from pandas import __version__ as pandas_version\n",
    "from bokeh import __version__ as bokeh_version\n",
    "print(\"IPython - %s\" % ipython_version)\n",
    "print(\"Pandas - %s\" % pandas_version)\n",
    "print(\"Bokeh - %s\" % bokeh_version)"
   ]
  },
  {
   "cell_type": "code",
   "execution_count": null,
   "metadata": {
    "collapsed": true
   },
   "outputs": [],
   "source": []
  }
 ],
 "metadata": {
  "kernelspec": {
   "display_name": "Python 3",
   "language": "python",
   "name": "python3"
  },
  "language_info": {
   "codemirror_mode": {
    "name": "ipython",
    "version": 3
   },
   "file_extension": ".py",
   "mimetype": "text/x-python",
   "name": "python",
   "nbconvert_exporter": "python",
   "pygments_lexer": "ipython3",
   "version": "3.5.1"
  }
 },
 "nbformat": 4,
 "nbformat_minor": 0
}
