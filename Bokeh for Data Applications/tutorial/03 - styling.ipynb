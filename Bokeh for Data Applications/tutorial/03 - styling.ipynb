{
 "cells": [
  {
   "cell_type": "markdown",
   "metadata": {},
   "source": [
    "<table style=\"float:left; border:none\">\n",
    "   <tr style=\"border:none\">\n",
    "       <td style=\"border:none\">\n",
    "           <a href=\"http://bokeh.pydata.org/\">     \n",
    "           <img \n",
    "               src=\"assets/images/bokeh-transparent.png\" \n",
    "               style=\"width:50px\"\n",
    "           >\n",
    "           </a>    \n",
    "       </td>\n",
    "       <td style=\"border:none\">\n",
    "           <h1>Bokeh Tutorial</h1>\n",
    "       </td>\n",
    "   </tr>\n",
    "</table>\n",
    "\n",
    "<div style=\"float:right;\"><h2>03. Styling Visual Attributes</h2></div>"
   ]
  },
  {
   "cell_type": "code",
   "execution_count": 1,
   "metadata": {
    "collapsed": false
   },
   "outputs": [],
   "source": [
    "from bokeh.io import output_notebook, show\n",
    "from bokeh.plotting import figure"
   ]
  },
  {
   "cell_type": "code",
   "execution_count": 2,
   "metadata": {
    "collapsed": false
   },
   "outputs": [
    {
     "data": {
      "text/html": [
       "\n",
       "    <div class=\"bk-root\">\n",
       "        <a href=\"http://bokeh.pydata.org\" target=\"_blank\" class=\"bk-logo bk-logo-small bk-logo-notebook\"></a>\n",
       "        <span id=\"d6d22c55-185f-447d-bfd8-c6731a64953a\">Loading BokehJS ...</span>\n",
       "    </div>"
      ]
     },
     "metadata": {},
     "output_type": "display_data"
    },
    {
     "data": {
      "application/javascript": [
       "\n",
       "(function(global) {\n",
       "  function now() {\n",
       "    return new Date();\n",
       "  }\n",
       "\n",
       "  if (typeof (window._bokeh_onload_callbacks) === \"undefined\") {\n",
       "    window._bokeh_onload_callbacks = [];\n",
       "  }\n",
       "\n",
       "  function run_callbacks() {\n",
       "    window._bokeh_onload_callbacks.forEach(function(callback) { callback() });\n",
       "    delete window._bokeh_onload_callbacks\n",
       "    console.info(\"Bokeh: all callbacks have finished\");\n",
       "  }\n",
       "\n",
       "  function load_libs(js_urls, callback) {\n",
       "    window._bokeh_onload_callbacks.push(callback);\n",
       "    if (window._bokeh_is_loading > 0) {\n",
       "      console.log(\"Bokeh: BokehJS is being loaded, scheduling callback at\", now());\n",
       "      return null;\n",
       "    }\n",
       "    if (js_urls == null || js_urls.length === 0) {\n",
       "      run_callbacks();\n",
       "      return null;\n",
       "    }\n",
       "    console.log(\"Bokeh: BokehJS not loaded, scheduling load and callback at\", now());\n",
       "    window._bokeh_is_loading = js_urls.length;\n",
       "    for (var i = 0; i < js_urls.length; i++) {\n",
       "      var url = js_urls[i];\n",
       "      var s = document.createElement('script');\n",
       "      s.src = url;\n",
       "      s.async = false;\n",
       "      s.onreadystatechange = s.onload = function() {\n",
       "        window._bokeh_is_loading--;\n",
       "        if (window._bokeh_is_loading === 0) {\n",
       "          console.log(\"Bokeh: all BokehJS libraries loaded\");\n",
       "          run_callbacks()\n",
       "        }\n",
       "      };\n",
       "      s.onerror = function() {\n",
       "        console.warn(\"failed to load library \" + url);\n",
       "      };\n",
       "      console.log(\"Bokeh: injecting script tag for BokehJS library: \", url);\n",
       "      document.getElementsByTagName(\"head\")[0].appendChild(s);\n",
       "    }\n",
       "  };\n",
       "\n",
       "  var js_urls = ['https://cdn.pydata.org/bokeh/release/bokeh-0.12.0.min.js', 'https://cdn.pydata.org/bokeh/release/bokeh-widgets-0.12.0.min.js', 'https://cdn.pydata.org/bokeh/release/bokeh-compiler-0.12.0.min.js'];\n",
       "\n",
       "  var inline_js = [\n",
       "    function(Bokeh) {\n",
       "      Bokeh.set_log_level(\"info\");\n",
       "    },\n",
       "    \n",
       "    function(Bokeh) {\n",
       "      Bokeh.$(\"#d6d22c55-185f-447d-bfd8-c6731a64953a\").text(\"BokehJS successfully loaded\");\n",
       "    },\n",
       "    function(Bokeh) {\n",
       "      console.log(\"Bokeh: injecting CSS: https://cdn.pydata.org/bokeh/release/bokeh-0.12.0.min.css\");\n",
       "      Bokeh.embed.inject_css(\"https://cdn.pydata.org/bokeh/release/bokeh-0.12.0.min.css\");\n",
       "      console.log(\"Bokeh: injecting CSS: https://cdn.pydata.org/bokeh/release/bokeh-widgets-0.12.0.min.css\");\n",
       "      Bokeh.embed.inject_css(\"https://cdn.pydata.org/bokeh/release/bokeh-widgets-0.12.0.min.css\");\n",
       "    }\n",
       "  ];\n",
       "\n",
       "  function run_inline_js() {\n",
       "    for (var i = 0; i < inline_js.length; i++) {\n",
       "      inline_js[i](window.Bokeh);\n",
       "    }\n",
       "  }\n",
       "\n",
       "  if (window._bokeh_is_loading === 0) {\n",
       "    console.log(\"Bokeh: BokehJS loaded, going straight to plotting\");\n",
       "    run_inline_js();\n",
       "  } else {\n",
       "    load_libs(js_urls, function() {\n",
       "      console.log(\"Bokeh: BokehJS plotting callback run at\", now());\n",
       "      run_inline_js();\n",
       "    });\n",
       "  }\n",
       "}(this));"
      ]
     },
     "metadata": {},
     "output_type": "display_data"
    }
   ],
   "source": [
    "output_notebook()"
   ]
  },
  {
   "cell_type": "markdown",
   "metadata": {},
   "source": [
    "# Colors and Properties"
   ]
  },
  {
   "cell_type": "markdown",
   "metadata": {},
   "source": [
    "## Colors\n",
    "\n",
    "There are many places where you may need to specify colors. Bokeh can accept colors in a variety of different ways:\n",
    "\n",
    "* any of the [147 named CSS colors](http://www.w3schools.com/cssref/css_colornames.asp), e.g ``'green'``, ``'indigo'``\n",
    "* an RGB(A) hex value, e.g., ``'#FF0000'``, ``'#44444444'``\n",
    "* a 3-tuple of integers *(r,g,b)* between 0 and 255\n",
    "*  a 4-tuple of *(r,g,b,a)* where *r*, *g*, *b* are integers between 0 and 255 and *a* is a floating point value between 0 and 1\n",
    "\n"
   ]
  },
  {
   "cell_type": "markdown",
   "metadata": {
    "collapsed": true
   },
   "source": [
    "## Properties\n",
    "\n",
    "Regardless of what API (``models``, ``plotting``, or ``charts``) is used to create a Bokeh plot, styling the visual aspects of the plot can always be accomplished by setting attributes on the Bokeh model objects that comprise the resulting plot. Visual properties come in three kinds: line, fill, and text properties. For full information with code and examples see the [Styling Visual Properties](http://bokeh.pydata.org/en/latest/docs/user_guide/styling.html) section of the user guide. \n",
    "\n",
    "----\n",
    "\n",
    "### Line Properties\n",
    "\n",
    "Set the visual appearance of lines. The most common are ``line_color``, ``line_alpha``, ``line_width`` and ``line_dash``.\n",
    "\n",
    "### Fill Properties\n",
    "\n",
    "Set the visual appearance of filled areas: ``fill_color`` and ``fill_alpha``.\n",
    "\n",
    "### Text Properties\n",
    "\n",
    "Set the visual appearance of lines of text. The most common are ``text_font``, ``text_font_size``, ``text_color``, and ``text_alpha``.\n",
    "\n",
    "----\n",
    "\n",
    "Sometimes a prefix is used with property names, e.g. to distinguish between different line properties on the same object, or to give a more meaningful name. For example, to set the line width of the plot outline, you would say ``myplot.outline_line_width = 2``. "
   ]
  },
  {
   "cell_type": "markdown",
   "metadata": {},
   "source": [
    "# Plots\n",
    "\n",
    "Many top-level attributes of plots (outline, border, etc.) can be configured. See the [Plots](http://bokeh.pydata.org/en/latest/docs/user_guide/styling.html#plots) section of the styling guide for full information. \n",
    "\n",
    "Here is an example that tweaks the plot outline:"
   ]
  },
  {
   "cell_type": "code",
   "execution_count": 3,
   "metadata": {
    "collapsed": false,
    "scrolled": false
   },
   "outputs": [
    {
     "data": {
      "text/html": [
       "\n",
       "\n",
       "    <div class=\"bk-root\">\n",
       "        <div class=\"plotdiv\" id=\"69db38bf-b55f-40a9-bbd2-2e0e8b530d53\"></div>\n",
       "    </div>\n",
       "<script type=\"text/javascript\">\n",
       "  \n",
       "  (function(global) {\n",
       "    function now() {\n",
       "      return new Date();\n",
       "    }\n",
       "  \n",
       "    if (typeof (window._bokeh_onload_callbacks) === \"undefined\") {\n",
       "      window._bokeh_onload_callbacks = [];\n",
       "    }\n",
       "  \n",
       "    function run_callbacks() {\n",
       "      window._bokeh_onload_callbacks.forEach(function(callback) { callback() });\n",
       "      delete window._bokeh_onload_callbacks\n",
       "      console.info(\"Bokeh: all callbacks have finished\");\n",
       "    }\n",
       "  \n",
       "    function load_libs(js_urls, callback) {\n",
       "      window._bokeh_onload_callbacks.push(callback);\n",
       "      if (window._bokeh_is_loading > 0) {\n",
       "        console.log(\"Bokeh: BokehJS is being loaded, scheduling callback at\", now());\n",
       "        return null;\n",
       "      }\n",
       "      if (js_urls == null || js_urls.length === 0) {\n",
       "        run_callbacks();\n",
       "        return null;\n",
       "      }\n",
       "      console.log(\"Bokeh: BokehJS not loaded, scheduling load and callback at\", now());\n",
       "      window._bokeh_is_loading = js_urls.length;\n",
       "      for (var i = 0; i < js_urls.length; i++) {\n",
       "        var url = js_urls[i];\n",
       "        var s = document.createElement('script');\n",
       "        s.src = url;\n",
       "        s.async = false;\n",
       "        s.onreadystatechange = s.onload = function() {\n",
       "          window._bokeh_is_loading--;\n",
       "          if (window._bokeh_is_loading === 0) {\n",
       "            console.log(\"Bokeh: all BokehJS libraries loaded\");\n",
       "            run_callbacks()\n",
       "          }\n",
       "        };\n",
       "        s.onerror = function() {\n",
       "          console.warn(\"failed to load library \" + url);\n",
       "        };\n",
       "        console.log(\"Bokeh: injecting script tag for BokehJS library: \", url);\n",
       "        document.getElementsByTagName(\"head\")[0].appendChild(s);\n",
       "      }\n",
       "    };var element = document.getElementById(\"69db38bf-b55f-40a9-bbd2-2e0e8b530d53\");\n",
       "    if (element == null) {\n",
       "      console.log(\"Bokeh: ERROR: autoload.js configured with elementid '69db38bf-b55f-40a9-bbd2-2e0e8b530d53' but no matching script tag was found. \")\n",
       "      return false;\n",
       "    }\n",
       "  \n",
       "    var js_urls = [];\n",
       "  \n",
       "    var inline_js = [\n",
       "      function(Bokeh) {\n",
       "        Bokeh.$(function() {\n",
       "            var docs_json = {\"89ce393b-5b05-440b-9c06-471154559b0f\":{\"roots\":{\"references\":[{\"attributes\":{\"formatter\":{\"id\":\"52e47677-f93c-47fc-8e23-c209b4ee06a5\",\"type\":\"BasicTickFormatter\"},\"plot\":{\"id\":\"f4a2f82a-44b2-4bdc-98f5-e1dffdb2ceee\",\"subtype\":\"Figure\",\"type\":\"Plot\"},\"ticker\":{\"id\":\"53262e41-c1bd-461c-a5ed-0d982ab3f3d1\",\"type\":\"BasicTicker\"}},\"id\":\"569fca40-5887-433c-89ab-6e3fe81228f7\",\"type\":\"LinearAxis\"},{\"attributes\":{\"plot\":null,\"text\":null},\"id\":\"8c09396f-90b6-4add-9fe8-ac5e8a8cb74a\",\"type\":\"Title\"},{\"attributes\":{\"plot\":{\"id\":\"f4a2f82a-44b2-4bdc-98f5-e1dffdb2ceee\",\"subtype\":\"Figure\",\"type\":\"Plot\"}},\"id\":\"dc512c04-aaa3-4772-b45d-19e3344aa814\",\"type\":\"ResetTool\"},{\"attributes\":{\"overlay\":{\"id\":\"97e2d802-9ba3-46b5-8314-de086f62328d\",\"type\":\"BoxAnnotation\"},\"plot\":{\"id\":\"f4a2f82a-44b2-4bdc-98f5-e1dffdb2ceee\",\"subtype\":\"Figure\",\"type\":\"Plot\"}},\"id\":\"7440b3b5-d6af-4664-8d28-61d1ccbbcba0\",\"type\":\"BoxZoomTool\"},{\"attributes\":{\"data_source\":{\"id\":\"8e461567-5f89-47df-970f-d8eda1adbda5\",\"type\":\"ColumnDataSource\"},\"glyph\":{\"id\":\"57a8b3bc-1f77-489d-8d29-f601dc968b46\",\"type\":\"Circle\"},\"hover_glyph\":null,\"nonselection_glyph\":{\"id\":\"e5d591d5-9332-43f4-a4bb-01a51d8081d7\",\"type\":\"Circle\"},\"selection_glyph\":null},\"id\":\"ea2f96b2-2573-4884-a9e7-46b7b272e1ca\",\"type\":\"GlyphRenderer\"},{\"attributes\":{},\"id\":\"52e47677-f93c-47fc-8e23-c209b4ee06a5\",\"type\":\"BasicTickFormatter\"},{\"attributes\":{\"fill_alpha\":{\"value\":0.1},\"fill_color\":{\"value\":\"#1f77b4\"},\"line_alpha\":{\"value\":0.1},\"line_color\":{\"value\":\"#1f77b4\"},\"size\":{\"units\":\"screen\",\"value\":10},\"x\":{\"field\":\"x\"},\"y\":{\"field\":\"y\"}},\"id\":\"e5d591d5-9332-43f4-a4bb-01a51d8081d7\",\"type\":\"Circle\"},{\"attributes\":{\"fill_color\":{\"value\":\"#1f77b4\"},\"line_color\":{\"value\":\"#1f77b4\"},\"size\":{\"units\":\"screen\",\"value\":10},\"x\":{\"field\":\"x\"},\"y\":{\"field\":\"y\"}},\"id\":\"57a8b3bc-1f77-489d-8d29-f601dc968b46\",\"type\":\"Circle\"},{\"attributes\":{\"plot\":{\"id\":\"f4a2f82a-44b2-4bdc-98f5-e1dffdb2ceee\",\"subtype\":\"Figure\",\"type\":\"Plot\"}},\"id\":\"01ec3ed8-3407-46b0-b19a-e509d1173396\",\"type\":\"WheelZoomTool\"},{\"attributes\":{\"formatter\":{\"id\":\"84e1883e-9896-4cb5-97ed-abfa73fab6a5\",\"type\":\"BasicTickFormatter\"},\"plot\":{\"id\":\"f4a2f82a-44b2-4bdc-98f5-e1dffdb2ceee\",\"subtype\":\"Figure\",\"type\":\"Plot\"},\"ticker\":{\"id\":\"99d03977-df67-474d-90e2-51594a1b6291\",\"type\":\"BasicTicker\"}},\"id\":\"0a7f536d-5307-4b23-a2d2-d4de10ca3dc0\",\"type\":\"LinearAxis\"},{\"attributes\":{\"plot\":{\"id\":\"f4a2f82a-44b2-4bdc-98f5-e1dffdb2ceee\",\"subtype\":\"Figure\",\"type\":\"Plot\"}},\"id\":\"2b9de46c-e1f1-4600-81a7-e347b36dcec0\",\"type\":\"PanTool\"},{\"attributes\":{\"plot\":{\"id\":\"f4a2f82a-44b2-4bdc-98f5-e1dffdb2ceee\",\"subtype\":\"Figure\",\"type\":\"Plot\"}},\"id\":\"a7984728-f978-41f2-920f-ab005c51005a\",\"type\":\"SaveTool\"},{\"attributes\":{\"plot\":{\"id\":\"f4a2f82a-44b2-4bdc-98f5-e1dffdb2ceee\",\"subtype\":\"Figure\",\"type\":\"Plot\"}},\"id\":\"2ad4c0af-337f-4c14-ae36-ba14e935c469\",\"type\":\"HelpTool\"},{\"attributes\":{},\"id\":\"fecb7225-dc24-4d8a-ace7-5235a965fb82\",\"type\":\"ToolEvents\"},{\"attributes\":{\"callback\":null},\"id\":\"b89b31ad-c09f-43d9-ab8f-6e63ce204f22\",\"type\":\"DataRange1d\"},{\"attributes\":{\"plot\":{\"id\":\"f4a2f82a-44b2-4bdc-98f5-e1dffdb2ceee\",\"subtype\":\"Figure\",\"type\":\"Plot\"},\"ticker\":{\"id\":\"53262e41-c1bd-461c-a5ed-0d982ab3f3d1\",\"type\":\"BasicTicker\"}},\"id\":\"8117894b-769a-4c43-b863-3987cb09e902\",\"type\":\"Grid\"},{\"attributes\":{\"bottom_units\":\"screen\",\"fill_alpha\":{\"value\":0.5},\"fill_color\":{\"value\":\"lightgrey\"},\"left_units\":\"screen\",\"level\":\"overlay\",\"line_alpha\":{\"value\":1.0},\"line_color\":{\"value\":\"black\"},\"line_dash\":[4,4],\"line_width\":{\"value\":2},\"plot\":null,\"render_mode\":\"css\",\"right_units\":\"screen\",\"top_units\":\"screen\"},\"id\":\"97e2d802-9ba3-46b5-8314-de086f62328d\",\"type\":\"BoxAnnotation\"},{\"attributes\":{},\"id\":\"53262e41-c1bd-461c-a5ed-0d982ab3f3d1\",\"type\":\"BasicTicker\"},{\"attributes\":{\"dimension\":1,\"plot\":{\"id\":\"f4a2f82a-44b2-4bdc-98f5-e1dffdb2ceee\",\"subtype\":\"Figure\",\"type\":\"Plot\"},\"ticker\":{\"id\":\"99d03977-df67-474d-90e2-51594a1b6291\",\"type\":\"BasicTicker\"}},\"id\":\"e05e7050-57e2-4d41-b953-2a040c8876b4\",\"type\":\"Grid\"},{\"attributes\":{\"callback\":null,\"column_names\":[\"y\",\"x\"],\"data\":{\"x\":[1,2,3,4,5],\"y\":[2,5,8,2,7]}},\"id\":\"8e461567-5f89-47df-970f-d8eda1adbda5\",\"type\":\"ColumnDataSource\"},{\"attributes\":{\"below\":[{\"id\":\"569fca40-5887-433c-89ab-6e3fe81228f7\",\"type\":\"LinearAxis\"}],\"left\":[{\"id\":\"0a7f536d-5307-4b23-a2d2-d4de10ca3dc0\",\"type\":\"LinearAxis\"}],\"outline_line_alpha\":{\"value\":0.3},\"outline_line_color\":{\"value\":\"navy\"},\"outline_line_width\":{\"value\":7},\"plot_height\":400,\"plot_width\":400,\"renderers\":[{\"id\":\"569fca40-5887-433c-89ab-6e3fe81228f7\",\"type\":\"LinearAxis\"},{\"id\":\"8117894b-769a-4c43-b863-3987cb09e902\",\"type\":\"Grid\"},{\"id\":\"0a7f536d-5307-4b23-a2d2-d4de10ca3dc0\",\"type\":\"LinearAxis\"},{\"id\":\"e05e7050-57e2-4d41-b953-2a040c8876b4\",\"type\":\"Grid\"},{\"id\":\"97e2d802-9ba3-46b5-8314-de086f62328d\",\"type\":\"BoxAnnotation\"},{\"id\":\"ea2f96b2-2573-4884-a9e7-46b7b272e1ca\",\"type\":\"GlyphRenderer\"}],\"title\":{\"id\":\"8c09396f-90b6-4add-9fe8-ac5e8a8cb74a\",\"type\":\"Title\"},\"tool_events\":{\"id\":\"fecb7225-dc24-4d8a-ace7-5235a965fb82\",\"type\":\"ToolEvents\"},\"toolbar\":{\"id\":\"a78286d3-e712-4c9b-9b1e-ea1c9ca623f5\",\"type\":\"Toolbar\"},\"x_range\":{\"id\":\"d0108c53-c62b-4074-be3f-d29b4e71c578\",\"type\":\"DataRange1d\"},\"y_range\":{\"id\":\"b89b31ad-c09f-43d9-ab8f-6e63ce204f22\",\"type\":\"DataRange1d\"}},\"id\":\"f4a2f82a-44b2-4bdc-98f5-e1dffdb2ceee\",\"subtype\":\"Figure\",\"type\":\"Plot\"},{\"attributes\":{},\"id\":\"84e1883e-9896-4cb5-97ed-abfa73fab6a5\",\"type\":\"BasicTickFormatter\"},{\"attributes\":{},\"id\":\"99d03977-df67-474d-90e2-51594a1b6291\",\"type\":\"BasicTicker\"},{\"attributes\":{\"active_drag\":\"auto\",\"active_scroll\":\"auto\",\"active_tap\":\"auto\",\"tools\":[{\"id\":\"2b9de46c-e1f1-4600-81a7-e347b36dcec0\",\"type\":\"PanTool\"},{\"id\":\"01ec3ed8-3407-46b0-b19a-e509d1173396\",\"type\":\"WheelZoomTool\"},{\"id\":\"7440b3b5-d6af-4664-8d28-61d1ccbbcba0\",\"type\":\"BoxZoomTool\"},{\"id\":\"a7984728-f978-41f2-920f-ab005c51005a\",\"type\":\"SaveTool\"},{\"id\":\"dc512c04-aaa3-4772-b45d-19e3344aa814\",\"type\":\"ResetTool\"},{\"id\":\"2ad4c0af-337f-4c14-ae36-ba14e935c469\",\"type\":\"HelpTool\"}]},\"id\":\"a78286d3-e712-4c9b-9b1e-ea1c9ca623f5\",\"type\":\"Toolbar\"},{\"attributes\":{\"callback\":null},\"id\":\"d0108c53-c62b-4074-be3f-d29b4e71c578\",\"type\":\"DataRange1d\"}],\"root_ids\":[\"f4a2f82a-44b2-4bdc-98f5-e1dffdb2ceee\"]},\"title\":\"Bokeh Application\",\"version\":\"0.12.0\"}};\n",
       "            var render_items = [{\"docid\":\"89ce393b-5b05-440b-9c06-471154559b0f\",\"elementid\":\"69db38bf-b55f-40a9-bbd2-2e0e8b530d53\",\"modelid\":\"f4a2f82a-44b2-4bdc-98f5-e1dffdb2ceee\",\"notebook_comms_target\":\"654fedca-757a-475f-9cd3-1b03f160ea33\"}];\n",
       "            \n",
       "            Bokeh.embed.embed_items(docs_json, render_items);\n",
       "        });\n",
       "      },\n",
       "      function(Bokeh) {\n",
       "      }\n",
       "    ];\n",
       "  \n",
       "    function run_inline_js() {\n",
       "      for (var i = 0; i < inline_js.length; i++) {\n",
       "        inline_js[i](window.Bokeh);\n",
       "      }\n",
       "    }\n",
       "  \n",
       "    if (window._bokeh_is_loading === 0) {\n",
       "      console.log(\"Bokeh: BokehJS loaded, going straight to plotting\");\n",
       "      run_inline_js();\n",
       "    } else {\n",
       "      load_libs(js_urls, function() {\n",
       "        console.log(\"Bokeh: BokehJS plotting callback run at\", now());\n",
       "        run_inline_js();\n",
       "      });\n",
       "    }\n",
       "  }(this));\n",
       "</script>"
      ]
     },
     "metadata": {},
     "output_type": "display_data"
    },
    {
     "data": {
      "text/html": [
       "<p><code>&lt;Bokeh Notebook handle for <strong>In[3]</strong>&gt;</code></p>"
      ],
      "text/plain": [
       "<bokeh.io._CommsHandle at 0x10d916898>"
      ]
     },
     "execution_count": 3,
     "metadata": {},
     "output_type": "execute_result"
    }
   ],
   "source": [
    "# create a new plot with a title\n",
    "p = figure(plot_width=400, plot_height=400)\n",
    "p.outline_line_width = 7\n",
    "p.outline_line_alpha = 0.3\n",
    "p.outline_line_color = \"navy\"\n",
    "\n",
    "p.circle([1,2,3,4,5], [2,5,8,2,7], size=10)\n",
    "\n",
    "show(p)"
   ]
  },
  {
   "cell_type": "code",
   "execution_count": 4,
   "metadata": {
    "collapsed": true
   },
   "outputs": [],
   "source": [
    "# EXERCISE Create a plot of your own and customize several plot-level properties\n",
    "\n"
   ]
  },
  {
   "cell_type": "markdown",
   "metadata": {},
   "source": [
    "# Glyphs\n",
    "\n",
    "It's also possible to style the visual properties of glyphs. When using `bokeh.plotting` this is often done when calling the glyph methods:\n",
    "```python\n",
    "p.circle(line_color=\"red\", fill_alpha=0.2, ...)\n",
    "```\n",
    "But it is also possible to set these properties directly on glyph objects. Glyph objects are found on `GlyphRenderer` objects, which are returned by the `Plot.add_glyph` and `bokeh.plotting` glyph methods like `circle`, `rect`, etc. Let's look at an example:"
   ]
  },
  {
   "cell_type": "code",
   "execution_count": 5,
   "metadata": {
    "collapsed": false
   },
   "outputs": [
    {
     "data": {
      "text/html": [
       "\n",
       "\n",
       "    <div class=\"bk-root\">\n",
       "        <div class=\"plotdiv\" id=\"db0c6815-974f-4f9c-b156-567969a9ceaa\"></div>\n",
       "    </div>\n",
       "<script type=\"text/javascript\">\n",
       "  \n",
       "  (function(global) {\n",
       "    function now() {\n",
       "      return new Date();\n",
       "    }\n",
       "  \n",
       "    if (typeof (window._bokeh_onload_callbacks) === \"undefined\") {\n",
       "      window._bokeh_onload_callbacks = [];\n",
       "    }\n",
       "  \n",
       "    function run_callbacks() {\n",
       "      window._bokeh_onload_callbacks.forEach(function(callback) { callback() });\n",
       "      delete window._bokeh_onload_callbacks\n",
       "      console.info(\"Bokeh: all callbacks have finished\");\n",
       "    }\n",
       "  \n",
       "    function load_libs(js_urls, callback) {\n",
       "      window._bokeh_onload_callbacks.push(callback);\n",
       "      if (window._bokeh_is_loading > 0) {\n",
       "        console.log(\"Bokeh: BokehJS is being loaded, scheduling callback at\", now());\n",
       "        return null;\n",
       "      }\n",
       "      if (js_urls == null || js_urls.length === 0) {\n",
       "        run_callbacks();\n",
       "        return null;\n",
       "      }\n",
       "      console.log(\"Bokeh: BokehJS not loaded, scheduling load and callback at\", now());\n",
       "      window._bokeh_is_loading = js_urls.length;\n",
       "      for (var i = 0; i < js_urls.length; i++) {\n",
       "        var url = js_urls[i];\n",
       "        var s = document.createElement('script');\n",
       "        s.src = url;\n",
       "        s.async = false;\n",
       "        s.onreadystatechange = s.onload = function() {\n",
       "          window._bokeh_is_loading--;\n",
       "          if (window._bokeh_is_loading === 0) {\n",
       "            console.log(\"Bokeh: all BokehJS libraries loaded\");\n",
       "            run_callbacks()\n",
       "          }\n",
       "        };\n",
       "        s.onerror = function() {\n",
       "          console.warn(\"failed to load library \" + url);\n",
       "        };\n",
       "        console.log(\"Bokeh: injecting script tag for BokehJS library: \", url);\n",
       "        document.getElementsByTagName(\"head\")[0].appendChild(s);\n",
       "      }\n",
       "    };var element = document.getElementById(\"db0c6815-974f-4f9c-b156-567969a9ceaa\");\n",
       "    if (element == null) {\n",
       "      console.log(\"Bokeh: ERROR: autoload.js configured with elementid 'db0c6815-974f-4f9c-b156-567969a9ceaa' but no matching script tag was found. \")\n",
       "      return false;\n",
       "    }\n",
       "  \n",
       "    var js_urls = [];\n",
       "  \n",
       "    var inline_js = [\n",
       "      function(Bokeh) {\n",
       "        Bokeh.$(function() {\n",
       "            var docs_json = {\"c6368393-81f0-447a-91fc-e30fd9b259f8\":{\"roots\":{\"references\":[{\"attributes\":{\"formatter\":{\"id\":\"2058425b-81dd-485a-adb6-6cce66c9c43a\",\"type\":\"BasicTickFormatter\"},\"plot\":{\"id\":\"ea9deb28-369b-4ca6-ab6a-b5cf466ea75a\",\"subtype\":\"Figure\",\"type\":\"Plot\"},\"ticker\":{\"id\":\"2aa27bd2-af00-4df3-9125-46650b3dc13c\",\"type\":\"BasicTicker\"}},\"id\":\"bf2a0224-655d-4c30-b622-361c84ebe1ea\",\"type\":\"LinearAxis\"},{\"attributes\":{\"callback\":null},\"id\":\"6151a933-e1de-4bb5-ab6a-e05d2643d5ad\",\"type\":\"DataRange1d\"},{\"attributes\":{\"plot\":{\"id\":\"ea9deb28-369b-4ca6-ab6a-b5cf466ea75a\",\"subtype\":\"Figure\",\"type\":\"Plot\"}},\"id\":\"5274172a-357b-4193-9b6d-0d89a09a11eb\",\"type\":\"PanTool\"},{\"attributes\":{\"plot\":{\"id\":\"ea9deb28-369b-4ca6-ab6a-b5cf466ea75a\",\"subtype\":\"Figure\",\"type\":\"Plot\"}},\"id\":\"f20382ff-ec34-4fd4-a385-e67d51374aec\",\"type\":\"SaveTool\"},{\"attributes\":{},\"id\":\"3278d21c-3904-4e56-af17-1ed7b969f295\",\"type\":\"ToolEvents\"},{\"attributes\":{\"data_source\":{\"id\":\"69253b99-a097-4d71-a31a-5c21e16c1272\",\"type\":\"ColumnDataSource\"},\"glyph\":{\"id\":\"68355f24-e89b-4eac-ab55-1ba264615089\",\"type\":\"Circle\"},\"hover_glyph\":null,\"nonselection_glyph\":{\"id\":\"a85479df-5699-4273-8b76-405ebdb2a1b0\",\"type\":\"Circle\"},\"selection_glyph\":null},\"id\":\"a8c0656d-36fe-4cf7-b8af-f951658bfdba\",\"type\":\"GlyphRenderer\"},{\"attributes\":{\"fill_alpha\":{\"value\":0.2},\"fill_color\":{\"value\":\"#1f77b4\"},\"line_color\":{\"value\":\"firebrick\"},\"line_dash\":[5,1],\"line_width\":{\"value\":2},\"size\":{\"units\":\"screen\",\"value\":50},\"x\":{\"field\":\"x\"},\"y\":{\"field\":\"y\"}},\"id\":\"68355f24-e89b-4eac-ab55-1ba264615089\",\"type\":\"Circle\"},{\"attributes\":{\"plot\":{\"id\":\"ea9deb28-369b-4ca6-ab6a-b5cf466ea75a\",\"subtype\":\"Figure\",\"type\":\"Plot\"}},\"id\":\"68c2fc77-dc25-458d-8427-30e5200796b1\",\"type\":\"ResetTool\"},{\"attributes\":{\"callback\":null,\"column_names\":[\"x\",\"y\"],\"data\":{\"x\":[1,2,3,4,5],\"y\":[2,5,8,2,7]}},\"id\":\"69253b99-a097-4d71-a31a-5c21e16c1272\",\"type\":\"ColumnDataSource\"},{\"attributes\":{\"fill_alpha\":{\"value\":0.1},\"fill_color\":{\"value\":\"#1f77b4\"},\"line_alpha\":{\"value\":0.1},\"line_color\":{\"value\":\"#1f77b4\"},\"x\":{\"field\":\"x\"},\"y\":{\"field\":\"y\"}},\"id\":\"a85479df-5699-4273-8b76-405ebdb2a1b0\",\"type\":\"Circle\"},{\"attributes\":{},\"id\":\"bc18e065-14f0-427e-888d-f652a8d04834\",\"type\":\"BasicTicker\"},{\"attributes\":{\"active_drag\":\"auto\",\"active_scroll\":\"auto\",\"active_tap\":\"auto\",\"tools\":[{\"id\":\"5274172a-357b-4193-9b6d-0d89a09a11eb\",\"type\":\"PanTool\"},{\"id\":\"37d84144-1090-4edc-8b85-82991d1c6a79\",\"type\":\"WheelZoomTool\"},{\"id\":\"1d322c56-e59a-4e8b-88fc-513dcc12a018\",\"type\":\"BoxZoomTool\"},{\"id\":\"f20382ff-ec34-4fd4-a385-e67d51374aec\",\"type\":\"SaveTool\"},{\"id\":\"68c2fc77-dc25-458d-8427-30e5200796b1\",\"type\":\"ResetTool\"},{\"id\":\"04e5634d-7616-484e-bb87-f957a8391460\",\"type\":\"HelpTool\"}]},\"id\":\"5bc27555-dbd2-4947-bf99-0fca60122536\",\"type\":\"Toolbar\"},{\"attributes\":{\"dimension\":1,\"plot\":{\"id\":\"ea9deb28-369b-4ca6-ab6a-b5cf466ea75a\",\"subtype\":\"Figure\",\"type\":\"Plot\"},\"ticker\":{\"id\":\"2aa27bd2-af00-4df3-9125-46650b3dc13c\",\"type\":\"BasicTicker\"}},\"id\":\"f9abfaf4-4fe4-4dd8-b9ae-739dcbd09a21\",\"type\":\"Grid\"},{\"attributes\":{},\"id\":\"ef7ae939-3fa2-4313-a164-0f91552ec6a9\",\"type\":\"BasicTickFormatter\"},{\"attributes\":{\"plot\":null,\"text\":null},\"id\":\"78f9fac1-a39c-44e8-bba1-3be24ef349e0\",\"type\":\"Title\"},{\"attributes\":{\"overlay\":{\"id\":\"42fd1451-47c8-45ca-90d6-06d6a87187ab\",\"type\":\"BoxAnnotation\"},\"plot\":{\"id\":\"ea9deb28-369b-4ca6-ab6a-b5cf466ea75a\",\"subtype\":\"Figure\",\"type\":\"Plot\"}},\"id\":\"1d322c56-e59a-4e8b-88fc-513dcc12a018\",\"type\":\"BoxZoomTool\"},{\"attributes\":{\"plot\":{\"id\":\"ea9deb28-369b-4ca6-ab6a-b5cf466ea75a\",\"subtype\":\"Figure\",\"type\":\"Plot\"}},\"id\":\"04e5634d-7616-484e-bb87-f957a8391460\",\"type\":\"HelpTool\"},{\"attributes\":{\"bottom_units\":\"screen\",\"fill_alpha\":{\"value\":0.5},\"fill_color\":{\"value\":\"lightgrey\"},\"left_units\":\"screen\",\"level\":\"overlay\",\"line_alpha\":{\"value\":1.0},\"line_color\":{\"value\":\"black\"},\"line_dash\":[4,4],\"line_width\":{\"value\":2},\"plot\":null,\"render_mode\":\"css\",\"right_units\":\"screen\",\"top_units\":\"screen\"},\"id\":\"42fd1451-47c8-45ca-90d6-06d6a87187ab\",\"type\":\"BoxAnnotation\"},{\"attributes\":{\"callback\":null},\"id\":\"d8d68bee-f996-449b-818b-1587798d07ad\",\"type\":\"DataRange1d\"},{\"attributes\":{},\"id\":\"2058425b-81dd-485a-adb6-6cce66c9c43a\",\"type\":\"BasicTickFormatter\"},{\"attributes\":{\"plot\":{\"id\":\"ea9deb28-369b-4ca6-ab6a-b5cf466ea75a\",\"subtype\":\"Figure\",\"type\":\"Plot\"}},\"id\":\"37d84144-1090-4edc-8b85-82991d1c6a79\",\"type\":\"WheelZoomTool\"},{\"attributes\":{},\"id\":\"2aa27bd2-af00-4df3-9125-46650b3dc13c\",\"type\":\"BasicTicker\"},{\"attributes\":{\"below\":[{\"id\":\"12806a78-5c97-4d7f-929a-57a8fe93eb0d\",\"type\":\"LinearAxis\"}],\"left\":[{\"id\":\"bf2a0224-655d-4c30-b622-361c84ebe1ea\",\"type\":\"LinearAxis\"}],\"plot_height\":400,\"plot_width\":400,\"renderers\":[{\"id\":\"12806a78-5c97-4d7f-929a-57a8fe93eb0d\",\"type\":\"LinearAxis\"},{\"id\":\"36434d42-c05a-4c4e-a40e-fd860190ed6f\",\"type\":\"Grid\"},{\"id\":\"bf2a0224-655d-4c30-b622-361c84ebe1ea\",\"type\":\"LinearAxis\"},{\"id\":\"f9abfaf4-4fe4-4dd8-b9ae-739dcbd09a21\",\"type\":\"Grid\"},{\"id\":\"42fd1451-47c8-45ca-90d6-06d6a87187ab\",\"type\":\"BoxAnnotation\"},{\"id\":\"a8c0656d-36fe-4cf7-b8af-f951658bfdba\",\"type\":\"GlyphRenderer\"}],\"title\":{\"id\":\"78f9fac1-a39c-44e8-bba1-3be24ef349e0\",\"type\":\"Title\"},\"tool_events\":{\"id\":\"3278d21c-3904-4e56-af17-1ed7b969f295\",\"type\":\"ToolEvents\"},\"toolbar\":{\"id\":\"5bc27555-dbd2-4947-bf99-0fca60122536\",\"type\":\"Toolbar\"},\"x_range\":{\"id\":\"d8d68bee-f996-449b-818b-1587798d07ad\",\"type\":\"DataRange1d\"},\"y_range\":{\"id\":\"6151a933-e1de-4bb5-ab6a-e05d2643d5ad\",\"type\":\"DataRange1d\"}},\"id\":\"ea9deb28-369b-4ca6-ab6a-b5cf466ea75a\",\"subtype\":\"Figure\",\"type\":\"Plot\"},{\"attributes\":{\"plot\":{\"id\":\"ea9deb28-369b-4ca6-ab6a-b5cf466ea75a\",\"subtype\":\"Figure\",\"type\":\"Plot\"},\"ticker\":{\"id\":\"bc18e065-14f0-427e-888d-f652a8d04834\",\"type\":\"BasicTicker\"}},\"id\":\"36434d42-c05a-4c4e-a40e-fd860190ed6f\",\"type\":\"Grid\"},{\"attributes\":{\"formatter\":{\"id\":\"ef7ae939-3fa2-4313-a164-0f91552ec6a9\",\"type\":\"BasicTickFormatter\"},\"plot\":{\"id\":\"ea9deb28-369b-4ca6-ab6a-b5cf466ea75a\",\"subtype\":\"Figure\",\"type\":\"Plot\"},\"ticker\":{\"id\":\"bc18e065-14f0-427e-888d-f652a8d04834\",\"type\":\"BasicTicker\"}},\"id\":\"12806a78-5c97-4d7f-929a-57a8fe93eb0d\",\"type\":\"LinearAxis\"}],\"root_ids\":[\"ea9deb28-369b-4ca6-ab6a-b5cf466ea75a\"]},\"title\":\"Bokeh Application\",\"version\":\"0.12.0\"}};\n",
       "            var render_items = [{\"docid\":\"c6368393-81f0-447a-91fc-e30fd9b259f8\",\"elementid\":\"db0c6815-974f-4f9c-b156-567969a9ceaa\",\"modelid\":\"ea9deb28-369b-4ca6-ab6a-b5cf466ea75a\",\"notebook_comms_target\":\"e13a5413-c03a-4318-ade3-ce081735a3b5\"}];\n",
       "            \n",
       "            Bokeh.embed.embed_items(docs_json, render_items);\n",
       "        });\n",
       "      },\n",
       "      function(Bokeh) {\n",
       "      }\n",
       "    ];\n",
       "  \n",
       "    function run_inline_js() {\n",
       "      for (var i = 0; i < inline_js.length; i++) {\n",
       "        inline_js[i](window.Bokeh);\n",
       "      }\n",
       "    }\n",
       "  \n",
       "    if (window._bokeh_is_loading === 0) {\n",
       "      console.log(\"Bokeh: BokehJS loaded, going straight to plotting\");\n",
       "      run_inline_js();\n",
       "    } else {\n",
       "      load_libs(js_urls, function() {\n",
       "        console.log(\"Bokeh: BokehJS plotting callback run at\", now());\n",
       "        run_inline_js();\n",
       "      });\n",
       "    }\n",
       "  }(this));\n",
       "</script>"
      ]
     },
     "metadata": {},
     "output_type": "display_data"
    },
    {
     "data": {
      "text/html": [
       "<p><code>&lt;Bokeh Notebook handle for <strong>In[5]</strong>&gt;</code></p>"
      ],
      "text/plain": [
       "<bokeh.io._CommsHandle at 0x10d9310f0>"
      ]
     },
     "execution_count": 5,
     "metadata": {},
     "output_type": "execute_result"
    }
   ],
   "source": [
    "p = figure(plot_width=400, plot_height=400)\n",
    "\n",
    "# keep a reference to the returned GlyphRenderer\n",
    "r = p.circle([1,2,3,4,5], [2,5,8,2,7])\n",
    "\n",
    "r.glyph.size = 50\n",
    "r.glyph.fill_alpha = 0.2\n",
    "r.glyph.line_color = \"firebrick\"\n",
    "r.glyph.line_dash = [5, 1]\n",
    "r.glyph.line_width = 2\n",
    "\n",
    "show(p)"
   ]
  },
  {
   "cell_type": "markdown",
   "metadata": {},
   "source": [
    "### Selection and non-selection visuals\n",
    "\n",
    "You can also control how glyphs look when there are selections involved. The set of \"selected\" points is displayed according to the optional `.selection_glyph` property of a `GlyphRenderer`:\n",
    "```python\n",
    "r.selection_glyph = Circle(fill_alpha=1, fill_color=\"firebrick\", line_color=None) \n",
    "```\n",
    "When there is a non-empty selection, the set of \"unselected: points is displayed according to the optional  `.nonselection_glyph` property of a `GlyphRenderer`:\n",
    "```python\n",
    "r.nonselection_glyph = Circle(fill_alpha=0.2, fill_color=\"grey\", line_color=None) \n",
    "```\n",
    "\n",
    "When using the `bokeh.plotting` interface, it is easier to pass these visual properties to the glyph methods as shown below. The glyph method will create the selection or nonselection glyphs and attach them to the renderer for you. "
   ]
  },
  {
   "cell_type": "code",
   "execution_count": 6,
   "metadata": {
    "collapsed": false
   },
   "outputs": [
    {
     "data": {
      "text/html": [
       "\n",
       "\n",
       "    <div class=\"bk-root\">\n",
       "        <div class=\"plotdiv\" id=\"0578113a-e6d4-4bdc-af65-a4fb8fd411d0\"></div>\n",
       "    </div>\n",
       "<script type=\"text/javascript\">\n",
       "  \n",
       "  (function(global) {\n",
       "    function now() {\n",
       "      return new Date();\n",
       "    }\n",
       "  \n",
       "    if (typeof (window._bokeh_onload_callbacks) === \"undefined\") {\n",
       "      window._bokeh_onload_callbacks = [];\n",
       "    }\n",
       "  \n",
       "    function run_callbacks() {\n",
       "      window._bokeh_onload_callbacks.forEach(function(callback) { callback() });\n",
       "      delete window._bokeh_onload_callbacks\n",
       "      console.info(\"Bokeh: all callbacks have finished\");\n",
       "    }\n",
       "  \n",
       "    function load_libs(js_urls, callback) {\n",
       "      window._bokeh_onload_callbacks.push(callback);\n",
       "      if (window._bokeh_is_loading > 0) {\n",
       "        console.log(\"Bokeh: BokehJS is being loaded, scheduling callback at\", now());\n",
       "        return null;\n",
       "      }\n",
       "      if (js_urls == null || js_urls.length === 0) {\n",
       "        run_callbacks();\n",
       "        return null;\n",
       "      }\n",
       "      console.log(\"Bokeh: BokehJS not loaded, scheduling load and callback at\", now());\n",
       "      window._bokeh_is_loading = js_urls.length;\n",
       "      for (var i = 0; i < js_urls.length; i++) {\n",
       "        var url = js_urls[i];\n",
       "        var s = document.createElement('script');\n",
       "        s.src = url;\n",
       "        s.async = false;\n",
       "        s.onreadystatechange = s.onload = function() {\n",
       "          window._bokeh_is_loading--;\n",
       "          if (window._bokeh_is_loading === 0) {\n",
       "            console.log(\"Bokeh: all BokehJS libraries loaded\");\n",
       "            run_callbacks()\n",
       "          }\n",
       "        };\n",
       "        s.onerror = function() {\n",
       "          console.warn(\"failed to load library \" + url);\n",
       "        };\n",
       "        console.log(\"Bokeh: injecting script tag for BokehJS library: \", url);\n",
       "        document.getElementsByTagName(\"head\")[0].appendChild(s);\n",
       "      }\n",
       "    };var element = document.getElementById(\"0578113a-e6d4-4bdc-af65-a4fb8fd411d0\");\n",
       "    if (element == null) {\n",
       "      console.log(\"Bokeh: ERROR: autoload.js configured with elementid '0578113a-e6d4-4bdc-af65-a4fb8fd411d0' but no matching script tag was found. \")\n",
       "      return false;\n",
       "    }\n",
       "  \n",
       "    var js_urls = [];\n",
       "  \n",
       "    var inline_js = [\n",
       "      function(Bokeh) {\n",
       "        Bokeh.$(function() {\n",
       "            var docs_json = {\"2fee54c8-23a9-4039-b809-b49a269ad0e5\":{\"roots\":{\"references\":[{\"attributes\":{\"dimension\":1,\"plot\":{\"id\":\"78c4ea28-49e1-478b-a044-bd8a657ce45a\",\"subtype\":\"Figure\",\"type\":\"Plot\"},\"ticker\":{\"id\":\"c78ffce4-7d5b-4c3d-9f15-af57098c5ce0\",\"type\":\"BasicTicker\"}},\"id\":\"35fd4aef-94a0-4924-9783-6c08957b6f74\",\"type\":\"Grid\"},{\"attributes\":{\"plot\":null,\"text\":\"Select a circle\"},\"id\":\"cdb05218-7c04-4e8a-ae8c-3a461ef56b1b\",\"type\":\"Title\"},{\"attributes\":{\"formatter\":{\"id\":\"f41ecb6e-d138-4312-8bf4-87ef166fdbb6\",\"type\":\"BasicTickFormatter\"},\"plot\":{\"id\":\"78c4ea28-49e1-478b-a044-bd8a657ce45a\",\"subtype\":\"Figure\",\"type\":\"Plot\"},\"ticker\":{\"id\":\"9cf66748-5172-4a77-ada9-229ff32fe62d\",\"type\":\"BasicTicker\"}},\"id\":\"a11afa40-a040-40fe-8e93-fda2b1744643\",\"type\":\"LinearAxis\"},{\"attributes\":{\"active_drag\":\"auto\",\"active_scroll\":\"auto\",\"active_tap\":\"auto\",\"tools\":[{\"id\":\"50efa5f6-968a-4e2f-8c06-50c46d6c1ee2\",\"type\":\"TapTool\"}]},\"id\":\"4f172043-45ba-4e47-8587-2c4eefc1204c\",\"type\":\"Toolbar\"},{\"attributes\":{\"data_source\":{\"id\":\"4ff61a64-61dd-4a31-b61c-27c29e4ebd18\",\"type\":\"ColumnDataSource\"},\"glyph\":{\"id\":\"f05f10ec-d5f4-47fa-928c-50d10ab3d569\",\"type\":\"Circle\"},\"hover_glyph\":null,\"nonselection_glyph\":{\"id\":\"87a58bdd-1114-495f-93aa-d147bbee0dc0\",\"type\":\"Circle\"},\"selection_glyph\":{\"id\":\"b59bed6d-6d24-497e-a010-6599d60039ba\",\"type\":\"Circle\"}},\"id\":\"e9d7feb0-0fa0-41fd-9aa8-c01314c2738b\",\"type\":\"GlyphRenderer\"},{\"attributes\":{\"callback\":null},\"id\":\"5ca42c77-8986-4685-9e43-eadfac4aafaa\",\"type\":\"DataRange1d\"},{\"attributes\":{\"callback\":null,\"plot\":{\"id\":\"78c4ea28-49e1-478b-a044-bd8a657ce45a\",\"subtype\":\"Figure\",\"type\":\"Plot\"}},\"id\":\"50efa5f6-968a-4e2f-8c06-50c46d6c1ee2\",\"type\":\"TapTool\"},{\"attributes\":{\"fill_color\":{\"value\":\"firebrick\"},\"line_color\":{\"value\":\"firebrick\"},\"size\":{\"units\":\"screen\",\"value\":50},\"x\":{\"field\":\"x\"},\"y\":{\"field\":\"y\"}},\"id\":\"b59bed6d-6d24-497e-a010-6599d60039ba\",\"type\":\"Circle\"},{\"attributes\":{\"fill_alpha\":{\"value\":0.2},\"fill_color\":{\"value\":\"grey\"},\"line_color\":{\"value\":\"firebrick\"},\"size\":{\"units\":\"screen\",\"value\":50},\"x\":{\"field\":\"x\"},\"y\":{\"field\":\"y\"}},\"id\":\"87a58bdd-1114-495f-93aa-d147bbee0dc0\",\"type\":\"Circle\"},{\"attributes\":{},\"id\":\"9cf66748-5172-4a77-ada9-229ff32fe62d\",\"type\":\"BasicTicker\"},{\"attributes\":{},\"id\":\"f41ecb6e-d138-4312-8bf4-87ef166fdbb6\",\"type\":\"BasicTickFormatter\"},{\"attributes\":{},\"id\":\"a1c1166d-7ce0-4961-a5ef-62d9bab8c73d\",\"type\":\"ToolEvents\"},{\"attributes\":{\"callback\":null,\"column_names\":[\"x\",\"y\"],\"data\":{\"x\":[1,2,3,4,5],\"y\":[2,5,8,2,7]}},\"id\":\"4ff61a64-61dd-4a31-b61c-27c29e4ebd18\",\"type\":\"ColumnDataSource\"},{\"attributes\":{},\"id\":\"c78ffce4-7d5b-4c3d-9f15-af57098c5ce0\",\"type\":\"BasicTicker\"},{\"attributes\":{},\"id\":\"65b86f4d-4c2e-45cc-a670-829d2cc58090\",\"type\":\"BasicTickFormatter\"},{\"attributes\":{\"callback\":null},\"id\":\"dce1a60e-d80b-473d-a3fc-992587f2db01\",\"type\":\"DataRange1d\"},{\"attributes\":{\"below\":[{\"id\":\"a11afa40-a040-40fe-8e93-fda2b1744643\",\"type\":\"LinearAxis\"}],\"left\":[{\"id\":\"1076454b-1849-4382-80fd-229807fe8d7d\",\"type\":\"LinearAxis\"}],\"plot_height\":400,\"plot_width\":400,\"renderers\":[{\"id\":\"a11afa40-a040-40fe-8e93-fda2b1744643\",\"type\":\"LinearAxis\"},{\"id\":\"d7aefc19-1b5e-4cdb-9a51-d783d2858b2a\",\"type\":\"Grid\"},{\"id\":\"1076454b-1849-4382-80fd-229807fe8d7d\",\"type\":\"LinearAxis\"},{\"id\":\"35fd4aef-94a0-4924-9783-6c08957b6f74\",\"type\":\"Grid\"},{\"id\":\"e9d7feb0-0fa0-41fd-9aa8-c01314c2738b\",\"type\":\"GlyphRenderer\"}],\"title\":{\"id\":\"cdb05218-7c04-4e8a-ae8c-3a461ef56b1b\",\"type\":\"Title\"},\"tool_events\":{\"id\":\"a1c1166d-7ce0-4961-a5ef-62d9bab8c73d\",\"type\":\"ToolEvents\"},\"toolbar\":{\"id\":\"4f172043-45ba-4e47-8587-2c4eefc1204c\",\"type\":\"Toolbar\"},\"x_range\":{\"id\":\"dce1a60e-d80b-473d-a3fc-992587f2db01\",\"type\":\"DataRange1d\"},\"y_range\":{\"id\":\"5ca42c77-8986-4685-9e43-eadfac4aafaa\",\"type\":\"DataRange1d\"}},\"id\":\"78c4ea28-49e1-478b-a044-bd8a657ce45a\",\"subtype\":\"Figure\",\"type\":\"Plot\"},{\"attributes\":{\"plot\":{\"id\":\"78c4ea28-49e1-478b-a044-bd8a657ce45a\",\"subtype\":\"Figure\",\"type\":\"Plot\"},\"ticker\":{\"id\":\"9cf66748-5172-4a77-ada9-229ff32fe62d\",\"type\":\"BasicTicker\"}},\"id\":\"d7aefc19-1b5e-4cdb-9a51-d783d2858b2a\",\"type\":\"Grid\"},{\"attributes\":{\"fill_color\":{\"value\":\"#1f77b4\"},\"line_color\":{\"value\":\"#1f77b4\"},\"size\":{\"units\":\"screen\",\"value\":50},\"x\":{\"field\":\"x\"},\"y\":{\"field\":\"y\"}},\"id\":\"f05f10ec-d5f4-47fa-928c-50d10ab3d569\",\"type\":\"Circle\"},{\"attributes\":{\"formatter\":{\"id\":\"65b86f4d-4c2e-45cc-a670-829d2cc58090\",\"type\":\"BasicTickFormatter\"},\"plot\":{\"id\":\"78c4ea28-49e1-478b-a044-bd8a657ce45a\",\"subtype\":\"Figure\",\"type\":\"Plot\"},\"ticker\":{\"id\":\"c78ffce4-7d5b-4c3d-9f15-af57098c5ce0\",\"type\":\"BasicTicker\"}},\"id\":\"1076454b-1849-4382-80fd-229807fe8d7d\",\"type\":\"LinearAxis\"}],\"root_ids\":[\"78c4ea28-49e1-478b-a044-bd8a657ce45a\"]},\"title\":\"Bokeh Application\",\"version\":\"0.12.0\"}};\n",
       "            var render_items = [{\"docid\":\"2fee54c8-23a9-4039-b809-b49a269ad0e5\",\"elementid\":\"0578113a-e6d4-4bdc-af65-a4fb8fd411d0\",\"modelid\":\"78c4ea28-49e1-478b-a044-bd8a657ce45a\",\"notebook_comms_target\":\"016c883b-0675-43bf-aafb-502aa5cc3b84\"}];\n",
       "            \n",
       "            Bokeh.embed.embed_items(docs_json, render_items);\n",
       "        });\n",
       "      },\n",
       "      function(Bokeh) {\n",
       "      }\n",
       "    ];\n",
       "  \n",
       "    function run_inline_js() {\n",
       "      for (var i = 0; i < inline_js.length; i++) {\n",
       "        inline_js[i](window.Bokeh);\n",
       "      }\n",
       "    }\n",
       "  \n",
       "    if (window._bokeh_is_loading === 0) {\n",
       "      console.log(\"Bokeh: BokehJS loaded, going straight to plotting\");\n",
       "      run_inline_js();\n",
       "    } else {\n",
       "      load_libs(js_urls, function() {\n",
       "        console.log(\"Bokeh: BokehJS plotting callback run at\", now());\n",
       "        run_inline_js();\n",
       "      });\n",
       "    }\n",
       "  }(this));\n",
       "</script>"
      ]
     },
     "metadata": {},
     "output_type": "display_data"
    },
    {
     "data": {
      "text/html": [
       "<p><code>&lt;Bokeh Notebook handle for <strong>In[6]</strong>&gt;</code></p>"
      ],
      "text/plain": [
       "<bokeh.io._CommsHandle at 0x10d93d748>"
      ]
     },
     "execution_count": 6,
     "metadata": {},
     "output_type": "execute_result"
    }
   ],
   "source": [
    "p = figure(plot_width=400, plot_height=400, tools=\"tap\", title=\"Select a circle\")\n",
    "renderer = p.circle([1, 2, 3, 4, 5], [2, 5, 8, 2, 7], size=50,\n",
    "\n",
    "                    # set visual properties for selected glyphs\n",
    "                    selection_color=\"firebrick\",\n",
    "\n",
    "                    # set visual properties for non-selected glyphs\n",
    "                    nonselection_fill_alpha=0.2,\n",
    "                    nonselection_fill_color=\"grey\",\n",
    "                    nonselection_line_color=\"firebrick\",\n",
    "                    nonselection_line_alpha=1.0)\n",
    "\n",
    "show(p)"
   ]
  },
  {
   "cell_type": "markdown",
   "metadata": {},
   "source": [
    "It is also possible to specify the visual appearance of glyphs when they are \"inspected\", e.g. by a hover tool. This is accomplished by setting an optional `hover_glyph` on the glyph renderer:\n",
    "```python\n",
    "r.hover_glyph = Circle(fill_alpha=1, fill_color=\"firebrick\", line_color=None) \n",
    "```\n",
    "Or if using `bokeh.plotting` glyph methods, by passing `hover_fill_alpha`, etc. to the glyph method. Lets look at an example that works together with a `HoverTool` configured for \"hline\" hit-testing."
   ]
  },
  {
   "cell_type": "code",
   "execution_count": 7,
   "metadata": {
    "collapsed": false
   },
   "outputs": [
    {
     "data": {
      "text/html": [
       "\n",
       "\n",
       "    <div class=\"bk-root\">\n",
       "        <div class=\"plotdiv\" id=\"6a82050f-9588-43a3-9ce9-b046879dd4e5\"></div>\n",
       "    </div>\n",
       "<script type=\"text/javascript\">\n",
       "  \n",
       "  (function(global) {\n",
       "    function now() {\n",
       "      return new Date();\n",
       "    }\n",
       "  \n",
       "    if (typeof (window._bokeh_onload_callbacks) === \"undefined\") {\n",
       "      window._bokeh_onload_callbacks = [];\n",
       "    }\n",
       "  \n",
       "    function run_callbacks() {\n",
       "      window._bokeh_onload_callbacks.forEach(function(callback) { callback() });\n",
       "      delete window._bokeh_onload_callbacks\n",
       "      console.info(\"Bokeh: all callbacks have finished\");\n",
       "    }\n",
       "  \n",
       "    function load_libs(js_urls, callback) {\n",
       "      window._bokeh_onload_callbacks.push(callback);\n",
       "      if (window._bokeh_is_loading > 0) {\n",
       "        console.log(\"Bokeh: BokehJS is being loaded, scheduling callback at\", now());\n",
       "        return null;\n",
       "      }\n",
       "      if (js_urls == null || js_urls.length === 0) {\n",
       "        run_callbacks();\n",
       "        return null;\n",
       "      }\n",
       "      console.log(\"Bokeh: BokehJS not loaded, scheduling load and callback at\", now());\n",
       "      window._bokeh_is_loading = js_urls.length;\n",
       "      for (var i = 0; i < js_urls.length; i++) {\n",
       "        var url = js_urls[i];\n",
       "        var s = document.createElement('script');\n",
       "        s.src = url;\n",
       "        s.async = false;\n",
       "        s.onreadystatechange = s.onload = function() {\n",
       "          window._bokeh_is_loading--;\n",
       "          if (window._bokeh_is_loading === 0) {\n",
       "            console.log(\"Bokeh: all BokehJS libraries loaded\");\n",
       "            run_callbacks()\n",
       "          }\n",
       "        };\n",
       "        s.onerror = function() {\n",
       "          console.warn(\"failed to load library \" + url);\n",
       "        };\n",
       "        console.log(\"Bokeh: injecting script tag for BokehJS library: \", url);\n",
       "        document.getElementsByTagName(\"head\")[0].appendChild(s);\n",
       "      }\n",
       "    };var element = document.getElementById(\"6a82050f-9588-43a3-9ce9-b046879dd4e5\");\n",
       "    if (element == null) {\n",
       "      console.log(\"Bokeh: ERROR: autoload.js configured with elementid '6a82050f-9588-43a3-9ce9-b046879dd4e5' but no matching script tag was found. \")\n",
       "      return false;\n",
       "    }\n",
       "  \n",
       "    var js_urls = [];\n",
       "  \n",
       "    var inline_js = [\n",
       "      function(Bokeh) {\n",
       "        Bokeh.$(function() {\n",
       "            var docs_json = {\"858c07cd-4526-444b-9807-652ef94bc0bc\":{\"roots\":{\"references\":[{\"attributes\":{\"months\":[0,6]},\"id\":\"a9543a58-bbda-40bb-b54a-938cfce6066d\",\"type\":\"MonthsTicker\"},{\"attributes\":{\"days\":[1,2,3,4,5,6,7,8,9,10,11,12,13,14,15,16,17,18,19,20,21,22,23,24,25,26,27,28,29,30,31]},\"id\":\"7629662a-3ab9-4cc0-a87c-e44333c5dcd6\",\"type\":\"DaysTicker\"},{\"attributes\":{\"formatter\":{\"id\":\"6b374d7c-d446-4e20-94cc-c4aa3675230f\",\"type\":\"DatetimeTickFormatter\"},\"plot\":{\"id\":\"0482f3bf-2594-49c3-a625-08ea9f7e88b2\",\"subtype\":\"Figure\",\"type\":\"Plot\"},\"ticker\":{\"id\":\"70e6f5e4-5f46-46e4-baf4-c347989e6573\",\"type\":\"DatetimeTicker\"}},\"id\":\"e9b95344-396a-4f42-9056-f500908e10d5\",\"type\":\"DatetimeAxis\"},{\"attributes\":{\"days\":[1,15]},\"id\":\"63234cd3-6939-477f-b4ad-941299bf9570\",\"type\":\"DaysTicker\"},{\"attributes\":{\"callback\":null},\"id\":\"f4247eed-613b-47bb-af52-08468126592d\",\"type\":\"DataRange1d\"},{\"attributes\":{\"days\":[1,8,15,22]},\"id\":\"f1ec2fbe-6e2c-4d13-865b-e8dfc7e1cf07\",\"type\":\"DaysTicker\"},{\"attributes\":{\"days\":[1,4,7,10,13,16,19,22,25,28]},\"id\":\"678b804d-8194-4cb9-bf55-16894a09aba4\",\"type\":\"DaysTicker\"},{\"attributes\":{\"base\":24,\"mantissas\":[1,2,4,6,8,12],\"max_interval\":43200000.0,\"min_interval\":3600000.0,\"num_minor_ticks\":0},\"id\":\"fce01906-855b-46c9-bb47-7aa3c61468eb\",\"type\":\"AdaptiveTicker\"},{\"attributes\":{},\"id\":\"6b374d7c-d446-4e20-94cc-c4aa3675230f\",\"type\":\"DatetimeTickFormatter\"},{\"attributes\":{\"months\":[0,4,8]},\"id\":\"eb5149d3-cd06-48c9-9a33-cdb17ddbb90d\",\"type\":\"MonthsTicker\"},{\"attributes\":{\"dimension\":1,\"plot\":{\"id\":\"0482f3bf-2594-49c3-a625-08ea9f7e88b2\",\"subtype\":\"Figure\",\"type\":\"Plot\"},\"ticker\":{\"id\":\"27a1ba26-b134-4913-ba85-50cf206a8e39\",\"type\":\"BasicTicker\"}},\"id\":\"04b8bda8-f506-4736-ad9e-79956f555986\",\"type\":\"Grid\"},{\"attributes\":{\"data_source\":{\"id\":\"b50a701c-31c6-4958-aede-e40aa87e00f5\",\"type\":\"ColumnDataSource\"},\"glyph\":{\"id\":\"b1e52f6b-96da-4001-9f2c-e3d572a41002\",\"type\":\"Line\"},\"hover_glyph\":null,\"nonselection_glyph\":{\"id\":\"3b394c62-ad97-4b26-8d7a-942973736723\",\"type\":\"Line\"},\"selection_glyph\":null},\"id\":\"34729077-8857-4f3c-9baa-d38d5a8af84b\",\"type\":\"GlyphRenderer\"},{\"attributes\":{\"formatter\":{\"id\":\"32b50b48-870d-4964-8fb0-db873e6a5b95\",\"type\":\"BasicTickFormatter\"},\"plot\":{\"id\":\"0482f3bf-2594-49c3-a625-08ea9f7e88b2\",\"subtype\":\"Figure\",\"type\":\"Plot\"},\"ticker\":{\"id\":\"27a1ba26-b134-4913-ba85-50cf206a8e39\",\"type\":\"BasicTicker\"}},\"id\":\"72148591-1b5c-496c-ad2d-d48237059b12\",\"type\":\"LinearAxis\"},{\"attributes\":{\"fill_alpha\":{\"value\":0.3},\"fill_color\":{\"value\":\"firebrick\"},\"line_alpha\":{\"value\":0.3},\"line_color\":{\"value\":\"white\"},\"size\":{\"units\":\"screen\",\"value\":20},\"x\":{\"field\":\"x\"},\"y\":{\"field\":\"y\"}},\"id\":\"bdd56c80-a843-4fe9-9b27-20fbd02d4b77\",\"type\":\"Circle\"},{\"attributes\":{\"plot\":{\"id\":\"0482f3bf-2594-49c3-a625-08ea9f7e88b2\",\"subtype\":\"Figure\",\"type\":\"Plot\"},\"ticker\":{\"id\":\"70e6f5e4-5f46-46e4-baf4-c347989e6573\",\"type\":\"DatetimeTicker\"}},\"id\":\"4a8f6bb7-93d8-4cdc-9638-de1ae448afab\",\"type\":\"Grid\"},{\"attributes\":{\"months\":[0,2,4,6,8,10]},\"id\":\"dd9939d3-eaea-4abb-9f65-2e6af3db15bb\",\"type\":\"MonthsTicker\"},{\"attributes\":{\"months\":[0,1,2,3,4,5,6,7,8,9,10,11]},\"id\":\"6a1751e9-3b65-4aeb-82f9-a3420bf23b67\",\"type\":\"MonthsTicker\"},{\"attributes\":{\"fill_alpha\":{\"value\":0.05},\"fill_color\":{\"value\":\"grey\"},\"line_color\":{\"value\":null},\"size\":{\"units\":\"screen\",\"value\":20},\"x\":{\"field\":\"x\"},\"y\":{\"field\":\"y\"}},\"id\":\"422101f4-1b4a-4537-8cb1-cec1e2f3c6b4\",\"type\":\"Circle\"},{\"attributes\":{\"max_interval\":500.0,\"num_minor_ticks\":0},\"id\":\"f0bd8e26-d649-4e01-a1ad-8f0b3fd06d2b\",\"type\":\"AdaptiveTicker\"},{\"attributes\":{},\"id\":\"33a59b83-9a3e-4ecf-b02a-11d5a3ef72a4\",\"type\":\"YearsTicker\"},{\"attributes\":{},\"id\":\"d9fa0813-f59b-4404-bc5e-9e9d966f981f\",\"type\":\"ToolEvents\"},{\"attributes\":{\"fill_alpha\":{\"value\":0.1},\"fill_color\":{\"value\":\"#1f77b4\"},\"line_alpha\":{\"value\":0.1},\"line_color\":{\"value\":\"#1f77b4\"},\"size\":{\"units\":\"screen\",\"value\":20},\"x\":{\"field\":\"x\"},\"y\":{\"field\":\"y\"}},\"id\":\"b734dd53-e2a8-41cd-ab02-3d4418175757\",\"type\":\"Circle\"},{\"attributes\":{\"below\":[{\"id\":\"e9b95344-396a-4f42-9056-f500908e10d5\",\"type\":\"DatetimeAxis\"}],\"left\":[{\"id\":\"72148591-1b5c-496c-ad2d-d48237059b12\",\"type\":\"LinearAxis\"}],\"plot_height\":300,\"renderers\":[{\"id\":\"e9b95344-396a-4f42-9056-f500908e10d5\",\"type\":\"DatetimeAxis\"},{\"id\":\"4a8f6bb7-93d8-4cdc-9638-de1ae448afab\",\"type\":\"Grid\"},{\"id\":\"72148591-1b5c-496c-ad2d-d48237059b12\",\"type\":\"LinearAxis\"},{\"id\":\"04b8bda8-f506-4736-ad9e-79956f555986\",\"type\":\"Grid\"},{\"id\":\"34729077-8857-4f3c-9baa-d38d5a8af84b\",\"type\":\"GlyphRenderer\"},{\"id\":\"c8ad0404-1cbe-4716-a844-4aece89c2ae3\",\"type\":\"GlyphRenderer\"}],\"title\":{\"id\":\"4db79670-4f3f-4198-a51d-2b8c4f1b3fe3\",\"type\":\"Title\"},\"tool_events\":{\"id\":\"d9fa0813-f59b-4404-bc5e-9e9d966f981f\",\"type\":\"ToolEvents\"},\"toolbar\":{\"id\":\"90276ada-7547-44e5-baf5-a2276ecb061b\",\"type\":\"Toolbar\"},\"toolbar_location\":null,\"x_range\":{\"id\":\"23b35323-fa27-4113-adb1-2a0b837cea52\",\"type\":\"DataRange1d\"},\"y_range\":{\"id\":\"f4247eed-613b-47bb-af52-08468126592d\",\"type\":\"DataRange1d\"}},\"id\":\"0482f3bf-2594-49c3-a625-08ea9f7e88b2\",\"subtype\":\"Figure\",\"type\":\"Plot\"},{\"attributes\":{},\"id\":\"32b50b48-870d-4964-8fb0-db873e6a5b95\",\"type\":\"BasicTickFormatter\"},{\"attributes\":{\"active_drag\":\"auto\",\"active_scroll\":\"auto\",\"active_tap\":\"auto\",\"tools\":[{\"id\":\"2b600e49-93e3-4507-94f1-8435313a3cdd\",\"type\":\"HoverTool\"}]},\"id\":\"90276ada-7547-44e5-baf5-a2276ecb061b\",\"type\":\"Toolbar\"},{\"attributes\":{\"line_color\":{\"value\":\"gray\"},\"line_dash\":[4,4],\"x\":{\"field\":\"x\"},\"y\":{\"field\":\"y\"}},\"id\":\"b1e52f6b-96da-4001-9f2c-e3d572a41002\",\"type\":\"Line\"},{\"attributes\":{\"callback\":null},\"id\":\"23b35323-fa27-4113-adb1-2a0b837cea52\",\"type\":\"DataRange1d\"},{\"attributes\":{\"callback\":null,\"column_names\":[\"x\",\"y\"],\"data\":{\"x\":[1286323380000.0,1286323680000.0,1286323980000.0,1286324280000.0,1286324580000.0,1286324880000.0,1286325180000.0,1286325480000.0,1286325780000.0,1286326080000.0,1286326380000.0,1286326680000.0,1286326980000.0,1286327280000.0,1286327580000.0,1286327880000.0,1286328180000.0,1286328480000.0,1286328780000.0,1286329080000.0,1286329380000.0,1286329680000.0,1286329980000.0,1286330280000.0,1286330580000.0,1286330880000.0,1286331180000.0,1286331480000.0,1286331780000.0,1286332080000.0,1286332380000.0,1286332680000.0,1286332980000.0,1286333280000.0,1286333580000.0,1286333880000.0,1286334180000.0,1286334480000.0,1286334780000.0,1286335080000.0,1286335380000.0,1286335680000.0,1286335980000.0,1286336280000.0,1286336580000.0,1286336880000.0,1286337180000.0,1286337480000.0,1286337780000.0,1286338080000.0,1286338380000.0,1286338680000.0,1286338980000.0,1286339280000.0,1286339580000.0,1286339880000.0,1286340180000.0,1286340480000.0,1286340780000.0,1286341080000.0,1286341380000.0,1286341680000.0,1286341980000.0,1286342280000.0,1286342580000.0,1286342880000.0,1286343180000.0,1286343480000.0,1286343780000.0,1286344080000.0,1286344380000.0,1286344680000.0,1286344980000.0,1286345280000.0,1286345580000.0,1286345880000.0,1286346180000.0,1286346480000.0,1286346780000.0,1286347080000.0,1286347380000.0,1286347680000.0,1286347980000.0,1286348280000.0,1286348580000.0,1286348880000.0,1286349180000.0,1286349480000.0,1286349780000.0,1286350080000.0,1286350380000.0,1286350680000.0,1286350980000.0,1286351280000.0,1286351580000.0,1286351880000.0,1286352180000.0,1286352480000.0,1286352780000.0,1286353080000.0,1286353380000.0,1286353680000.0,1286353980000.0,1286354280000.0,1286354580000.0,1286354880000.0,1286355180000.0,1286355480000.0,1286355780000.0,1286356080000.0,1286356380000.0,1286356680000.0,1286356980000.0,1286357280000.0,1286357580000.0,1286357880000.0,1286358180000.0,1286358480000.0,1286358780000.0,1286359080000.0,1286359380000.0,1286359680000.0,1286359980000.0,1286360280000.0,1286360580000.0,1286360880000.0,1286361180000.0,1286361480000.0,1286361780000.0,1286362080000.0,1286362380000.0,1286362680000.0,1286362980000.0,1286363280000.0,1286363580000.0,1286363880000.0,1286364180000.0,1286364480000.0,1286364780000.0,1286365080000.0,1286365380000.0,1286365680000.0,1286365980000.0,1286366280000.0,1286366580000.0,1286366880000.0,1286367180000.0,1286367480000.0,1286367780000.0,1286368080000.0,1286368380000.0,1286368680000.0,1286368980000.0,1286369280000.0,1286369580000.0,1286369880000.0,1286370180000.0,1286370480000.0,1286370780000.0,1286371080000.0,1286371380000.0,1286371680000.0,1286371980000.0,1286372280000.0,1286372580000.0,1286372880000.0,1286373180000.0,1286373480000.0,1286373780000.0,1286374080000.0,1286374380000.0,1286374680000.0,1286374980000.0,1286375280000.0,1286375580000.0,1286375880000.0,1286376180000.0,1286376480000.0,1286376780000.0,1286377080000.0,1286377380000.0,1286377680000.0,1286377980000.0,1286378280000.0,1286378580000.0,1286378880000.0,1286379180000.0,1286379480000.0,1286379780000.0,1286380080000.0,1286380380000.0,1286380680000.0,1286380980000.0,1286381280000.0,1286381580000.0,1286381880000.0,1286382180000.0,1286382480000.0,1286382780000.0,1286383080000.0,1286383380000.0,1286383680000.0,1286383980000.0,1286384280000.0,1286384580000.0,1286384880000.0,1286385180000.0,1286385480000.0,1286385780000.0,1286386080000.0,1286386380000.0,1286386680000.0,1286386980000.0,1286387280000.0,1286387580000.0,1286387880000.0,1286388180000.0,1286388480000.0,1286388780000.0,1286389080000.0,1286389380000.0,1286389680000.0,1286389980000.0,1286390280000.0,1286390580000.0,1286390880000.0,1286391180000.0,1286391480000.0,1286391780000.0,1286392080000.0,1286392380000.0,1286392680000.0,1286392980000.0,1286393280000.0,1286393580000.0,1286393880000.0,1286394180000.0,1286394480000.0,1286394780000.0,1286395080000.0,1286395380000.0,1286395680000.0,1286395980000.0,1286396280000.0,1286396580000.0,1286396880000.0,1286397180000.0,1286397480000.0,1286397780000.0,1286398080000.0,1286398380000.0,1286398680000.0,1286398980000.0,1286399280000.0,1286399580000.0,1286399880000.0,1286400180000.0,1286400480000.0,1286400780000.0,1286401080000.0,1286401380000.0,1286401680000.0,1286401980000.0,1286402280000.0,1286402580000.0,1286402880000.0,1286403180000.0,1286403480000.0,1286403780000.0,1286404080000.0,1286404380000.0,1286404680000.0,1286404980000.0,1286405280000.0,1286405580000.0,1286405880000.0,1286406180000.0,1286406480000.0,1286406780000.0,1286407080000.0,1286407380000.0,1286407680000.0,1286407980000.0,1286408280000.0,1286408580000.0,1286408880000.0,1286409180000.0,1286409480000.0],\"y\":[143,147,150,152,152,152,154,155,142,140,138,134,131,130,128,127,126,126,126,126,127,129,131,132,134,136,136,136,136,135,134,132,130,130,130,129,128,127,125,124,123,123,122,121,120,118,115,112,111,111,110,110,109,108,107,107,107,108,107,105,105,105,105,104,103,102,99,97,96,94,94,93,93,92,91,92,94,95,96,97,99,102,104,112,112,112,111,110,107,104,105,105,103,99,96,94,95,102,114,128,144,160,173,185,196,205,209,214,219,226,234,241,248,255,260,265,268,270,272,271,271,268,265,261,256,253,250,246,244,241,237,233,229,225,222,204,200,197,193,190,186,182,179,175,171,168,164,158,154,151,148,145,141,133,139,152,173,196,217,233,244,249,250,253,256,260,263,265,265,264,260,254,246,234,217,200,188,181,175,169,164,159,154,147,138,132,129,127,123,117,111,106,104,103,100,94,88,83,78,75,73,71,69,68,67,67,68,70,71,71,70,69,68,67,67,67,66,67,69,71,74,76,78,80,80,80,80,80,80,82,84,87,90,92,87,87,86,86,86,86,87,87,87,85,83,82,83,87,95,107,118,130,141,149,172,179,187,201,214,221,225,230,232,230,223,216,208,199,191,185,181,177,176,177,176,173,171,169,163,154,152,153,154,154,153,151,150,150]}},\"id\":\"977c7f8e-a54e-4b1d-a98c-f32f0251d4d7\",\"type\":\"ColumnDataSource\"},{\"attributes\":{\"callback\":null,\"mode\":\"hline\",\"plot\":{\"id\":\"0482f3bf-2594-49c3-a625-08ea9f7e88b2\",\"subtype\":\"Figure\",\"type\":\"Plot\"},\"renderers\":[{\"id\":\"c8ad0404-1cbe-4716-a844-4aece89c2ae3\",\"type\":\"GlyphRenderer\"}],\"tooltips\":null},\"id\":\"2b600e49-93e3-4507-94f1-8435313a3cdd\",\"type\":\"HoverTool\"},{\"attributes\":{\"num_minor_ticks\":5},\"id\":\"70e6f5e4-5f46-46e4-baf4-c347989e6573\",\"type\":\"DatetimeTicker\"},{\"attributes\":{\"plot\":null,\"text\":\"Hover over points\"},\"id\":\"4db79670-4f3f-4198-a51d-2b8c4f1b3fe3\",\"type\":\"Title\"},{\"attributes\":{\"base\":60,\"mantissas\":[1,2,5,10,15,20,30],\"max_interval\":1800000.0,\"min_interval\":1000.0,\"num_minor_ticks\":0},\"id\":\"6e4b420c-bd91-4319-ba0c-1003682eabbe\",\"type\":\"AdaptiveTicker\"},{\"attributes\":{\"callback\":null,\"column_names\":[\"x\",\"y\"],\"data\":{\"x\":[1286323380000.0,1286323680000.0,1286323980000.0,1286324280000.0,1286324580000.0,1286324880000.0,1286325180000.0,1286325480000.0,1286325780000.0,1286326080000.0,1286326380000.0,1286326680000.0,1286326980000.0,1286327280000.0,1286327580000.0,1286327880000.0,1286328180000.0,1286328480000.0,1286328780000.0,1286329080000.0,1286329380000.0,1286329680000.0,1286329980000.0,1286330280000.0,1286330580000.0,1286330880000.0,1286331180000.0,1286331480000.0,1286331780000.0,1286332080000.0,1286332380000.0,1286332680000.0,1286332980000.0,1286333280000.0,1286333580000.0,1286333880000.0,1286334180000.0,1286334480000.0,1286334780000.0,1286335080000.0,1286335380000.0,1286335680000.0,1286335980000.0,1286336280000.0,1286336580000.0,1286336880000.0,1286337180000.0,1286337480000.0,1286337780000.0,1286338080000.0,1286338380000.0,1286338680000.0,1286338980000.0,1286339280000.0,1286339580000.0,1286339880000.0,1286340180000.0,1286340480000.0,1286340780000.0,1286341080000.0,1286341380000.0,1286341680000.0,1286341980000.0,1286342280000.0,1286342580000.0,1286342880000.0,1286343180000.0,1286343480000.0,1286343780000.0,1286344080000.0,1286344380000.0,1286344680000.0,1286344980000.0,1286345280000.0,1286345580000.0,1286345880000.0,1286346180000.0,1286346480000.0,1286346780000.0,1286347080000.0,1286347380000.0,1286347680000.0,1286347980000.0,1286348280000.0,1286348580000.0,1286348880000.0,1286349180000.0,1286349480000.0,1286349780000.0,1286350080000.0,1286350380000.0,1286350680000.0,1286350980000.0,1286351280000.0,1286351580000.0,1286351880000.0,1286352180000.0,1286352480000.0,1286352780000.0,1286353080000.0,1286353380000.0,1286353680000.0,1286353980000.0,1286354280000.0,1286354580000.0,1286354880000.0,1286355180000.0,1286355480000.0,1286355780000.0,1286356080000.0,1286356380000.0,1286356680000.0,1286356980000.0,1286357280000.0,1286357580000.0,1286357880000.0,1286358180000.0,1286358480000.0,1286358780000.0,1286359080000.0,1286359380000.0,1286359680000.0,1286359980000.0,1286360280000.0,1286360580000.0,1286360880000.0,1286361180000.0,1286361480000.0,1286361780000.0,1286362080000.0,1286362380000.0,1286362680000.0,1286362980000.0,1286363280000.0,1286363580000.0,1286363880000.0,1286364180000.0,1286364480000.0,1286364780000.0,1286365080000.0,1286365380000.0,1286365680000.0,1286365980000.0,1286366280000.0,1286366580000.0,1286366880000.0,1286367180000.0,1286367480000.0,1286367780000.0,1286368080000.0,1286368380000.0,1286368680000.0,1286368980000.0,1286369280000.0,1286369580000.0,1286369880000.0,1286370180000.0,1286370480000.0,1286370780000.0,1286371080000.0,1286371380000.0,1286371680000.0,1286371980000.0,1286372280000.0,1286372580000.0,1286372880000.0,1286373180000.0,1286373480000.0,1286373780000.0,1286374080000.0,1286374380000.0,1286374680000.0,1286374980000.0,1286375280000.0,1286375580000.0,1286375880000.0,1286376180000.0,1286376480000.0,1286376780000.0,1286377080000.0,1286377380000.0,1286377680000.0,1286377980000.0,1286378280000.0,1286378580000.0,1286378880000.0,1286379180000.0,1286379480000.0,1286379780000.0,1286380080000.0,1286380380000.0,1286380680000.0,1286380980000.0,1286381280000.0,1286381580000.0,1286381880000.0,1286382180000.0,1286382480000.0,1286382780000.0,1286383080000.0,1286383380000.0,1286383680000.0,1286383980000.0,1286384280000.0,1286384580000.0,1286384880000.0,1286385180000.0,1286385480000.0,1286385780000.0,1286386080000.0,1286386380000.0,1286386680000.0,1286386980000.0,1286387280000.0,1286387580000.0,1286387880000.0,1286388180000.0,1286388480000.0,1286388780000.0,1286389080000.0,1286389380000.0,1286389680000.0,1286389980000.0,1286390280000.0,1286390580000.0,1286390880000.0,1286391180000.0,1286391480000.0,1286391780000.0,1286392080000.0,1286392380000.0,1286392680000.0,1286392980000.0,1286393280000.0,1286393580000.0,1286393880000.0,1286394180000.0,1286394480000.0,1286394780000.0,1286395080000.0,1286395380000.0,1286395680000.0,1286395980000.0,1286396280000.0,1286396580000.0,1286396880000.0,1286397180000.0,1286397480000.0,1286397780000.0,1286398080000.0,1286398380000.0,1286398680000.0,1286398980000.0,1286399280000.0,1286399580000.0,1286399880000.0,1286400180000.0,1286400480000.0,1286400780000.0,1286401080000.0,1286401380000.0,1286401680000.0,1286401980000.0,1286402280000.0,1286402580000.0,1286402880000.0,1286403180000.0,1286403480000.0,1286403780000.0,1286404080000.0,1286404380000.0,1286404680000.0,1286404980000.0,1286405280000.0,1286405580000.0,1286405880000.0,1286406180000.0,1286406480000.0,1286406780000.0,1286407080000.0,1286407380000.0,1286407680000.0,1286407980000.0,1286408280000.0,1286408580000.0,1286408880000.0,1286409180000.0,1286409480000.0],\"y\":[143,147,150,152,152,152,154,155,142,140,138,134,131,130,128,127,126,126,126,126,127,129,131,132,134,136,136,136,136,135,134,132,130,130,130,129,128,127,125,124,123,123,122,121,120,118,115,112,111,111,110,110,109,108,107,107,107,108,107,105,105,105,105,104,103,102,99,97,96,94,94,93,93,92,91,92,94,95,96,97,99,102,104,112,112,112,111,110,107,104,105,105,103,99,96,94,95,102,114,128,144,160,173,185,196,205,209,214,219,226,234,241,248,255,260,265,268,270,272,271,271,268,265,261,256,253,250,246,244,241,237,233,229,225,222,204,200,197,193,190,186,182,179,175,171,168,164,158,154,151,148,145,141,133,139,152,173,196,217,233,244,249,250,253,256,260,263,265,265,264,260,254,246,234,217,200,188,181,175,169,164,159,154,147,138,132,129,127,123,117,111,106,104,103,100,94,88,83,78,75,73,71,69,68,67,67,68,70,71,71,70,69,68,67,67,67,66,67,69,71,74,76,78,80,80,80,80,80,80,82,84,87,90,92,87,87,86,86,86,86,87,87,87,85,83,82,83,87,95,107,118,130,141,149,172,179,187,201,214,221,225,230,232,230,223,216,208,199,191,185,181,177,176,177,176,173,171,169,163,154,152,153,154,154,153,151,150,150]}},\"id\":\"b50a701c-31c6-4958-aede-e40aa87e00f5\",\"type\":\"ColumnDataSource\"},{\"attributes\":{\"line_alpha\":{\"value\":0.1},\"line_color\":{\"value\":\"#1f77b4\"},\"line_dash\":[4,4],\"x\":{\"field\":\"x\"},\"y\":{\"field\":\"y\"}},\"id\":\"3b394c62-ad97-4b26-8d7a-942973736723\",\"type\":\"Line\"},{\"attributes\":{\"data_source\":{\"id\":\"977c7f8e-a54e-4b1d-a98c-f32f0251d4d7\",\"type\":\"ColumnDataSource\"},\"glyph\":{\"id\":\"422101f4-1b4a-4537-8cb1-cec1e2f3c6b4\",\"type\":\"Circle\"},\"hover_glyph\":{\"id\":\"bdd56c80-a843-4fe9-9b27-20fbd02d4b77\",\"type\":\"Circle\"},\"nonselection_glyph\":{\"id\":\"b734dd53-e2a8-41cd-ab02-3d4418175757\",\"type\":\"Circle\"},\"selection_glyph\":null},\"id\":\"c8ad0404-1cbe-4716-a844-4aece89c2ae3\",\"type\":\"GlyphRenderer\"},{\"attributes\":{},\"id\":\"27a1ba26-b134-4913-ba85-50cf206a8e39\",\"type\":\"BasicTicker\"}],\"root_ids\":[\"0482f3bf-2594-49c3-a625-08ea9f7e88b2\"]},\"title\":\"Bokeh Application\",\"version\":\"0.12.0\"}};\n",
       "            var render_items = [{\"docid\":\"858c07cd-4526-444b-9807-652ef94bc0bc\",\"elementid\":\"6a82050f-9588-43a3-9ce9-b046879dd4e5\",\"modelid\":\"0482f3bf-2594-49c3-a625-08ea9f7e88b2\",\"notebook_comms_target\":\"2ca4e210-8968-4875-9c93-ab8d1d1081af\"}];\n",
       "            \n",
       "            Bokeh.embed.embed_items(docs_json, render_items);\n",
       "        });\n",
       "      },\n",
       "      function(Bokeh) {\n",
       "      }\n",
       "    ];\n",
       "  \n",
       "    function run_inline_js() {\n",
       "      for (var i = 0; i < inline_js.length; i++) {\n",
       "        inline_js[i](window.Bokeh);\n",
       "      }\n",
       "    }\n",
       "  \n",
       "    if (window._bokeh_is_loading === 0) {\n",
       "      console.log(\"Bokeh: BokehJS loaded, going straight to plotting\");\n",
       "      run_inline_js();\n",
       "    } else {\n",
       "      load_libs(js_urls, function() {\n",
       "        console.log(\"Bokeh: BokehJS plotting callback run at\", now());\n",
       "        run_inline_js();\n",
       "      });\n",
       "    }\n",
       "  }(this));\n",
       "</script>"
      ]
     },
     "metadata": {},
     "output_type": "display_data"
    },
    {
     "data": {
      "text/html": [
       "<p><code>&lt;Bokeh Notebook handle for <strong>In[7]</strong>&gt;</code></p>"
      ],
      "text/plain": [
       "<bokeh.io._CommsHandle at 0x10eab1080>"
      ]
     },
     "execution_count": 7,
     "metadata": {},
     "output_type": "execute_result"
    }
   ],
   "source": [
    "from bokeh.models.tools import HoverTool\n",
    "from bokeh.sampledata.glucose import data\n",
    "\n",
    "subset = data.ix['2010-10-06']\n",
    "\n",
    "x, y = subset.index.to_series(), subset['glucose']\n",
    "\n",
    "# Basic plot setup\n",
    "p = figure(width=600, height=300, x_axis_type=\"datetime\", tools=\"\",\n",
    "              toolbar_location=None, title='Hover over points')\n",
    "\n",
    "p.line(x, y, line_dash=\"4 4\", line_width=1, color='gray')\n",
    "\n",
    "cr = p.circle(x, y, size=20,\n",
    "              fill_color=\"grey\", hover_fill_color=\"firebrick\",\n",
    "              fill_alpha=0.05, hover_alpha=0.3,\n",
    "              line_color=None, hover_line_color=\"white\")\n",
    "\n",
    "p.add_tools(HoverTool(tooltips=None, renderers=[cr], mode='hline'))\n",
    "\n",
    "show(p)"
   ]
  },
  {
   "cell_type": "code",
   "execution_count": 8,
   "metadata": {
    "collapsed": true
   },
   "outputs": [],
   "source": [
    "# EXERCISE: experiment with standard, selected, hover glyph visual properties\n"
   ]
  },
  {
   "cell_type": "markdown",
   "metadata": {},
   "source": [
    "# Axes\n",
    "\n",
    "[Axes](http://bokeh.pydata.org/en/latest/docs/user_guide/styling.html#axes)\n",
    "\n",
    "To style axes, you first must get ahold of `Axis` objects. The simplest way is to use some convenience methods on `Plot`: [axis](http://bokeh.pydata.org/en/latest/docs/reference/plotting.html#bokeh.plotting.Figure.axis), [xaxis](http://bokeh.pydata.org/en/latest/docs/reference/plotting.html#bokeh.plotting.Figure.xaxis), and [yaxis](http://bokeh.pydata.org/en/latest/docs/reference/plotting.html#bokeh.plotting.Figure.yaxis). These methods return lists of axis objects:\n",
    "\n",
    "```\n",
    ">>> p.xaxis\n",
    "[<bokeh.models.axes.LinearAxis at 0x106fa2390>]\n",
    "```\n",
    "However, you can set properties on all the elements of the list as if it was a single object:\n",
    "```\n",
    "p.xaxis.axis_label = \"Temperature\"\n",
    "p.axis.major_label_text_color = \"orange\"\n",
    "```\n",
    "These are referred to as \"splattable\" lists, and tab completion works on them as well. \n"
   ]
  },
  {
   "cell_type": "code",
   "execution_count": 9,
   "metadata": {
    "collapsed": true
   },
   "outputs": [],
   "source": [
    "# EXERCISE Try out tab completion. Type p.xaxis.<press tab key> to see a list of attributes that can be set.\n",
    "\n"
   ]
  },
  {
   "cell_type": "markdown",
   "metadata": {},
   "source": [
    "* **axis** \n",
    " - [line properties](http://bokeh.pydata.org/en/latest/docs/user_guide/styling.html#line-properties)\n",
    "* **axis_label** \n",
    " - [text properties](http://bokeh.pydata.org/en/latest/docs/user_guide/styling.html#text-properties)\n",
    " - ``axis_label_standoff``\n",
    "* **major_label** \n",
    " - [text properties](http://bokeh.pydata.org/en/latest/docs/user_guide/styling.html#text-properties)\n",
    " - ``orientation``\n",
    "* **major_tick** \n",
    " - [line_properties](http://bokeh.pydata.org/en/latest/docs/user_guide/styling.html#line-properties)\n",
    " - ``major_tick_in`` \n",
    " - ``major_tick_out``\n",
    "* **minor_tick** \n",
    " - [line properties](http://bokeh.pydata.org/en/latest/docs/user_guide/styling.html#line-properties)\n",
    " - ``minor_tick_in``\n",
    " - ``minor_tick_out``\n",
    "\n",
    "As a simple first example, let's change the orientation of the major tick labels on both axes of a plot:"
   ]
  },
  {
   "cell_type": "code",
   "execution_count": 10,
   "metadata": {
    "collapsed": false
   },
   "outputs": [
    {
     "data": {
      "text/html": [
       "\n",
       "\n",
       "    <div class=\"bk-root\">\n",
       "        <div class=\"plotdiv\" id=\"b0652a1f-189c-42ba-bb3e-aeb3c1f2f412\"></div>\n",
       "    </div>\n",
       "<script type=\"text/javascript\">\n",
       "  \n",
       "  (function(global) {\n",
       "    function now() {\n",
       "      return new Date();\n",
       "    }\n",
       "  \n",
       "    if (typeof (window._bokeh_onload_callbacks) === \"undefined\") {\n",
       "      window._bokeh_onload_callbacks = [];\n",
       "    }\n",
       "  \n",
       "    function run_callbacks() {\n",
       "      window._bokeh_onload_callbacks.forEach(function(callback) { callback() });\n",
       "      delete window._bokeh_onload_callbacks\n",
       "      console.info(\"Bokeh: all callbacks have finished\");\n",
       "    }\n",
       "  \n",
       "    function load_libs(js_urls, callback) {\n",
       "      window._bokeh_onload_callbacks.push(callback);\n",
       "      if (window._bokeh_is_loading > 0) {\n",
       "        console.log(\"Bokeh: BokehJS is being loaded, scheduling callback at\", now());\n",
       "        return null;\n",
       "      }\n",
       "      if (js_urls == null || js_urls.length === 0) {\n",
       "        run_callbacks();\n",
       "        return null;\n",
       "      }\n",
       "      console.log(\"Bokeh: BokehJS not loaded, scheduling load and callback at\", now());\n",
       "      window._bokeh_is_loading = js_urls.length;\n",
       "      for (var i = 0; i < js_urls.length; i++) {\n",
       "        var url = js_urls[i];\n",
       "        var s = document.createElement('script');\n",
       "        s.src = url;\n",
       "        s.async = false;\n",
       "        s.onreadystatechange = s.onload = function() {\n",
       "          window._bokeh_is_loading--;\n",
       "          if (window._bokeh_is_loading === 0) {\n",
       "            console.log(\"Bokeh: all BokehJS libraries loaded\");\n",
       "            run_callbacks()\n",
       "          }\n",
       "        };\n",
       "        s.onerror = function() {\n",
       "          console.warn(\"failed to load library \" + url);\n",
       "        };\n",
       "        console.log(\"Bokeh: injecting script tag for BokehJS library: \", url);\n",
       "        document.getElementsByTagName(\"head\")[0].appendChild(s);\n",
       "      }\n",
       "    };var element = document.getElementById(\"b0652a1f-189c-42ba-bb3e-aeb3c1f2f412\");\n",
       "    if (element == null) {\n",
       "      console.log(\"Bokeh: ERROR: autoload.js configured with elementid 'b0652a1f-189c-42ba-bb3e-aeb3c1f2f412' but no matching script tag was found. \")\n",
       "      return false;\n",
       "    }\n",
       "  \n",
       "    var js_urls = [];\n",
       "  \n",
       "    var inline_js = [\n",
       "      function(Bokeh) {\n",
       "        Bokeh.$(function() {\n",
       "            var docs_json = {\"4d91ee8f-b93b-49af-a446-c36c3b24dbc1\":{\"roots\":{\"references\":[{\"attributes\":{},\"id\":\"6915d4ed-f22b-49a8-8ccf-4ae587fe747e\",\"type\":\"BasicTickFormatter\"},{\"attributes\":{\"plot\":{\"id\":\"00a3643e-ceb3-49de-9c49-93820817c8c2\",\"subtype\":\"Figure\",\"type\":\"Plot\"}},\"id\":\"abf01ec1-8ff1-4f61-9267-03a8a9fc42a6\",\"type\":\"HelpTool\"},{\"attributes\":{\"active_drag\":\"auto\",\"active_scroll\":\"auto\",\"active_tap\":\"auto\",\"tools\":[{\"id\":\"923eb553-3484-4366-bb5e-2804bb870ffe\",\"type\":\"PanTool\"},{\"id\":\"1738cc7d-361f-4769-bf4d-ff1c66493c00\",\"type\":\"WheelZoomTool\"},{\"id\":\"3128979a-24be-461b-977b-5c9e8d363442\",\"type\":\"BoxZoomTool\"},{\"id\":\"082c81fb-eb65-4adc-b101-4c2e74e23df2\",\"type\":\"SaveTool\"},{\"id\":\"825b073e-dca0-4747-a67d-b8c894434f86\",\"type\":\"ResetTool\"},{\"id\":\"abf01ec1-8ff1-4f61-9267-03a8a9fc42a6\",\"type\":\"HelpTool\"}]},\"id\":\"caa376dd-984d-403b-b166-81d5726f1e03\",\"type\":\"Toolbar\"},{\"attributes\":{\"plot\":{\"id\":\"00a3643e-ceb3-49de-9c49-93820817c8c2\",\"subtype\":\"Figure\",\"type\":\"Plot\"}},\"id\":\"082c81fb-eb65-4adc-b101-4c2e74e23df2\",\"type\":\"SaveTool\"},{\"attributes\":{},\"id\":\"2b5c13f9-7604-482c-b2af-53da3234cb27\",\"type\":\"BasicTicker\"},{\"attributes\":{\"below\":[{\"id\":\"e702647f-9aa8-4c39-aeb4-febd2abcbd6b\",\"type\":\"LinearAxis\"}],\"left\":[{\"id\":\"7252adcc-f68d-4b04-bf95-00ca6a0f5474\",\"type\":\"LinearAxis\"}],\"plot_height\":400,\"plot_width\":400,\"renderers\":[{\"id\":\"e702647f-9aa8-4c39-aeb4-febd2abcbd6b\",\"type\":\"LinearAxis\"},{\"id\":\"ec0b5729-77d6-4823-bf19-7afe6df0ab0c\",\"type\":\"Grid\"},{\"id\":\"7252adcc-f68d-4b04-bf95-00ca6a0f5474\",\"type\":\"LinearAxis\"},{\"id\":\"abffdb7f-6635-4038-b38e-c4794cf905fd\",\"type\":\"Grid\"},{\"id\":\"e11246c9-4ef3-4f01-a4f7-95d652a8b6c6\",\"type\":\"BoxAnnotation\"},{\"id\":\"fd609fa7-1298-4f63-bcbf-42cddbd329df\",\"type\":\"GlyphRenderer\"}],\"title\":{\"id\":\"df5f469c-4588-4ec7-bc00-33a47f5a0771\",\"type\":\"Title\"},\"tool_events\":{\"id\":\"10f3ebc5-3360-471a-8093-c30cbea7a05f\",\"type\":\"ToolEvents\"},\"toolbar\":{\"id\":\"caa376dd-984d-403b-b166-81d5726f1e03\",\"type\":\"Toolbar\"},\"x_range\":{\"id\":\"4f7625b1-13c2-499c-9b84-76619c1bba63\",\"type\":\"DataRange1d\"},\"y_range\":{\"id\":\"0e750fae-7a36-4eb8-b478-a1f12393c663\",\"type\":\"DataRange1d\"}},\"id\":\"00a3643e-ceb3-49de-9c49-93820817c8c2\",\"subtype\":\"Figure\",\"type\":\"Plot\"},{\"attributes\":{\"plot\":null,\"text\":null},\"id\":\"df5f469c-4588-4ec7-bc00-33a47f5a0771\",\"type\":\"Title\"},{\"attributes\":{},\"id\":\"10f3ebc5-3360-471a-8093-c30cbea7a05f\",\"type\":\"ToolEvents\"},{\"attributes\":{\"callback\":null,\"column_names\":[\"y\",\"x\"],\"data\":{\"x\":[1,2,3,4,5],\"y\":[2,5,8,2,7]}},\"id\":\"a121b81a-0e54-44ea-86ee-af9c6078656f\",\"type\":\"ColumnDataSource\"},{\"attributes\":{\"plot\":{\"id\":\"00a3643e-ceb3-49de-9c49-93820817c8c2\",\"subtype\":\"Figure\",\"type\":\"Plot\"}},\"id\":\"923eb553-3484-4366-bb5e-2804bb870ffe\",\"type\":\"PanTool\"},{\"attributes\":{\"callback\":null},\"id\":\"4f7625b1-13c2-499c-9b84-76619c1bba63\",\"type\":\"DataRange1d\"},{\"attributes\":{\"formatter\":{\"id\":\"a5eda1b5-85c8-4d63-90aa-52b8657ca39f\",\"type\":\"BasicTickFormatter\"},\"major_label_orientation\":0.7853981633974483,\"plot\":{\"id\":\"00a3643e-ceb3-49de-9c49-93820817c8c2\",\"subtype\":\"Figure\",\"type\":\"Plot\"},\"ticker\":{\"id\":\"b6cb6d9d-ccb5-4886-8c3a-0bceb1d633f3\",\"type\":\"BasicTicker\"}},\"id\":\"e702647f-9aa8-4c39-aeb4-febd2abcbd6b\",\"type\":\"LinearAxis\"},{\"attributes\":{\"formatter\":{\"id\":\"6915d4ed-f22b-49a8-8ccf-4ae587fe747e\",\"type\":\"BasicTickFormatter\"},\"major_label_orientation\":\"vertical\",\"plot\":{\"id\":\"00a3643e-ceb3-49de-9c49-93820817c8c2\",\"subtype\":\"Figure\",\"type\":\"Plot\"},\"ticker\":{\"id\":\"2b5c13f9-7604-482c-b2af-53da3234cb27\",\"type\":\"BasicTicker\"}},\"id\":\"7252adcc-f68d-4b04-bf95-00ca6a0f5474\",\"type\":\"LinearAxis\"},{\"attributes\":{},\"id\":\"a5eda1b5-85c8-4d63-90aa-52b8657ca39f\",\"type\":\"BasicTickFormatter\"},{\"attributes\":{\"fill_alpha\":{\"value\":0.1},\"fill_color\":{\"value\":\"#1f77b4\"},\"line_alpha\":{\"value\":0.1},\"line_color\":{\"value\":\"#1f77b4\"},\"line_width\":{\"value\":2},\"size\":{\"units\":\"screen\",\"value\":10},\"x\":{\"field\":\"x\"},\"y\":{\"field\":\"y\"}},\"id\":\"3f4c9c6e-6334-400f-9c9d-d66acf0379a6\",\"type\":\"X\"},{\"attributes\":{},\"id\":\"b6cb6d9d-ccb5-4886-8c3a-0bceb1d633f3\",\"type\":\"BasicTicker\"},{\"attributes\":{\"fill_color\":{\"value\":\"#1f77b4\"},\"line_color\":{\"value\":\"#1f77b4\"},\"line_width\":{\"value\":2},\"size\":{\"units\":\"screen\",\"value\":10},\"x\":{\"field\":\"x\"},\"y\":{\"field\":\"y\"}},\"id\":\"0def4378-fc20-4019-b508-1027f371eb3e\",\"type\":\"X\"},{\"attributes\":{\"callback\":null},\"id\":\"0e750fae-7a36-4eb8-b478-a1f12393c663\",\"type\":\"DataRange1d\"},{\"attributes\":{\"plot\":{\"id\":\"00a3643e-ceb3-49de-9c49-93820817c8c2\",\"subtype\":\"Figure\",\"type\":\"Plot\"},\"ticker\":{\"id\":\"b6cb6d9d-ccb5-4886-8c3a-0bceb1d633f3\",\"type\":\"BasicTicker\"}},\"id\":\"ec0b5729-77d6-4823-bf19-7afe6df0ab0c\",\"type\":\"Grid\"},{\"attributes\":{\"bottom_units\":\"screen\",\"fill_alpha\":{\"value\":0.5},\"fill_color\":{\"value\":\"lightgrey\"},\"left_units\":\"screen\",\"level\":\"overlay\",\"line_alpha\":{\"value\":1.0},\"line_color\":{\"value\":\"black\"},\"line_dash\":[4,4],\"line_width\":{\"value\":2},\"plot\":null,\"render_mode\":\"css\",\"right_units\":\"screen\",\"top_units\":\"screen\"},\"id\":\"e11246c9-4ef3-4f01-a4f7-95d652a8b6c6\",\"type\":\"BoxAnnotation\"},{\"attributes\":{\"data_source\":{\"id\":\"a121b81a-0e54-44ea-86ee-af9c6078656f\",\"type\":\"ColumnDataSource\"},\"glyph\":{\"id\":\"0def4378-fc20-4019-b508-1027f371eb3e\",\"type\":\"X\"},\"hover_glyph\":null,\"nonselection_glyph\":{\"id\":\"3f4c9c6e-6334-400f-9c9d-d66acf0379a6\",\"type\":\"X\"},\"selection_glyph\":null},\"id\":\"fd609fa7-1298-4f63-bcbf-42cddbd329df\",\"type\":\"GlyphRenderer\"},{\"attributes\":{\"overlay\":{\"id\":\"e11246c9-4ef3-4f01-a4f7-95d652a8b6c6\",\"type\":\"BoxAnnotation\"},\"plot\":{\"id\":\"00a3643e-ceb3-49de-9c49-93820817c8c2\",\"subtype\":\"Figure\",\"type\":\"Plot\"}},\"id\":\"3128979a-24be-461b-977b-5c9e8d363442\",\"type\":\"BoxZoomTool\"},{\"attributes\":{\"dimension\":1,\"plot\":{\"id\":\"00a3643e-ceb3-49de-9c49-93820817c8c2\",\"subtype\":\"Figure\",\"type\":\"Plot\"},\"ticker\":{\"id\":\"2b5c13f9-7604-482c-b2af-53da3234cb27\",\"type\":\"BasicTicker\"}},\"id\":\"abffdb7f-6635-4038-b38e-c4794cf905fd\",\"type\":\"Grid\"},{\"attributes\":{\"plot\":{\"id\":\"00a3643e-ceb3-49de-9c49-93820817c8c2\",\"subtype\":\"Figure\",\"type\":\"Plot\"}},\"id\":\"825b073e-dca0-4747-a67d-b8c894434f86\",\"type\":\"ResetTool\"},{\"attributes\":{\"plot\":{\"id\":\"00a3643e-ceb3-49de-9c49-93820817c8c2\",\"subtype\":\"Figure\",\"type\":\"Plot\"}},\"id\":\"1738cc7d-361f-4769-bf4d-ff1c66493c00\",\"type\":\"WheelZoomTool\"}],\"root_ids\":[\"00a3643e-ceb3-49de-9c49-93820817c8c2\"]},\"title\":\"Bokeh Application\",\"version\":\"0.12.0\"}};\n",
       "            var render_items = [{\"docid\":\"4d91ee8f-b93b-49af-a446-c36c3b24dbc1\",\"elementid\":\"b0652a1f-189c-42ba-bb3e-aeb3c1f2f412\",\"modelid\":\"00a3643e-ceb3-49de-9c49-93820817c8c2\",\"notebook_comms_target\":\"8ad07319-3070-4d2c-9414-9f4908e6747a\"}];\n",
       "            \n",
       "            Bokeh.embed.embed_items(docs_json, render_items);\n",
       "        });\n",
       "      },\n",
       "      function(Bokeh) {\n",
       "      }\n",
       "    ];\n",
       "  \n",
       "    function run_inline_js() {\n",
       "      for (var i = 0; i < inline_js.length; i++) {\n",
       "        inline_js[i](window.Bokeh);\n",
       "      }\n",
       "    }\n",
       "  \n",
       "    if (window._bokeh_is_loading === 0) {\n",
       "      console.log(\"Bokeh: BokehJS loaded, going straight to plotting\");\n",
       "      run_inline_js();\n",
       "    } else {\n",
       "      load_libs(js_urls, function() {\n",
       "        console.log(\"Bokeh: BokehJS plotting callback run at\", now());\n",
       "        run_inline_js();\n",
       "      });\n",
       "    }\n",
       "  }(this));\n",
       "</script>"
      ]
     },
     "metadata": {},
     "output_type": "display_data"
    },
    {
     "data": {
      "text/html": [
       "<p><code>&lt;Bokeh Notebook handle for <strong>In[10]</strong>&gt;</code></p>"
      ],
      "text/plain": [
       "<bokeh.io._CommsHandle at 0x10eac7128>"
      ]
     },
     "execution_count": 10,
     "metadata": {},
     "output_type": "execute_result"
    }
   ],
   "source": [
    "from math import pi\n",
    "\n",
    "p = figure(plot_width=400, plot_height=400)\n",
    "p.x([1,2,3,4,5], [2,5,8,2,7], size=10, line_width=2)\n",
    "\n",
    "p.xaxis.major_label_orientation = pi/4\n",
    "p.yaxis.major_label_orientation = \"vertical\"\n",
    "\n",
    "show(p)"
   ]
  },
  {
   "cell_type": "markdown",
   "metadata": {},
   "source": [
    "The next example shows customizations on several of the different Axis properties at once:"
   ]
  },
  {
   "cell_type": "code",
   "execution_count": 11,
   "metadata": {
    "collapsed": false
   },
   "outputs": [
    {
     "data": {
      "text/html": [
       "\n",
       "\n",
       "    <div class=\"bk-root\">\n",
       "        <div class=\"plotdiv\" id=\"d067e143-6322-4250-aff8-258def06e894\"></div>\n",
       "    </div>\n",
       "<script type=\"text/javascript\">\n",
       "  \n",
       "  (function(global) {\n",
       "    function now() {\n",
       "      return new Date();\n",
       "    }\n",
       "  \n",
       "    if (typeof (window._bokeh_onload_callbacks) === \"undefined\") {\n",
       "      window._bokeh_onload_callbacks = [];\n",
       "    }\n",
       "  \n",
       "    function run_callbacks() {\n",
       "      window._bokeh_onload_callbacks.forEach(function(callback) { callback() });\n",
       "      delete window._bokeh_onload_callbacks\n",
       "      console.info(\"Bokeh: all callbacks have finished\");\n",
       "    }\n",
       "  \n",
       "    function load_libs(js_urls, callback) {\n",
       "      window._bokeh_onload_callbacks.push(callback);\n",
       "      if (window._bokeh_is_loading > 0) {\n",
       "        console.log(\"Bokeh: BokehJS is being loaded, scheduling callback at\", now());\n",
       "        return null;\n",
       "      }\n",
       "      if (js_urls == null || js_urls.length === 0) {\n",
       "        run_callbacks();\n",
       "        return null;\n",
       "      }\n",
       "      console.log(\"Bokeh: BokehJS not loaded, scheduling load and callback at\", now());\n",
       "      window._bokeh_is_loading = js_urls.length;\n",
       "      for (var i = 0; i < js_urls.length; i++) {\n",
       "        var url = js_urls[i];\n",
       "        var s = document.createElement('script');\n",
       "        s.src = url;\n",
       "        s.async = false;\n",
       "        s.onreadystatechange = s.onload = function() {\n",
       "          window._bokeh_is_loading--;\n",
       "          if (window._bokeh_is_loading === 0) {\n",
       "            console.log(\"Bokeh: all BokehJS libraries loaded\");\n",
       "            run_callbacks()\n",
       "          }\n",
       "        };\n",
       "        s.onerror = function() {\n",
       "          console.warn(\"failed to load library \" + url);\n",
       "        };\n",
       "        console.log(\"Bokeh: injecting script tag for BokehJS library: \", url);\n",
       "        document.getElementsByTagName(\"head\")[0].appendChild(s);\n",
       "      }\n",
       "    };var element = document.getElementById(\"d067e143-6322-4250-aff8-258def06e894\");\n",
       "    if (element == null) {\n",
       "      console.log(\"Bokeh: ERROR: autoload.js configured with elementid 'd067e143-6322-4250-aff8-258def06e894' but no matching script tag was found. \")\n",
       "      return false;\n",
       "    }\n",
       "  \n",
       "    var js_urls = [];\n",
       "  \n",
       "    var inline_js = [\n",
       "      function(Bokeh) {\n",
       "        Bokeh.$(function() {\n",
       "            var docs_json = {\"cfa24427-bd6e-467d-9d2a-df90747dfce7\":{\"roots\":{\"references\":[{\"attributes\":{\"callback\":null},\"id\":\"885fd364-6862-41ca-bccb-4ca847fe40e2\",\"type\":\"DataRange1d\"},{\"attributes\":{\"fill_color\":{\"value\":\"olive\"},\"line_color\":{\"value\":\"olive\"},\"size\":{\"units\":\"screen\",\"value\":12},\"x\":{\"field\":\"x\"},\"y\":{\"field\":\"y\"}},\"id\":\"9a6d650e-29cf-4809-a597-d8592633fa3c\",\"type\":\"Asterisk\"},{\"attributes\":{\"plot\":{\"id\":\"509f71b4-20eb-4afa-bae8-d68ea2c50705\",\"subtype\":\"Figure\",\"type\":\"Plot\"}},\"id\":\"f20665c1-ef1f-41b7-afb2-0695fa5e0295\",\"type\":\"HelpTool\"},{\"attributes\":{\"fill_alpha\":{\"value\":0.1},\"fill_color\":{\"value\":\"#1f77b4\"},\"line_alpha\":{\"value\":0.1},\"line_color\":{\"value\":\"#1f77b4\"},\"size\":{\"units\":\"screen\",\"value\":12},\"x\":{\"field\":\"x\"},\"y\":{\"field\":\"y\"}},\"id\":\"fb6e357b-8e4a-443a-8b70-d6241462b540\",\"type\":\"Asterisk\"},{\"attributes\":{\"overlay\":{\"id\":\"d2295a8f-4d17-4d52-97d5-c4363c437e73\",\"type\":\"BoxAnnotation\"},\"plot\":{\"id\":\"509f71b4-20eb-4afa-bae8-d68ea2c50705\",\"subtype\":\"Figure\",\"type\":\"Plot\"}},\"id\":\"ebdb8e95-9147-4e22-9af9-e9ab38dad173\",\"type\":\"BoxZoomTool\"},{\"attributes\":{},\"id\":\"2d4904fd-bb07-4c75-ab56-f6d139ac68d7\",\"type\":\"ToolEvents\"},{\"attributes\":{\"callback\":null,\"column_names\":[\"y\",\"x\"],\"data\":{\"x\":[1,2,3,4,5],\"y\":[2,5,8,2,7]}},\"id\":\"c527addb-96dd-40a1-b5c0-ccb64334c108\",\"type\":\"ColumnDataSource\"},{\"attributes\":{\"plot\":{\"id\":\"509f71b4-20eb-4afa-bae8-d68ea2c50705\",\"subtype\":\"Figure\",\"type\":\"Plot\"}},\"id\":\"2a4bb26f-2d2d-44c0-a8df-b06dfdac36eb\",\"type\":\"PanTool\"},{\"attributes\":{\"axis_label\":\"Pressure\",\"formatter\":{\"id\":\"cbb951ac-f4df-4ec1-a284-9a9f17b79a50\",\"type\":\"BasicTickFormatter\"},\"major_label_orientation\":\"vertical\",\"major_label_text_color\":{\"value\":\"orange\"},\"minor_tick_in\":-3,\"minor_tick_out\":6,\"plot\":{\"id\":\"509f71b4-20eb-4afa-bae8-d68ea2c50705\",\"subtype\":\"Figure\",\"type\":\"Plot\"},\"ticker\":{\"id\":\"f6f8eefd-0a3b-4f75-9a2f-9da56a4e3bbd\",\"type\":\"BasicTicker\"}},\"id\":\"5851af4e-dda0-4281-b9fd-2256b4e2ba4f\",\"type\":\"LinearAxis\"},{\"attributes\":{\"below\":[{\"id\":\"45fc78e8-cdec-417a-81cb-73a32cb76998\",\"type\":\"LinearAxis\"}],\"left\":[{\"id\":\"5851af4e-dda0-4281-b9fd-2256b4e2ba4f\",\"type\":\"LinearAxis\"}],\"plot_height\":400,\"plot_width\":400,\"renderers\":[{\"id\":\"45fc78e8-cdec-417a-81cb-73a32cb76998\",\"type\":\"LinearAxis\"},{\"id\":\"07355236-e812-46ff-a335-15e8a994593b\",\"type\":\"Grid\"},{\"id\":\"5851af4e-dda0-4281-b9fd-2256b4e2ba4f\",\"type\":\"LinearAxis\"},{\"id\":\"de15298a-ac6c-4649-b4ea-4c36254d974a\",\"type\":\"Grid\"},{\"id\":\"d2295a8f-4d17-4d52-97d5-c4363c437e73\",\"type\":\"BoxAnnotation\"},{\"id\":\"cd886565-caff-4075-b701-14f5c20016ae\",\"type\":\"GlyphRenderer\"}],\"title\":{\"id\":\"b7a5fb83-343c-4782-99fd-16341dd64aaa\",\"type\":\"Title\"},\"tool_events\":{\"id\":\"2d4904fd-bb07-4c75-ab56-f6d139ac68d7\",\"type\":\"ToolEvents\"},\"toolbar\":{\"id\":\"86456d35-b446-41bd-8e3e-9fac004cb7b2\",\"type\":\"Toolbar\"},\"x_range\":{\"id\":\"885fd364-6862-41ca-bccb-4ca847fe40e2\",\"type\":\"DataRange1d\"},\"y_range\":{\"id\":\"7e407871-f210-4fc2-ba6e-3f24aab0d5fa\",\"type\":\"DataRange1d\"}},\"id\":\"509f71b4-20eb-4afa-bae8-d68ea2c50705\",\"subtype\":\"Figure\",\"type\":\"Plot\"},{\"attributes\":{\"plot\":{\"id\":\"509f71b4-20eb-4afa-bae8-d68ea2c50705\",\"subtype\":\"Figure\",\"type\":\"Plot\"}},\"id\":\"b4758102-16c7-4749-b851-b5492d8ed6ec\",\"type\":\"WheelZoomTool\"},{\"attributes\":{},\"id\":\"cbb951ac-f4df-4ec1-a284-9a9f17b79a50\",\"type\":\"BasicTickFormatter\"},{\"attributes\":{\"data_source\":{\"id\":\"c527addb-96dd-40a1-b5c0-ccb64334c108\",\"type\":\"ColumnDataSource\"},\"glyph\":{\"id\":\"9a6d650e-29cf-4809-a597-d8592633fa3c\",\"type\":\"Asterisk\"},\"hover_glyph\":null,\"nonselection_glyph\":{\"id\":\"fb6e357b-8e4a-443a-8b70-d6241462b540\",\"type\":\"Asterisk\"},\"selection_glyph\":null},\"id\":\"cd886565-caff-4075-b701-14f5c20016ae\",\"type\":\"GlyphRenderer\"},{\"attributes\":{\"axis_label\":\"Temp\",\"axis_line_color\":{\"value\":\"red\"},\"axis_line_width\":{\"value\":3},\"formatter\":{\"id\":\"7f5c18b3-40f8-4e63-925e-1c9759750217\",\"type\":\"BasicTickFormatter\"},\"minor_tick_in\":-3,\"minor_tick_out\":6,\"plot\":{\"id\":\"509f71b4-20eb-4afa-bae8-d68ea2c50705\",\"subtype\":\"Figure\",\"type\":\"Plot\"},\"ticker\":{\"id\":\"6d3d83e6-1b11-4747-8283-12d4e276a493\",\"type\":\"BasicTicker\"}},\"id\":\"45fc78e8-cdec-417a-81cb-73a32cb76998\",\"type\":\"LinearAxis\"},{\"attributes\":{\"active_drag\":\"auto\",\"active_scroll\":\"auto\",\"active_tap\":\"auto\",\"tools\":[{\"id\":\"2a4bb26f-2d2d-44c0-a8df-b06dfdac36eb\",\"type\":\"PanTool\"},{\"id\":\"b4758102-16c7-4749-b851-b5492d8ed6ec\",\"type\":\"WheelZoomTool\"},{\"id\":\"ebdb8e95-9147-4e22-9af9-e9ab38dad173\",\"type\":\"BoxZoomTool\"},{\"id\":\"071669dd-eb61-423c-9881-aaaa2dee4d80\",\"type\":\"SaveTool\"},{\"id\":\"384bd02c-509f-4ac5-9ef6-f1c2c1ee9174\",\"type\":\"ResetTool\"},{\"id\":\"f20665c1-ef1f-41b7-afb2-0695fa5e0295\",\"type\":\"HelpTool\"}]},\"id\":\"86456d35-b446-41bd-8e3e-9fac004cb7b2\",\"type\":\"Toolbar\"},{\"attributes\":{\"plot\":{\"id\":\"509f71b4-20eb-4afa-bae8-d68ea2c50705\",\"subtype\":\"Figure\",\"type\":\"Plot\"},\"ticker\":{\"id\":\"6d3d83e6-1b11-4747-8283-12d4e276a493\",\"type\":\"BasicTicker\"}},\"id\":\"07355236-e812-46ff-a335-15e8a994593b\",\"type\":\"Grid\"},{\"attributes\":{},\"id\":\"7f5c18b3-40f8-4e63-925e-1c9759750217\",\"type\":\"BasicTickFormatter\"},{\"attributes\":{\"dimension\":1,\"plot\":{\"id\":\"509f71b4-20eb-4afa-bae8-d68ea2c50705\",\"subtype\":\"Figure\",\"type\":\"Plot\"},\"ticker\":{\"id\":\"f6f8eefd-0a3b-4f75-9a2f-9da56a4e3bbd\",\"type\":\"BasicTicker\"}},\"id\":\"de15298a-ac6c-4649-b4ea-4c36254d974a\",\"type\":\"Grid\"},{\"attributes\":{\"plot\":{\"id\":\"509f71b4-20eb-4afa-bae8-d68ea2c50705\",\"subtype\":\"Figure\",\"type\":\"Plot\"}},\"id\":\"384bd02c-509f-4ac5-9ef6-f1c2c1ee9174\",\"type\":\"ResetTool\"},{\"attributes\":{\"plot\":null,\"text\":null},\"id\":\"b7a5fb83-343c-4782-99fd-16341dd64aaa\",\"type\":\"Title\"},{\"attributes\":{\"callback\":null},\"id\":\"7e407871-f210-4fc2-ba6e-3f24aab0d5fa\",\"type\":\"DataRange1d\"},{\"attributes\":{},\"id\":\"6d3d83e6-1b11-4747-8283-12d4e276a493\",\"type\":\"BasicTicker\"},{\"attributes\":{},\"id\":\"f6f8eefd-0a3b-4f75-9a2f-9da56a4e3bbd\",\"type\":\"BasicTicker\"},{\"attributes\":{\"bottom_units\":\"screen\",\"fill_alpha\":{\"value\":0.5},\"fill_color\":{\"value\":\"lightgrey\"},\"left_units\":\"screen\",\"level\":\"overlay\",\"line_alpha\":{\"value\":1.0},\"line_color\":{\"value\":\"black\"},\"line_dash\":[4,4],\"line_width\":{\"value\":2},\"plot\":null,\"render_mode\":\"css\",\"right_units\":\"screen\",\"top_units\":\"screen\"},\"id\":\"d2295a8f-4d17-4d52-97d5-c4363c437e73\",\"type\":\"BoxAnnotation\"},{\"attributes\":{\"plot\":{\"id\":\"509f71b4-20eb-4afa-bae8-d68ea2c50705\",\"subtype\":\"Figure\",\"type\":\"Plot\"}},\"id\":\"071669dd-eb61-423c-9881-aaaa2dee4d80\",\"type\":\"SaveTool\"}],\"root_ids\":[\"509f71b4-20eb-4afa-bae8-d68ea2c50705\"]},\"title\":\"Bokeh Application\",\"version\":\"0.12.0\"}};\n",
       "            var render_items = [{\"docid\":\"cfa24427-bd6e-467d-9d2a-df90747dfce7\",\"elementid\":\"d067e143-6322-4250-aff8-258def06e894\",\"modelid\":\"509f71b4-20eb-4afa-bae8-d68ea2c50705\",\"notebook_comms_target\":\"0dc4809b-9cd0-4b03-99fc-f45b318dfbf3\"}];\n",
       "            \n",
       "            Bokeh.embed.embed_items(docs_json, render_items);\n",
       "        });\n",
       "      },\n",
       "      function(Bokeh) {\n",
       "      }\n",
       "    ];\n",
       "  \n",
       "    function run_inline_js() {\n",
       "      for (var i = 0; i < inline_js.length; i++) {\n",
       "        inline_js[i](window.Bokeh);\n",
       "      }\n",
       "    }\n",
       "  \n",
       "    if (window._bokeh_is_loading === 0) {\n",
       "      console.log(\"Bokeh: BokehJS loaded, going straight to plotting\");\n",
       "      run_inline_js();\n",
       "    } else {\n",
       "      load_libs(js_urls, function() {\n",
       "        console.log(\"Bokeh: BokehJS plotting callback run at\", now());\n",
       "        run_inline_js();\n",
       "      });\n",
       "    }\n",
       "  }(this));\n",
       "</script>"
      ]
     },
     "metadata": {},
     "output_type": "display_data"
    },
    {
     "data": {
      "text/html": [
       "<p><code>&lt;Bokeh Notebook handle for <strong>In[11]</strong>&gt;</code></p>"
      ],
      "text/plain": [
       "<bokeh.io._CommsHandle at 0x10eace0f0>"
      ]
     },
     "execution_count": 11,
     "metadata": {},
     "output_type": "execute_result"
    }
   ],
   "source": [
    "p = figure(plot_width=400, plot_height=400)\n",
    "p.asterisk([1,2,3,4,5], [2,5,8,2,7], size=12, color=\"olive\")\n",
    "\n",
    "# change just some things about the x-axes\n",
    "p.xaxis.axis_label = \"Temp\"\n",
    "p.xaxis.axis_line_width = 3\n",
    "p.xaxis.axis_line_color = \"red\"\n",
    "\n",
    "# change just some things about the y-axes\n",
    "p.yaxis.axis_label = \"Pressure\"\n",
    "p.yaxis.major_label_text_color = \"orange\"\n",
    "p.yaxis.major_label_orientation = \"vertical\"\n",
    "\n",
    "# change things on all axes\n",
    "p.axis.minor_tick_in = -3\n",
    "p.axis.minor_tick_out = 6\n",
    "\n",
    "show(p)"
   ]
  },
  {
   "cell_type": "code",
   "execution_count": 12,
   "metadata": {
    "collapsed": true
   },
   "outputs": [],
   "source": [
    "# EXERCISE Create a plot of your own and customize several axis properties\n",
    "\n"
   ]
  },
  {
   "cell_type": "markdown",
   "metadata": {},
   "source": [
    "There are further customizations possible. See the [User Guide](http://bokeh.pydata.org/en/latest/docs/user_guide.html) for more information on topics such as [tick label formatting](http://bokeh.pydata.org/en/latest/docs/user_guide/styling.html#tick-label-formats) or [limiting axis bounds](http://bokeh.pydata.org/en/latest/docs/user_guide/styling.html#bounds)."
   ]
  },
  {
   "cell_type": "markdown",
   "metadata": {},
   "source": [
    "# Grids\n",
    "\n",
    "[Grids](http://bokeh.pydata.org/en/latest/docs/user_guide/styling.html#grids)\n",
    "\n",
    "* **grid** [line properties](http://bokeh.pydata.org/en/latest/docs/user_guide/styling.html#line-properties)\n",
    "* **band** [fill properties]()"
   ]
  },
  {
   "cell_type": "code",
   "execution_count": 13,
   "metadata": {
    "collapsed": false
   },
   "outputs": [
    {
     "data": {
      "text/html": [
       "\n",
       "\n",
       "    <div class=\"bk-root\">\n",
       "        <div class=\"plotdiv\" id=\"44255b15-7202-4bf6-8319-95bf99188666\"></div>\n",
       "    </div>\n",
       "<script type=\"text/javascript\">\n",
       "  \n",
       "  (function(global) {\n",
       "    function now() {\n",
       "      return new Date();\n",
       "    }\n",
       "  \n",
       "    if (typeof (window._bokeh_onload_callbacks) === \"undefined\") {\n",
       "      window._bokeh_onload_callbacks = [];\n",
       "    }\n",
       "  \n",
       "    function run_callbacks() {\n",
       "      window._bokeh_onload_callbacks.forEach(function(callback) { callback() });\n",
       "      delete window._bokeh_onload_callbacks\n",
       "      console.info(\"Bokeh: all callbacks have finished\");\n",
       "    }\n",
       "  \n",
       "    function load_libs(js_urls, callback) {\n",
       "      window._bokeh_onload_callbacks.push(callback);\n",
       "      if (window._bokeh_is_loading > 0) {\n",
       "        console.log(\"Bokeh: BokehJS is being loaded, scheduling callback at\", now());\n",
       "        return null;\n",
       "      }\n",
       "      if (js_urls == null || js_urls.length === 0) {\n",
       "        run_callbacks();\n",
       "        return null;\n",
       "      }\n",
       "      console.log(\"Bokeh: BokehJS not loaded, scheduling load and callback at\", now());\n",
       "      window._bokeh_is_loading = js_urls.length;\n",
       "      for (var i = 0; i < js_urls.length; i++) {\n",
       "        var url = js_urls[i];\n",
       "        var s = document.createElement('script');\n",
       "        s.src = url;\n",
       "        s.async = false;\n",
       "        s.onreadystatechange = s.onload = function() {\n",
       "          window._bokeh_is_loading--;\n",
       "          if (window._bokeh_is_loading === 0) {\n",
       "            console.log(\"Bokeh: all BokehJS libraries loaded\");\n",
       "            run_callbacks()\n",
       "          }\n",
       "        };\n",
       "        s.onerror = function() {\n",
       "          console.warn(\"failed to load library \" + url);\n",
       "        };\n",
       "        console.log(\"Bokeh: injecting script tag for BokehJS library: \", url);\n",
       "        document.getElementsByTagName(\"head\")[0].appendChild(s);\n",
       "      }\n",
       "    };var element = document.getElementById(\"44255b15-7202-4bf6-8319-95bf99188666\");\n",
       "    if (element == null) {\n",
       "      console.log(\"Bokeh: ERROR: autoload.js configured with elementid '44255b15-7202-4bf6-8319-95bf99188666' but no matching script tag was found. \")\n",
       "      return false;\n",
       "    }\n",
       "  \n",
       "    var js_urls = [];\n",
       "  \n",
       "    var inline_js = [\n",
       "      function(Bokeh) {\n",
       "        Bokeh.$(function() {\n",
       "            var docs_json = {\"01638d04-1291-4495-a72f-561f51925b66\":{\"roots\":{\"references\":[{\"attributes\":{},\"id\":\"6e72e1fe-e668-4bf3-a569-b863c5e9892e\",\"type\":\"BasicTicker\"},{\"attributes\":{\"plot\":{\"id\":\"9c9ea363-ca66-45c5-9739-d59154742cb6\",\"subtype\":\"Figure\",\"type\":\"Plot\"}},\"id\":\"c9088ea3-0148-4835-9927-bf7aae834c4c\",\"type\":\"WheelZoomTool\"},{\"attributes\":{\"formatter\":{\"id\":\"5c6e86ea-7bf4-4552-98d8-ba189f035f5e\",\"type\":\"BasicTickFormatter\"},\"plot\":{\"id\":\"9c9ea363-ca66-45c5-9739-d59154742cb6\",\"subtype\":\"Figure\",\"type\":\"Plot\"},\"ticker\":{\"id\":\"bf0d7902-f805-4a73-a3b6-b189c5f8dbe7\",\"type\":\"BasicTicker\"}},\"id\":\"c7499ca5-bdb4-4e51-85b6-967158bee01e\",\"type\":\"LinearAxis\"},{\"attributes\":{},\"id\":\"84675e4c-7803-4b3b-ae02-f5bbc3da13bf\",\"type\":\"BasicTickFormatter\"},{\"attributes\":{\"data_source\":{\"id\":\"5d8c436e-a67c-45fe-bf4b-f5f4b06d01b8\",\"type\":\"ColumnDataSource\"},\"glyph\":{\"id\":\"fb4fcfa2-37a3-4cf5-9054-439349788212\",\"type\":\"Circle\"},\"hover_glyph\":null,\"nonselection_glyph\":{\"id\":\"42ce60d7-c5bf-4c10-9ce8-cf581b94cf9e\",\"type\":\"Circle\"},\"selection_glyph\":null},\"id\":\"50e38c50-12bc-4849-b7f9-1edcd5172fe3\",\"type\":\"GlyphRenderer\"},{\"attributes\":{\"plot\":{\"id\":\"9c9ea363-ca66-45c5-9739-d59154742cb6\",\"subtype\":\"Figure\",\"type\":\"Plot\"}},\"id\":\"bbf8c3fc-2982-4d71-af9f-1e710bbc19d7\",\"type\":\"PanTool\"},{\"attributes\":{\"plot\":{\"id\":\"9c9ea363-ca66-45c5-9739-d59154742cb6\",\"subtype\":\"Figure\",\"type\":\"Plot\"}},\"id\":\"bbf8e8a5-5733-4b5a-8493-1e875a379a16\",\"type\":\"ResetTool\"},{\"attributes\":{\"active_drag\":\"auto\",\"active_scroll\":\"auto\",\"active_tap\":\"auto\",\"tools\":[{\"id\":\"bbf8c3fc-2982-4d71-af9f-1e710bbc19d7\",\"type\":\"PanTool\"},{\"id\":\"c9088ea3-0148-4835-9927-bf7aae834c4c\",\"type\":\"WheelZoomTool\"},{\"id\":\"7739caa0-ff2e-4688-83cc-338b6f05bc2b\",\"type\":\"BoxZoomTool\"},{\"id\":\"35d27bf8-a42b-41ce-ae10-7f08829512f9\",\"type\":\"SaveTool\"},{\"id\":\"bbf8e8a5-5733-4b5a-8493-1e875a379a16\",\"type\":\"ResetTool\"},{\"id\":\"6b831340-bfb1-4ec8-aa91-14f4199624b7\",\"type\":\"HelpTool\"}]},\"id\":\"4b2764a6-0702-4159-861f-8275b4db7e49\",\"type\":\"Toolbar\"},{\"attributes\":{\"bottom_units\":\"screen\",\"fill_alpha\":{\"value\":0.5},\"fill_color\":{\"value\":\"lightgrey\"},\"left_units\":\"screen\",\"level\":\"overlay\",\"line_alpha\":{\"value\":1.0},\"line_color\":{\"value\":\"black\"},\"line_dash\":[4,4],\"line_width\":{\"value\":2},\"plot\":null,\"render_mode\":\"css\",\"right_units\":\"screen\",\"top_units\":\"screen\"},\"id\":\"514ed58f-6cad-4445-b911-76e61b4bde94\",\"type\":\"BoxAnnotation\"},{\"attributes\":{\"callback\":null},\"id\":\"fd8f6fca-1347-4a50-9747-44eae5b50f16\",\"type\":\"DataRange1d\"},{\"attributes\":{\"grid_line_color\":{\"value\":null},\"plot\":{\"id\":\"9c9ea363-ca66-45c5-9739-d59154742cb6\",\"subtype\":\"Figure\",\"type\":\"Plot\"},\"ticker\":{\"id\":\"6e72e1fe-e668-4bf3-a569-b863c5e9892e\",\"type\":\"BasicTicker\"}},\"id\":\"b55abbbe-9779-4c2b-9559-37606cfbb6e9\",\"type\":\"Grid\"},{\"attributes\":{\"overlay\":{\"id\":\"514ed58f-6cad-4445-b911-76e61b4bde94\",\"type\":\"BoxAnnotation\"},\"plot\":{\"id\":\"9c9ea363-ca66-45c5-9739-d59154742cb6\",\"subtype\":\"Figure\",\"type\":\"Plot\"}},\"id\":\"7739caa0-ff2e-4688-83cc-338b6f05bc2b\",\"type\":\"BoxZoomTool\"},{\"attributes\":{\"callback\":null},\"id\":\"b71daaa2-caf1-450a-8007-20905131dfbd\",\"type\":\"DataRange1d\"},{\"attributes\":{\"fill_alpha\":{\"value\":0.1},\"fill_color\":{\"value\":\"#1f77b4\"},\"line_alpha\":{\"value\":0.1},\"line_color\":{\"value\":\"#1f77b4\"},\"size\":{\"units\":\"screen\",\"value\":10},\"x\":{\"field\":\"x\"},\"y\":{\"field\":\"y\"}},\"id\":\"42ce60d7-c5bf-4c10-9ce8-cf581b94cf9e\",\"type\":\"Circle\"},{\"attributes\":{\"plot\":null,\"text\":null},\"id\":\"7089657d-2423-47f9-a5fb-990930959eaa\",\"type\":\"Title\"},{\"attributes\":{\"dimension\":1,\"grid_line_alpha\":{\"value\":0.5},\"grid_line_dash\":[6,4],\"plot\":{\"id\":\"9c9ea363-ca66-45c5-9739-d59154742cb6\",\"subtype\":\"Figure\",\"type\":\"Plot\"},\"ticker\":{\"id\":\"bf0d7902-f805-4a73-a3b6-b189c5f8dbe7\",\"type\":\"BasicTicker\"}},\"id\":\"f67ccca0-4ce0-483c-a155-ef19c4c4d449\",\"type\":\"Grid\"},{\"attributes\":{},\"id\":\"5c6e86ea-7bf4-4552-98d8-ba189f035f5e\",\"type\":\"BasicTickFormatter\"},{\"attributes\":{\"plot\":{\"id\":\"9c9ea363-ca66-45c5-9739-d59154742cb6\",\"subtype\":\"Figure\",\"type\":\"Plot\"}},\"id\":\"6b831340-bfb1-4ec8-aa91-14f4199624b7\",\"type\":\"HelpTool\"},{\"attributes\":{\"plot\":{\"id\":\"9c9ea363-ca66-45c5-9739-d59154742cb6\",\"subtype\":\"Figure\",\"type\":\"Plot\"}},\"id\":\"35d27bf8-a42b-41ce-ae10-7f08829512f9\",\"type\":\"SaveTool\"},{\"attributes\":{\"callback\":null,\"column_names\":[\"y\",\"x\"],\"data\":{\"x\":[1,2,3,4,5],\"y\":[2,5,8,2,7]}},\"id\":\"5d8c436e-a67c-45fe-bf4b-f5f4b06d01b8\",\"type\":\"ColumnDataSource\"},{\"attributes\":{\"fill_color\":{\"value\":\"#1f77b4\"},\"line_color\":{\"value\":\"#1f77b4\"},\"size\":{\"units\":\"screen\",\"value\":10},\"x\":{\"field\":\"x\"},\"y\":{\"field\":\"y\"}},\"id\":\"fb4fcfa2-37a3-4cf5-9054-439349788212\",\"type\":\"Circle\"},{\"attributes\":{\"below\":[{\"id\":\"d8d720b6-8f59-4e7e-9f96-7fee73cdb88f\",\"type\":\"LinearAxis\"}],\"left\":[{\"id\":\"c7499ca5-bdb4-4e51-85b6-967158bee01e\",\"type\":\"LinearAxis\"}],\"plot_height\":400,\"plot_width\":400,\"renderers\":[{\"id\":\"d8d720b6-8f59-4e7e-9f96-7fee73cdb88f\",\"type\":\"LinearAxis\"},{\"id\":\"b55abbbe-9779-4c2b-9559-37606cfbb6e9\",\"type\":\"Grid\"},{\"id\":\"c7499ca5-bdb4-4e51-85b6-967158bee01e\",\"type\":\"LinearAxis\"},{\"id\":\"f67ccca0-4ce0-483c-a155-ef19c4c4d449\",\"type\":\"Grid\"},{\"id\":\"514ed58f-6cad-4445-b911-76e61b4bde94\",\"type\":\"BoxAnnotation\"},{\"id\":\"50e38c50-12bc-4849-b7f9-1edcd5172fe3\",\"type\":\"GlyphRenderer\"}],\"title\":{\"id\":\"7089657d-2423-47f9-a5fb-990930959eaa\",\"type\":\"Title\"},\"tool_events\":{\"id\":\"e018bb1f-420f-4742-872c-0e16f1597995\",\"type\":\"ToolEvents\"},\"toolbar\":{\"id\":\"4b2764a6-0702-4159-861f-8275b4db7e49\",\"type\":\"Toolbar\"},\"x_range\":{\"id\":\"fd8f6fca-1347-4a50-9747-44eae5b50f16\",\"type\":\"DataRange1d\"},\"y_range\":{\"id\":\"b71daaa2-caf1-450a-8007-20905131dfbd\",\"type\":\"DataRange1d\"}},\"id\":\"9c9ea363-ca66-45c5-9739-d59154742cb6\",\"subtype\":\"Figure\",\"type\":\"Plot\"},{\"attributes\":{},\"id\":\"e018bb1f-420f-4742-872c-0e16f1597995\",\"type\":\"ToolEvents\"},{\"attributes\":{},\"id\":\"bf0d7902-f805-4a73-a3b6-b189c5f8dbe7\",\"type\":\"BasicTicker\"},{\"attributes\":{\"formatter\":{\"id\":\"84675e4c-7803-4b3b-ae02-f5bbc3da13bf\",\"type\":\"BasicTickFormatter\"},\"plot\":{\"id\":\"9c9ea363-ca66-45c5-9739-d59154742cb6\",\"subtype\":\"Figure\",\"type\":\"Plot\"},\"ticker\":{\"id\":\"6e72e1fe-e668-4bf3-a569-b863c5e9892e\",\"type\":\"BasicTicker\"}},\"id\":\"d8d720b6-8f59-4e7e-9f96-7fee73cdb88f\",\"type\":\"LinearAxis\"}],\"root_ids\":[\"9c9ea363-ca66-45c5-9739-d59154742cb6\"]},\"title\":\"Bokeh Application\",\"version\":\"0.12.0\"}};\n",
       "            var render_items = [{\"docid\":\"01638d04-1291-4495-a72f-561f51925b66\",\"elementid\":\"44255b15-7202-4bf6-8319-95bf99188666\",\"modelid\":\"9c9ea363-ca66-45c5-9739-d59154742cb6\",\"notebook_comms_target\":\"d4367c89-067f-4d9f-af2b-d6cf46a36353\"}];\n",
       "            \n",
       "            Bokeh.embed.embed_items(docs_json, render_items);\n",
       "        });\n",
       "      },\n",
       "      function(Bokeh) {\n",
       "      }\n",
       "    ];\n",
       "  \n",
       "    function run_inline_js() {\n",
       "      for (var i = 0; i < inline_js.length; i++) {\n",
       "        inline_js[i](window.Bokeh);\n",
       "      }\n",
       "    }\n",
       "  \n",
       "    if (window._bokeh_is_loading === 0) {\n",
       "      console.log(\"Bokeh: BokehJS loaded, going straight to plotting\");\n",
       "      run_inline_js();\n",
       "    } else {\n",
       "      load_libs(js_urls, function() {\n",
       "        console.log(\"Bokeh: BokehJS plotting callback run at\", now());\n",
       "        run_inline_js();\n",
       "      });\n",
       "    }\n",
       "  }(this));\n",
       "</script>"
      ]
     },
     "metadata": {},
     "output_type": "display_data"
    },
    {
     "data": {
      "text/html": [
       "<p><code>&lt;Bokeh Notebook handle for <strong>In[13]</strong>&gt;</code></p>"
      ],
      "text/plain": [
       "<bokeh.io._CommsHandle at 0x10e95e898>"
      ]
     },
     "execution_count": 13,
     "metadata": {},
     "output_type": "execute_result"
    }
   ],
   "source": [
    "p = figure(plot_width=400, plot_height=400)\n",
    "p.circle([1,2,3,4,5], [2,5,8,2,7], size=10)\n",
    "\n",
    "# change just some things about the x-grid\n",
    "p.xgrid.grid_line_color = None\n",
    "\n",
    "# change just some things about the y-grid\n",
    "p.ygrid.grid_line_alpha = 0.5\n",
    "p.ygrid.grid_line_dash = [6, 4]\n",
    "\n",
    "show(p)"
   ]
  },
  {
   "cell_type": "code",
   "execution_count": 14,
   "metadata": {
    "collapsed": false
   },
   "outputs": [
    {
     "data": {
      "text/html": [
       "\n",
       "\n",
       "    <div class=\"bk-root\">\n",
       "        <div class=\"plotdiv\" id=\"41616a9e-b20f-40a0-b4ba-73c30d46e8ca\"></div>\n",
       "    </div>\n",
       "<script type=\"text/javascript\">\n",
       "  \n",
       "  (function(global) {\n",
       "    function now() {\n",
       "      return new Date();\n",
       "    }\n",
       "  \n",
       "    if (typeof (window._bokeh_onload_callbacks) === \"undefined\") {\n",
       "      window._bokeh_onload_callbacks = [];\n",
       "    }\n",
       "  \n",
       "    function run_callbacks() {\n",
       "      window._bokeh_onload_callbacks.forEach(function(callback) { callback() });\n",
       "      delete window._bokeh_onload_callbacks\n",
       "      console.info(\"Bokeh: all callbacks have finished\");\n",
       "    }\n",
       "  \n",
       "    function load_libs(js_urls, callback) {\n",
       "      window._bokeh_onload_callbacks.push(callback);\n",
       "      if (window._bokeh_is_loading > 0) {\n",
       "        console.log(\"Bokeh: BokehJS is being loaded, scheduling callback at\", now());\n",
       "        return null;\n",
       "      }\n",
       "      if (js_urls == null || js_urls.length === 0) {\n",
       "        run_callbacks();\n",
       "        return null;\n",
       "      }\n",
       "      console.log(\"Bokeh: BokehJS not loaded, scheduling load and callback at\", now());\n",
       "      window._bokeh_is_loading = js_urls.length;\n",
       "      for (var i = 0; i < js_urls.length; i++) {\n",
       "        var url = js_urls[i];\n",
       "        var s = document.createElement('script');\n",
       "        s.src = url;\n",
       "        s.async = false;\n",
       "        s.onreadystatechange = s.onload = function() {\n",
       "          window._bokeh_is_loading--;\n",
       "          if (window._bokeh_is_loading === 0) {\n",
       "            console.log(\"Bokeh: all BokehJS libraries loaded\");\n",
       "            run_callbacks()\n",
       "          }\n",
       "        };\n",
       "        s.onerror = function() {\n",
       "          console.warn(\"failed to load library \" + url);\n",
       "        };\n",
       "        console.log(\"Bokeh: injecting script tag for BokehJS library: \", url);\n",
       "        document.getElementsByTagName(\"head\")[0].appendChild(s);\n",
       "      }\n",
       "    };var element = document.getElementById(\"41616a9e-b20f-40a0-b4ba-73c30d46e8ca\");\n",
       "    if (element == null) {\n",
       "      console.log(\"Bokeh: ERROR: autoload.js configured with elementid '41616a9e-b20f-40a0-b4ba-73c30d46e8ca' but no matching script tag was found. \")\n",
       "      return false;\n",
       "    }\n",
       "  \n",
       "    var js_urls = [];\n",
       "  \n",
       "    var inline_js = [\n",
       "      function(Bokeh) {\n",
       "        Bokeh.$(function() {\n",
       "            var docs_json = {\"3a9f6b69-1118-4901-827d-afcc8ee68c01\":{\"roots\":{\"references\":[{\"attributes\":{\"plot\":{\"id\":\"cc031098-b37c-4d55-9ad3-185f0fbeaa35\",\"subtype\":\"Figure\",\"type\":\"Plot\"}},\"id\":\"ad2d451e-5f9c-4025-9173-648effde3036\",\"type\":\"HelpTool\"},{\"attributes\":{\"data_source\":{\"id\":\"5f5aed6e-ad60-4ee4-a3e1-44b335ae93b3\",\"type\":\"ColumnDataSource\"},\"glyph\":{\"id\":\"bc064331-48fa-45e3-8a20-e18bc6e5f4ba\",\"type\":\"Circle\"},\"hover_glyph\":null,\"nonselection_glyph\":{\"id\":\"47586e7d-cc56-4f05-be81-b930c7eaadce\",\"type\":\"Circle\"},\"selection_glyph\":null},\"id\":\"ad47d47b-8657-4457-8204-74e46650c21f\",\"type\":\"GlyphRenderer\"},{\"attributes\":{\"formatter\":{\"id\":\"8c274614-6b8b-411a-a4b0-fb233020975b\",\"type\":\"BasicTickFormatter\"},\"plot\":{\"id\":\"cc031098-b37c-4d55-9ad3-185f0fbeaa35\",\"subtype\":\"Figure\",\"type\":\"Plot\"},\"ticker\":{\"id\":\"5544cbd3-0d2e-4d03-b446-526b066fc0be\",\"type\":\"BasicTicker\"}},\"id\":\"72d7f2b1-2378-4b4b-910a-0c452d250ba0\",\"type\":\"LinearAxis\"},{\"attributes\":{\"plot\":{\"id\":\"cc031098-b37c-4d55-9ad3-185f0fbeaa35\",\"subtype\":\"Figure\",\"type\":\"Plot\"}},\"id\":\"0149af57-bc03-4695-875c-9acd7b03e2f7\",\"type\":\"WheelZoomTool\"},{\"attributes\":{\"fill_color\":{\"value\":\"#1f77b4\"},\"line_color\":{\"value\":\"#1f77b4\"},\"size\":{\"units\":\"screen\",\"value\":10},\"x\":{\"field\":\"x\"},\"y\":{\"field\":\"y\"}},\"id\":\"bc064331-48fa-45e3-8a20-e18bc6e5f4ba\",\"type\":\"Circle\"},{\"attributes\":{\"active_drag\":\"auto\",\"active_scroll\":\"auto\",\"active_tap\":\"auto\",\"tools\":[{\"id\":\"0e58f194-17e1-4a46-ad23-5cca74b87bbd\",\"type\":\"PanTool\"},{\"id\":\"0149af57-bc03-4695-875c-9acd7b03e2f7\",\"type\":\"WheelZoomTool\"},{\"id\":\"55b70b7d-f3c3-4992-84ce-6019487565f0\",\"type\":\"BoxZoomTool\"},{\"id\":\"dcfa5188-68f1-4484-b068-3623b7700ba8\",\"type\":\"SaveTool\"},{\"id\":\"1bf8a40b-e306-43a8-83e9-ee9d2feec67e\",\"type\":\"ResetTool\"},{\"id\":\"ad2d451e-5f9c-4025-9173-648effde3036\",\"type\":\"HelpTool\"}]},\"id\":\"0d1b60d2-c137-4f6d-b8df-ca2b5bce5694\",\"type\":\"Toolbar\"},{\"attributes\":{},\"id\":\"f08c287e-3ead-433b-b67b-fcc6617768df\",\"type\":\"BasicTicker\"},{\"attributes\":{\"plot\":{\"id\":\"cc031098-b37c-4d55-9ad3-185f0fbeaa35\",\"subtype\":\"Figure\",\"type\":\"Plot\"}},\"id\":\"dcfa5188-68f1-4484-b068-3623b7700ba8\",\"type\":\"SaveTool\"},{\"attributes\":{},\"id\":\"5544cbd3-0d2e-4d03-b446-526b066fc0be\",\"type\":\"BasicTicker\"},{\"attributes\":{\"grid_line_color\":{\"value\":null},\"plot\":{\"id\":\"cc031098-b37c-4d55-9ad3-185f0fbeaa35\",\"subtype\":\"Figure\",\"type\":\"Plot\"},\"ticker\":{\"id\":\"5544cbd3-0d2e-4d03-b446-526b066fc0be\",\"type\":\"BasicTicker\"}},\"id\":\"e52cc4d9-2181-4374-8f7f-2b430270baed\",\"type\":\"Grid\"},{\"attributes\":{},\"id\":\"2f0e23b3-8845-4359-8b7f-eed26687f15b\",\"type\":\"BasicTickFormatter\"},{\"attributes\":{\"bottom_units\":\"screen\",\"fill_alpha\":{\"value\":0.5},\"fill_color\":{\"value\":\"lightgrey\"},\"left_units\":\"screen\",\"level\":\"overlay\",\"line_alpha\":{\"value\":1.0},\"line_color\":{\"value\":\"black\"},\"line_dash\":[4,4],\"line_width\":{\"value\":2},\"plot\":null,\"render_mode\":\"css\",\"right_units\":\"screen\",\"top_units\":\"screen\"},\"id\":\"3f3e12ba-7bd7-46d2-ac9d-191d3dd7b4c5\",\"type\":\"BoxAnnotation\"},{\"attributes\":{\"below\":[{\"id\":\"72d7f2b1-2378-4b4b-910a-0c452d250ba0\",\"type\":\"LinearAxis\"}],\"left\":[{\"id\":\"87b68190-bcb8-4fb7-837e-747dae98d866\",\"type\":\"LinearAxis\"}],\"plot_height\":400,\"plot_width\":400,\"renderers\":[{\"id\":\"72d7f2b1-2378-4b4b-910a-0c452d250ba0\",\"type\":\"LinearAxis\"},{\"id\":\"e52cc4d9-2181-4374-8f7f-2b430270baed\",\"type\":\"Grid\"},{\"id\":\"87b68190-bcb8-4fb7-837e-747dae98d866\",\"type\":\"LinearAxis\"},{\"id\":\"6c28486a-ca00-445a-b452-44080e02c8e8\",\"type\":\"Grid\"},{\"id\":\"3f3e12ba-7bd7-46d2-ac9d-191d3dd7b4c5\",\"type\":\"BoxAnnotation\"},{\"id\":\"ad47d47b-8657-4457-8204-74e46650c21f\",\"type\":\"GlyphRenderer\"}],\"title\":{\"id\":\"19d3405e-b08d-4380-937a-d78307d1c753\",\"type\":\"Title\"},\"tool_events\":{\"id\":\"22fc2543-227c-416f-8afa-6da24c9f3e10\",\"type\":\"ToolEvents\"},\"toolbar\":{\"id\":\"0d1b60d2-c137-4f6d-b8df-ca2b5bce5694\",\"type\":\"Toolbar\"},\"x_range\":{\"id\":\"72a8350e-eed8-45c8-9d95-fdc111cc2afa\",\"type\":\"DataRange1d\"},\"y_range\":{\"id\":\"1e2259c3-694f-4670-89c4-f1f5201b6f6b\",\"type\":\"DataRange1d\"}},\"id\":\"cc031098-b37c-4d55-9ad3-185f0fbeaa35\",\"subtype\":\"Figure\",\"type\":\"Plot\"},{\"attributes\":{},\"id\":\"8c274614-6b8b-411a-a4b0-fb233020975b\",\"type\":\"BasicTickFormatter\"},{\"attributes\":{\"callback\":null,\"column_names\":[\"y\",\"x\"],\"data\":{\"x\":[1,2,3,4,5],\"y\":[2,5,8,2,7]}},\"id\":\"5f5aed6e-ad60-4ee4-a3e1-44b335ae93b3\",\"type\":\"ColumnDataSource\"},{\"attributes\":{\"plot\":{\"id\":\"cc031098-b37c-4d55-9ad3-185f0fbeaa35\",\"subtype\":\"Figure\",\"type\":\"Plot\"}},\"id\":\"1bf8a40b-e306-43a8-83e9-ee9d2feec67e\",\"type\":\"ResetTool\"},{\"attributes\":{\"fill_alpha\":{\"value\":0.1},\"fill_color\":{\"value\":\"#1f77b4\"},\"line_alpha\":{\"value\":0.1},\"line_color\":{\"value\":\"#1f77b4\"},\"size\":{\"units\":\"screen\",\"value\":10},\"x\":{\"field\":\"x\"},\"y\":{\"field\":\"y\"}},\"id\":\"47586e7d-cc56-4f05-be81-b930c7eaadce\",\"type\":\"Circle\"},{\"attributes\":{\"callback\":null},\"id\":\"72a8350e-eed8-45c8-9d95-fdc111cc2afa\",\"type\":\"DataRange1d\"},{\"attributes\":{\"plot\":null,\"text\":null},\"id\":\"19d3405e-b08d-4380-937a-d78307d1c753\",\"type\":\"Title\"},{\"attributes\":{\"plot\":{\"id\":\"cc031098-b37c-4d55-9ad3-185f0fbeaa35\",\"subtype\":\"Figure\",\"type\":\"Plot\"}},\"id\":\"0e58f194-17e1-4a46-ad23-5cca74b87bbd\",\"type\":\"PanTool\"},{\"attributes\":{\"callback\":null},\"id\":\"1e2259c3-694f-4670-89c4-f1f5201b6f6b\",\"type\":\"DataRange1d\"},{\"attributes\":{\"overlay\":{\"id\":\"3f3e12ba-7bd7-46d2-ac9d-191d3dd7b4c5\",\"type\":\"BoxAnnotation\"},\"plot\":{\"id\":\"cc031098-b37c-4d55-9ad3-185f0fbeaa35\",\"subtype\":\"Figure\",\"type\":\"Plot\"}},\"id\":\"55b70b7d-f3c3-4992-84ce-6019487565f0\",\"type\":\"BoxZoomTool\"},{\"attributes\":{\"band_fill_alpha\":{\"value\":0.1},\"band_fill_color\":{\"value\":\"navy\"},\"dimension\":1,\"plot\":{\"id\":\"cc031098-b37c-4d55-9ad3-185f0fbeaa35\",\"subtype\":\"Figure\",\"type\":\"Plot\"},\"ticker\":{\"id\":\"f08c287e-3ead-433b-b67b-fcc6617768df\",\"type\":\"BasicTicker\"}},\"id\":\"6c28486a-ca00-445a-b452-44080e02c8e8\",\"type\":\"Grid\"},{\"attributes\":{\"formatter\":{\"id\":\"2f0e23b3-8845-4359-8b7f-eed26687f15b\",\"type\":\"BasicTickFormatter\"},\"plot\":{\"id\":\"cc031098-b37c-4d55-9ad3-185f0fbeaa35\",\"subtype\":\"Figure\",\"type\":\"Plot\"},\"ticker\":{\"id\":\"f08c287e-3ead-433b-b67b-fcc6617768df\",\"type\":\"BasicTicker\"}},\"id\":\"87b68190-bcb8-4fb7-837e-747dae98d866\",\"type\":\"LinearAxis\"},{\"attributes\":{},\"id\":\"22fc2543-227c-416f-8afa-6da24c9f3e10\",\"type\":\"ToolEvents\"}],\"root_ids\":[\"cc031098-b37c-4d55-9ad3-185f0fbeaa35\"]},\"title\":\"Bokeh Application\",\"version\":\"0.12.0\"}};\n",
       "            var render_items = [{\"docid\":\"3a9f6b69-1118-4901-827d-afcc8ee68c01\",\"elementid\":\"41616a9e-b20f-40a0-b4ba-73c30d46e8ca\",\"modelid\":\"cc031098-b37c-4d55-9ad3-185f0fbeaa35\",\"notebook_comms_target\":\"63b6497d-2b37-40f0-b328-7cc4a34850e5\"}];\n",
       "            \n",
       "            Bokeh.embed.embed_items(docs_json, render_items);\n",
       "        });\n",
       "      },\n",
       "      function(Bokeh) {\n",
       "      }\n",
       "    ];\n",
       "  \n",
       "    function run_inline_js() {\n",
       "      for (var i = 0; i < inline_js.length; i++) {\n",
       "        inline_js[i](window.Bokeh);\n",
       "      }\n",
       "    }\n",
       "  \n",
       "    if (window._bokeh_is_loading === 0) {\n",
       "      console.log(\"Bokeh: BokehJS loaded, going straight to plotting\");\n",
       "      run_inline_js();\n",
       "    } else {\n",
       "      load_libs(js_urls, function() {\n",
       "        console.log(\"Bokeh: BokehJS plotting callback run at\", now());\n",
       "        run_inline_js();\n",
       "      });\n",
       "    }\n",
       "  }(this));\n",
       "</script>"
      ]
     },
     "metadata": {},
     "output_type": "display_data"
    },
    {
     "data": {
      "text/html": [
       "<p><code>&lt;Bokeh Notebook handle for <strong>In[14]</strong>&gt;</code></p>"
      ],
      "text/plain": [
       "<bokeh.io._CommsHandle at 0x10e96b6a0>"
      ]
     },
     "execution_count": 14,
     "metadata": {},
     "output_type": "execute_result"
    }
   ],
   "source": [
    "p = figure(plot_width=400, plot_height=400)\n",
    "p.circle([1,2,3,4,5], [2,5,8,2,7], size=10)\n",
    "\n",
    "# change just some things about the x-grid\n",
    "p.xgrid.grid_line_color = None\n",
    "\n",
    "# change just some things about the y-grid\n",
    "p.ygrid.band_fill_alpha = 0.1\n",
    "p.ygrid.band_fill_color = \"navy\"\n",
    "\n",
    "show(p)"
   ]
  },
  {
   "cell_type": "code",
   "execution_count": 15,
   "metadata": {
    "collapsed": true
   },
   "outputs": [],
   "source": [
    "# EXERCISE Create a plot of your own and customize several grid properties\n",
    "\n"
   ]
  },
  {
   "cell_type": "markdown",
   "metadata": {},
   "source": [
    "# Legends\n",
    "\n",
    "[Legends](http://bokeh.pydata.org/en/latest/docs/user_guide/styling.html#legends)"
   ]
  },
  {
   "cell_type": "code",
   "execution_count": 16,
   "metadata": {
    "collapsed": false
   },
   "outputs": [
    {
     "data": {
      "text/html": [
       "\n",
       "\n",
       "    <div class=\"bk-root\">\n",
       "        <div class=\"plotdiv\" id=\"aa8c8623-d8e5-4420-93fd-9eb3d5f70625\"></div>\n",
       "    </div>\n",
       "<script type=\"text/javascript\">\n",
       "  \n",
       "  (function(global) {\n",
       "    function now() {\n",
       "      return new Date();\n",
       "    }\n",
       "  \n",
       "    if (typeof (window._bokeh_onload_callbacks) === \"undefined\") {\n",
       "      window._bokeh_onload_callbacks = [];\n",
       "    }\n",
       "  \n",
       "    function run_callbacks() {\n",
       "      window._bokeh_onload_callbacks.forEach(function(callback) { callback() });\n",
       "      delete window._bokeh_onload_callbacks\n",
       "      console.info(\"Bokeh: all callbacks have finished\");\n",
       "    }\n",
       "  \n",
       "    function load_libs(js_urls, callback) {\n",
       "      window._bokeh_onload_callbacks.push(callback);\n",
       "      if (window._bokeh_is_loading > 0) {\n",
       "        console.log(\"Bokeh: BokehJS is being loaded, scheduling callback at\", now());\n",
       "        return null;\n",
       "      }\n",
       "      if (js_urls == null || js_urls.length === 0) {\n",
       "        run_callbacks();\n",
       "        return null;\n",
       "      }\n",
       "      console.log(\"Bokeh: BokehJS not loaded, scheduling load and callback at\", now());\n",
       "      window._bokeh_is_loading = js_urls.length;\n",
       "      for (var i = 0; i < js_urls.length; i++) {\n",
       "        var url = js_urls[i];\n",
       "        var s = document.createElement('script');\n",
       "        s.src = url;\n",
       "        s.async = false;\n",
       "        s.onreadystatechange = s.onload = function() {\n",
       "          window._bokeh_is_loading--;\n",
       "          if (window._bokeh_is_loading === 0) {\n",
       "            console.log(\"Bokeh: all BokehJS libraries loaded\");\n",
       "            run_callbacks()\n",
       "          }\n",
       "        };\n",
       "        s.onerror = function() {\n",
       "          console.warn(\"failed to load library \" + url);\n",
       "        };\n",
       "        console.log(\"Bokeh: injecting script tag for BokehJS library: \", url);\n",
       "        document.getElementsByTagName(\"head\")[0].appendChild(s);\n",
       "      }\n",
       "    };var element = document.getElementById(\"aa8c8623-d8e5-4420-93fd-9eb3d5f70625\");\n",
       "    if (element == null) {\n",
       "      console.log(\"Bokeh: ERROR: autoload.js configured with elementid 'aa8c8623-d8e5-4420-93fd-9eb3d5f70625' but no matching script tag was found. \")\n",
       "      return false;\n",
       "    }\n",
       "  \n",
       "    var js_urls = [];\n",
       "  \n",
       "    var inline_js = [\n",
       "      function(Bokeh) {\n",
       "        Bokeh.$(function() {\n",
       "            var docs_json = {\"1c5cedaf-5f6a-4e3e-a761-e21b21ed1720\":{\"roots\":{\"references\":[{\"attributes\":{\"data_source\":{\"id\":\"180fa84c-fe3e-42cd-b908-841f92fad912\",\"type\":\"ColumnDataSource\"},\"glyph\":{\"id\":\"0a00b00c-8d0e-4f7b-94e5-1dcce6d0454d\",\"type\":\"Line\"},\"hover_glyph\":null,\"nonselection_glyph\":{\"id\":\"da2e45f0-e583-44fa-b53a-3d7649a1d12d\",\"type\":\"Line\"},\"selection_glyph\":null},\"id\":\"20f1029f-28cf-4e43-9359-e87499aebe37\",\"type\":\"GlyphRenderer\"},{\"attributes\":{\"fill_color\":{\"value\":\"#1f77b4\"},\"line_color\":{\"value\":\"#1f77b4\"},\"x\":{\"field\":\"x\"},\"y\":{\"field\":\"y\"}},\"id\":\"262b0837-3a45-4006-a9d7-20e804754a3c\",\"type\":\"Circle\"},{\"attributes\":{\"callback\":null},\"id\":\"f2ad1332-30da-44c4-a715-4761285ac00b\",\"type\":\"DataRange1d\"},{\"attributes\":{\"line_alpha\":{\"value\":0.1},\"line_color\":{\"value\":\"#1f77b4\"},\"line_dash\":[4,4],\"line_width\":{\"value\":2},\"x\":{\"field\":\"x\"},\"y\":{\"field\":\"y\"}},\"id\":\"da2e45f0-e583-44fa-b53a-3d7649a1d12d\",\"type\":\"Line\"},{\"attributes\":{\"active_drag\":\"auto\",\"active_scroll\":\"auto\",\"active_tap\":\"auto\",\"tools\":[{\"id\":\"4d248857-8f1d-4439-87f0-6a1287430317\",\"type\":\"PanTool\"},{\"id\":\"5b5e45f8-e5da-4212-babe-9822fa1a8b7a\",\"type\":\"WheelZoomTool\"},{\"id\":\"181b1d81-4e8f-474d-a493-d5be0de6cbed\",\"type\":\"BoxZoomTool\"},{\"id\":\"b084e40a-4dca-46dd-9d8e-1a6fd9fe6d3d\",\"type\":\"SaveTool\"},{\"id\":\"7bc6e0e6-6fd0-4eda-9287-7349278c5e59\",\"type\":\"ResetTool\"},{\"id\":\"cfb4d45a-2782-4e93-b9da-1d652aa36f76\",\"type\":\"HelpTool\"}]},\"id\":\"69a52771-a66e-4ece-9cfa-c58d119f977d\",\"type\":\"Toolbar\"},{\"attributes\":{\"line_alpha\":{\"value\":0.1},\"line_color\":{\"value\":\"#1f77b4\"},\"x\":{\"field\":\"x\"},\"y\":{\"field\":\"y\"}},\"id\":\"0ad2b4db-c624-4f2f-9068-575eac04443f\",\"type\":\"Line\"},{\"attributes\":{\"plot\":{\"id\":\"6ede3714-2063-4b97-b1fd-39bd8ee8dd2f\",\"subtype\":\"Figure\",\"type\":\"Plot\"}},\"id\":\"7bc6e0e6-6fd0-4eda-9287-7349278c5e59\",\"type\":\"ResetTool\"},{\"attributes\":{\"callback\":null,\"column_names\":[\"x\",\"y\"],\"data\":{\"x\":[0.0,0.12693303650867852,0.25386607301735703,0.3807991095260356,0.5077321460347141,0.6346651825433925,0.7615982190520711,0.8885312555607496,1.0154642920694281,1.1423973285781066,1.269330365086785,1.3962634015954636,1.5231964381041423,1.6501294746128208,1.7770625111214993,1.9039955476301778,2.0309285841388562,2.1578616206475347,2.284794657156213,2.4117276936648917,2.53866073017357,2.6655937666822487,2.792526803190927,2.9194598396996057,3.0463928762082846,3.173325912716963,3.3002589492256416,3.42719198573432,3.5541250222429985,3.681058058751677,3.8079910952603555,3.934924131769034,4.0618571682777125,4.188790204786391,4.3157232412950695,4.442656277803748,4.569589314312426,4.696522350821105,4.823455387329783,4.950388423838462,5.07732146034714,5.204254496855819,5.331187533364497,5.458120569873176,5.585053606381854,5.711986642890533,5.838919679399211,5.96585271590789,6.092785752416569,6.219718788925247,6.346651825433926,6.473584861942604,6.600517898451283,6.727450934959961,6.85438397146864,6.981317007977318,7.108250044485997,7.235183080994675,7.362116117503354,7.489049154012032,7.615982190520711,7.742915227029389,7.869848263538068,7.996781300046746,8.123714336555425,8.250647373064103,8.377580409572783,8.50451344608146,8.631446482590139,8.758379519098817,8.885312555607497,9.012245592116175,9.139178628624853,9.266111665133531,9.39304470164221,9.519977738150889,9.646910774659567,9.773843811168245,9.900776847676925,10.027709884185603,10.15464292069428,10.28157595720296,10.408508993711639,10.535442030220317,10.662375066728995,10.789308103237675,10.916241139746353,11.04317417625503,11.170107212763709,11.297040249272388,11.423973285781067,11.550906322289745,11.677839358798423,11.804772395307102,11.93170543181578,12.058638468324459,12.185571504833138,12.312504541341816,12.439437577850494,12.566370614359172],\"y\":[0.0,0.12659245357374926,0.2511479871810792,0.3716624556603276,0.4861967361004687,0.5929079290546404,0.690079011482112,0.7761464642917568,0.8497254299495144,0.9096319953545183,0.9549022414440739,0.984807753012208,0.998867339183008,0.9968547759519424,0.9788024462147787,0.9450008187146685,0.8959937742913359,0.8325698546347714,0.7557495743542584,0.6667690005162916,0.5670598638627709,0.4582265217274105,0.3420201433256689,0.2203105327865408,0.09505604330418244,-0.03172793349806785,-0.15800139597335008,-0.28173255684142984,-0.40093053540661383,-0.5136773915734064,-0.6181589862206053,-0.7126941713788628,-0.7957618405308321,-0.8660254037844388,-0.9223542941045814,-0.9638421585599422,-0.9898214418809327,-0.9998741276738751,-0.9938384644612541,-0.9718115683235417,-0.9341478602651068,-0.881453363447582,-0.814575952050336,-0.7345917086575331,-0.6427876096865396,-0.5406408174555974,-0.4297949120891719,-0.31203344569848707,-0.18925124436040974,-0.06342391965656452,0.06342391965656491,0.18925124436041013,0.31203344569848745,0.42979491208917153,0.5406408174555979,0.6427876096865393,0.7345917086575334,0.8145759520503355,0.8814533634475821,0.9341478602651067,0.9718115683235418,0.9938384644612541,0.9998741276738751,0.9898214418809328,0.963842158559942,0.9223542941045816,0.8660254037844383,0.7957618405308319,0.7126941713788629,0.6181589862206056,0.5136773915734056,0.40093053540661344,0.2817325568414299,0.15800139597335056,0.03172793349806701,-0.09505604330418284,-0.22031053278654034,-0.342020143325668,-0.45822652172741085,-0.5670598638627709,-0.6667690005162913,-0.7557495743542588,-0.8325698546347716,-0.8959937742913359,-0.9450008187146683,-0.9788024462147789,-0.9968547759519424,-0.998867339183008,-0.9848077530122081,-0.9549022414440737,-0.9096319953545183,-0.8497254299495145,-0.7761464642917573,-0.6900790114821116,-0.5929079290546404,-0.486196736100469,-0.3716624556603267,-0.2511479871810788,-0.1265924535737493,-4.898587196589413e-16]}},\"id\":\"ead7709a-c50d-4604-9219-b91848e3433f\",\"type\":\"ColumnDataSource\"},{\"attributes\":{},\"id\":\"4403c53b-d645-46fd-8a1c-13bb57c1fb63\",\"type\":\"BasicTicker\"},{\"attributes\":{\"data_source\":{\"id\":\"4307d973-096b-459b-ac7b-0ace433750f9\",\"type\":\"ColumnDataSource\"},\"glyph\":{\"id\":\"262b0837-3a45-4006-a9d7-20e804754a3c\",\"type\":\"Circle\"},\"hover_glyph\":null,\"nonselection_glyph\":{\"id\":\"83b9258c-1547-4679-a36a-0d09e77ea49d\",\"type\":\"Circle\"},\"selection_glyph\":null},\"id\":\"df984d91-4164-44a0-8456-baf006324269\",\"type\":\"GlyphRenderer\"},{\"attributes\":{\"plot\":{\"id\":\"6ede3714-2063-4b97-b1fd-39bd8ee8dd2f\",\"subtype\":\"Figure\",\"type\":\"Plot\"}},\"id\":\"cfb4d45a-2782-4e93-b9da-1d652aa36f76\",\"type\":\"HelpTool\"},{\"attributes\":{},\"id\":\"2319b03b-7c06-4aca-8c08-385400de583b\",\"type\":\"BasicTicker\"},{\"attributes\":{\"plot\":{\"id\":\"6ede3714-2063-4b97-b1fd-39bd8ee8dd2f\",\"subtype\":\"Figure\",\"type\":\"Plot\"}},\"id\":\"5b5e45f8-e5da-4212-babe-9822fa1a8b7a\",\"type\":\"WheelZoomTool\"},{\"attributes\":{\"formatter\":{\"id\":\"6e43c2a0-af8d-4529-9d7a-304bbb192ce9\",\"type\":\"BasicTickFormatter\"},\"plot\":{\"id\":\"6ede3714-2063-4b97-b1fd-39bd8ee8dd2f\",\"subtype\":\"Figure\",\"type\":\"Plot\"},\"ticker\":{\"id\":\"2319b03b-7c06-4aca-8c08-385400de583b\",\"type\":\"BasicTicker\"}},\"id\":\"cf5f73b0-f70d-4cab-be30-854c3f1195e6\",\"type\":\"LinearAxis\"},{\"attributes\":{\"legends\":[[\"sin(x)\",[{\"id\":\"df984d91-4164-44a0-8456-baf006324269\",\"type\":\"GlyphRenderer\"},{\"id\":\"1755e07c-7512-40cf-9e34-ed49755472f9\",\"type\":\"GlyphRenderer\"}]],[\"2*sin(x)\",[{\"id\":\"20f1029f-28cf-4e43-9359-e87499aebe37\",\"type\":\"GlyphRenderer\"}]],[\"3*sin(x)\",[{\"id\":\"9d7f8aa8-ad3b-42ba-aa86-207244660b7f\",\"type\":\"GlyphRenderer\"},{\"id\":\"37f25521-56bc-4a90-975c-5c7849e23d50\",\"type\":\"GlyphRenderer\"}]]],\"location\":\"bottom_left\",\"plot\":{\"id\":\"6ede3714-2063-4b97-b1fd-39bd8ee8dd2f\",\"subtype\":\"Figure\",\"type\":\"Plot\"}},\"id\":\"f9ccb1b3-7dd6-416f-9c93-fdb0c7f31e44\",\"type\":\"Legend\"},{\"attributes\":{\"callback\":null},\"id\":\"00cb56a8-df2b-40bf-8516-b28deba93b39\",\"type\":\"DataRange1d\"},{\"attributes\":{\"data_source\":{\"id\":\"ead7709a-c50d-4604-9219-b91848e3433f\",\"type\":\"ColumnDataSource\"},\"glyph\":{\"id\":\"d0168216-b8d1-422d-8581-0842e44fba70\",\"type\":\"Line\"},\"hover_glyph\":null,\"nonselection_glyph\":{\"id\":\"945aedb9-7f60-4c2c-8507-5a3e09699f62\",\"type\":\"Line\"},\"selection_glyph\":null},\"id\":\"1755e07c-7512-40cf-9e34-ed49755472f9\",\"type\":\"GlyphRenderer\"},{\"attributes\":{\"callback\":null,\"column_names\":[\"x\",\"y\"],\"data\":{\"x\":[0.0,0.12693303650867852,0.25386607301735703,0.3807991095260356,0.5077321460347141,0.6346651825433925,0.7615982190520711,0.8885312555607496,1.0154642920694281,1.1423973285781066,1.269330365086785,1.3962634015954636,1.5231964381041423,1.6501294746128208,1.7770625111214993,1.9039955476301778,2.0309285841388562,2.1578616206475347,2.284794657156213,2.4117276936648917,2.53866073017357,2.6655937666822487,2.792526803190927,2.9194598396996057,3.0463928762082846,3.173325912716963,3.3002589492256416,3.42719198573432,3.5541250222429985,3.681058058751677,3.8079910952603555,3.934924131769034,4.0618571682777125,4.188790204786391,4.3157232412950695,4.442656277803748,4.569589314312426,4.696522350821105,4.823455387329783,4.950388423838462,5.07732146034714,5.204254496855819,5.331187533364497,5.458120569873176,5.585053606381854,5.711986642890533,5.838919679399211,5.96585271590789,6.092785752416569,6.219718788925247,6.346651825433926,6.473584861942604,6.600517898451283,6.727450934959961,6.85438397146864,6.981317007977318,7.108250044485997,7.235183080994675,7.362116117503354,7.489049154012032,7.615982190520711,7.742915227029389,7.869848263538068,7.996781300046746,8.123714336555425,8.250647373064103,8.377580409572783,8.50451344608146,8.631446482590139,8.758379519098817,8.885312555607497,9.012245592116175,9.139178628624853,9.266111665133531,9.39304470164221,9.519977738150889,9.646910774659567,9.773843811168245,9.900776847676925,10.027709884185603,10.15464292069428,10.28157595720296,10.408508993711639,10.535442030220317,10.662375066728995,10.789308103237675,10.916241139746353,11.04317417625503,11.170107212763709,11.297040249272388,11.423973285781067,11.550906322289745,11.677839358798423,11.804772395307102,11.93170543181578,12.058638468324459,12.185571504833138,12.312504541341816,12.439437577850494,12.566370614359172],\"y\":[0.0,0.25318490714749853,0.5022959743621584,0.7433249113206551,0.9723934722009374,1.1858158581092808,1.380158022964224,1.5522929285835136,1.6994508598990288,1.8192639907090367,1.9098044828881477,1.969615506024416,1.997734678366016,1.9937095519038848,1.9576048924295575,1.890001637429337,1.7919875485826717,1.6651397092695428,1.5114991487085168,1.3335380010325832,1.1341197277255417,0.916453043454821,0.6840402866513378,0.4406210655730816,0.19011208660836487,-0.0634558669961357,-0.31600279194670017,-0.5634651136828597,-0.8018610708132277,-1.0273547831468128,-1.2363179724412106,-1.4253883427577256,-1.5915236810616642,-1.7320508075688776,-1.8447085882091627,-1.9276843171198843,-1.9796428837618654,-1.9997482553477501,-1.9876769289225082,-1.9436231366470833,-1.8682957205302135,-1.762906726895164,-1.629151904100672,-1.4691834173150662,-1.2855752193730792,-1.0812816349111949,-0.8595898241783438,-0.6240668913969741,-0.3785024887208195,-0.12684783931312904,0.12684783931312982,0.37850248872082026,0.6240668913969749,0.8595898241783431,1.0812816349111958,1.2855752193730785,1.4691834173150669,1.629151904100671,1.7629067268951641,1.8682957205302133,1.9436231366470835,1.9876769289225082,1.9997482553477501,1.9796428837618656,1.927684317119884,1.8447085882091632,1.7320508075688765,1.5915236810616638,1.4253883427577259,1.2363179724412112,1.0273547831468113,0.8018610708132269,0.5634651136828598,0.3160027919467011,0.06345586699613402,-0.19011208660836568,-0.4406210655730807,-0.684040286651336,-0.9164530434548217,-1.1341197277255417,-1.3335380010325826,-1.5114991487085176,-1.6651397092695432,-1.7919875485826717,-1.8900016374293367,-1.9576048924295577,-1.9937095519038848,-1.997734678366016,-1.9696155060244163,-1.9098044828881473,-1.8192639907090367,-1.699450859899029,-1.5522929285835145,-1.3801580229642232,-1.1858158581092808,-0.972393472200938,-0.7433249113206534,-0.5022959743621576,-0.2531849071474986,-9.797174393178826e-16]}},\"id\":\"180fa84c-fe3e-42cd-b908-841f92fad912\",\"type\":\"ColumnDataSource\"},{\"attributes\":{\"plot\":{\"id\":\"6ede3714-2063-4b97-b1fd-39bd8ee8dd2f\",\"subtype\":\"Figure\",\"type\":\"Plot\"}},\"id\":\"4d248857-8f1d-4439-87f0-6a1287430317\",\"type\":\"PanTool\"},{\"attributes\":{\"plot\":{\"id\":\"6ede3714-2063-4b97-b1fd-39bd8ee8dd2f\",\"subtype\":\"Figure\",\"type\":\"Plot\"},\"ticker\":{\"id\":\"4403c53b-d645-46fd-8a1c-13bb57c1fb63\",\"type\":\"BasicTicker\"}},\"id\":\"d0ebf585-4100-4c10-9402-69c4cb3bfe23\",\"type\":\"Grid\"},{\"attributes\":{\"fill_alpha\":{\"value\":0.1},\"fill_color\":{\"value\":\"#1f77b4\"},\"line_alpha\":{\"value\":0.1},\"line_color\":{\"value\":\"#1f77b4\"},\"x\":{\"field\":\"x\"},\"y\":{\"field\":\"y\"}},\"id\":\"83b9258c-1547-4679-a36a-0d09e77ea49d\",\"type\":\"Circle\"},{\"attributes\":{},\"id\":\"61ef5f92-7f2a-4c77-a027-6da920dfef64\",\"type\":\"BasicTickFormatter\"},{\"attributes\":{\"bottom_units\":\"screen\",\"fill_alpha\":{\"value\":0.5},\"fill_color\":{\"value\":\"lightgrey\"},\"left_units\":\"screen\",\"level\":\"overlay\",\"line_alpha\":{\"value\":1.0},\"line_color\":{\"value\":\"black\"},\"line_dash\":[4,4],\"line_width\":{\"value\":2},\"plot\":null,\"render_mode\":\"css\",\"right_units\":\"screen\",\"top_units\":\"screen\"},\"id\":\"12b2cc84-ffd2-4689-a4da-6034790b41ea\",\"type\":\"BoxAnnotation\"},{\"attributes\":{\"plot\":null,\"text\":null},\"id\":\"2729e834-6047-433c-97fa-b7558671bdbd\",\"type\":\"Title\"},{\"attributes\":{\"callback\":null,\"column_names\":[\"x\",\"y\"],\"data\":{\"x\":[0.0,0.12693303650867852,0.25386607301735703,0.3807991095260356,0.5077321460347141,0.6346651825433925,0.7615982190520711,0.8885312555607496,1.0154642920694281,1.1423973285781066,1.269330365086785,1.3962634015954636,1.5231964381041423,1.6501294746128208,1.7770625111214993,1.9039955476301778,2.0309285841388562,2.1578616206475347,2.284794657156213,2.4117276936648917,2.53866073017357,2.6655937666822487,2.792526803190927,2.9194598396996057,3.0463928762082846,3.173325912716963,3.3002589492256416,3.42719198573432,3.5541250222429985,3.681058058751677,3.8079910952603555,3.934924131769034,4.0618571682777125,4.188790204786391,4.3157232412950695,4.442656277803748,4.569589314312426,4.696522350821105,4.823455387329783,4.950388423838462,5.07732146034714,5.204254496855819,5.331187533364497,5.458120569873176,5.585053606381854,5.711986642890533,5.838919679399211,5.96585271590789,6.092785752416569,6.219718788925247,6.346651825433926,6.473584861942604,6.600517898451283,6.727450934959961,6.85438397146864,6.981317007977318,7.108250044485997,7.235183080994675,7.362116117503354,7.489049154012032,7.615982190520711,7.742915227029389,7.869848263538068,7.996781300046746,8.123714336555425,8.250647373064103,8.377580409572783,8.50451344608146,8.631446482590139,8.758379519098817,8.885312555607497,9.012245592116175,9.139178628624853,9.266111665133531,9.39304470164221,9.519977738150889,9.646910774659567,9.773843811168245,9.900776847676925,10.027709884185603,10.15464292069428,10.28157595720296,10.408508993711639,10.535442030220317,10.662375066728995,10.789308103237675,10.916241139746353,11.04317417625503,11.170107212763709,11.297040249272388,11.423973285781067,11.550906322289745,11.677839358798423,11.804772395307102,11.93170543181578,12.058638468324459,12.185571504833138,12.312504541341816,12.439437577850494,12.566370614359172],\"y\":[0.0,0.3797773607212478,0.7534439615432377,1.1149873669809827,1.4585902083014062,1.7787237871639212,2.070237034446336,2.3284393928752705,2.549176289848543,2.728895986063555,2.8647067243322217,2.954423259036624,2.9966020175490238,2.990564327855827,2.936407338644336,2.8350024561440055,2.6879813228740077,2.4977095639043143,2.2672487230627754,2.000307001548875,1.7011795915883126,1.3746795651822317,1.0260604299770066,0.6609315983596225,0.2851681299125473,-0.09518380049420355,-0.4740041879200503,-0.8451976705242895,-1.2027916062198414,-1.5410321747202191,-1.8544769586618157,-2.1380825141365882,-2.387285521592496,-2.5980762113533165,-2.767062882313744,-2.8915264756798265,-2.969464325642798,-2.999622383021625,-2.9815153933837624,-2.915434704970625,-2.8024435807953205,-2.644360090342746,-2.443727856151008,-2.2037751259725993,-1.9283628290596186,-1.6219224523667923,-1.2893847362675157,-0.9361003370954613,-0.5677537330812292,-0.19027175896969356,0.19027175896969473,0.5677537330812303,0.9361003370954624,1.2893847362675146,1.6219224523667937,1.9283628290596178,2.2037751259726,2.4437278561510065,2.6443600903427464,2.80244358079532,2.9154347049706253,2.9815153933837624,2.999622383021625,2.9694643256427984,2.891526475679826,2.767062882313745,2.5980762113533147,2.3872855215924957,2.1380825141365887,1.8544769586618168,1.541032174720217,1.2027916062198403,0.8451976705242896,0.47400418792005167,0.09518380049420103,-0.28516812991254853,-0.660931598359621,-1.026060429977004,-1.3746795651822326,-1.7011795915883126,-2.0003070015488738,-2.2672487230627763,-2.4977095639043148,-2.6879813228740077,-2.835002456144005,-2.9364073386443366,-2.990564327855827,-2.9966020175490238,-2.9544232590366244,-2.864706724332221,-2.728895986063555,-2.5491762898485435,-2.328439392875272,-2.070237034446335,-1.7787237871639212,-1.4585902083014068,-1.11498736698098,-0.7534439615432363,-0.3797773607212479,-1.4695761589768238e-15]}},\"id\":\"ddd3b1eb-836b-44f0-99e5-93b6b7a224aa\",\"type\":\"ColumnDataSource\"},{\"attributes\":{\"line_color\":{\"value\":\"green\"},\"x\":{\"field\":\"x\"},\"y\":{\"field\":\"y\"}},\"id\":\"ba5f0bc8-946e-4b11-9cf2-94c89fb71424\",\"type\":\"Line\"},{\"attributes\":{\"data_source\":{\"id\":\"ddd3b1eb-836b-44f0-99e5-93b6b7a224aa\",\"type\":\"ColumnDataSource\"},\"glyph\":{\"id\":\"ba5f0bc8-946e-4b11-9cf2-94c89fb71424\",\"type\":\"Line\"},\"hover_glyph\":null,\"nonselection_glyph\":{\"id\":\"0ad2b4db-c624-4f2f-9068-575eac04443f\",\"type\":\"Line\"},\"selection_glyph\":null},\"id\":\"9d7f8aa8-ad3b-42ba-aa86-207244660b7f\",\"type\":\"GlyphRenderer\"},{\"attributes\":{\"line_color\":{\"value\":\"orange\"},\"line_dash\":[4,4],\"line_width\":{\"value\":2},\"x\":{\"field\":\"x\"},\"y\":{\"field\":\"y\"}},\"id\":\"0a00b00c-8d0e-4f7b-94e5-1dcce6d0454d\",\"type\":\"Line\"},{\"attributes\":{\"callback\":null,\"column_names\":[\"y\",\"x\"],\"data\":{\"x\":[0.0,0.12693303650867852,0.25386607301735703,0.3807991095260356,0.5077321460347141,0.6346651825433925,0.7615982190520711,0.8885312555607496,1.0154642920694281,1.1423973285781066,1.269330365086785,1.3962634015954636,1.5231964381041423,1.6501294746128208,1.7770625111214993,1.9039955476301778,2.0309285841388562,2.1578616206475347,2.284794657156213,2.4117276936648917,2.53866073017357,2.6655937666822487,2.792526803190927,2.9194598396996057,3.0463928762082846,3.173325912716963,3.3002589492256416,3.42719198573432,3.5541250222429985,3.681058058751677,3.8079910952603555,3.934924131769034,4.0618571682777125,4.188790204786391,4.3157232412950695,4.442656277803748,4.569589314312426,4.696522350821105,4.823455387329783,4.950388423838462,5.07732146034714,5.204254496855819,5.331187533364497,5.458120569873176,5.585053606381854,5.711986642890533,5.838919679399211,5.96585271590789,6.092785752416569,6.219718788925247,6.346651825433926,6.473584861942604,6.600517898451283,6.727450934959961,6.85438397146864,6.981317007977318,7.108250044485997,7.235183080994675,7.362116117503354,7.489049154012032,7.615982190520711,7.742915227029389,7.869848263538068,7.996781300046746,8.123714336555425,8.250647373064103,8.377580409572783,8.50451344608146,8.631446482590139,8.758379519098817,8.885312555607497,9.012245592116175,9.139178628624853,9.266111665133531,9.39304470164221,9.519977738150889,9.646910774659567,9.773843811168245,9.900776847676925,10.027709884185603,10.15464292069428,10.28157595720296,10.408508993711639,10.535442030220317,10.662375066728995,10.789308103237675,10.916241139746353,11.04317417625503,11.170107212763709,11.297040249272388,11.423973285781067,11.550906322289745,11.677839358798423,11.804772395307102,11.93170543181578,12.058638468324459,12.185571504833138,12.312504541341816,12.439437577850494,12.566370614359172],\"y\":[0.0,0.3797773607212478,0.7534439615432377,1.1149873669809827,1.4585902083014062,1.7787237871639212,2.070237034446336,2.3284393928752705,2.549176289848543,2.728895986063555,2.8647067243322217,2.954423259036624,2.9966020175490238,2.990564327855827,2.936407338644336,2.8350024561440055,2.6879813228740077,2.4977095639043143,2.2672487230627754,2.000307001548875,1.7011795915883126,1.3746795651822317,1.0260604299770066,0.6609315983596225,0.2851681299125473,-0.09518380049420355,-0.4740041879200503,-0.8451976705242895,-1.2027916062198414,-1.5410321747202191,-1.8544769586618157,-2.1380825141365882,-2.387285521592496,-2.5980762113533165,-2.767062882313744,-2.8915264756798265,-2.969464325642798,-2.999622383021625,-2.9815153933837624,-2.915434704970625,-2.8024435807953205,-2.644360090342746,-2.443727856151008,-2.2037751259725993,-1.9283628290596186,-1.6219224523667923,-1.2893847362675157,-0.9361003370954613,-0.5677537330812292,-0.19027175896969356,0.19027175896969473,0.5677537330812303,0.9361003370954624,1.2893847362675146,1.6219224523667937,1.9283628290596178,2.2037751259726,2.4437278561510065,2.6443600903427464,2.80244358079532,2.9154347049706253,2.9815153933837624,2.999622383021625,2.9694643256427984,2.891526475679826,2.767062882313745,2.5980762113533147,2.3872855215924957,2.1380825141365887,1.8544769586618168,1.541032174720217,1.2027916062198403,0.8451976705242896,0.47400418792005167,0.09518380049420103,-0.28516812991254853,-0.660931598359621,-1.026060429977004,-1.3746795651822326,-1.7011795915883126,-2.0003070015488738,-2.2672487230627763,-2.4977095639043148,-2.6879813228740077,-2.835002456144005,-2.9364073386443366,-2.990564327855827,-2.9966020175490238,-2.9544232590366244,-2.864706724332221,-2.728895986063555,-2.5491762898485435,-2.328439392875272,-2.070237034446335,-1.7787237871639212,-1.4585902083014068,-1.11498736698098,-0.7534439615432363,-0.3797773607212479,-1.4695761589768238e-15]}},\"id\":\"c6a69187-6a45-4497-8b1c-6cc97bf6e177\",\"type\":\"ColumnDataSource\"},{\"attributes\":{\"plot\":{\"id\":\"6ede3714-2063-4b97-b1fd-39bd8ee8dd2f\",\"subtype\":\"Figure\",\"type\":\"Plot\"}},\"id\":\"b084e40a-4dca-46dd-9d8e-1a6fd9fe6d3d\",\"type\":\"SaveTool\"},{\"attributes\":{\"line_alpha\":{\"value\":0.1},\"line_color\":{\"value\":\"#1f77b4\"},\"x\":{\"field\":\"x\"},\"y\":{\"field\":\"y\"}},\"id\":\"945aedb9-7f60-4c2c-8507-5a3e09699f62\",\"type\":\"Line\"},{\"attributes\":{\"line_color\":{\"value\":\"#1f77b4\"},\"x\":{\"field\":\"x\"},\"y\":{\"field\":\"y\"}},\"id\":\"d0168216-b8d1-422d-8581-0842e44fba70\",\"type\":\"Line\"},{\"attributes\":{\"fill_alpha\":{\"value\":0.1},\"fill_color\":{\"value\":\"#1f77b4\"},\"line_alpha\":{\"value\":0.1},\"line_color\":{\"value\":\"#1f77b4\"},\"x\":{\"field\":\"x\"},\"y\":{\"field\":\"y\"}},\"id\":\"aa8e5252-0b25-4861-9e10-1823678fd7c6\",\"type\":\"Square\"},{\"attributes\":{\"dimension\":1,\"plot\":{\"id\":\"6ede3714-2063-4b97-b1fd-39bd8ee8dd2f\",\"subtype\":\"Figure\",\"type\":\"Plot\"},\"ticker\":{\"id\":\"2319b03b-7c06-4aca-8c08-385400de583b\",\"type\":\"BasicTicker\"}},\"id\":\"15f22219-cf2a-4984-b5a7-12817aa364ca\",\"type\":\"Grid\"},{\"attributes\":{\"fill_color\":{\"value\":\"white\"},\"line_color\":{\"value\":\"green\"},\"x\":{\"field\":\"x\"},\"y\":{\"field\":\"y\"}},\"id\":\"dfda40c1-2efe-4ea3-a87c-0bbd1934142e\",\"type\":\"Square\"},{\"attributes\":{\"callback\":null,\"column_names\":[\"x\",\"y\"],\"data\":{\"x\":[0.0,0.12693303650867852,0.25386607301735703,0.3807991095260356,0.5077321460347141,0.6346651825433925,0.7615982190520711,0.8885312555607496,1.0154642920694281,1.1423973285781066,1.269330365086785,1.3962634015954636,1.5231964381041423,1.6501294746128208,1.7770625111214993,1.9039955476301778,2.0309285841388562,2.1578616206475347,2.284794657156213,2.4117276936648917,2.53866073017357,2.6655937666822487,2.792526803190927,2.9194598396996057,3.0463928762082846,3.173325912716963,3.3002589492256416,3.42719198573432,3.5541250222429985,3.681058058751677,3.8079910952603555,3.934924131769034,4.0618571682777125,4.188790204786391,4.3157232412950695,4.442656277803748,4.569589314312426,4.696522350821105,4.823455387329783,4.950388423838462,5.07732146034714,5.204254496855819,5.331187533364497,5.458120569873176,5.585053606381854,5.711986642890533,5.838919679399211,5.96585271590789,6.092785752416569,6.219718788925247,6.346651825433926,6.473584861942604,6.600517898451283,6.727450934959961,6.85438397146864,6.981317007977318,7.108250044485997,7.235183080994675,7.362116117503354,7.489049154012032,7.615982190520711,7.742915227029389,7.869848263538068,7.996781300046746,8.123714336555425,8.250647373064103,8.377580409572783,8.50451344608146,8.631446482590139,8.758379519098817,8.885312555607497,9.012245592116175,9.139178628624853,9.266111665133531,9.39304470164221,9.519977738150889,9.646910774659567,9.773843811168245,9.900776847676925,10.027709884185603,10.15464292069428,10.28157595720296,10.408508993711639,10.535442030220317,10.662375066728995,10.789308103237675,10.916241139746353,11.04317417625503,11.170107212763709,11.297040249272388,11.423973285781067,11.550906322289745,11.677839358798423,11.804772395307102,11.93170543181578,12.058638468324459,12.185571504833138,12.312504541341816,12.439437577850494,12.566370614359172],\"y\":[0.0,0.12659245357374926,0.2511479871810792,0.3716624556603276,0.4861967361004687,0.5929079290546404,0.690079011482112,0.7761464642917568,0.8497254299495144,0.9096319953545183,0.9549022414440739,0.984807753012208,0.998867339183008,0.9968547759519424,0.9788024462147787,0.9450008187146685,0.8959937742913359,0.8325698546347714,0.7557495743542584,0.6667690005162916,0.5670598638627709,0.4582265217274105,0.3420201433256689,0.2203105327865408,0.09505604330418244,-0.03172793349806785,-0.15800139597335008,-0.28173255684142984,-0.40093053540661383,-0.5136773915734064,-0.6181589862206053,-0.7126941713788628,-0.7957618405308321,-0.8660254037844388,-0.9223542941045814,-0.9638421585599422,-0.9898214418809327,-0.9998741276738751,-0.9938384644612541,-0.9718115683235417,-0.9341478602651068,-0.881453363447582,-0.814575952050336,-0.7345917086575331,-0.6427876096865396,-0.5406408174555974,-0.4297949120891719,-0.31203344569848707,-0.18925124436040974,-0.06342391965656452,0.06342391965656491,0.18925124436041013,0.31203344569848745,0.42979491208917153,0.5406408174555979,0.6427876096865393,0.7345917086575334,0.8145759520503355,0.8814533634475821,0.9341478602651067,0.9718115683235418,0.9938384644612541,0.9998741276738751,0.9898214418809328,0.963842158559942,0.9223542941045816,0.8660254037844383,0.7957618405308319,0.7126941713788629,0.6181589862206056,0.5136773915734056,0.40093053540661344,0.2817325568414299,0.15800139597335056,0.03172793349806701,-0.09505604330418284,-0.22031053278654034,-0.342020143325668,-0.45822652172741085,-0.5670598638627709,-0.6667690005162913,-0.7557495743542588,-0.8325698546347716,-0.8959937742913359,-0.9450008187146683,-0.9788024462147789,-0.9968547759519424,-0.998867339183008,-0.9848077530122081,-0.9549022414440737,-0.9096319953545183,-0.8497254299495145,-0.7761464642917573,-0.6900790114821116,-0.5929079290546404,-0.486196736100469,-0.3716624556603267,-0.2511479871810788,-0.1265924535737493,-4.898587196589413e-16]}},\"id\":\"4307d973-096b-459b-ac7b-0ace433750f9\",\"type\":\"ColumnDataSource\"},{\"attributes\":{\"formatter\":{\"id\":\"61ef5f92-7f2a-4c77-a027-6da920dfef64\",\"type\":\"BasicTickFormatter\"},\"plot\":{\"id\":\"6ede3714-2063-4b97-b1fd-39bd8ee8dd2f\",\"subtype\":\"Figure\",\"type\":\"Plot\"},\"ticker\":{\"id\":\"4403c53b-d645-46fd-8a1c-13bb57c1fb63\",\"type\":\"BasicTicker\"}},\"id\":\"3ad5c85c-559b-40f5-8405-aa9c2367ebb1\",\"type\":\"LinearAxis\"},{\"attributes\":{\"overlay\":{\"id\":\"12b2cc84-ffd2-4689-a4da-6034790b41ea\",\"type\":\"BoxAnnotation\"},\"plot\":{\"id\":\"6ede3714-2063-4b97-b1fd-39bd8ee8dd2f\",\"subtype\":\"Figure\",\"type\":\"Plot\"}},\"id\":\"181b1d81-4e8f-474d-a493-d5be0de6cbed\",\"type\":\"BoxZoomTool\"},{\"attributes\":{},\"id\":\"6e43c2a0-af8d-4529-9d7a-304bbb192ce9\",\"type\":\"BasicTickFormatter\"},{\"attributes\":{},\"id\":\"b504576a-c8fc-4a13-b465-36a30cb86501\",\"type\":\"ToolEvents\"},{\"attributes\":{\"data_source\":{\"id\":\"c6a69187-6a45-4497-8b1c-6cc97bf6e177\",\"type\":\"ColumnDataSource\"},\"glyph\":{\"id\":\"dfda40c1-2efe-4ea3-a87c-0bbd1934142e\",\"type\":\"Square\"},\"hover_glyph\":null,\"nonselection_glyph\":{\"id\":\"aa8e5252-0b25-4861-9e10-1823678fd7c6\",\"type\":\"Square\"},\"selection_glyph\":null},\"id\":\"37f25521-56bc-4a90-975c-5c7849e23d50\",\"type\":\"GlyphRenderer\"},{\"attributes\":{\"below\":[{\"id\":\"3ad5c85c-559b-40f5-8405-aa9c2367ebb1\",\"type\":\"LinearAxis\"}],\"left\":[{\"id\":\"cf5f73b0-f70d-4cab-be30-854c3f1195e6\",\"type\":\"LinearAxis\"}],\"renderers\":[{\"id\":\"3ad5c85c-559b-40f5-8405-aa9c2367ebb1\",\"type\":\"LinearAxis\"},{\"id\":\"d0ebf585-4100-4c10-9402-69c4cb3bfe23\",\"type\":\"Grid\"},{\"id\":\"cf5f73b0-f70d-4cab-be30-854c3f1195e6\",\"type\":\"LinearAxis\"},{\"id\":\"15f22219-cf2a-4984-b5a7-12817aa364ca\",\"type\":\"Grid\"},{\"id\":\"12b2cc84-ffd2-4689-a4da-6034790b41ea\",\"type\":\"BoxAnnotation\"},{\"id\":\"f9ccb1b3-7dd6-416f-9c93-fdb0c7f31e44\",\"type\":\"Legend\"},{\"id\":\"df984d91-4164-44a0-8456-baf006324269\",\"type\":\"GlyphRenderer\"},{\"id\":\"1755e07c-7512-40cf-9e34-ed49755472f9\",\"type\":\"GlyphRenderer\"},{\"id\":\"20f1029f-28cf-4e43-9359-e87499aebe37\",\"type\":\"GlyphRenderer\"},{\"id\":\"9d7f8aa8-ad3b-42ba-aa86-207244660b7f\",\"type\":\"GlyphRenderer\"},{\"id\":\"37f25521-56bc-4a90-975c-5c7849e23d50\",\"type\":\"GlyphRenderer\"}],\"title\":{\"id\":\"2729e834-6047-433c-97fa-b7558671bdbd\",\"type\":\"Title\"},\"tool_events\":{\"id\":\"b504576a-c8fc-4a13-b465-36a30cb86501\",\"type\":\"ToolEvents\"},\"toolbar\":{\"id\":\"69a52771-a66e-4ece-9cfa-c58d119f977d\",\"type\":\"Toolbar\"},\"x_range\":{\"id\":\"00cb56a8-df2b-40bf-8516-b28deba93b39\",\"type\":\"DataRange1d\"},\"y_range\":{\"id\":\"f2ad1332-30da-44c4-a715-4761285ac00b\",\"type\":\"DataRange1d\"}},\"id\":\"6ede3714-2063-4b97-b1fd-39bd8ee8dd2f\",\"subtype\":\"Figure\",\"type\":\"Plot\"}],\"root_ids\":[\"6ede3714-2063-4b97-b1fd-39bd8ee8dd2f\"]},\"title\":\"Bokeh Application\",\"version\":\"0.12.0\"}};\n",
       "            var render_items = [{\"docid\":\"1c5cedaf-5f6a-4e3e-a761-e21b21ed1720\",\"elementid\":\"aa8c8623-d8e5-4420-93fd-9eb3d5f70625\",\"modelid\":\"6ede3714-2063-4b97-b1fd-39bd8ee8dd2f\",\"notebook_comms_target\":\"78676509-3e10-4a91-ae2d-0ecd3206e1fd\"}];\n",
       "            \n",
       "            Bokeh.embed.embed_items(docs_json, render_items);\n",
       "        });\n",
       "      },\n",
       "      function(Bokeh) {\n",
       "      }\n",
       "    ];\n",
       "  \n",
       "    function run_inline_js() {\n",
       "      for (var i = 0; i < inline_js.length; i++) {\n",
       "        inline_js[i](window.Bokeh);\n",
       "      }\n",
       "    }\n",
       "  \n",
       "    if (window._bokeh_is_loading === 0) {\n",
       "      console.log(\"Bokeh: BokehJS loaded, going straight to plotting\");\n",
       "      run_inline_js();\n",
       "    } else {\n",
       "      load_libs(js_urls, function() {\n",
       "        console.log(\"Bokeh: BokehJS plotting callback run at\", now());\n",
       "        run_inline_js();\n",
       "      });\n",
       "    }\n",
       "  }(this));\n",
       "</script>"
      ]
     },
     "metadata": {},
     "output_type": "display_data"
    },
    {
     "data": {
      "text/html": [
       "<p><code>&lt;Bokeh Notebook handle for <strong>In[16]</strong>&gt;</code></p>"
      ],
      "text/plain": [
       "<bokeh.io._CommsHandle at 0x10e987a58>"
      ]
     },
     "execution_count": 16,
     "metadata": {},
     "output_type": "execute_result"
    }
   ],
   "source": [
    "import numpy as np\n",
    "\n",
    "x = np.linspace(0, 4*np.pi, 100)\n",
    "y = np.sin(x)\n",
    "\n",
    "p = figure()\n",
    "\n",
    "p.circle(x, y, legend=\"sin(x)\")\n",
    "p.line(x, y, legend=\"sin(x)\")\n",
    "\n",
    "p.line(x, 2*y, legend=\"2*sin(x)\", line_dash=[4, 4], line_color=\"orange\", line_width=2)\n",
    "\n",
    "p.line(x, 3*y, legend=\"3*sin(x)\", line_color=\"green\")\n",
    "p.square(x, 3*y, legend=\"3*sin(x)\", fill_color=\"white\", line_color=\"green\")\n",
    "\n",
    "p.legend.location = \"bottom_left\"\n",
    "\n",
    "show(p)"
   ]
  },
  {
   "cell_type": "code",
   "execution_count": 17,
   "metadata": {
    "collapsed": true
   },
   "outputs": [],
   "source": [
    "# EXERCISE Create a plot of your own and add a legend\n",
    "\n"
   ]
  },
  {
   "cell_type": "code",
   "execution_count": null,
   "metadata": {
    "collapsed": true
   },
   "outputs": [],
   "source": []
  }
 ],
 "metadata": {
  "kernelspec": {
   "display_name": "Python 3",
   "language": "python",
   "name": "python3"
  },
  "language_info": {
   "codemirror_mode": {
    "name": "ipython",
    "version": 3
   },
   "file_extension": ".py",
   "mimetype": "text/x-python",
   "name": "python",
   "nbconvert_exporter": "python",
   "pygments_lexer": "ipython3",
   "version": "3.5.1"
  }
 },
 "nbformat": 4,
 "nbformat_minor": 0
}
