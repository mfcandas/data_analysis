{
 "cells": [
  {
   "cell_type": "code",
   "execution_count": 15,
   "metadata": {
    "collapsed": false
   },
   "outputs": [],
   "source": [
    "import pandas as pd\n",
    "import numpy as np"
   ]
  },
  {
   "cell_type": "markdown",
   "metadata": {},
   "source": [
    "# Generate series of times"
   ]
  },
  {
   "cell_type": "code",
   "execution_count": 16,
   "metadata": {
    "collapsed": false
   },
   "outputs": [
    {
     "data": {
      "text/plain": [
       "DatetimeIndex(['2016-07-31 10:15:00+08:00', '2016-08-31 10:15:00+08:00',\n",
       "               '2016-09-30 10:15:00+08:00', '2016-10-31 10:15:00+08:00',\n",
       "               '2016-11-30 10:15:00+08:00', '2016-12-31 10:15:00+08:00',\n",
       "               '2017-01-31 10:15:00+08:00', '2017-02-28 10:15:00+08:00',\n",
       "               '2017-03-31 10:15:00+08:00', '2017-04-30 10:15:00+08:00'],\n",
       "              dtype='datetime64[ns, Asia/Hong_Kong]', freq='M')"
      ]
     },
     "execution_count": 16,
     "metadata": {},
     "output_type": "execute_result"
    }
   ],
   "source": [
    "# specify with start date & number of periods\n",
    "rng = pd.date_range('2016 Jul 15 10:15', periods = 10, freq = 'M', tz='Asia/Hong_Kong')\n",
    "rng"
   ]
  },
  {
   "cell_type": "code",
   "execution_count": 17,
   "metadata": {
    "collapsed": false
   },
   "outputs": [],
   "source": [
    "# specify with start date & end date and frequency (8 hours)\n",
    "rng = pd.date_range('2016 Jul 15 10:15', '2016 Jul 25 10:15', freq = '8H')\n"
   ]
  },
  {
   "cell_type": "markdown",
   "metadata": {
    "collapsed": true
   },
   "source": [
    "### let's explore some of the other options for date_range\n",
    "http://pandas.pydata.org/pandas-docs/stable/generated/pandas.date_range.html\n",
    "\n",
    "In particular, let's take a look at 'normalize' and 'end'"
   ]
  },
  {
   "cell_type": "code",
   "execution_count": 18,
   "metadata": {
    "collapsed": false
   },
   "outputs": [
    {
     "data": {
      "text/plain": [
       "DatetimeIndex(['2016-07-31', '2016-08-31', '2016-09-30', '2016-10-31',\n",
       "               '2016-11-30', '2016-12-31', '2017-01-31', '2017-02-28',\n",
       "               '2017-03-31', '2017-04-30'],\n",
       "              dtype='datetime64[ns]', freq='M')"
      ]
     },
     "execution_count": 18,
     "metadata": {},
     "output_type": "execute_result"
    }
   ],
   "source": [
    "rng = pd.date_range('2016 Jul 15', periods = 10, freq = 'M')\n",
    "rng"
   ]
  },
  {
   "cell_type": "markdown",
   "metadata": {},
   "source": [
    "### Which of these formats DON'T work?\n",
    "'2016 Jul 1', '7/1/2016', '1/7/2016', 'July 1, 2016', '2016-07-01'"
   ]
  },
  {
   "cell_type": "code",
   "execution_count": null,
   "metadata": {
    "collapsed": true
   },
   "outputs": [],
   "source": []
  },
  {
   "cell_type": "markdown",
   "metadata": {},
   "source": [
    "# Timestamps"
   ]
  },
  {
   "cell_type": "code",
   "execution_count": 19,
   "metadata": {
    "collapsed": false
   },
   "outputs": [
    {
     "data": {
      "text/plain": [
       "Timestamp('2016-07-10 00:00:00')"
      ]
     },
     "execution_count": 19,
     "metadata": {},
     "output_type": "execute_result"
    }
   ],
   "source": [
    "# add increasing detail\n",
    "pd.Timestamp('2016-07-10')"
   ]
  },
  {
   "cell_type": "code",
   "execution_count": 20,
   "metadata": {
    "collapsed": false
   },
   "outputs": [
    {
     "data": {
      "text/plain": [
       "Timestamp('2016-07-10 10:15:15')"
      ]
     },
     "execution_count": 20,
     "metadata": {},
     "output_type": "execute_result"
    }
   ],
   "source": [
    "pd.Timestamp('2016-07-10 10:15:15')"
   ]
  },
  {
   "cell_type": "markdown",
   "metadata": {},
   "source": [
    "### How much detail can you add?"
   ]
  },
  {
   "cell_type": "markdown",
   "metadata": {},
   "source": [
    "### What are some properties of time stamps? \n",
    "Hint: http://pandas.pydata.org/pandas-docs/stable/timeseries.html#time-date-components"
   ]
  },
  {
   "cell_type": "code",
   "execution_count": 21,
   "metadata": {
    "collapsed": true
   },
   "outputs": [],
   "source": [
    "t = pd.Timestamp('2016-07-10 10:15:15')"
   ]
  },
  {
   "cell_type": "code",
   "execution_count": 22,
   "metadata": {
    "collapsed": false
   },
   "outputs": [
    {
     "data": {
      "text/plain": [
       "3"
      ]
     },
     "execution_count": 22,
     "metadata": {},
     "output_type": "execute_result"
    }
   ],
   "source": [
    "t.quarter"
   ]
  },
  {
   "cell_type": "code",
   "execution_count": 23,
   "metadata": {
    "collapsed": false
   },
   "outputs": [
    {
     "data": {
      "text/plain": [
       "Timestamp('2016-07-10 20:00:00')"
      ]
     },
     "execution_count": 23,
     "metadata": {},
     "output_type": "execute_result"
    }
   ],
   "source": [
    "t = pd.Timestamp('2016-07-10 8 pm')\n",
    "t"
   ]
  },
  {
   "cell_type": "markdown",
   "metadata": {},
   "source": [
    "### How are time stamps lacking?"
   ]
  },
  {
   "cell_type": "code",
   "execution_count": null,
   "metadata": {
    "collapsed": true
   },
   "outputs": [],
   "source": []
  },
  {
   "cell_type": "markdown",
   "metadata": {},
   "source": [
    "# Time offsets"
   ]
  },
  {
   "cell_type": "code",
   "execution_count": 24,
   "metadata": {
    "collapsed": false
   },
   "outputs": [
    {
     "data": {
      "text/plain": [
       "Timedelta('1 days 00:00:00.000001')"
      ]
     },
     "execution_count": 24,
     "metadata": {},
     "output_type": "execute_result"
    }
   ],
   "source": [
    "pd.Timedelta('1 day 1us')"
   ]
  },
  {
   "cell_type": "code",
   "execution_count": 25,
   "metadata": {
    "collapsed": false
   },
   "outputs": [
    {
     "data": {
      "text/plain": [
       "Timestamp('2016-07-01 09:30:00')"
      ]
     },
     "execution_count": 25,
     "metadata": {},
     "output_type": "execute_result"
    }
   ],
   "source": [
    "pd.Timestamp('2016-07-01 8:00') + pd.Timedelta('1.5 hours')"
   ]
  },
  {
   "cell_type": "code",
   "execution_count": 26,
   "metadata": {
    "collapsed": false
   },
   "outputs": [
    {
     "data": {
      "text/plain": [
       "Timedelta('0 days 00:00:00.000000')"
      ]
     },
     "execution_count": 26,
     "metadata": {},
     "output_type": "execute_result"
    }
   ],
   "source": [
    "pd.Timedelta('15ns') #bug? what kind of bug?"
   ]
  },
  {
   "cell_type": "code",
   "execution_count": 27,
   "metadata": {
    "collapsed": false
   },
   "outputs": [
    {
     "data": {
      "text/plain": [
       "DatetimeIndex(['2016-08-01', '2016-09-01', '2016-10-01', '2016-11-01',\n",
       "               '2016-12-01', '2017-01-01', '2017-02-01', '2017-03-01',\n",
       "               '2017-04-01', '2017-05-01'],\n",
       "              dtype='datetime64[ns]', freq='MS')"
      ]
     },
     "execution_count": 27,
     "metadata": {},
     "output_type": "execute_result"
    }
   ],
   "source": [
    "rng + pd.Timedelta('1day')"
   ]
  },
  {
   "cell_type": "markdown",
   "metadata": {},
   "source": [
    "# Time spans"
   ]
  },
  {
   "cell_type": "code",
   "execution_count": 28,
   "metadata": {
    "collapsed": false
   },
   "outputs": [
    {
     "data": {
      "text/plain": [
       "True"
      ]
     },
     "execution_count": 28,
     "metadata": {},
     "output_type": "execute_result"
    }
   ],
   "source": [
    "p = pd.Period('7/2016')\n",
    "t = pd.Timestamp('7/21/2016')\n",
    "p.start_time < t and p.end_time > t"
   ]
  },
  {
   "cell_type": "code",
   "execution_count": 29,
   "metadata": {
    "collapsed": false
   },
   "outputs": [
    {
     "data": {
      "text/plain": [
       "PeriodIndex(['2016-01-01 12:00', '2016-01-01 13:00', '2016-01-01 14:00',\n",
       "             '2016-01-01 15:00', '2016-01-01 16:00', '2016-01-01 17:00',\n",
       "             '2016-01-01 18:00', '2016-01-01 19:00', '2016-01-01 20:00',\n",
       "             '2016-01-01 21:00'],\n",
       "            dtype='int64', freq='H')"
      ]
     },
     "execution_count": 29,
     "metadata": {},
     "output_type": "execute_result"
    }
   ],
   "source": [
    "rng = pd.period_range('2016-01-01 12:15', freq = 'H', periods = 10)\n",
    "rng"
   ]
  },
  {
   "cell_type": "code",
   "execution_count": 30,
   "metadata": {
    "collapsed": false
   },
   "outputs": [
    {
     "data": {
      "text/plain": [
       "PeriodIndex(['2016-01-01 12:15', '2016-01-01 13:15', '2016-01-01 14:15',\n",
       "             '2016-01-01 15:15', '2016-01-01 16:15', '2016-01-01 17:15',\n",
       "             '2016-01-01 18:15', '2016-01-01 19:15', '2016-01-01 20:15',\n",
       "             '2016-01-01 21:15'],\n",
       "            dtype='int64', freq='60T')"
      ]
     },
     "execution_count": 30,
     "metadata": {},
     "output_type": "execute_result"
    }
   ],
   "source": [
    "rng = pd.period_range('2016-01-01 12:15', freq = '60T', periods = 10)\n",
    "rng"
   ]
  },
  {
   "cell_type": "code",
   "execution_count": 31,
   "metadata": {
    "collapsed": false
   },
   "outputs": [
    {
     "data": {
      "text/plain": [
       "PeriodIndex(['2016-01-01 12:00', '2016-01-01 13:00', '2016-01-01 14:00',\n",
       "             '2016-01-01 15:00', '2016-01-01 16:00', '2016-01-01 17:00',\n",
       "             '2016-01-01 18:00', '2016-01-01 19:00', '2016-01-01 20:00',\n",
       "             '2016-01-01 21:00'],\n",
       "            dtype='int64', freq='H')"
      ]
     },
     "execution_count": 31,
     "metadata": {},
     "output_type": "execute_result"
    }
   ],
   "source": [
    "rng = pd.period_range('2016-01-01 12:15', freq = '1H', periods = 10)\n",
    "rng"
   ]
  },
  {
   "cell_type": "markdown",
   "metadata": {},
   "source": [
    "### How can you determine whether a timestamp falls within a given period?"
   ]
  },
  {
   "cell_type": "code",
   "execution_count": 32,
   "metadata": {
    "collapsed": false
   },
   "outputs": [
    {
     "data": {
      "text/plain": [
       "True"
      ]
     },
     "execution_count": 32,
     "metadata": {},
     "output_type": "execute_result"
    }
   ],
   "source": [
    "# %load snippets/startend.py\n",
    "p = pd.Period('7/2016')\n",
    "t = pd.Timestamp('7/21/2016')\n",
    "p.start_time < t < p.end_time"
   ]
  },
  {
   "cell_type": "markdown",
   "metadata": {},
   "source": [
    "### Try out some other functionality with different offset-aliases. Anything interesting?"
   ]
  },
  {
   "cell_type": "code",
   "execution_count": null,
   "metadata": {
    "collapsed": true
   },
   "outputs": [],
   "source": []
  },
  {
   "cell_type": "markdown",
   "metadata": {},
   "source": [
    "### How can you make a pandas Time Series with these aliases?"
   ]
  },
  {
   "cell_type": "code",
   "execution_count": 33,
   "metadata": {
    "collapsed": false
   },
   "outputs": [],
   "source": [
    "num_periods = 40\n",
    "ts_pd = pd.Series(range(num_periods), pd.period_range('2016-07-01 11:15', freq = '60T', periods = num_periods))"
   ]
  },
  {
   "cell_type": "code",
   "execution_count": 34,
   "metadata": {
    "collapsed": false
   },
   "outputs": [
    {
     "data": {
      "text/plain": [
       "2016-07-01 11:15    0\n",
       "2016-07-01 12:15    1\n",
       "2016-07-01 13:15    2\n",
       "Freq: 60T, dtype: int64"
      ]
     },
     "execution_count": 34,
     "metadata": {},
     "output_type": "execute_result"
    }
   ],
   "source": [
    "ts_pd['2016-7-1 11':'2016-7-1 13']"
   ]
  },
  {
   "cell_type": "markdown",
   "metadata": {},
   "source": [
    "### How can we index a time series with a date_range?"
   ]
  },
  {
   "cell_type": "code",
   "execution_count": 35,
   "metadata": {
    "collapsed": true
   },
   "outputs": [],
   "source": [
    "num_periods = 40\n",
    "ts_dt = pd.Series(range(num_periods), pd.date_range('2016-07-01 11:15', freq = '60T', periods = num_periods))"
   ]
  },
  {
   "cell_type": "markdown",
   "metadata": {},
   "source": [
    "### What are the use cases for a series with a DateTimeIndex vs a PeriodIndex? Where will we see a difference?"
   ]
  },
  {
   "cell_type": "code",
   "execution_count": 102,
   "metadata": {
    "collapsed": false
   },
   "outputs": [
    {
     "data": {
      "text/plain": [
       "2016-07-01 11:15:00    0\n",
       "Freq: 60T, dtype: int64"
      ]
     },
     "execution_count": 102,
     "metadata": {},
     "output_type": "execute_result"
    }
   ],
   "source": [
    "ts_dt['2016-7-1 11']"
   ]
  },
  {
   "cell_type": "markdown",
   "metadata": {},
   "source": [
    "### How can we convert between a DateTimeIndex and a PeriodIndex?"
   ]
  },
  {
   "cell_type": "code",
   "execution_count": 40,
   "metadata": {
    "collapsed": false
   },
   "outputs": [
    {
     "data": {
      "text/plain": [
       "DatetimeIndex(['2016-07-01 11:15:00', '2016-07-01 12:15:00',\n",
       "               '2016-07-01 13:15:00', '2016-07-01 14:15:00',\n",
       "               '2016-07-01 15:15:00', '2016-07-01 16:15:00',\n",
       "               '2016-07-01 17:15:00', '2016-07-01 18:15:00',\n",
       "               '2016-07-01 19:15:00', '2016-07-01 20:15:00',\n",
       "               '2016-07-01 21:15:00', '2016-07-01 22:15:00',\n",
       "               '2016-07-01 23:15:00', '2016-07-02 00:15:00',\n",
       "               '2016-07-02 01:15:00', '2016-07-02 02:15:00',\n",
       "               '2016-07-02 03:15:00', '2016-07-02 04:15:00',\n",
       "               '2016-07-02 05:15:00', '2016-07-02 06:15:00',\n",
       "               '2016-07-02 07:15:00', '2016-07-02 08:15:00',\n",
       "               '2016-07-02 09:15:00', '2016-07-02 10:15:00',\n",
       "               '2016-07-02 11:15:00', '2016-07-02 12:15:00',\n",
       "               '2016-07-02 13:15:00', '2016-07-02 14:15:00',\n",
       "               '2016-07-02 15:15:00', '2016-07-02 16:15:00',\n",
       "               '2016-07-02 17:15:00', '2016-07-02 18:15:00',\n",
       "               '2016-07-02 19:15:00', '2016-07-02 20:15:00',\n",
       "               '2016-07-02 21:15:00', '2016-07-02 22:15:00',\n",
       "               '2016-07-02 23:15:00', '2016-07-03 00:15:00',\n",
       "               '2016-07-03 01:15:00', '2016-07-03 02:15:00'],\n",
       "              dtype='datetime64[ns]', freq='60T')"
      ]
     },
     "execution_count": 40,
     "metadata": {},
     "output_type": "execute_result"
    }
   ],
   "source": [
    "ts_dt.index"
   ]
  },
  {
   "cell_type": "code",
   "execution_count": 49,
   "metadata": {
    "collapsed": false
   },
   "outputs": [
    {
     "data": {
      "text/plain": [
       "2016-07-01 11:15     0\n",
       "2016-07-01 12:15     1\n",
       "2016-07-01 13:15     2\n",
       "2016-07-01 14:15     3\n",
       "2016-07-01 15:15     4\n",
       "2016-07-01 16:15     5\n",
       "2016-07-01 17:15     6\n",
       "2016-07-01 18:15     7\n",
       "2016-07-01 19:15     8\n",
       "2016-07-01 20:15     9\n",
       "2016-07-01 21:15    10\n",
       "2016-07-01 22:15    11\n",
       "2016-07-01 23:15    12\n",
       "2016-07-02 00:15    13\n",
       "2016-07-02 01:15    14\n",
       "2016-07-02 02:15    15\n",
       "2016-07-02 03:15    16\n",
       "2016-07-02 04:15    17\n",
       "2016-07-02 05:15    18\n",
       "2016-07-02 06:15    19\n",
       "2016-07-02 07:15    20\n",
       "2016-07-02 08:15    21\n",
       "2016-07-02 09:15    22\n",
       "2016-07-02 10:15    23\n",
       "2016-07-02 11:15    24\n",
       "2016-07-02 12:15    25\n",
       "2016-07-02 13:15    26\n",
       "2016-07-02 14:15    27\n",
       "2016-07-02 15:15    28\n",
       "2016-07-02 16:15    29\n",
       "2016-07-02 17:15    30\n",
       "2016-07-02 18:15    31\n",
       "2016-07-02 19:15    32\n",
       "2016-07-02 20:15    33\n",
       "2016-07-02 21:15    34\n",
       "2016-07-02 22:15    35\n",
       "2016-07-02 23:15    36\n",
       "2016-07-03 00:15    37\n",
       "2016-07-03 01:15    38\n",
       "2016-07-03 02:15    39\n",
       "Freq: 60T, dtype: int32"
      ]
     },
     "execution_count": 49,
     "metadata": {},
     "output_type": "execute_result"
    }
   ],
   "source": [
    "ts_dt.to_period(freq='60T') #60 minutes\n",
    "#ts_pd.index.to_timestamp()"
   ]
  },
  {
   "cell_type": "code",
   "execution_count": 65,
   "metadata": {
    "collapsed": false
   },
   "outputs": [
    {
     "data": {
      "text/plain": [
       "2016-07-01 11:15     0\n",
       "2016-07-01 12:15     1\n",
       "2016-07-01 13:15     2\n",
       "2016-07-01 14:15     3\n",
       "2016-07-01 15:15     4\n",
       "2016-07-01 16:15     5\n",
       "2016-07-01 17:15     6\n",
       "2016-07-01 18:15     7\n",
       "2016-07-01 19:15     8\n",
       "2016-07-01 20:15     9\n",
       "2016-07-01 21:15    10\n",
       "2016-07-01 22:15    11\n",
       "2016-07-01 23:15    12\n",
       "2016-07-02 00:15    13\n",
       "2016-07-02 01:15    14\n",
       "2016-07-02 02:15    15\n",
       "2016-07-02 03:15    16\n",
       "2016-07-02 04:15    17\n",
       "2016-07-02 05:15    18\n",
       "2016-07-02 06:15    19\n",
       "2016-07-02 07:15    20\n",
       "2016-07-02 08:15    21\n",
       "2016-07-02 09:15    22\n",
       "2016-07-02 10:15    23\n",
       "2016-07-02 11:15    24\n",
       "2016-07-02 12:15    25\n",
       "2016-07-02 13:15    26\n",
       "2016-07-02 14:15    27\n",
       "2016-07-02 15:15    28\n",
       "2016-07-02 16:15    29\n",
       "2016-07-02 17:15    30\n",
       "2016-07-02 18:15    31\n",
       "2016-07-02 19:15    32\n",
       "2016-07-02 20:15    33\n",
       "2016-07-02 21:15    34\n",
       "2016-07-02 22:15    35\n",
       "2016-07-02 23:15    36\n",
       "Freq: 60T, dtype: int32"
      ]
     },
     "execution_count": 65,
     "metadata": {},
     "output_type": "execute_result"
    }
   ],
   "source": [
    "ts_pd['2016-7-1':'2016-7-2']"
   ]
  },
  {
   "cell_type": "markdown",
   "metadata": {},
   "source": [
    "# Try\n",
    "\n",
    "(1) How can you create a pd.Timestamp with a European style formatted date string? hint: dayfirst flag\n",
    "\n",
    "(2) How can you generate string representation in a desired format from a pd.Timestamp? "
   ]
  },
  {
   "cell_type": "code",
   "execution_count": 83,
   "metadata": {
    "collapsed": false
   },
   "outputs": [
    {
     "data": {
      "text/plain": [
       "Timestamp('2016-07-03 00:00:00')"
      ]
     },
     "execution_count": 83,
     "metadata": {},
     "output_type": "execute_result"
    }
   ],
   "source": [
    "# %load snippets/try1.py\n",
    "eur_time = pd.to_datetime('3/7/2016', dayfirst=True)\n",
    "eur_time"
   ]
  },
  {
   "cell_type": "code",
   "execution_count": 84,
   "metadata": {
    "collapsed": false
   },
   "outputs": [
    {
     "data": {
      "text/plain": [
       "'2016-07-07/03/16'"
      ]
     },
     "execution_count": 84,
     "metadata": {},
     "output_type": "execute_result"
    }
   ],
   "source": [
    "eur_time = pd.to_datetime('3/7/2016', dayfirst=True).strftime(format='%Y-%m-%D')\n",
    "eur_time"
   ]
  }
 ],
 "metadata": {
  "kernelspec": {
   "display_name": "Python 3",
   "language": "python",
   "name": "python3"
  },
  "language_info": {
   "codemirror_mode": {
    "name": "ipython",
    "version": 3
   },
   "file_extension": ".py",
   "mimetype": "text/x-python",
   "name": "python",
   "nbconvert_exporter": "python",
   "pygments_lexer": "ipython3",
   "version": "3.5.1"
  },
  "widgets": {
   "state": {},
   "version": "1.1.1"
  }
 },
 "nbformat": 4,
 "nbformat_minor": 0
}
