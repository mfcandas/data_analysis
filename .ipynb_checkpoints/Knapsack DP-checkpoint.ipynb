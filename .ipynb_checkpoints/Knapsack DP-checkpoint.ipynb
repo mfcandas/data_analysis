{
 "cells": [
  {
   "cell_type": "code",
   "execution_count": 21,
   "metadata": {
    "collapsed": true
   },
   "outputs": [],
   "source": [
    "l_value = [2,3,5,100,5]\n",
    "l_size = [1,1,1,1,1]\n",
    "total_value = 0\n",
    "remaining_capacity = 50"
   ]
  },
  {
   "cell_type": "code",
   "execution_count": 22,
   "metadata": {
    "collapsed": false
   },
   "outputs": [],
   "source": [
    "def knapsack(nth_item, remaining_capacity, total_value):\n",
    "    # if no more items left\n",
    "    if (nth_item == 0):\n",
    "        return total_value\n",
    "    else:\n",
    "        # if nth_item included\n",
    "        if (remaining_capacity>=l_size[nth_item-1]):\n",
    "            remaining_capacity = remaining_capacity - l_size[nth_item-1] \n",
    "            total_value_include = knapsack(nth_item-1, remaining_capacity, total_value) + l_value[nth_item-1]\n",
    "        else:\n",
    "            total_value_include =0\n",
    "\n",
    "        total_value_exclude = knapsack(nth_item-1, remaining_capacity, total_value)\n",
    "    \n",
    "    total_value = max(total_value_include,total_value_exclude)\n",
    "    return total_value"
   ]
  },
  {
   "cell_type": "code",
   "execution_count": 23,
   "metadata": {
    "collapsed": false
   },
   "outputs": [
    {
     "data": {
      "text/plain": [
       "115"
      ]
     },
     "execution_count": 23,
     "metadata": {},
     "output_type": "execute_result"
    }
   ],
   "source": [
    "knapsack(5,remaining_capacity,total_value)"
   ]
  }
 ],
 "metadata": {
  "kernelspec": {
   "display_name": "Python 3",
   "language": "python",
   "name": "python3"
  },
  "language_info": {
   "codemirror_mode": {
    "name": "ipython",
    "version": 3
   },
   "file_extension": ".py",
   "mimetype": "text/x-python",
   "name": "python",
   "nbconvert_exporter": "python",
   "pygments_lexer": "ipython3",
   "version": "3.5.1"
  }
 },
 "nbformat": 4,
 "nbformat_minor": 0
}
