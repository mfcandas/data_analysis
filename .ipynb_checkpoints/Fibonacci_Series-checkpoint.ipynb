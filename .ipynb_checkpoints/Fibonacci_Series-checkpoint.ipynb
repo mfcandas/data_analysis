{
 "cells": [
  {
   "cell_type": "code",
   "execution_count": 40,
   "metadata": {
    "collapsed": false
   },
   "outputs": [],
   "source": [
    "def fib1(n): #while (new_fib <= max_fib):\n",
    "    l_fib = [1,1]\n",
    "    for i in range(n+1):\n",
    "        new_fib = l_fib[-1]+l_fib[-2]\n",
    "        l_fib.append(new_fib)\n",
    "    return l_fib[-1]"
   ]
  },
  {
   "cell_type": "code",
   "execution_count": 2,
   "metadata": {
    "collapsed": false
   },
   "outputs": [],
   "source": [
    "def fib2(n): \n",
    "    if (n <= 2):\n",
    "        return 1\n",
    "    else: \n",
    "        return fib(n-1)+fib(n-2)"
   ]
  },
  {
   "cell_type": "code",
   "execution_count": 31,
   "metadata": {
    "collapsed": false
   },
   "outputs": [
    {
     "name": "stdout",
     "output_type": "stream",
     "text": [
      "         18454932 function calls (4 primitive calls) in 7.633 seconds\n",
      "\n",
      "   Ordered by: standard name\n",
      "\n",
      "   ncalls  tottime  percall  cumtime  percall filename:lineno(function)\n",
      "18454929/1    7.633    0.000    7.633    7.633 <ipython-input-2-7fabc5d098c8>:1(fib)\n",
      "        1    0.000    0.000    7.633    7.633 <string>:1(<module>)\n",
      "        1    0.000    0.000    7.633    7.633 {built-in method builtins.exec}\n",
      "        1    0.000    0.000    0.000    0.000 {method 'disable' of '_lsprof.Profiler' objects}\n",
      "\n",
      "\n"
     ]
    }
   ],
   "source": [
    "import cProfile\n",
    "cProfile.run('fib(35)')"
   ]
  },
  {
   "cell_type": "code",
   "execution_count": 28,
   "metadata": {
    "collapsed": false
   },
   "outputs": [],
   "source": [
    "d_fib = {}\n",
    "def fib3(n):\n",
    "    if (n in d_fib):\n",
    "        return d_fib[n]\n",
    "    else:\n",
    "        if (n<=2):\n",
    "            f = 1\n",
    "        else:\n",
    "            f = fib2(n-1) + fib(n-2)\n",
    "        d_fib[n] = f\n",
    "        return f"
   ]
  },
  {
   "cell_type": "code",
   "execution_count": 30,
   "metadata": {
    "collapsed": false
   },
   "outputs": [
    {
     "name": "stdout",
     "output_type": "stream",
     "text": [
      "         16790854 function calls (9 primitive calls) in 6.917 seconds\n",
      "\n",
      "   Ordered by: standard name\n",
      "\n",
      "   ncalls  tottime  percall  cumtime  percall filename:lineno(function)\n",
      "16790845/5    6.917    0.000    6.917    1.383 <ipython-input-2-7fabc5d098c8>:1(fib)\n",
      "      6/1    0.000    0.000    6.917    6.917 <ipython-input-28-989436048aa7>:2(fib2)\n",
      "        1    0.000    0.000    6.917    6.917 <string>:1(<module>)\n",
      "        1    0.000    0.000    6.917    6.917 {built-in method builtins.exec}\n",
      "        1    0.000    0.000    0.000    0.000 {method 'disable' of '_lsprof.Profiler' objects}\n",
      "\n",
      "\n"
     ]
    }
   ],
   "source": [
    "cProfile.run('fib2(35)')"
   ]
  }
 ],
 "metadata": {
  "kernelspec": {
   "display_name": "Python 3",
   "language": "python",
   "name": "python3"
  },
  "language_info": {
   "codemirror_mode": {
    "name": "ipython",
    "version": 3
   },
   "file_extension": ".py",
   "mimetype": "text/x-python",
   "name": "python",
   "nbconvert_exporter": "python",
   "pygments_lexer": "ipython3",
   "version": "3.5.1"
  }
 },
 "nbformat": 4,
 "nbformat_minor": 0
}
