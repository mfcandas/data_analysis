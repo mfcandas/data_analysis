{
 "cells": [
  {
   "cell_type": "code",
   "execution_count": 41,
   "metadata": {
    "collapsed": true
   },
   "outputs": [],
   "source": [
    "import cProfile"
   ]
  },
  {
   "cell_type": "code",
   "execution_count": 53,
   "metadata": {
    "collapsed": false
   },
   "outputs": [],
   "source": [
    "def fib1(n): #while (new_fib <= max_fib):\n",
    "    l_fib = [1,1]\n",
    "    for i in range(n-2):\n",
    "        new_fib = l_fib[-1]+l_fib[-2]\n",
    "        l_fib.append(new_fib)\n",
    "    print (\"size \", len(l_fib))\n",
    "    return l_fib[-1]"
   ]
  },
  {
   "cell_type": "code",
   "execution_count": 43,
   "metadata": {
    "collapsed": false
   },
   "outputs": [],
   "source": [
    "def fib2(n): \n",
    "    if (n <= 2):\n",
    "        return 1\n",
    "    else: \n",
    "        return fib(n-1)+fib(n-2)"
   ]
  },
  {
   "cell_type": "code",
   "execution_count": 45,
   "metadata": {
    "collapsed": false
   },
   "outputs": [],
   "source": [
    "d_fib = {}\n",
    "def fib3(n):\n",
    "    if (n in d_fib):\n",
    "        return d_fib[n]\n",
    "    else:\n",
    "        if (n<=2):\n",
    "            f = 1\n",
    "        else:\n",
    "            f = fib2(n-1) + fib(n-2)\n",
    "        d_fib[n] = f\n",
    "        return f"
   ]
  },
  {
   "cell_type": "code",
   "execution_count": 55,
   "metadata": {
    "collapsed": false
   },
   "outputs": [
    {
     "name": "stdout",
     "output_type": "stream",
     "text": [
      "size  40\n",
      "102334155\n",
      "         86 function calls in 0.000 seconds\n",
      "\n",
      "   Ordered by: standard name\n",
      "\n",
      "   ncalls  tottime  percall  cumtime  percall filename:lineno(function)\n",
      "        1    0.000    0.000    0.000    0.000 <ipython-input-53-7f818a00b854>:1(fib1)\n",
      "        1    0.000    0.000    0.000    0.000 <string>:1(<module>)\n",
      "        1    0.000    0.000    0.000    0.000 ioloop.py:928(add_callback)\n",
      "        6    0.000    0.000    0.000    0.000 iostream.py:227(_is_master_process)\n",
      "        6    0.000    0.000    0.000    0.000 iostream.py:240(_schedule_flush)\n",
      "        6    0.000    0.000    0.000    0.000 iostream.py:308(write)\n",
      "        1    0.000    0.000    0.000    0.000 stack_context.py:253(wrap)\n",
      "        1    0.000    0.000    0.000    0.000 {built-in method _thread.get_ident}\n",
      "        1    0.000    0.000    0.000    0.000 {built-in method builtins.exec}\n",
      "        1    0.000    0.000    0.000    0.000 {built-in method builtins.hasattr}\n",
      "        6    0.000    0.000    0.000    0.000 {built-in method builtins.isinstance}\n",
      "        1    0.000    0.000    0.000    0.000 {built-in method builtins.len}\n",
      "        2    0.000    0.000    0.000    0.000 {built-in method builtins.print}\n",
      "        6    0.000    0.000    0.000    0.000 {built-in method nt.getpid}\n",
      "       39    0.000    0.000    0.000    0.000 {method 'append' of 'list' objects}\n",
      "        1    0.000    0.000    0.000    0.000 {method 'disable' of '_lsprof.Profiler' objects}\n",
      "        6    0.000    0.000    0.000    0.000 {method 'write' of '_io.StringIO' objects}\n",
      "\n",
      "\n",
      "9227465\n",
      "         18454952 function calls (26 primitive calls) in 7.751 seconds\n",
      "\n",
      "   Ordered by: standard name\n",
      "\n",
      "   ncalls  tottime  percall  cumtime  percall filename:lineno(function)\n",
      "18454928/2    7.750    0.000    7.750    3.875 <ipython-input-2-7fabc5d098c8>:1(fib)\n",
      "        1    0.000    0.000    7.750    7.750 <ipython-input-43-3e2aa04a9d93>:1(fib2)\n",
      "        1    0.000    0.000    7.751    7.751 <string>:1(<module>)\n",
      "        1    0.000    0.000    0.000    0.000 common.py:75(wake)\n",
      "        1    0.000    0.000    0.000    0.000 ioloop.py:928(add_callback)\n",
      "        2    0.000    0.000    0.000    0.000 iostream.py:227(_is_master_process)\n",
      "        2    0.000    0.000    0.000    0.000 iostream.py:240(_schedule_flush)\n",
      "        2    0.000    0.000    0.000    0.000 iostream.py:308(write)\n",
      "        1    0.000    0.000    0.000    0.000 stack_context.py:253(wrap)\n",
      "        1    0.000    0.000    0.000    0.000 {built-in method _thread.get_ident}\n",
      "        1    0.000    0.000    7.751    7.751 {built-in method builtins.exec}\n",
      "        1    0.000    0.000    0.000    0.000 {built-in method builtins.hasattr}\n",
      "        2    0.000    0.000    0.000    0.000 {built-in method builtins.isinstance}\n",
      "        1    0.000    0.000    0.000    0.000 {built-in method builtins.print}\n",
      "        2    0.000    0.000    0.000    0.000 {built-in method nt.getpid}\n",
      "        1    0.000    0.000    0.000    0.000 {method 'append' of 'list' objects}\n",
      "        1    0.000    0.000    0.000    0.000 {method 'disable' of '_lsprof.Profiler' objects}\n",
      "        1    0.000    0.000    0.000    0.000 {method 'send' of '_socket.socket' objects}\n",
      "        2    0.000    0.000    0.000    0.000 {method 'write' of '_io.StringIO' objects}\n",
      "\n",
      "\n",
      "102334155\n",
      "         204668332 function calls (28 primitive calls) in 91.836 seconds\n",
      "\n",
      "   Ordered by: standard name\n",
      "\n",
      "   ncalls  tottime  percall  cumtime  percall filename:lineno(function)\n",
      "204668307/3   91.835    0.000   91.835   30.612 <ipython-input-2-7fabc5d098c8>:1(fib)\n",
      "        1    0.000    0.000   51.855   51.855 <ipython-input-43-3e2aa04a9d93>:1(fib2)\n",
      "        1    0.000    0.000   91.835   91.835 <ipython-input-45-8f7d946635da>:2(fib3)\n",
      "        1    0.000    0.000   91.836   91.836 <string>:1(<module>)\n",
      "        1    0.000    0.000    0.000    0.000 common.py:75(wake)\n",
      "        1    0.000    0.000    0.000    0.000 ioloop.py:928(add_callback)\n",
      "        2    0.000    0.000    0.000    0.000 iostream.py:227(_is_master_process)\n",
      "        2    0.000    0.000    0.000    0.000 iostream.py:240(_schedule_flush)\n",
      "        2    0.000    0.000    0.000    0.000 iostream.py:308(write)\n",
      "        1    0.000    0.000    0.000    0.000 stack_context.py:253(wrap)\n",
      "        1    0.000    0.000    0.000    0.000 {built-in method _thread.get_ident}\n",
      "        1    0.000    0.000   91.836   91.836 {built-in method builtins.exec}\n",
      "        1    0.000    0.000    0.000    0.000 {built-in method builtins.hasattr}\n",
      "        2    0.000    0.000    0.000    0.000 {built-in method builtins.isinstance}\n",
      "        1    0.000    0.000    0.001    0.001 {built-in method builtins.print}\n",
      "        2    0.000    0.000    0.000    0.000 {built-in method nt.getpid}\n",
      "        1    0.000    0.000    0.000    0.000 {method 'append' of 'list' objects}\n",
      "        1    0.000    0.000    0.000    0.000 {method 'disable' of '_lsprof.Profiler' objects}\n",
      "        1    0.000    0.000    0.000    0.000 {method 'send' of '_socket.socket' objects}\n",
      "        2    0.000    0.000    0.000    0.000 {method 'write' of '_io.StringIO' objects}\n",
      "\n",
      "\n"
     ]
    }
   ],
   "source": [
    "cProfile.run('print(fib1(40))')\n",
    "cProfile.run('print(fib2(35))')\n",
    "cProfile.run('print(fib3(40))')\n"
   ]
  }
 ],
 "metadata": {
  "kernelspec": {
   "display_name": "Python 3",
   "language": "python",
   "name": "python3"
  },
  "language_info": {
   "codemirror_mode": {
    "name": "ipython",
    "version": 3
   },
   "file_extension": ".py",
   "mimetype": "text/x-python",
   "name": "python",
   "nbconvert_exporter": "python",
   "pygments_lexer": "ipython3",
   "version": "3.5.1"
  }
 },
 "nbformat": 4,
 "nbformat_minor": 0
}
