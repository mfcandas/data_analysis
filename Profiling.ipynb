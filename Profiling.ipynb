{
 "cells": [
  {
   "cell_type": "code",
   "execution_count": 8,
   "metadata": {
    "collapsed": true
   },
   "outputs": [],
   "source": [
    "import cProfile\n",
    "import random"
   ]
  },
  {
   "cell_type": "code",
   "execution_count": 16,
   "metadata": {
    "collapsed": true
   },
   "outputs": [],
   "source": [
    "def f1(lln):\n",
    "    l1 = sorted(lln)\n",
    "    l2 = [i for i in l1 if i<0.5]\n",
    "    return [i*i for i in l2]"
   ]
  },
  {
   "cell_type": "code",
   "execution_count": 24,
   "metadata": {
    "collapsed": true
   },
   "outputs": [],
   "source": [
    "def f2(lIn):\n",
    "    l1 = [i for i in lIn if i<0.5]\n",
    "    l2 = sorted(l1)\n",
    "    return [i*i for i in l2]"
   ]
  },
  {
   "cell_type": "code",
   "execution_count": 25,
   "metadata": {
    "collapsed": true
   },
   "outputs": [],
   "source": [
    "def f3(lIn):\n",
    "    l1 = [i*i for i in lIn]\n",
    "    l2 = sorted(l1)\n",
    "    return [i for i in l1 if i<(0.5*0.5)]"
   ]
  },
  {
   "cell_type": "code",
   "execution_count": 22,
   "metadata": {
    "collapsed": false
   },
   "outputs": [],
   "source": [
    "random_list = [random.random() for i in range(10000000)]\n",
    "#random_list"
   ]
  },
  {
   "cell_type": "code",
   "execution_count": 26,
   "metadata": {
    "collapsed": false
   },
   "outputs": [
    {
     "name": "stdout",
     "output_type": "stream",
     "text": [
      "         7 function calls in 20.552 seconds\n",
      "\n",
      "   Ordered by: standard name\n",
      "\n",
      "   ncalls  tottime  percall  cumtime  percall filename:lineno(function)\n",
      "        1    0.000    0.000   19.999   19.999 <ipython-input-16-32331541f667>:1(f1)\n",
      "        1    2.522    2.522    2.522    2.522 <ipython-input-16-32331541f667>:3(<listcomp>)\n",
      "        1    1.507    1.507    1.507    1.507 <ipython-input-16-32331541f667>:4(<listcomp>)\n",
      "        1    0.553    0.553   20.552   20.552 <string>:1(<module>)\n",
      "        1    0.000    0.000   20.552   20.552 {built-in method builtins.exec}\n",
      "        1   15.969   15.969   15.969   15.969 {built-in method builtins.sorted}\n",
      "        1    0.000    0.000    0.000    0.000 {method 'disable' of '_lsprof.Profiler' objects}\n",
      "\n",
      "\n"
     ]
    }
   ],
   "source": [
    "cProfile.run('f1(random_list)')"
   ]
  },
  {
   "cell_type": "code",
   "execution_count": 27,
   "metadata": {
    "collapsed": false
   },
   "outputs": [
    {
     "name": "stdout",
     "output_type": "stream",
     "text": [
      "         7 function calls in 10.408 seconds\n",
      "\n",
      "   Ordered by: standard name\n",
      "\n",
      "   ncalls  tottime  percall  cumtime  percall filename:lineno(function)\n",
      "        1    0.000    0.000   10.067   10.067 <ipython-input-24-30052771eeaa>:1(f2)\n",
      "        1    1.067    1.067    1.067    1.067 <ipython-input-24-30052771eeaa>:2(<listcomp>)\n",
      "        1    1.454    1.454    1.454    1.454 <ipython-input-24-30052771eeaa>:4(<listcomp>)\n",
      "        1    0.341    0.341   10.408   10.408 <string>:1(<module>)\n",
      "        1    0.000    0.000   10.408   10.408 {built-in method builtins.exec}\n",
      "        1    7.546    7.546    7.546    7.546 {built-in method builtins.sorted}\n",
      "        1    0.000    0.000    0.000    0.000 {method 'disable' of '_lsprof.Profiler' objects}\n",
      "\n",
      "\n"
     ]
    }
   ],
   "source": [
    "cProfile.run('f2(random_list)')"
   ]
  },
  {
   "cell_type": "code",
   "execution_count": 28,
   "metadata": {
    "collapsed": false
   },
   "outputs": [
    {
     "name": "stdout",
     "output_type": "stream",
     "text": [
      "         7 function calls in 19.808 seconds\n",
      "\n",
      "   Ordered by: standard name\n",
      "\n",
      "   ncalls  tottime  percall  cumtime  percall filename:lineno(function)\n",
      "        1    0.000    0.000   18.925   18.925 <ipython-input-25-350932013629>:1(f3)\n",
      "        1    1.528    1.528    1.528    1.528 <ipython-input-25-350932013629>:2(<listcomp>)\n",
      "        1    1.056    1.056    1.056    1.056 <ipython-input-25-350932013629>:4(<listcomp>)\n",
      "        1    0.883    0.883   19.808   19.808 <string>:1(<module>)\n",
      "        1    0.000    0.000   19.808   19.808 {built-in method builtins.exec}\n",
      "        1   16.341   16.341   16.341   16.341 {built-in method builtins.sorted}\n",
      "        1    0.000    0.000    0.000    0.000 {method 'disable' of '_lsprof.Profiler' objects}\n",
      "\n",
      "\n"
     ]
    }
   ],
   "source": [
    "cProfile.run('f3(random_list)')"
   ]
  }
 ],
 "metadata": {
  "kernelspec": {
   "display_name": "Python 3",
   "language": "python",
   "name": "python3"
  },
  "language_info": {
   "codemirror_mode": {
    "name": "ipython",
    "version": 3
   },
   "file_extension": ".py",
   "mimetype": "text/x-python",
   "name": "python",
   "nbconvert_exporter": "python",
   "pygments_lexer": "ipython3",
   "version": "3.5.1"
  }
 },
 "nbformat": 4,
 "nbformat_minor": 0
}
